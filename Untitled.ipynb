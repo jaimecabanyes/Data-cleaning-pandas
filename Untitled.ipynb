{
 "cells": [
  {
   "cell_type": "markdown",
   "id": "1d70b9c3",
   "metadata": {},
   "source": [
    "# IMPORTAR LIBRERIAS"
   ]
  },
  {
   "cell_type": "code",
   "execution_count": 1,
   "id": "d019be4d",
   "metadata": {},
   "outputs": [],
   "source": [
    "import pandas as pd\n",
    "import matplotlib.pyplot as plt\n",
    "import seaborn as sns\n",
    "import numpy as np\n"
   ]
  },
  {
   "cell_type": "markdown",
   "id": "2edf70e0",
   "metadata": {},
   "source": [
    "# DESCARGAR EL DATA"
   ]
  },
  {
   "cell_type": "code",
   "execution_count": 2,
   "id": "4453d057",
   "metadata": {},
   "outputs": [
    {
     "data": {
      "text/plain": [
       "'Descargar los datos con los cuales vamos a trabajar '"
      ]
     },
     "execution_count": 2,
     "metadata": {},
     "output_type": "execute_result"
    }
   ],
   "source": [
    "sh_attacks = pd.read_csv('attacks.csv',encoding = 'ISO-8859-1')\n",
    "\"\"\"Descargar los datos con los cuales vamos a trabajar \"\"\""
   ]
  },
  {
   "cell_type": "markdown",
   "id": "df71db4d",
   "metadata": {},
   "source": [
    "# MANIPULAR EL DATASET"
   ]
  },
  {
   "cell_type": "code",
   "execution_count": 3,
   "id": "03e3fcfa",
   "metadata": {},
   "outputs": [
    {
     "data": {
      "text/plain": [
       "'Ver lo que analiza cada columna'"
      ]
     },
     "execution_count": 3,
     "metadata": {},
     "output_type": "execute_result"
    }
   ],
   "source": [
    "sh_attacks.head(1)\n",
    "\"\"\"Ver lo que analiza cada columna\"\"\""
   ]
  },
  {
   "cell_type": "code",
   "execution_count": 4,
   "id": "61bfef6c",
   "metadata": {},
   "outputs": [],
   "source": [
    "columnas = list(sh_attacks.columns)"
   ]
  },
  {
   "cell_type": "code",
   "execution_count": 5,
   "id": "74b25fd7",
   "metadata": {},
   "outputs": [
    {
     "name": "stdout",
     "output_type": "stream",
     "text": [
      "['Case Number', 'Date', 'Year', 'Type', 'Country', 'Area', 'Location', 'Activity', 'Name', 'Sex ', 'Age', 'Injury', 'Fatal (Y/N)', 'Time', 'Species ', 'Investigator or Source', 'pdf', 'href formula', 'href', 'Case Number.1', 'Case Number.2', 'original order', 'Unnamed: 22', 'Unnamed: 23']\n"
     ]
    }
   ],
   "source": [
    "print(columnas)"
   ]
  },
  {
   "cell_type": "code",
   "execution_count": 6,
   "id": "88a97525",
   "metadata": {},
   "outputs": [],
   "source": [
    "sh_attacks_copia = sh_attacks.copy()"
   ]
  },
  {
   "cell_type": "code",
   "execution_count": 7,
   "id": "b5e9f09a",
   "metadata": {},
   "outputs": [
    {
     "data": {
      "text/html": [
       "<div>\n",
       "<style scoped>\n",
       "    .dataframe tbody tr th:only-of-type {\n",
       "        vertical-align: middle;\n",
       "    }\n",
       "\n",
       "    .dataframe tbody tr th {\n",
       "        vertical-align: top;\n",
       "    }\n",
       "\n",
       "    .dataframe thead th {\n",
       "        text-align: right;\n",
       "    }\n",
       "</style>\n",
       "<table border=\"1\" class=\"dataframe\">\n",
       "  <thead>\n",
       "    <tr style=\"text-align: right;\">\n",
       "      <th></th>\n",
       "      <th>Case Number</th>\n",
       "      <th>Date</th>\n",
       "      <th>Year</th>\n",
       "      <th>Type</th>\n",
       "      <th>Country</th>\n",
       "      <th>Area</th>\n",
       "      <th>Location</th>\n",
       "      <th>Activity</th>\n",
       "      <th>Name</th>\n",
       "      <th>Sex</th>\n",
       "      <th>...</th>\n",
       "      <th>Species</th>\n",
       "      <th>Investigator or Source</th>\n",
       "      <th>pdf</th>\n",
       "      <th>href formula</th>\n",
       "      <th>href</th>\n",
       "      <th>Case Number.1</th>\n",
       "      <th>Case Number.2</th>\n",
       "      <th>original order</th>\n",
       "      <th>Unnamed: 22</th>\n",
       "      <th>Unnamed: 23</th>\n",
       "    </tr>\n",
       "  </thead>\n",
       "  <tbody>\n",
       "    <tr>\n",
       "      <th>0</th>\n",
       "      <td>2018.06.25</td>\n",
       "      <td>25-Jun-2018</td>\n",
       "      <td>2018.0</td>\n",
       "      <td>Boating</td>\n",
       "      <td>USA</td>\n",
       "      <td>California</td>\n",
       "      <td>Oceanside, San Diego County</td>\n",
       "      <td>Paddling</td>\n",
       "      <td>Julie Wolfe</td>\n",
       "      <td>F</td>\n",
       "      <td>...</td>\n",
       "      <td>White shark</td>\n",
       "      <td>R. Collier, GSAF</td>\n",
       "      <td>2018.06.25-Wolfe.pdf</td>\n",
       "      <td>http://sharkattackfile.net/spreadsheets/pdf_di...</td>\n",
       "      <td>http://sharkattackfile.net/spreadsheets/pdf_di...</td>\n",
       "      <td>2018.06.25</td>\n",
       "      <td>2018.06.25</td>\n",
       "      <td>6303.0</td>\n",
       "      <td>NaN</td>\n",
       "      <td>NaN</td>\n",
       "    </tr>\n",
       "  </tbody>\n",
       "</table>\n",
       "<p>1 rows × 24 columns</p>\n",
       "</div>"
      ],
      "text/plain": [
       "  Case Number         Date    Year     Type Country        Area  \\\n",
       "0  2018.06.25  25-Jun-2018  2018.0  Boating     USA  California   \n",
       "\n",
       "                      Location  Activity         Name Sex   ...     Species   \\\n",
       "0  Oceanside, San Diego County  Paddling  Julie Wolfe    F  ...  White shark   \n",
       "\n",
       "  Investigator or Source                   pdf  \\\n",
       "0       R. Collier, GSAF  2018.06.25-Wolfe.pdf   \n",
       "\n",
       "                                        href formula  \\\n",
       "0  http://sharkattackfile.net/spreadsheets/pdf_di...   \n",
       "\n",
       "                                                href Case Number.1  \\\n",
       "0  http://sharkattackfile.net/spreadsheets/pdf_di...    2018.06.25   \n",
       "\n",
       "  Case Number.2 original order Unnamed: 22 Unnamed: 23  \n",
       "0    2018.06.25         6303.0         NaN         NaN  \n",
       "\n",
       "[1 rows x 24 columns]"
      ]
     },
     "execution_count": 7,
     "metadata": {},
     "output_type": "execute_result"
    }
   ],
   "source": [
    "sh_attacks_copia.head(1)"
   ]
  },
  {
   "cell_type": "code",
   "execution_count": 8,
   "id": "131a3eae",
   "metadata": {},
   "outputs": [],
   "source": [
    "columnas_nuevas = {columna: columna.replace(\" \", \"_\") for columna in columnas}"
   ]
  },
  {
   "cell_type": "code",
   "execution_count": 9,
   "id": "6fe78e16",
   "metadata": {},
   "outputs": [],
   "source": [
    "sh_attacks_copia.rename(columns=columnas_nuevas, inplace=True)"
   ]
  },
  {
   "cell_type": "code",
   "execution_count": 10,
   "id": "a9201a9b",
   "metadata": {
    "scrolled": true
   },
   "outputs": [
    {
     "data": {
      "text/html": [
       "<div>\n",
       "<style scoped>\n",
       "    .dataframe tbody tr th:only-of-type {\n",
       "        vertical-align: middle;\n",
       "    }\n",
       "\n",
       "    .dataframe tbody tr th {\n",
       "        vertical-align: top;\n",
       "    }\n",
       "\n",
       "    .dataframe thead th {\n",
       "        text-align: right;\n",
       "    }\n",
       "</style>\n",
       "<table border=\"1\" class=\"dataframe\">\n",
       "  <thead>\n",
       "    <tr style=\"text-align: right;\">\n",
       "      <th></th>\n",
       "      <th>Case_Number</th>\n",
       "      <th>Date</th>\n",
       "      <th>Year</th>\n",
       "      <th>Type</th>\n",
       "      <th>Country</th>\n",
       "      <th>Area</th>\n",
       "      <th>Location</th>\n",
       "      <th>Activity</th>\n",
       "      <th>Name</th>\n",
       "      <th>Sex_</th>\n",
       "      <th>...</th>\n",
       "      <th>Species_</th>\n",
       "      <th>Investigator_or_Source</th>\n",
       "      <th>pdf</th>\n",
       "      <th>href_formula</th>\n",
       "      <th>href</th>\n",
       "      <th>Case_Number.1</th>\n",
       "      <th>Case_Number.2</th>\n",
       "      <th>original_order</th>\n",
       "      <th>Unnamed:_22</th>\n",
       "      <th>Unnamed:_23</th>\n",
       "    </tr>\n",
       "  </thead>\n",
       "  <tbody>\n",
       "    <tr>\n",
       "      <th>0</th>\n",
       "      <td>2018.06.25</td>\n",
       "      <td>25-Jun-2018</td>\n",
       "      <td>2018.0</td>\n",
       "      <td>Boating</td>\n",
       "      <td>USA</td>\n",
       "      <td>California</td>\n",
       "      <td>Oceanside, San Diego County</td>\n",
       "      <td>Paddling</td>\n",
       "      <td>Julie Wolfe</td>\n",
       "      <td>F</td>\n",
       "      <td>...</td>\n",
       "      <td>White shark</td>\n",
       "      <td>R. Collier, GSAF</td>\n",
       "      <td>2018.06.25-Wolfe.pdf</td>\n",
       "      <td>http://sharkattackfile.net/spreadsheets/pdf_di...</td>\n",
       "      <td>http://sharkattackfile.net/spreadsheets/pdf_di...</td>\n",
       "      <td>2018.06.25</td>\n",
       "      <td>2018.06.25</td>\n",
       "      <td>6303.0</td>\n",
       "      <td>NaN</td>\n",
       "      <td>NaN</td>\n",
       "    </tr>\n",
       "  </tbody>\n",
       "</table>\n",
       "<p>1 rows × 24 columns</p>\n",
       "</div>"
      ],
      "text/plain": [
       "  Case_Number         Date    Year     Type Country        Area  \\\n",
       "0  2018.06.25  25-Jun-2018  2018.0  Boating     USA  California   \n",
       "\n",
       "                      Location  Activity         Name Sex_  ...     Species_  \\\n",
       "0  Oceanside, San Diego County  Paddling  Julie Wolfe    F  ...  White shark   \n",
       "\n",
       "  Investigator_or_Source                   pdf  \\\n",
       "0       R. Collier, GSAF  2018.06.25-Wolfe.pdf   \n",
       "\n",
       "                                        href_formula  \\\n",
       "0  http://sharkattackfile.net/spreadsheets/pdf_di...   \n",
       "\n",
       "                                                href Case_Number.1  \\\n",
       "0  http://sharkattackfile.net/spreadsheets/pdf_di...    2018.06.25   \n",
       "\n",
       "  Case_Number.2 original_order Unnamed:_22 Unnamed:_23  \n",
       "0    2018.06.25         6303.0         NaN         NaN  \n",
       "\n",
       "[1 rows x 24 columns]"
      ]
     },
     "execution_count": 10,
     "metadata": {},
     "output_type": "execute_result"
    }
   ],
   "source": [
    "sh_attacks_copia.head(1)"
   ]
  },
  {
   "cell_type": "code",
   "execution_count": 11,
   "id": "ad66d2d4",
   "metadata": {},
   "outputs": [],
   "source": [
    "sh_attacks2 = sh_attacks_copia[[\"Case_Number\",\"Year\", \"Type\", \"Country\",\"Area\", \"Activity\", \"Sex_\", \"Age\", \"Injury\", \"Fatal_(Y/N)\", \"Time\", \"Species_\", \"Investigator_or_Source\"]]"
   ]
  },
  {
   "cell_type": "code",
   "execution_count": 12,
   "id": "68cb1ec9",
   "metadata": {},
   "outputs": [
    {
     "data": {
      "text/plain": [
       "(25723, 13)"
      ]
     },
     "execution_count": 12,
     "metadata": {},
     "output_type": "execute_result"
    }
   ],
   "source": [
    "sh_attacks2.shape"
   ]
  },
  {
   "cell_type": "markdown",
   "id": "2a074c10",
   "metadata": {},
   "source": [
    "# SELECCIONAR LOS DATOS CON LOS QUE TRABAJAR"
   ]
  },
  {
   "cell_type": "code",
   "execution_count": 13,
   "id": "5784a1b1",
   "metadata": {},
   "outputs": [],
   "source": [
    "sh_attacks3 = sh_attacks2.dropna(how=\"all\")"
   ]
  },
  {
   "cell_type": "code",
   "execution_count": 14,
   "id": "94fbe126",
   "metadata": {},
   "outputs": [
    {
     "data": {
      "text/plain": [
       "(8703, 13)"
      ]
     },
     "execution_count": 14,
     "metadata": {},
     "output_type": "execute_result"
    }
   ],
   "source": [
    "sh_attacks3.shape"
   ]
  },
  {
   "cell_type": "code",
   "execution_count": 15,
   "id": "9e8472fc",
   "metadata": {},
   "outputs": [
    {
     "data": {
      "text/html": [
       "<div>\n",
       "<style scoped>\n",
       "    .dataframe tbody tr th:only-of-type {\n",
       "        vertical-align: middle;\n",
       "    }\n",
       "\n",
       "    .dataframe tbody tr th {\n",
       "        vertical-align: top;\n",
       "    }\n",
       "\n",
       "    .dataframe thead th {\n",
       "        text-align: right;\n",
       "    }\n",
       "</style>\n",
       "<table border=\"1\" class=\"dataframe\">\n",
       "  <thead>\n",
       "    <tr style=\"text-align: right;\">\n",
       "      <th></th>\n",
       "      <th>Case_Number</th>\n",
       "      <th>Year</th>\n",
       "      <th>Type</th>\n",
       "      <th>Country</th>\n",
       "      <th>Area</th>\n",
       "      <th>Activity</th>\n",
       "      <th>Sex_</th>\n",
       "      <th>Age</th>\n",
       "      <th>Injury</th>\n",
       "      <th>Fatal_(Y/N)</th>\n",
       "      <th>Time</th>\n",
       "      <th>Species_</th>\n",
       "      <th>Investigator_or_Source</th>\n",
       "    </tr>\n",
       "  </thead>\n",
       "  <tbody>\n",
       "    <tr>\n",
       "      <th>1615</th>\n",
       "      <td>2005.01.19</td>\n",
       "      <td>2005.0</td>\n",
       "      <td>Provoked</td>\n",
       "      <td>AUSTRALIA</td>\n",
       "      <td>Victoria</td>\n",
       "      <td>Spearfishing</td>\n",
       "      <td>M</td>\n",
       "      <td>NaN</td>\n",
       "      <td>No injury. Towed by speared shark PROVOKED INC...</td>\n",
       "      <td>N</td>\n",
       "      <td>NaN</td>\n",
       "      <td>3 m shark</td>\n",
       "      <td>Herald Sun News</td>\n",
       "    </tr>\n",
       "    <tr>\n",
       "      <th>2680</th>\n",
       "      <td>1989.06.17</td>\n",
       "      <td>1989.0</td>\n",
       "      <td>Unprovoked</td>\n",
       "      <td>USA</td>\n",
       "      <td>Louisiana</td>\n",
       "      <td>Spearfishing</td>\n",
       "      <td>M</td>\n",
       "      <td>45</td>\n",
       "      <td>Puncture wounds &amp; lacerations to both legs</td>\n",
       "      <td>N</td>\n",
       "      <td>NaN</td>\n",
       "      <td>1.8 m [6'] sandtiger shark</td>\n",
       "      <td>The Advocate (Baton Rouge, La.), 6/21/1989</td>\n",
       "    </tr>\n",
       "  </tbody>\n",
       "</table>\n",
       "</div>"
      ],
      "text/plain": [
       "     Case_Number    Year        Type    Country       Area      Activity Sex_  \\\n",
       "1615  2005.01.19  2005.0    Provoked  AUSTRALIA   Victoria  Spearfishing    M   \n",
       "2680  1989.06.17  1989.0  Unprovoked        USA  Louisiana  Spearfishing    M   \n",
       "\n",
       "      Age                                             Injury Fatal_(Y/N) Time  \\\n",
       "1615  NaN  No injury. Towed by speared shark PROVOKED INC...           N  NaN   \n",
       "2680   45         Puncture wounds & lacerations to both legs           N  NaN   \n",
       "\n",
       "                        Species_                      Investigator_or_Source  \n",
       "1615                   3 m shark                             Herald Sun News  \n",
       "2680  1.8 m [6'] sandtiger shark  The Advocate (Baton Rouge, La.), 6/21/1989  "
      ]
     },
     "execution_count": 15,
     "metadata": {},
     "output_type": "execute_result"
    }
   ],
   "source": [
    "sh_attacks3.sample(2)"
   ]
  },
  {
   "cell_type": "code",
   "execution_count": 16,
   "id": "965f6d0b",
   "metadata": {},
   "outputs": [
    {
     "data": {
      "text/plain": [
       "array(['Boating', 'Unprovoked', 'Invalid', 'Provoked', 'Questionable',\n",
       "       'Sea Disaster', nan, 'Boat', 'Boatomg'], dtype=object)"
      ]
     },
     "execution_count": 16,
     "metadata": {},
     "output_type": "execute_result"
    }
   ],
   "source": [
    "sh_attacks3.Type.unique()"
   ]
  },
  {
   "cell_type": "code",
   "execution_count": 17,
   "id": "3bbf11c9",
   "metadata": {},
   "outputs": [
    {
     "data": {
      "text/plain": [
       "array(['Paddling', 'Standing', 'Surfing', ...,\n",
       "       'Crew swimming alongside their anchored ship',\n",
       "       '4 men were bathing', 'Wreck of  large double sailing canoe'],\n",
       "      dtype=object)"
      ]
     },
     "execution_count": 17,
     "metadata": {},
     "output_type": "execute_result"
    }
   ],
   "source": [
    "sh_attacks3.Activity.unique()"
   ]
  },
  {
   "cell_type": "code",
   "execution_count": 18,
   "id": "7ae4a0a3",
   "metadata": {},
   "outputs": [
    {
     "name": "stdout",
     "output_type": "stream",
     "text": [
      "<class 'pandas.core.frame.DataFrame'>\n",
      "Int64Index: 8703 entries, 0 to 25722\n",
      "Data columns (total 13 columns):\n",
      " #   Column                  Non-Null Count  Dtype  \n",
      "---  ------                  --------------  -----  \n",
      " 0   Case_Number             8702 non-null   object \n",
      " 1   Year                    6300 non-null   float64\n",
      " 2   Type                    6298 non-null   object \n",
      " 3   Country                 6252 non-null   object \n",
      " 4   Area                    5847 non-null   object \n",
      " 5   Activity                5758 non-null   object \n",
      " 6   Sex_                    5737 non-null   object \n",
      " 7   Age                     3471 non-null   object \n",
      " 8   Injury                  6274 non-null   object \n",
      " 9   Fatal_(Y/N)             5763 non-null   object \n",
      " 10  Time                    2948 non-null   object \n",
      " 11  Species_                3464 non-null   object \n",
      " 12  Investigator_or_Source  6285 non-null   object \n",
      "dtypes: float64(1), object(12)\n",
      "memory usage: 951.9+ KB\n"
     ]
    }
   ],
   "source": [
    "sh_attacks3.info()"
   ]
  },
  {
   "cell_type": "code",
   "execution_count": 19,
   "id": "6faa02de",
   "metadata": {
    "scrolled": true
   },
   "outputs": [
    {
     "data": {
      "text/plain": [
       "Case_Number                  1\n",
       "Year                      2403\n",
       "Type                      2405\n",
       "Country                   2451\n",
       "Area                      2856\n",
       "Activity                  2945\n",
       "Sex_                      2966\n",
       "Age                       5232\n",
       "Injury                    2429\n",
       "Fatal_(Y/N)               2940\n",
       "Time                      5755\n",
       "Species_                  5239\n",
       "Investigator_or_Source    2418\n",
       "dtype: int64"
      ]
     },
     "execution_count": 19,
     "metadata": {},
     "output_type": "execute_result"
    }
   ],
   "source": [
    "sh_attacks3.isna().sum()"
   ]
  },
  {
   "cell_type": "code",
   "execution_count": 20,
   "id": "415d247b",
   "metadata": {},
   "outputs": [],
   "source": [
    "sh_attacks4 = sh_attacks3.fillna(\"absent\")"
   ]
  },
  {
   "cell_type": "code",
   "execution_count": 21,
   "id": "a71d13df",
   "metadata": {
    "scrolled": true
   },
   "outputs": [
    {
     "data": {
      "text/plain": [
       "Case_Number               0\n",
       "Year                      0\n",
       "Type                      0\n",
       "Country                   0\n",
       "Area                      0\n",
       "Activity                  0\n",
       "Sex_                      0\n",
       "Age                       0\n",
       "Injury                    0\n",
       "Fatal_(Y/N)               0\n",
       "Time                      0\n",
       "Species_                  0\n",
       "Investigator_or_Source    0\n",
       "dtype: int64"
      ]
     },
     "execution_count": 21,
     "metadata": {},
     "output_type": "execute_result"
    }
   ],
   "source": [
    "sh_attacks4.isna().sum()"
   ]
  },
  {
   "cell_type": "code",
   "execution_count": 22,
   "id": "9ee954c0",
   "metadata": {},
   "outputs": [
    {
     "data": {
      "text/html": [
       "<div>\n",
       "<style scoped>\n",
       "    .dataframe tbody tr th:only-of-type {\n",
       "        vertical-align: middle;\n",
       "    }\n",
       "\n",
       "    .dataframe tbody tr th {\n",
       "        vertical-align: top;\n",
       "    }\n",
       "\n",
       "    .dataframe thead th {\n",
       "        text-align: right;\n",
       "    }\n",
       "</style>\n",
       "<table border=\"1\" class=\"dataframe\">\n",
       "  <thead>\n",
       "    <tr style=\"text-align: right;\">\n",
       "      <th></th>\n",
       "      <th>Case_Number</th>\n",
       "      <th>Year</th>\n",
       "      <th>Type</th>\n",
       "      <th>Country</th>\n",
       "      <th>Area</th>\n",
       "      <th>Activity</th>\n",
       "      <th>Sex_</th>\n",
       "      <th>Age</th>\n",
       "      <th>Injury</th>\n",
       "      <th>Fatal_(Y/N)</th>\n",
       "      <th>Time</th>\n",
       "      <th>Species_</th>\n",
       "      <th>Investigator_or_Source</th>\n",
       "    </tr>\n",
       "  </thead>\n",
       "  <tbody>\n",
       "    <tr>\n",
       "      <th>1955</th>\n",
       "      <td>2001.04.12.e</td>\n",
       "      <td>2001.0</td>\n",
       "      <td>Unprovoked</td>\n",
       "      <td>USA</td>\n",
       "      <td>Florida</td>\n",
       "      <td>absent</td>\n",
       "      <td>M</td>\n",
       "      <td>mid-30s</td>\n",
       "      <td>Right ankle &amp; lower leg lacerated</td>\n",
       "      <td>N</td>\n",
       "      <td>16h00</td>\n",
       "      <td>absent</td>\n",
       "      <td>M. Large, Stuart News, 4/13/2001</td>\n",
       "    </tr>\n",
       "    <tr>\n",
       "      <th>2554</th>\n",
       "      <td>1992.05.00</td>\n",
       "      <td>1992.0</td>\n",
       "      <td>Unprovoked</td>\n",
       "      <td>MEXICO</td>\n",
       "      <td>Mexico / Caribbean Sea</td>\n",
       "      <td>Scuba diving &amp; filming</td>\n",
       "      <td>M</td>\n",
       "      <td>absent</td>\n",
       "      <td>Fingers, hand &amp; arm bitten</td>\n",
       "      <td>N</td>\n",
       "      <td>absent</td>\n",
       "      <td>absent</td>\n",
       "      <td>T. Allen, p.238</td>\n",
       "    </tr>\n",
       "    <tr>\n",
       "      <th>2121</th>\n",
       "      <td>1999.06.12</td>\n",
       "      <td>1999.0</td>\n",
       "      <td>Unprovoked</td>\n",
       "      <td>USA</td>\n",
       "      <td>Florida</td>\n",
       "      <td>Swimming</td>\n",
       "      <td>M</td>\n",
       "      <td>41</td>\n",
       "      <td>8-inch bite on calf</td>\n",
       "      <td>N</td>\n",
       "      <td>13h15</td>\n",
       "      <td>absent</td>\n",
       "      <td>Florida Times-Union, 6/13/1999</td>\n",
       "    </tr>\n",
       "  </tbody>\n",
       "</table>\n",
       "</div>"
      ],
      "text/plain": [
       "       Case_Number    Year        Type Country                    Area  \\\n",
       "1955  2001.04.12.e  2001.0  Unprovoked     USA                 Florida   \n",
       "2554    1992.05.00  1992.0  Unprovoked  MEXICO  Mexico / Caribbean Sea   \n",
       "2121    1999.06.12  1999.0  Unprovoked     USA                 Florida   \n",
       "\n",
       "                    Activity Sex_      Age                             Injury  \\\n",
       "1955                  absent    M  mid-30s  Right ankle & lower leg lacerated   \n",
       "2554  Scuba diving & filming    M   absent         Fingers, hand & arm bitten   \n",
       "2121                Swimming    M       41                8-inch bite on calf   \n",
       "\n",
       "     Fatal_(Y/N)    Time Species_             Investigator_or_Source  \n",
       "1955           N   16h00   absent  M. Large, Stuart News, 4/13/2001   \n",
       "2554           N  absent   absent                    T. Allen, p.238  \n",
       "2121           N   13h15   absent     Florida Times-Union, 6/13/1999  "
      ]
     },
     "execution_count": 22,
     "metadata": {},
     "output_type": "execute_result"
    }
   ],
   "source": [
    "sh_attacks4.sample(3)"
   ]
  },
  {
   "cell_type": "code",
   "execution_count": 23,
   "id": "a6e8fdf8",
   "metadata": {},
   "outputs": [],
   "source": [
    "sh_attacks5 = sh_attacks4.drop_duplicates()"
   ]
  },
  {
   "cell_type": "code",
   "execution_count": 24,
   "id": "f1895583",
   "metadata": {},
   "outputs": [
    {
     "data": {
      "text/plain": [
       "(6304, 13)"
      ]
     },
     "execution_count": 24,
     "metadata": {},
     "output_type": "execute_result"
    }
   ],
   "source": [
    "sh_attacks5.shape"
   ]
  },
  {
   "cell_type": "code",
   "execution_count": 25,
   "id": "ed4c79e4",
   "metadata": {},
   "outputs": [],
   "source": [
    "sh_attacks6 = sh_attacks5.reset_index(drop=True)"
   ]
  },
  {
   "cell_type": "code",
   "execution_count": 26,
   "id": "ed1e321f",
   "metadata": {},
   "outputs": [
    {
     "data": {
      "text/html": [
       "<div>\n",
       "<style scoped>\n",
       "    .dataframe tbody tr th:only-of-type {\n",
       "        vertical-align: middle;\n",
       "    }\n",
       "\n",
       "    .dataframe tbody tr th {\n",
       "        vertical-align: top;\n",
       "    }\n",
       "\n",
       "    .dataframe thead th {\n",
       "        text-align: right;\n",
       "    }\n",
       "</style>\n",
       "<table border=\"1\" class=\"dataframe\">\n",
       "  <thead>\n",
       "    <tr style=\"text-align: right;\">\n",
       "      <th></th>\n",
       "      <th>Case_Number</th>\n",
       "      <th>Year</th>\n",
       "      <th>Type</th>\n",
       "      <th>Country</th>\n",
       "      <th>Area</th>\n",
       "      <th>Activity</th>\n",
       "      <th>Sex_</th>\n",
       "      <th>Age</th>\n",
       "      <th>Injury</th>\n",
       "      <th>Fatal_(Y/N)</th>\n",
       "      <th>Time</th>\n",
       "      <th>Species_</th>\n",
       "      <th>Investigator_or_Source</th>\n",
       "    </tr>\n",
       "  </thead>\n",
       "  <tbody>\n",
       "    <tr>\n",
       "      <th>6303</th>\n",
       "      <td>xx</td>\n",
       "      <td>absent</td>\n",
       "      <td>absent</td>\n",
       "      <td>absent</td>\n",
       "      <td>absent</td>\n",
       "      <td>absent</td>\n",
       "      <td>absent</td>\n",
       "      <td>absent</td>\n",
       "      <td>absent</td>\n",
       "      <td>absent</td>\n",
       "      <td>absent</td>\n",
       "      <td>absent</td>\n",
       "      <td>absent</td>\n",
       "    </tr>\n",
       "  </tbody>\n",
       "</table>\n",
       "</div>"
      ],
      "text/plain": [
       "     Case_Number    Year    Type Country    Area Activity    Sex_     Age  \\\n",
       "6303          xx  absent  absent  absent  absent   absent  absent  absent   \n",
       "\n",
       "      Injury Fatal_(Y/N)    Time Species_ Investigator_or_Source  \n",
       "6303  absent      absent  absent   absent                 absent  "
      ]
     },
     "execution_count": 26,
     "metadata": {},
     "output_type": "execute_result"
    }
   ],
   "source": [
    "sh_attacks6.tail(1)"
   ]
  },
  {
   "cell_type": "code",
   "execution_count": 27,
   "id": "325714af",
   "metadata": {},
   "outputs": [],
   "source": [
    "list_columnas = list(sh_attacks6.columns)"
   ]
  },
  {
   "cell_type": "code",
   "execution_count": 28,
   "id": "24ec820c",
   "metadata": {},
   "outputs": [
    {
     "name": "stdout",
     "output_type": "stream",
     "text": [
      "['Case_Number', 'Year', 'Type', 'Country', 'Area', 'Activity', 'Sex_', 'Age', 'Injury', 'Fatal_(Y/N)', 'Time', 'Species_', 'Investigator_or_Source']\n"
     ]
    }
   ],
   "source": [
    "print(list_columnas)"
   ]
  },
  {
   "cell_type": "code",
   "execution_count": 29,
   "id": "9f80c66c",
   "metadata": {},
   "outputs": [],
   "source": [
    "Split_Date_df = sh_attacks6[\"Case_Number\"].str.split(\".\", expand = True)"
   ]
  },
  {
   "cell_type": "code",
   "execution_count": 30,
   "id": "865a0a7a",
   "metadata": {
    "scrolled": true
   },
   "outputs": [
    {
     "data": {
      "text/html": [
       "<div>\n",
       "<style scoped>\n",
       "    .dataframe tbody tr th:only-of-type {\n",
       "        vertical-align: middle;\n",
       "    }\n",
       "\n",
       "    .dataframe tbody tr th {\n",
       "        vertical-align: top;\n",
       "    }\n",
       "\n",
       "    .dataframe thead th {\n",
       "        text-align: right;\n",
       "    }\n",
       "</style>\n",
       "<table border=\"1\" class=\"dataframe\">\n",
       "  <thead>\n",
       "    <tr style=\"text-align: right;\">\n",
       "      <th></th>\n",
       "      <th>0</th>\n",
       "      <th>1</th>\n",
       "      <th>2</th>\n",
       "      <th>3</th>\n",
       "      <th>4</th>\n",
       "      <th>5</th>\n",
       "    </tr>\n",
       "  </thead>\n",
       "  <tbody>\n",
       "    <tr>\n",
       "      <th>0</th>\n",
       "      <td>2018</td>\n",
       "      <td>06</td>\n",
       "      <td>25</td>\n",
       "      <td>None</td>\n",
       "      <td>None</td>\n",
       "      <td>None</td>\n",
       "    </tr>\n",
       "    <tr>\n",
       "      <th>1</th>\n",
       "      <td>2018</td>\n",
       "      <td>06</td>\n",
       "      <td>18</td>\n",
       "      <td>None</td>\n",
       "      <td>None</td>\n",
       "      <td>None</td>\n",
       "    </tr>\n",
       "    <tr>\n",
       "      <th>2</th>\n",
       "      <td>2018</td>\n",
       "      <td>06</td>\n",
       "      <td>09</td>\n",
       "      <td>None</td>\n",
       "      <td>None</td>\n",
       "      <td>None</td>\n",
       "    </tr>\n",
       "    <tr>\n",
       "      <th>3</th>\n",
       "      <td>2018</td>\n",
       "      <td>06</td>\n",
       "      <td>08</td>\n",
       "      <td>None</td>\n",
       "      <td>None</td>\n",
       "      <td>None</td>\n",
       "    </tr>\n",
       "    <tr>\n",
       "      <th>4</th>\n",
       "      <td>2018</td>\n",
       "      <td>06</td>\n",
       "      <td>04</td>\n",
       "      <td>None</td>\n",
       "      <td>None</td>\n",
       "      <td>None</td>\n",
       "    </tr>\n",
       "    <tr>\n",
       "      <th>...</th>\n",
       "      <td>...</td>\n",
       "      <td>...</td>\n",
       "      <td>...</td>\n",
       "      <td>...</td>\n",
       "      <td>...</td>\n",
       "      <td>...</td>\n",
       "    </tr>\n",
       "    <tr>\n",
       "      <th>6299</th>\n",
       "      <td>ND</td>\n",
       "      <td>0003</td>\n",
       "      <td>None</td>\n",
       "      <td>None</td>\n",
       "      <td>None</td>\n",
       "      <td>None</td>\n",
       "    </tr>\n",
       "    <tr>\n",
       "      <th>6300</th>\n",
       "      <td>ND</td>\n",
       "      <td>0002</td>\n",
       "      <td>None</td>\n",
       "      <td>None</td>\n",
       "      <td>None</td>\n",
       "      <td>None</td>\n",
       "    </tr>\n",
       "    <tr>\n",
       "      <th>6301</th>\n",
       "      <td>ND</td>\n",
       "      <td>0001</td>\n",
       "      <td>None</td>\n",
       "      <td>None</td>\n",
       "      <td>None</td>\n",
       "      <td>None</td>\n",
       "    </tr>\n",
       "    <tr>\n",
       "      <th>6302</th>\n",
       "      <td>0</td>\n",
       "      <td>None</td>\n",
       "      <td>None</td>\n",
       "      <td>None</td>\n",
       "      <td>None</td>\n",
       "      <td>None</td>\n",
       "    </tr>\n",
       "    <tr>\n",
       "      <th>6303</th>\n",
       "      <td>xx</td>\n",
       "      <td>None</td>\n",
       "      <td>None</td>\n",
       "      <td>None</td>\n",
       "      <td>None</td>\n",
       "      <td>None</td>\n",
       "    </tr>\n",
       "  </tbody>\n",
       "</table>\n",
       "<p>6304 rows × 6 columns</p>\n",
       "</div>"
      ],
      "text/plain": [
       "         0     1     2     3     4     5\n",
       "0     2018    06    25  None  None  None\n",
       "1     2018    06    18  None  None  None\n",
       "2     2018    06    09  None  None  None\n",
       "3     2018    06    08  None  None  None\n",
       "4     2018    06    04  None  None  None\n",
       "...    ...   ...   ...   ...   ...   ...\n",
       "6299    ND  0003  None  None  None  None\n",
       "6300    ND  0002  None  None  None  None\n",
       "6301    ND  0001  None  None  None  None\n",
       "6302     0  None  None  None  None  None\n",
       "6303    xx  None  None  None  None  None\n",
       "\n",
       "[6304 rows x 6 columns]"
      ]
     },
     "metadata": {},
     "output_type": "display_data"
    }
   ],
   "source": [
    "display(Split_Date_df)"
   ]
  },
  {
   "cell_type": "code",
   "execution_count": 31,
   "id": "b02a0b2d",
   "metadata": {
    "scrolled": true
   },
   "outputs": [
    {
     "data": {
      "text/plain": [
       "[0, 1, 2, 3, 4, 5]"
      ]
     },
     "execution_count": 31,
     "metadata": {},
     "output_type": "execute_result"
    }
   ],
   "source": [
    "list(Split_Date_df.columns)"
   ]
  },
  {
   "cell_type": "code",
   "execution_count": 32,
   "id": "7d18d717",
   "metadata": {},
   "outputs": [],
   "source": [
    "months_df = Split_Date_df[[1]]"
   ]
  },
  {
   "cell_type": "code",
   "execution_count": 33,
   "id": "fa602055",
   "metadata": {},
   "outputs": [
    {
     "data": {
      "text/html": [
       "<div>\n",
       "<style scoped>\n",
       "    .dataframe tbody tr th:only-of-type {\n",
       "        vertical-align: middle;\n",
       "    }\n",
       "\n",
       "    .dataframe tbody tr th {\n",
       "        vertical-align: top;\n",
       "    }\n",
       "\n",
       "    .dataframe thead th {\n",
       "        text-align: right;\n",
       "    }\n",
       "</style>\n",
       "<table border=\"1\" class=\"dataframe\">\n",
       "  <thead>\n",
       "    <tr style=\"text-align: right;\">\n",
       "      <th></th>\n",
       "      <th>1</th>\n",
       "    </tr>\n",
       "  </thead>\n",
       "  <tbody>\n",
       "    <tr>\n",
       "      <th>0</th>\n",
       "      <td>06</td>\n",
       "    </tr>\n",
       "    <tr>\n",
       "      <th>1</th>\n",
       "      <td>06</td>\n",
       "    </tr>\n",
       "    <tr>\n",
       "      <th>2</th>\n",
       "      <td>06</td>\n",
       "    </tr>\n",
       "    <tr>\n",
       "      <th>3</th>\n",
       "      <td>06</td>\n",
       "    </tr>\n",
       "    <tr>\n",
       "      <th>4</th>\n",
       "      <td>06</td>\n",
       "    </tr>\n",
       "    <tr>\n",
       "      <th>...</th>\n",
       "      <td>...</td>\n",
       "    </tr>\n",
       "    <tr>\n",
       "      <th>6299</th>\n",
       "      <td>0003</td>\n",
       "    </tr>\n",
       "    <tr>\n",
       "      <th>6300</th>\n",
       "      <td>0002</td>\n",
       "    </tr>\n",
       "    <tr>\n",
       "      <th>6301</th>\n",
       "      <td>0001</td>\n",
       "    </tr>\n",
       "    <tr>\n",
       "      <th>6302</th>\n",
       "      <td>None</td>\n",
       "    </tr>\n",
       "    <tr>\n",
       "      <th>6303</th>\n",
       "      <td>None</td>\n",
       "    </tr>\n",
       "  </tbody>\n",
       "</table>\n",
       "<p>6304 rows × 1 columns</p>\n",
       "</div>"
      ],
      "text/plain": [
       "         1\n",
       "0       06\n",
       "1       06\n",
       "2       06\n",
       "3       06\n",
       "4       06\n",
       "...    ...\n",
       "6299  0003\n",
       "6300  0002\n",
       "6301  0001\n",
       "6302  None\n",
       "6303  None\n",
       "\n",
       "[6304 rows x 1 columns]"
      ]
     },
     "metadata": {},
     "output_type": "display_data"
    }
   ],
   "source": [
    "display(months_df)"
   ]
  },
  {
   "cell_type": "code",
   "execution_count": 34,
   "id": "93d72be8",
   "metadata": {},
   "outputs": [
    {
     "data": {
      "text/plain": [
       "array(['06', '05', '04', '03', '02', '01', '12', '11', '10', '09', '08',\n",
       "       '07', '07-10', '00', '30', None, '29', '0214', '0336', '0493',\n",
       "       '0725', '0110', '0104', '0102', '0100', '0097', '0096', '0095',\n",
       "       '0094', '0093', '0091', '0090', '0089', '0088', '0087', '0086',\n",
       "       '0085', '0084', '0083', '0082', '0081', '0078', '0076', '0075',\n",
       "       '0074', '0073', '0069', '0068', '0066', '0065', '0064', '0063',\n",
       "       '0062', '0060', '0059', '0058', '0057', '0056', '0055', '0054',\n",
       "       '0053', '0052', '0051', '0049', '0048', '0047', '0046', '0044',\n",
       "       '0043', '0042', '0041', '0040', '0039', '0038', '0037', '0036',\n",
       "       '0035', '0034', '0033', '0032', '0031', '0030', '0028', '0027',\n",
       "       '0026', '0025', '0024', '0023', '0022', '0021', '0020', '0019',\n",
       "       '0018', '0017', '0016', '0015', '0014', '0013', '0012', '0011',\n",
       "       '0010', '0009', '0008', '0007', '0006', '0005', '0004', '0003',\n",
       "       '0002', '0001'], dtype=object)"
      ]
     },
     "execution_count": 34,
     "metadata": {},
     "output_type": "execute_result"
    }
   ],
   "source": [
    "months_df[1].unique()"
   ]
  },
  {
   "cell_type": "code",
   "execution_count": 35,
   "id": "183b1c03",
   "metadata": {},
   "outputs": [],
   "source": [
    "months_df1 = months_df[1].replace(['07-10', '00', '30', None, '29', '0214', '0336', '0493',\n",
    "       '0725', '0110', '0104', '0102', '0100', '0097', '0096', '0095',\n",
    "       '0094', '0093', '0091', '0090', '0089', '0088', '0087', '0086',\n",
    "       '0085', '0084', '0083', '0082', '0081', '0078', '0076', '0075',\n",
    "       '0074', '0073', '0069', '0068', '0066', '0065', '0064', '0063',\n",
    "       '0062', '0060', '0059', '0058', '0057', '0056', '0055', '0054',\n",
    "       '0053', '0052', '0051', '0049', '0048', '0047', '0046', '0044',\n",
    "       '0043', '0042', '0041', '0040', '0039', '0038', '0037', '0036',\n",
    "       '0035', '0034', '0033', '0032', '0031', '0030', '0028', '0027',\n",
    "       '0026', '0025', '0024', '0023', '0022', '0021', '0020', '0019',\n",
    "       '0018', '0017', '0016', '0015', '0014', '0013', '0012', '0011',\n",
    "       '0010', '0009', '0008', '0007', '0006', '0005', '0004', '0003',\n",
    "       '0002', '0001'], \"absent\")"
   ]
  },
  {
   "cell_type": "code",
   "execution_count": 36,
   "id": "34317afb",
   "metadata": {},
   "outputs": [
    {
     "data": {
      "text/plain": [
       "array(['06', '05', '04', '03', '02', '01', '12', '11', '10', '09', '08',\n",
       "       '07', 'absent'], dtype=object)"
      ]
     },
     "execution_count": 36,
     "metadata": {},
     "output_type": "execute_result"
    }
   ],
   "source": [
    "months_df1.unique()\n"
   ]
  },
  {
   "cell_type": "code",
   "execution_count": 37,
   "id": "0247bf95",
   "metadata": {
    "scrolled": true
   },
   "outputs": [
    {
     "data": {
      "text/plain": [
       "pandas.core.series.Series"
      ]
     },
     "execution_count": 37,
     "metadata": {},
     "output_type": "execute_result"
    }
   ],
   "source": [
    "type(months_df1)"
   ]
  },
  {
   "cell_type": "code",
   "execution_count": 38,
   "id": "942c09f4",
   "metadata": {},
   "outputs": [],
   "source": [
    "list_months = list(months_df1)"
   ]
  },
  {
   "cell_type": "code",
   "execution_count": 39,
   "id": "bdc0a6ee",
   "metadata": {},
   "outputs": [
    {
     "name": "stdout",
     "output_type": "stream",
     "text": [
      "['06', '06', '06', '06', '06', '06', '06', '05', '05', '05', '05', '05', '05', '05', '05', '05', '05', '04', '04', '04', '04', '04', '04', '04', '04', '04', '04', '04', '04', '04', '04', '04', '04', '04', '04', '03', '03', '03', '03', '02', '02', '02', '02', '02', '02', '02', '02', '01', '01', '01', '01', '01', '01', '12', '12', '12', '12', '11', '11', '11', '11', '11', '11', '11', '11', '10', '10', '10', '10', '10', '10', '10', '10', '10', '10', '10', '10', '09', '09', '09', '09', '09', '09', '09', '09', '09', '09', '09', '09', '09', '09', '09', '09', '09', '09', '09', '08', '08', '08', '08', '08', '08', '08', '08', '08', '08', '07', '07', '07', '07', '07', '07', '07', '07', '07', '07', '07', '07', '07', '07', '07', '07', '07', '07', '07', '06', '06', '06', '06', '06', '06', '06', '06', '06', '06', '06', '06', '06', '06', '05', '05', '05', '05', '05', '05', '05', '04', '04', '04', '04', '04', '04', '04', '04', '04', '04', '04', '04', '04', '04', '04', '04', '04', '04', '04', '04', '04', '03', '03', '03', '03', '03', '02', '02', '02', '02', '02', '02', '02', '02', '02', '01', '01', '01', '01', '01', '01', '01', '01', '01', '12', '12', '12', '12', '12', '12', '12', '12', '11', '11', '10', '10', '10', '10', '10', '10', '10', '10', '10', '10', '10', '09', '09', '09', '09', '09', '09', '09', '09', '09', '09', '09', '09', '09', '09', '09', '09', '08', '08', '08', '08', '08', '08', '08', '07', '07', '07', '07', '07', '07', '07', '07', '07', '07', '07', '07', '07', '07', '07', '07', '07', '07', '07', '07', '07', '06', '06', '06', '06', '06', '06', '06', '06', '06', '06', '06', '06', '06', '06', '06', '06', '05', '05', '05', '05', '05', '05', '05', '05', '05', '05', '04', '04', '04', '04', '04', '04', '04', '04', '04', '04', '04', '03', '03', '03', '03', '03', '03', '03', '03', '03', '03', '03', '02', '02', '02', '02', '02', '02', '02', '02', '01', '01', '01', '01', '01', '01', '01', '01', '01', '12', '12', '12', '12', '12', '12', '12', '12', '12', '11', '11', '11', '11', '11', '12', '11', '11', '11', '10', '10', '10', '10', '10', '10', '10', '10', '10', '10', '10', '10', '10', '10', '10', '10', '09', '09', '09', '09', '09', '09', '09', '09', '09', '09', '09', '09', '09', '09', '09', '09', '09', '08', '08', '08', '08', '08', '08', '08', '08', '08', '07', '07', '07', '07', '07', '07', '07', '07', '07', '07', 'absent', '07', '07', '07', '07', '07', '07', '07', '06', '06', '06', '06', '06', '06', '06', '06', '06', '06', '06', '06', '06', '06', '06', '06', '06', '06', '06', '06', '06', '05', '05', '05', '05', '05', '05', '05', '05', '05', '05', '04', '04', '04', '04', '04', '04', '04', '04', '03', '03', '03', '03', '03', '03', '03', '03', '03', '02', '02', '02', '02', '02', '01', '01', '01', '01', '01', '01', '01', '01', '01', '01', '01', '01', '12', '12', '12', '12', '12', '12', '12', '12', '12', '11', '11', '11', '11', '11', '11', '11', '11', '10', '10', '10', '10', '10', '10', '10', '10', '10', '10', '10', '10', '10', '10', '10', '10', '10', '09', '09', '09', '09', '09', '09', '09', '09', '08', '08', '08', '08', '08', '08', '08', '08', '08', '08', '08', '08', '08', '08', '08', '08', '08', '08', '08', '08', '08', '07', '07', '07', '07', '07', '07', '07', '07', '07', '07', '07', '07', '06', '06', '06', '06', '06', '06', '06', '06', '06', '06', '06', '06', '06', '05', '05', '05', '05', '05', '05', '05', '05', '05', '05', '05', '04', '04', '04', '04', '04', '04', '04', '04', '03', '03', '03', '03', '03', '03', '03', '03', '03', '03', '02', '02', '02', '02', '02', '01', '01', '01', 'absent', 'absent', '12', '12', '12', '12', '12', '12', '12', '11', '11', '11', '11', '11', '11', '11', '11', '10', '10', '10', '10', '10', '10', '10', '10', '10', '10', '10', '10', '09', '09', '09', '09', '09', '09', '09', '09', '09', '09', '09', '09', '09', '09', '08', '08', '08', '08', '08', '08', '08', '08', '08', '08', '08', '08', '08', '07', '07', '07', '07', '07', '07', '07', '07', '07', '07', '07', '07', '07', '07', '07', '06', '06', '06', '06', '06', '06', '06', '06', '06', '06', '06', '06', '05', '05', '05', '05', '05', '05', '05', '05', '04', '04', '04', '04', '04', '04', '04', '04', '04', '04', '04', '03', '03', '03', '03', '03', '03', '03', '03', '03', '03', '02', '02', '02', '02', '02', '02', '01', '01', '01', '01', '01', '01', '12', '12', '12', '12', '12', '12', '12', '12', '11', '11', '11', '11', '11', '11', '10', '10', '10', '10', '10', '10', '10', '10', '10', '10', '09', '09', '09', '09', '09', '09', '09', '09', '09', '09', '09', '09', '09', '08', '08', '08', '08', '08', '08', '08', '08', '07', '07', '07', '07', '07', '07', '07', '07', '07', '07', '07', '07', '07', '07', '06', '06', '06', '06', '06', '06', '06', '06', '06', '06', '06', '06', '06', '06', '06', '06', '06', '06', '06', '05', '05', '05', '05', '05', '05', '05', '05', '04', '04', '04', '04', '04', '03', '03', '03', '03', '03', '03', '03', '03', '03', '03', '03', '03', '03', '02', '02', '02', '02', '01', '01', '01', '01', '01', '01', '01', '01', '01', '12', '12', '12', '12', '12', '12', '12', '12', '12', '12', '12', '12', '11', '11', '11', '11', '11', '11', '10', '10', '10', '10', '10', '10', '10', '10', '10', '10', '10', '10', '09', '09', '09', '09', '09', '09', '09', '09', '09', '09', '09', '09', '09', '09', '08', '08', '08', '08', '08', '08', '08', '08', '08', '08', '08', '08', '08', '08', '08', '08', '08', '07', '07', '07', '07', '07', '07', '07', '07', '07', '07', '07', '07', '06', '06', '06', '06', '06', '06', '06', '06', '06', '06', '06', '06', '06', '06', '06', '05', '05', '05', '05', '05', '05', '05', '05', '05', '05', '05', '04', '04', '04', '04', '04', '04', '03', '03', '03', '03', '03', '03', '03', '03', '02', '02', '02', '02', '02', '02', '02', '02', '01', '01', '01', '01', '01', '01', '01', '12', '12', '12', '12', '12', '12', '12', '11', '11', '11', '11', '11', '11', '11', '11', '10', '10', '10', '10', '10', '10', '10', '10', '10', '10', '10', '10', '09', '09', '09', '09', '09', '09', '09', '09', '09', '09', '08', '08', '08', '08', '08', '08', '08', '08', '08', '08', '08', '08', '07', '07', '07', '07', '07', '07', '07', '07', '07', '07', '07', '07', '06', '06', '06', '06', '06', '06', '06', '05', '05', '05', '05', '05', '05', '04', '04', '04', '04', '03', '02', '02', '02', '02', '02', '02', '02', '02', '02', '02', '02', '01', '01', '01', '01', '01', '01', '01', '01', '01', '01', '01', '12', '12', '12', '12', '12', '12', '12', '12', '12', '12', '12', '11', '11', '11', '11', '11', '11', '11', '11', '10', '10', '10', '10', '10', '10', '10', '10', '10', '10', '09', '09', '09', '09', '09', '09', '09', '09', '08', '08', '08', '08', '08', '08', '08', '07', '07', '07', '07', '07', '07', '07', '07', '07', '07', '07', '07', '07', '07', '06', '06', '06', '06', '06', '06', '06', '05', '05', '05', '05', '05', '05', '05', '04', '04', '04', '04', '04', '04', '04', '04', '04', '04', '04', '03', '03', '03', '03', '03', '03', '03', '03', '03', '03', '03', '03', '03', '02', '02', '02', '02', '02', '02', '02', '01', '01', '01', '01', '01', '01', '01', '01', '01', '01', '01', '01', '01', '01', '01', '01', '01', '12', '12', '12', '12', '12', '12', '12', '12', '12', '12', '11', '11', '11', '11', '11', '11', '10', '10', '10', '10', '10', '10', '09', '09', '09', '09', '09', '09', '09', '09', '09', '09', '09', '08', '08', '08', '08', '08', '08', '08', '08', '08', '08', '08', '08', '07', '07', '07', '07', '07', '07', '07', '07', '07', '07', '07', '07', '07', '07', '07', '07', '07', '06', '06', '06', '06', '06', '06', '06', '06', '06', '06', '06', '06', '06', '06', '05', '05', '05', '05', '05', '05', '05', '05', '05', '04', '04', '04', '04', '04', '04', '04', '04', '04', '04', '04', '04', '04', '03', '04', '04', '04', '03', '03', '03', '03', '03', '03', '03', '02', '02', '02', '02', '02', '01', '01', '01', '01', '01', '01', 'absent', 'absent', '12', '12', '12', '12', '12', '12', '12', '12', '11', '11', '11', '11', '11', '11', '11', '10', '10', '10', '10', '10', '09', '09', '09', '09', '09', '09', '09', '09', '09', '09', '09', '09', '09', '09', '09', '09', '09', '09', '08', '08', '08', '08', '08', '08', '08', '08', '08', '08', '08', '08', '08', '08', '08', '07', '07', '07', '07', '07', '07', '07', '07', '07', '07', '07', '07', '07', '07', '06', '06', '06', '06', '06', '06', '06', '05', '05', '05', '05', '05', '05', '05', '05', '05', '05', '05', '05', '04', '04', '04', '04', '04', '04', '03', '03', '03', '03', '03', '03', '03', '03', '03', '02', '02', '02', '01', '01', '01', '01', '01', '01', '01', '01', '12', '12', '12', '12', '12', '11', '11', '11', '10', '10', '10', '10', '10', '10', '10', '09', '09', '09', '09', '09', '09', '09', '09', '09', '09', '09', '08', '08', '08', '08', '08', '08', '08', '08', '08', '08', '08', '07', '07', '07', '07', '07', '07', '07', '07', '07', '07', '07', '07', '07', '07', '07', '07', '06', '06', '06', '06', '06', '06', '06', '06', '06', '06', '06', '05', '05', '05', '05', '05', '05', '05', '05', '05', '04', '04', '04', '04', '04', '04', '04', '04', '03', '03', '03', '03', '03', '02', '02', '02', '02', '02', '02', '02', '02', '01', '01', '01', '01', '01', '01', '01', '01', '01', '12', '12', '12', '12', '12', '11', '11', '11', '11', '11', '11', '11', '11', '11', '11', '11', '11', '11', '10', '10', '10', '10', '10', '10', '10', '10', '10', '10', '10', '09', '09', '09', '09', '09', '09', '09', '09', '09', '09', '09', '08', '08', '08', '08', '08', '08', '08', '08', '08', '07', '07', '07', '07', '07', '07', '07', '07', '07', '06', '06', '06', '06', '06', '06', '06', '06', '06', '06', '06', '05', '05', '05', '05', '05', '05', '05', '05', '04', '04', '04', '04', '04', '04', '04', '04', '04', '03', '03', '03', '03', '03', '03', '03', '03', '02', '02', '02', '02', '02', '01', '01', '01', '01', '12', '12', '12', '11', '11', '11', '11', '11', '11', '10', '10', '10', '10', '10', '10', '10', '10', '10', '10', '09', '09', '09', '09', '09', '08', '08', '08', '08', '08', '08', '08', '07', '07', '07', '07', '07', '07', '07', '07', '07', '07', '07', '06', '06', '06', '06', '06', '06', '05', '05', '05', '05', '05', '05', '05', '05', '05', '05', '04', '04', '04', '04', '04', '04', '04', '03', '03', '03', '03', '03', '03', '03', '03', '03', '03', '02', '02', '02', '02', '02', '02', '01', '01', '01', '01', '01', '01', '01', '01', '01', '01', 'absent', '12', '12', '12', '12', '12', '11', '11', '11', '11', '11', '11', '11', '11', '11', '11', '10', '10', '10', '10', '10', '10', '10', '10', '10', '10', '10', '10', '09', '09', '09', '09', '09', '09', '09', '09', '09', '09', '09', '09', '08', '08', '08', '08', '07', '07', '07', '07', '07', '07', '07', '07', '07', '07', '06', '06', '06', '06', '06', '06', '06', '06', '06', '05', '05', '05', '05', '05', '05', '04', '04', '04', '04', '04', '04', '04', '04', '04', '04', '04', '04', '04', '04', '04', '03', '02', '02', '02', '02', '02', '01', '01', '01', '12', '12', '12', '12', '12', '12', '11', '11', '11', '11', '11', '11', '11', '10', '10', '10', '10', '10', '10', '09', '09', '09', '09', '09', '09', '09', '09', '09', '09', '09', '09', '08', '08', '08', '08', '08', '08', '08', '07', '07', '07', '07', '07', '07', '06', '06', '06', '06', '06', '06', '06', '06', '06', '06', '05', '05', '05', '05', '05', '05', '05', '05', '05', '04', '04', '04', '04', '04', '04', '04', '04', '03', '03', '03', '03', '03', '03', '03', '02', '02', '02', '02', '01', '01', '01', '01', '01', '01', '12', '11', '11', '11', '10', '10', '09', '09', '09', '09', '09', '09', '09', '09', '09', '09', '09', '09', '09', '09', '09', '08', '08', '08', '08', '08', '08', '08', '08', '08', '08', '08', '08', '08', '08', '08', '08', '08', '08', '07', '07', '07', '07', '07', '07', '07', '07', '07', '07', '06', '06', '06', '06', '05', '05', '05', '05', '05', '05', '05', '05', '05', '04', '04', '04', '04', '04', '04', '04', '04', '04', '04', '04', '04', '04', '04', '04', '04', '04', '03', '03', '03', '03', '03', '02', '02', '02', '01', '01', '01', '01', '01', '12', '12', '12', '12', '12', '12', '11', '11', '11', '11', '11', '11', '11', '10', '10', '10', '10', '10', '10', '10', '10', '09', '09', '09', '09', '09', '09', '09', '09', '09', '09', '09', '09', '09', '09', '09', '08', '08', '08', '08', '08', '08', '08', '08', '08', '08', '07', '07', '07', '07', '07', '07', '07', '07', '07', '07', '07', '07', '07', '07', '07', '07', '07', '06', '06', '06', '06', '06', '06', '06', '06', '06', '05', '05', '05', '05', '04', '04', '03', '03', '03', '03', '03', '03', '03', '03', '03', '03', '03', '02', '02', '02', '02', '02', '01', '01', 'absent', '12', '12', '12', '12', '12', '12', '12', '11', '11', '11', '11', '11', '11', '11', '10', '10', '10', '10', '09', '09', '09', '09', '09', '09', '09', '09', '08', '08', '08', '08', '08', '08', '08', '07', '07', '07', '07', '07', '07', '07', '06', '06', '06', '06', '05', '05', '04', '04', '04', '03', '03', '03', '03', '03', '03', '03', '02', '02', '02', '01', '01', '01', '01', '01', 'absent', 'absent', '12', '12', '12', '12', '12', '11', '11', '11', '11', '11', '11', '10', '10', '10', '10', '10', '10', '09', '09', '09', '09', '09', '08', '08', '08', '08', '08', '08', '08', '08', '08', '07', '07', '07', '07', '07', '06', '06', '06', '06', '05', '05', '05', '05', '05', '05', '05', '04', '04', '04', '04', '04', '03', '03', '03', '02', '01', '01', '01', '01', '01', '01', 'absent', 'absent', 'absent', '12', '12', '12', '12', '11', '11', '11', '10', '10', '10', '10', '10', '10', '09', '09', '09', '09', '08', '08', '08', '08', '08', '08', '08', '08', '08', '08', '08', '08', '08', '08', '07', '07', '07', '07', '07', '07', '06', '06', '06', '06', '06', '05', '05', '05', '05', '05', '04', '02', '02', '02', '02', '02', '01', '01', '01', '01', '12', '12', '12', '12', '11', '11', '10', '10', '10', '10', '10', '10', '10', '09', '09', '09', '09', '09', '09', '09', '08', '08', '08', '07', '07', '07', '07', '07', '07', '07', '07', '07', '06', '06', '06', '05', '05', '05', '05', '05', '04', '04', '04', '04', '03', '03', '02', '02', '02', '02', '02', '02', '02', '01', '01', '01', '01', '01', '01', 'absent', 'absent', '12', '11', '11', '11', '11', '10', '10', '10', '10', '09', '09', '09', '09', '09', '09', '09', '09', '09', '09', '08', '08', '08', '08', '08', '08', '08', '08', '08', '08', '08', '08', '08', '08', '08', '08', '08', '07', '07', '07', '07', '07', '07', '07', '07', '11', '07', '07', '07', '06', '06', '06', '06', '06', '06', '06', '06', '06', '05', '05', '05', '05', '05', '04', '04', '04', '04', '03', '03', '03', '02', '02', '01', '01', 'absent', 'absent', 'absent', 'absent', '12', '12', '12', '12', '12', '12', '12', '12', '11', '11', '11', '10', '10', '10', '10', '09', '09', '09', '09', '08', '07', '07', '07', '07', '07', '07', '07', '06', '05', '05', '05', '05', '05', '05', '04', '04', '04', '04', '04', '03', '03', '03', '03', '02', '02', '02', '02', '02', '01', '01', '01', '01', '01', '01', 'absent', 'absent', '12', '11', '11', '11', '11', '10', '10', '10', '10', '09', '09', '09', '09', '09', '09', '09', '08', '08', '08', '08', '08', '08', '08', '08', '08', '07', '07', '06', '06', '06', '06', '06', '06', '06', '06', '06', '05', '05', '04', '03', '03', '03', '03', '03', '03', '02', '02', '02', '01', '01', '01', '01', 'absent', 'absent', 'absent', 'absent', '12', '12', '11', '11', '11', '11', '11', '11', '11', '11', '10', '10', '10', '10', '10', '09', '09', '09', '09', '09', '08', '08', '08', '08', '08', '08', '07', '07', '07', '07', '06', '06', '06', '06', '06', '05', '05', '05', '04', '04', '03', '03', '03', '03', '03', '02', '02', '02', '01', '01', '01', '01', '01', '01', '01', 'absent', '12', '11', '11', '11', '11', '11', '10', '10', '09', '09', '08', '08', '08', '08', '07', '07', '07', '07', '07', '07', '07', '06', '06', '06', '06', '06', '05', '05', '04', '04', '04', '04', '03', '02', '02', '01', '01', '01', '12', '11', '11', '11', '10', '10', '10', '10', '10', '10', '10', '09', '09', '09', '08', '08', '08', '08', '07', '07', '06', '06', '05', '05', '05', '05', '04', '04', '04', '04', '04', '04', '03', '03', '02', '02', '01', 'absent', '12', '12', '12', '11', '11', '11', '11', '10', '10', '10', '10', '10', '10', '09', '09', '09', '09', '09', '09', '08', '08', '08', '08', '08', '08', '07', '07', '07', '07', '07', '06', '06', '06', '06', '06', '06', '04', '04', '04', '04', '04', '03', '03', '02', '02', '02', '01', '01', '01', '01', '01', '01', 'absent', 'absent', '12', '11', '11', '10', '10', '10', '10', '10', '10', '10', '10', '09', '09', '09', '08', '08', '08', '08', '07', '07', '07', '07', '07', '07', '07', '06', '06', '06', '06', '06', '05', '05', '05', '04', '04', '04', '04', '04', '04', '04', '03', '03', '03', '03', '02', '02', '02', '02', '02', '01', '01', '01', '01', '01', 'absent', '12', '12', '12', '11', '11', '10', '10', '10', '10', '09', '09', '08', '08', '07', '07', '07', '07', '07', '07', '06', '05', '05', '05', '04', '04', '04', '04', '03', '03', '02', '02', '01', '01', 'absent', 'absent', '12', '12', '12', '12', '12', '12', '12', '11', '11', '11', '10', '10', '10', '10', '10', '09', '09', '09', '08', '08', '08', '08', '07', '07', '07', '05', '05', '04', '04', '03', '03', '03', '02', '02', '02', '02', '02', '01', 'absent', '12', '12', '11', '11', '11', '10', '10', '10', '10', '10', '09', '09', '09', '09', '08', '08', '08', '07', '07', '07', '07', '07', '05', '05', '03', '03', '02', '02', '01', '01', '01', '01', '01', '01', '01', 'absent', 'absent', '12', '11', '11', '11', '10', '10', '10', '10', '09', '09', '09', '09', '09', '09', '09', '09', '09', '08', '08', '07', '07', '07', '07', '07', '06', '06', '06', '05', '03', '03', '03', '03', '02', '02', '02', '02', '01', '01', 'absent', 'absent', '12', '12', '12', '12', '12', '12', '11', '11', '11', '10', '10', '09', '08', '08', '08', '08', '08', '08', '07', '07', '07', '07', '07', '07', '07', '06', '06', '06', '06', '06', '06', '05', '05', '05', '04', '04', '04', '04', '03', '03', '03', '03', '02', '01', '01', '01', '01', 'absent', 'absent', 'absent', '11', '10', '09', '09', '09', '09', '09', '09', '08', '08', '08', '08', '07', '07', '07', '07', '07', '07', '07', '06', '06', '06', '06', '06', '05', '03', '03', '03', '02', '02', '02', '02', '02', '02', '02', '02', '01', 'absent', 'absent', 'absent', '12', '12', '12', '11', '10', '11', '10', '10', '10', '10', '09', '09', '09', '09', '09', '08', '08', '08', '08', '08', '08', '07', '07', '07', '07', '06', '06', '05', '05', '05', '05', '05', '05', '05', '03', '05', '03', '03', '03', '03', '02', '02', '02', '02', '02', '01', '01', 'absent', 'absent', '12', '12', '11', '11', '11', '11', '10', '10', '08', '08', '08', '07', '07', '07', '07', '07', '06', '05', '04', '04', '04', '03', '03', '03', '03', '01', '01', '01', '01', '01', '01', 'absent', 'absent', 'absent', 'absent', '12', '12', '12', '11', '11', '10', '09', '08', '08', '08', '08', '06', '05', '05', '05', '05', '05', '04', '04', '03', '03', '03', '03', '02', 'absent', '12', '12', '11', '11', '10', '09', '09', '09', '08', '08', '07', '07', '06', '06', '06', '04', '04', '04', '03', '02', '02', '01', '01', 'absent', 'absent', '12', '12', '12', '12', '11', '10', '08', '08', '08', '08', '08', '07', '06', '06', '05', '05', '04', '04', '03', '03', '03', '03', '02', '02', '02', '01', '12', '12', '11', '11', '11', '11', '11', '10', '10', '10', '09', '09', '09', '09', '09', '09', '08', '08', '07', '07', '07', '07', '06', '06', '06', '06', '05', '04', '03', '03', '03', '03', '02', '01', '01', '01', '01', '01', 'absent', '12', '12', '12', '11', '11', '11', '11', '10', '10', '10', '09', '08', '08', '08', '08', '07', '07', '07', '07', '07', '07', '07', '07', '07', '06', '06', '06', '06', '06', '05', '05', '04', '04', '04', '03', '03', '03', '03', '03', '03', '02', '02', '02', '02', '02', '02', '01', 'absent', 'absent', '12', '11', '09', '09', '09', '09', '09', '09', '09', '08', '08', '08', '08', '08', '08', '07', '07', '07', '06', '05', '04', '04', '04', '04', '04', '03', '03', '02', '02', '02', '02', '01', '01', '01', '01', '01', 'absent', 'absent', '12', '12', '12', '12', '12', '11', '11', '11', '09', '09', '09', '09', '09', '08', '08', '08', '06', '04', '03', '03', '03', '02', '01', '01', 'absent', 'absent', 'absent', '12', '12', '12', '12', '12', '12', '12', '10', '10', '10', '10', '10', '09', '09', '08', '08', '08', '07', '06', '06', '06', '05', '05', '04', '04', '04', '03', '03', '02', '02', '01', '01', '01', 'absent', 'absent', '12', '12', '12', '11', '11', '10', '10', '10', '09', '09', '09', '08', '07', '07', '06', '06', '04', '04', '04', '04', '04', '04', '03', '01', 'absent', 'absent', 'absent', '12', '12', '12', '12', '11', '10', '10', '09', '09', '09', '09', '09', '09', '08', '07', '06', '06', '06', '06', '06', '04', '04', '04', '03', '03', '02', '01', '01', '01', '01', '01', '01', '01', '01', 'absent', 'absent', 'absent', 'absent', 'absent', 'absent', 'absent', 'absent', '11', '11', '11', '10', '09', '08', '08', '08', '08', '08', '07', '07', '07', '06', '06', '06', '05', '05', '05', '05', '04', '04', '03', '03', '02', '02', '01', '01', 'absent', '12', '12', '12', '12', '12', '12', '11', '11', '11', '10', '10', '10', '09', '09', '08', '08', '08', '08', '08', '07', '07', '07', '07', '07', '06', '06', '06', '05', '05', '04', '04', '04', '04', '04', '03', '03', '03', '02', '02', '02', '02', '02', '02', '01', 'absent', 'absent', 'absent', '12', '12', '12', '12', '12', '11', '11', '11', '11', '11', '10', '10', '10', '09', '09', '09', '09', '09', '09', '08', '08', '08', '08', '08', '08', '08', '08', '08', '08', '07', '07', '07', '06', '06', '05', '05', '04', '03', '03', '03', '03', '03', '03', '02', '01', '01', '01', '01', '12', '12', '12', '12', '12', '11', '11', '10', '10', '09', '09', '09', '09', '09', '09', '09', '08', '08', '08', '08', '08', '08', '08', '08', '08', '08', '07', '07', '07', '07', '07', '07', '07', '06', '06', '06', '06', '05', '05', '05', '05', '05', '04', '04', '03', '03', '02', '01', '01', '01', '01', '01', '01', '01', '01', '01', '01', 'absent', '12', '12', '12', '11', '11', '11', '11', '10', '10', '10', '10', '10', '09', '09', '09', '08', '08', '07', '07', '07', '06', '06', '06', '06', '06', '05', '05', '05', '05', '05', '04', '04', '04', '04', '04', '03', '03', '02', '02', '01', '01', '01', '01', '01', 'absent', 'absent', 'absent', 'absent', 'absent', 'absent', 'absent', '12', '12', '12', '12', '12', '11', '11', '11', '11', '10', '10', '10', '09', '09', '09', '08', '08', '08', '08', '08', '08', '08', '07', '07', '07', '07', '07', '07', '07', '06', '06', '06', '06', '06', '06', '05', '05', '05', '04', '03', '03', '03', '03', '02', '02', '02', '02', '02', '02', '02', '02', '02', '02', '02', '02', '01', '01', '01', '01', '01', '01', '01', '01', '01', '01', '01', '12', '12', '12', '12', '12', '12', '12', '12', '12', '12', '12', '11', '11', '11', '11', '11', '11', '11', '11', '11', '10', '10', '09', '09', '09', '09', '09', '08', '07', '07', '07', '07', '07', '06', '06', '05', '05', '04', '04', '04', '04', '04', '04', '03', '02', '02', '02', '02', '02', '01', '01', '01', '01', '01', '01', '01', '01', '01', '01', 'absent', 'absent', '12', '12', '12', '11', '11', '11', '11', '11', '10', '10', '10', '10', '10', '10', '09', '09', '09', '09', '08', 'absent', '08', '08', '08', '08', '08', '08', '08', '08', '08', '07', '07', '07', '07', '07', '07', '06', '06', '06', '06', '06', '06', '06', '06', '06', '06', '06', '05', '05', '05', '04', '04', '04', '04', '03', '03', '03', '02', '02', '02', '02', '02', '02', '02', '02', '01', '01', '01', '01', '01', '01', '01', '01', '01', '01', '01', '01', '01', '01', '01', '01', '01', '01', '01', 'absent', 'absent', 'absent', '12', '12', '12', '12', '12', '12', '12', '12', '11', '10', '10', '10', '10', '09', '09', '09', '09', '09', '09', '09', '08', '08', '08', '08', '08', '07', '07', '07', '07', '07', '06', '06', '06', '06', '06', '05', '05', '05', '05', '04', '04', '04', '04', '04', '04', '04', '04', '04', '04', '04', '03', '03', '03', '03', '03', '03', '03', '02', '02', '02', '02', '02', '02', '02', '01', '01', '01', '01', '01', '01', '01', '01', '01', '01', 'absent', '01', 'absent', 'absent', 'absent', '12', '12', '12', '12', '12', '11', '11', '11', '11', '11', '11', '11', '10', '10', '10', '10', '10', '10', '10', '10', '09', '09', '09', '09', '09', '08', '08', '08', '08', '08', '08', '08', '08', '08', '08', '08', '08', '07', '07', '07', '07', '06', '06', '06', '06', '06', '06', '06', '05', '05', '05', '05', '05', '04', '04', '04', '04', '04', '04', '04', '04', '04', '04', '04', '04', '04', '03', '03', '02', '02', '02', '02', '02', '02', '02', '02', '01', '01', '01', '01', '01', '01', '01', 'absent', 'absent', 'absent', 'absent', 'absent', 'absent', 'absent', 'absent', 'absent', 'absent', '12', '12', '12', '12', '12', '12', '12', '12', '12', '11', '11', '11', '11', '11', '11', '11', '11', '11', '10', '10', '10', '10', '10', '09', '09', '09', '09', '09', '09', '09', '09', '08', '08', '08', '08', '08', '08', '08', '08', '08', '08', '08', '08', '08', '08', '07', '07', '07', '07', '07', '07', '07', '07', '07', '07', '06', '06', '06', '06', '05', '05', '05', '05', '05', '04', '04', '04', '04', '04', '03', '03', '03', '02', '02', '02', '02', '02', '01', '01', '01', '01', '01', '01', '01', '01', '01', 'absent', 'absent', 'absent', 'absent', 'absent', 'absent', 'absent', '12', '12', '12', '12', '12', '11', '11', '11', '11', '10', '10', '10', '10', '09', '09', '09', '08', '08', '07', '07', '07', '07', '07', '07', '07', '07', '07', '07', '07', '06', '06', '06', '06', '06', '04', '04', '04', '04', '04', '02', '02', '01', '01', '01', '01', 'absent', 'absent', 'absent', 'absent', 'absent', 'absent', 'absent', 'absent', 'absent', '12', '12', '12', '12', '12', '12', '11', '11', '10', '10', '09', '08', '07', '07', '07', '06', '05', '05', '05', '04', '04', '04', '04', '04', '04', '02', '02', '02', '02', '01', 'absent', 'absent', 'absent', 'absent', 'absent', 'absent', 'absent', 'absent', 'absent', 'absent', 'absent', '12', '12', '12', '12', '10', '10', '10', '10', '09', '09', '09', '09', '08', '08', '08', '08', '08', '08', '08', '08', '08', '08', '08', '07', '07', '07', '07', '07', '06', '06', '06', '05', '05', '05', '03', '03', '03', '03', '02', '02', '01', '01', '01', 'absent', 'absent', 'absent', 'absent', 'absent', 'absent', 'absent', 'absent', '12', '12', '11', '11', '10', '09', '09', '09', '09', '09', '08', '08', '08', '08', '08', '08', '08', '07', '07', '07', '07', '05', '05', '04', '04', '04', '03', '03', '03', '02', '02', '02', '02', '02', '02', '01', '01', 'absent', 'absent', 'absent', 'absent', 'absent', 'absent', '12', '12', '12', '12', '11', '10', '10', '10', '10', '09', '09', '09', '08', '08', '08', '07', '07', '07', '07', '07', '07', '07', '07', '06', '06', '06', '05', '05', '04', '04', '02', '01', '01', '01', '01', 'absent', 'absent', 'absent', 'absent', 'absent', 'absent', 'absent', '12', '12', '12', '12', '10', '09', '09', '09', '09', '09', '08', '07', '07', '07', '07', '07', '07', '07', '07', '06', '04', '04', '04', '04', '03', '03', '03', '03', '02', '02', '02', '01', '01', 'absent', 'absent', 'absent', '12', '12', '12', '08', '08', '12', '12', '10', '08', '08', '07', '07', '07', '07', '07', '07', '05', '05', '05', '04', '04', '03', '01', '01', 'absent', 'absent', 'absent', 'absent', 'absent', '12', '12', '12', '12', '11', '11', '11', '11', '10', '10', '09', '09', '09', '08', '08', '08', '08', '07', '07', '06', '06', '05', '05', '03', '03', '03', '02', '02', '02', '01', '01', 'absent', '12', '12', '12', '11', '11', '11', '10', '10', '08', '08', '07', '07', '07', '07', '07', '07', '07', '06', '06', '05', '05', '04', '04', '03', '03', '03', '02', '02', '01', '01', 'absent', 'absent', 'absent', 'absent', 'absent', 'absent', 'absent', 'absent', 'absent', 'absent', 'absent', 'absent', 'absent', '12', '12', '11', '11', '08', '08', '08', '08', '08', '07', '07', '07', '07', '06', '05', '05', '04', '04', '04', '03', '01', '01', '01', '01', 'absent', 'absent', 'absent', 'absent', 'absent', 'absent', 'absent', '12', '12', '12', '12', '12', '12', '11', '09', '09', '09', '09', '09', '09', '08', '08', '08', '07', '06', '05', '04', '03', '03', '03', '02', '02', '01', 'absent', 'absent', 'absent', 'absent', '12', '12', '12', '11', '11', '11', '11', '11', '11', '10', '10', '08', '07', '07', '07', '07', '06', '06', '05', '04', '04', '04', '04', '03', '03', '02', '02', '02', '01', '01', '12', '12', '11', '10', '10', '08', '08', '07', '07', '06', '05', '04', '04', '03', '02', '02', '02', '01', '01', '01', '01', '01', '01', 'absent', 'absent', 'absent', '09', '09', '09', '09', '08', '08', '07', '07', '06', '05', '03', '02', 'absent', 'absent', 'absent', 'absent', '12', '12', '11', '11', '10', '10', '10', '10', '10', '10', '09', '09', '08', '07', '06', '05', '05', '05', '04', '03', '03', '03', '02', '02', '01', '01', '01', '01', 'absent', 'absent', 'absent', '12', '12', '11', '11', '10', '09', '08', '07', '07', '07', '06', '05', '05', '05', '05', '05', '04', '03', '03', '03', '03', '01', 'absent', 'absent', 'absent', 'absent', 'absent', 'absent', '12', '11', '11', '11', '11', '11', '11', '11', '11', '11', '11', '10', '09', '09', '09', '09', '08', '07', '07', '06', '06', '06', '06', '05', '04', '03', '03', '01', '01', '01', 'absent', 'absent', 'absent', 'absent', 'absent', 'absent', 'absent', 'absent', 'absent', 'absent', 'absent', '12', '12', '11', '11', '11', '11', '09', '08', '08', '08', '07', '07', '06', '06', '03', '03', '02', '02', '01', '01', 'absent', 'absent', 'absent', 'absent', 'absent', 'absent', 'absent', '12', '12', '12', '12', '09', '07', '07', '06', '03', '03', '02', '02', '02', '01', '01', '01', '01', '01', 'absent', 'absent', 'absent', 'absent', 'absent', 'absent', '12', '12', '11', '11', '11', '11', '11', '10', '10', '09', '08', '07', '07', '07', '05', '04', '03', '02', '02', '01', 'absent', 'absent', 'absent', 'absent', 'absent', '12', '10', '08', '08', '07', '07', '07', '07', '06', '06', '05', '05', '05', '03', '03', '01', '01', '01', '01', 'absent', 'absent', 'absent', 'absent', 'absent', '11', '11', '11', '10', '10', '10', '10', '09', '09', '09', '09', '08', '08', '08', '07', '07', '06', '06', '06', '05', '05', '03', '03', '02', '02', '02', '02', '02', '01', 'absent', '12', '12', '12', '12', '12', '11', '09', '09', '08', '08', '08', '08', '08', '07', '07', '07', '07', '06', '06', '04', '04', '03', '03', '03', '03', '02', '02', '02', '01', '01', '01', 'absent', '12', '11', '09', '09', '08', '08', '08', '07', '07', '07', '07', '06', '06', '06', '06', '05', '05', '04', '04', '04', '03', '03', '03', '03', '03', '03', '03', '02', '01', '01', '01', '01', '12', '12', '12', '12', '10', '10', '10', '09', '08', '08', '08', '08', '08', '07', '06', '06', '04', '04', '04', '04', '03', '03', '02', '02', '01', '01', '01', '11', '11', '10', '09', '08', '08', '08', '07', '07', '06', '06', '06', '05', '05', '06', '05', '04', '02', '02', '02', '02', '01', '12', '12', '11', '10', '10', '09', '08', '08', '08', '08', '08', '07', '07', '06', '06', '06', '05', '05', '04', '04', '02', '02', '02', '01', '01', '01', 'absent', '11', '09', '09', '09', '09', '08', '08', '08', '08', '08', '08', '08', '08', '07', '07', '06', '06', '06', '05', '04', '03', '03', '03', '02', '01', '01', '01', 'absent', 'absent', '12', '12', '12', '12', '11', '09', '09', '08', '08', '08', '07', '07', '06', '05', '05', '05', '04', '03', '02', '02', '02', '01', '01', '01', 'absent', 'absent', '12', '12', '12', '12', '12', '12', '11', '11', '10', '10', '09', '08', '07', '07', '06', '05', '04', '04', '04', '04', '04', '03', '03', '03', '03', '02', '02', '02', '01', '01', '01', '01', '01', 'absent', 'absent', 'absent', 'absent', 'absent', '12', '11', '11', '11', '11', '09', '08', '07', '07', '06', '05', '04', '04', '04', '04', '04', '03', '02', '02', '02', '01', '01', '01', '01', '01', 'absent', '12', '11', '10', '10', '10', '07', '05', '05', '04', '04', '03', '02', '02', '02', '01', '01', '01', 'absent', 'absent', '12', '11', '10', '10', '10', '09', '08', '07', '07', '07', '07', '05', '04', '04', '03', '01', '01', 'absent', 'absent', 'absent', 'absent', '11', '11', '11', '09', '09', '08', '06', '05', '03', '03', '03', '01', '01', 'absent', '11', '11', '11', '10', '10', '07', '07', '07', '06', '04', '04', '04', '03', '03', '02', '02', '01', '01', '01', '12', '12', '11', '11', '10', '10', '10', '08', '07', '06', '06', '05', '05', '03', '02', '01', '01', '01', 'absent', 'absent', 'absent', 'absent', '12', '12', '09', '10', '09', '09', '09', '07', '06', '05', '05', '04', '03', '03', '03', '02', '02', '01', '01', '01', '01', '12', '11', '11', '11', '10', '10', '09', '08', '08', '07', '01', '11', '08', '11', '11', '07', '07', '06', '06', '03', '01', '02', '01', '01', 'absent', 'absent', 'absent', '12', '12', '11', '09', '08', '05', '04', '03', '01', '01', '01', '01', 'absent', 'absent', '11', '11', '09', '03', 'absent', '12', '11', '09', '09', '09', '07', '07', '06', '05', '05', 'absent', '12', '12', '12', '11', '11', '11', '10', '08', '07', '07', '07', '07', '07', '07', '07', '07', '07', '07', '07', '06', '06', '06', '04', '04', '03', '12', '11', '11', '08', '07', '07', '05', '03', '02', '01', '01', 'absent', '12', '10', '09', '09', '07', '07', '07', '06', '06', '05', '05', '03', '03', '03', '02', '02', '01', 'absent', '12', '12', '11', '11', '09', '09', '08', '08', '08', '07', '07', '05', '05', '03', '01', 'absent', 'absent', 'absent', '11', '08', '07', '07', '05', '03', '02', '02', '02', '01', '01', '01', '01', 'absent', '11', '10', '10', '09', '09', '09', '07', '07', '05', '05', '05', '04', '03', '01', 'absent', 'absent', '12', '12', '11', '11', '06', '06', '05', '03', '03', '03', '02', '01', 'absent', 'absent', '12', '12', '12', '11', '09', '08', '07', '07', '06', '06', '06', '04', '04', '04', '03', '01', '01', 'absent', '12', '12', '09', '09', '08', '07', '07', '06', '06', '06', '05', '05', '01', '12', '10', '10', '10', '10', '10', '10', '09', '09', '08', '08', '08', '07', '07', '07', '04', '03', '03', '02', '02', '02', 'absent', 'absent', '11', '10', '10', '10', '10', '09', '09', '09', '09', '08', '08', '07', '07', '04', '04', '04', '04', '04', '02', '01', '01', '12', '12', '09', 'absent', '08', '08', '08', '07', '07', '07', '07', '05', '04', '03', '03', '02', '01', 'absent', '11', '10', '09', '08', '07', '07', '07', '02', '02', '01', 'absent', 'absent', 'absent', 'absent', '10', '09', '07', '06', '05', '03', '03', '01', 'absent', 'absent', '12', '11', '11', '08', '08', '08', '07', '07', '06', '06', '04', '02', '01', '01', '01', '12', '10', '09', '07', '07', '06', '06', '01', 'absent', '12', '11', '10', '09', '09', '09', '08', '07', '07', '07', '01', 'absent', 'absent', '12', '11', '10', '10', '10', '09', '08', '08', '08', '08', '08', '07', '06', '06', '05', '05', '01', 'absent', 'absent', 'absent', '12', '10', '09', '09', '09', '08', '07', '07', '07', '07', '06', '04', '01', 'absent', 'absent', 'absent', 'absent', 'absent', 'absent', 'absent', 'absent', '12', '10', '10', '09', '09', '07', '06', '03', '03', 'absent', 'absent', '12', '12', '12', '11', '11', '09', '07', '06', '01', 'absent', 'absent', '12', '11', '11', '09', '09', '09', '08', '08', '07', '06', '06', '05', '05', '04', '04', '03', '03', '02', '02', 'absent', '12', '11', '10', '09', '09', '09', '08', '08', '07', '06', '06', '06', '06', '04', '04', '10', '10', '07', '06', '06', '05', '05', '04', '04', '04', '01', '01', 'absent', '12', '11', '11', '09', '06', '06', '05', '04', '03', '03', 'absent', '12', '12', '11', '09', '08', '08', '06', '03', '01', '12', '12', '10', '08', '08', '08', '06', '06', '06', '05', '03', '02', 'absent', 'absent', 'absent', 'absent', 'absent', '11', '11', '11', '10', '07', '07', '07', '01', '01', '12', '12', '12', '10', '08', '08', '07', '07', '07', '06', '06', '02', '01', '02', 'absent', '12', '12', '10', '10', '09', '09', '07', '03', '02', '02', '01', '01', 'absent', '08', '08', '08', '06', '06', '05', '04', '04', '03', '03', '02', '01', '01', '01', 'absent', '11', '11', '08', '07', '07', '07', '04', '04', '03', '12', '12', '08', '08', '04', '01', '01', '12', '12', '10', '10', '09', '07', '02', '02', '01', 'absent', 'absent', 'absent', 'absent', '12', '11', '11', '09', '05', '05', '04', '02', '01', '01', 'absent', 'absent', '11', '10', '09', '08', '08', '06', '06', 'absent', 'absent', '11', '10', '08', '07', '05', '05', '05', '05', '05', '01', '01', 'absent', 'absent', 'absent', 'absent', '12', '11', '09', '08', '07', '03', '03', 'absent', '11', '10', '10', '09', '09', '09', '08', '08', '06', '03', '02', '02', 'absent', '12', '12', '12', '09', '08', '04', '04', '03', '03', '02', '01', '01', '01', 'absent', '10', '09', '06', '05', '02', 'absent', 'absent', 'absent', 'absent', '11', '08', '03', '01', '11', 'absent', '11', '07', '07', '07', '06', '06', '06', '06', '04', '02', '01', '07', '06', '01', 'absent', '11', '11', '10', '08', '04', '02', '01', 'absent', '12', '08', '08', '05', '05', '03', 'absent', 'absent', 'absent', '07', '06', '06', '05', '05', '05', '01', 'absent', '04', '04', '09', '05', '01', '01', 'absent', 'absent', '08', '08', '06', '01', 'absent', '07', '04', '09', '07', '03', 'absent', '10', '09', '09', '08', '08', '07', '05', '04', '04', '01', '01', '01', 'absent', 'absent', '12', '09', '07', '04', '03', '02', '01', 'absent', 'absent', 'absent', 'absent', '12', '12', '12', '08', '08', '07', '07', '07', '06', '05', 'absent', 'absent', '11', '09', '03', '02', '01', '12', '10', '08', '04', '04', '03', '03', '03', '08', '08', '04', '03', '01', '01', '05', '11', '11', '06', '02', '11', '09', '07', '04', '03', '02', 'absent', '11', '09', '07', 'absent', 'absent', 'absent', 'absent', 'absent', '12', '10', '10', '08', '08', '07', '05', '02', '01', 'absent', '06', '03', 'absent', '10', 'absent', '12', '12', '10', '09', '06', '06', '01', '08', '07', '07', '11', '09', '07', '07', '03', '02', 'absent', 'absent', 'absent', '12', '09', '08', '12', '11', '09', '09', '07', 'absent', '07', '07', '05', 'absent', '07', '07', 'absent', 'absent', '03', '12', '09', '07', '04', '02', '11', '04', 'absent', 'absent', '09', '07', '01', 'absent', '08', '07', 'absent', '02', '01', '07', '06', '01', '08', '01', '07', '07', '04', '04', '07', '06', 'absent', '09', 'absent', '06', '06', 'absent', '12', '11', '08', '08', '05', 'absent', 'absent', '12', '04', '07', '05', '06', '06', '05', '02', '09', '10', '07', '03', '09', '12', '06', '02', '01', '04', '09', '02', '05', '03', '04', '12', 'absent', '05', '09', 'absent', '05', '07', '08', '09', '12', '03', '08', 'absent', 'absent', 'absent', '07', 'absent', 'absent', 'absent', '10', '07', 'absent', 'absent', 'absent', '12', '04', 'absent', 'absent', '06', '03', 'absent', 'absent', 'absent', 'absent', 'absent', 'absent', 'absent', 'absent', 'absent', '01', 'absent', 'absent', 'absent', 'absent', 'absent', 'absent', 'absent', 'absent', 'absent', 'absent', 'absent', 'absent', 'absent', 'absent', 'absent', 'absent', 'absent', 'absent', 'absent', 'absent', 'absent', 'absent', 'absent', 'absent', 'absent', 'absent', 'absent', 'absent', 'absent', 'absent', 'absent', 'absent', 'absent', 'absent', 'absent', 'absent', 'absent', 'absent', 'absent', 'absent', 'absent', 'absent', 'absent', 'absent', 'absent', 'absent', 'absent', 'absent', 'absent', 'absent', 'absent', 'absent', 'absent', 'absent', 'absent', 'absent', 'absent', 'absent', 'absent', 'absent', 'absent', 'absent', 'absent', 'absent', 'absent', 'absent', 'absent', 'absent', 'absent', 'absent', 'absent', 'absent', 'absent', 'absent', 'absent', 'absent', 'absent', 'absent', 'absent', 'absent', 'absent', 'absent', 'absent', 'absent', 'absent', 'absent', 'absent', 'absent', 'absent', 'absent', 'absent', 'absent', 'absent', 'absent', 'absent', 'absent', 'absent', 'absent', 'absent', 'absent', 'absent', 'absent', 'absent', 'absent', 'absent', 'absent', 'absent', 'absent', 'absent', 'absent', 'absent', 'absent', 'absent', 'absent', 'absent', 'absent', 'absent', 'absent', 'absent', 'absent', 'absent', 'absent', 'absent', 'absent', 'absent', 'absent', 'absent', 'absent', 'absent', 'absent', 'absent', 'absent', 'absent']\n"
     ]
    }
   ],
   "source": [
    "print(list_months)"
   ]
  },
  {
   "cell_type": "code",
   "execution_count": 51,
   "id": "c0060695",
   "metadata": {},
   "outputs": [],
   "source": [
    "sh_attacks6[\"Month\"] = list_months"
   ]
  },
  {
   "cell_type": "code",
   "execution_count": 54,
   "id": "312dbbf1",
   "metadata": {},
   "outputs": [
    {
     "data": {
      "text/html": [
       "<div>\n",
       "<style scoped>\n",
       "    .dataframe tbody tr th:only-of-type {\n",
       "        vertical-align: middle;\n",
       "    }\n",
       "\n",
       "    .dataframe tbody tr th {\n",
       "        vertical-align: top;\n",
       "    }\n",
       "\n",
       "    .dataframe thead th {\n",
       "        text-align: right;\n",
       "    }\n",
       "</style>\n",
       "<table border=\"1\" class=\"dataframe\">\n",
       "  <thead>\n",
       "    <tr style=\"text-align: right;\">\n",
       "      <th></th>\n",
       "      <th>Case_Number</th>\n",
       "      <th>Year</th>\n",
       "      <th>Type</th>\n",
       "      <th>Country</th>\n",
       "      <th>Area</th>\n",
       "      <th>Activity</th>\n",
       "      <th>Sex_</th>\n",
       "      <th>Age</th>\n",
       "      <th>Injury</th>\n",
       "      <th>Fatal_(Y/N)</th>\n",
       "      <th>Time</th>\n",
       "      <th>Species_</th>\n",
       "      <th>Investigator_or_Source</th>\n",
       "      <th>Month</th>\n",
       "    </tr>\n",
       "  </thead>\n",
       "  <tbody>\n",
       "    <tr>\n",
       "      <th>6024</th>\n",
       "      <td>1851.06.16.R</td>\n",
       "      <td>1851.0</td>\n",
       "      <td>Unprovoked</td>\n",
       "      <td>MEXICO</td>\n",
       "      <td>Oaxaca</td>\n",
       "      <td>Bathing</td>\n",
       "      <td>M</td>\n",
       "      <td>absent</td>\n",
       "      <td>FATAL</td>\n",
       "      <td>Y</td>\n",
       "      <td>absent</td>\n",
       "      <td>absent</td>\n",
       "      <td>Daily Free Democrat (Milwaukee, WI) 6/16/1851</td>\n",
       "      <td>06</td>\n",
       "    </tr>\n",
       "    <tr>\n",
       "      <th>884</th>\n",
       "      <td>2011.08.16.c</td>\n",
       "      <td>2011.0</td>\n",
       "      <td>Unprovoked</td>\n",
       "      <td>FRENCH POLYNESIA</td>\n",
       "      <td>Society Islands</td>\n",
       "      <td>Surfing</td>\n",
       "      <td>M</td>\n",
       "      <td>32</td>\n",
       "      <td>No injury, board bitten</td>\n",
       "      <td>N</td>\n",
       "      <td>15h30</td>\n",
       "      <td>Grey reef shark</td>\n",
       "      <td>Sharksurvivors.com</td>\n",
       "      <td>08</td>\n",
       "    </tr>\n",
       "  </tbody>\n",
       "</table>\n",
       "</div>"
      ],
      "text/plain": [
       "       Case_Number    Year        Type           Country             Area  \\\n",
       "6024  1851.06.16.R  1851.0  Unprovoked            MEXICO           Oaxaca   \n",
       "884   2011.08.16.c  2011.0  Unprovoked  FRENCH POLYNESIA  Society Islands   \n",
       "\n",
       "     Activity Sex_     Age                   Injury Fatal_(Y/N)    Time  \\\n",
       "6024  Bathing    M  absent                    FATAL           Y  absent   \n",
       "884   Surfing    M      32  No injury, board bitten           N   15h30   \n",
       "\n",
       "              Species_                         Investigator_or_Source Month  \n",
       "6024            absent  Daily Free Democrat (Milwaukee, WI) 6/16/1851    06  \n",
       "884   Grey reef shark                              Sharksurvivors.com    08  "
      ]
     },
     "execution_count": 54,
     "metadata": {},
     "output_type": "execute_result"
    }
   ],
   "source": [
    "sh_attacks6.sample(2)"
   ]
  },
  {
   "cell_type": "code",
   "execution_count": 55,
   "id": "7432b32b",
   "metadata": {},
   "outputs": [
    {
     "data": {
      "text/plain": [
       "array(['Boating', 'Unprovoked', 'Invalid', 'Provoked', 'Questionable',\n",
       "       'Sea Disaster', 'absent', 'Boat', 'Boatomg'], dtype=object)"
      ]
     },
     "execution_count": 55,
     "metadata": {},
     "output_type": "execute_result"
    }
   ],
   "source": [
    "sh_attacks6.Type.unique()"
   ]
  },
  {
   "cell_type": "code",
   "execution_count": null,
   "id": "23d15ac3",
   "metadata": {},
   "outputs": [],
   "source": []
  }
 ],
 "metadata": {
  "kernelspec": {
   "display_name": "ironhack",
   "language": "python",
   "name": "ironhack"
  },
  "language_info": {
   "codemirror_mode": {
    "name": "ipython",
    "version": 3
   },
   "file_extension": ".py",
   "mimetype": "text/x-python",
   "name": "python",
   "nbconvert_exporter": "python",
   "pygments_lexer": "ipython3",
   "version": "3.8.11"
  }
 },
 "nbformat": 4,
 "nbformat_minor": 5
}
