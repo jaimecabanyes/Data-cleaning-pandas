{
 "cells": [
  {
   "cell_type": "markdown",
   "id": "1d70b9c3",
   "metadata": {},
   "source": [
    "# IMPORTAR LIBRERIAS"
   ]
  },
  {
   "cell_type": "code",
   "execution_count": 1,
   "id": "d019be4d",
   "metadata": {},
   "outputs": [],
   "source": [
    "import pandas as pd\n",
    "import matplotlib.pyplot as plt\n",
    "import seaborn as sns\n",
    "import numpy as np\n"
   ]
  },
  {
   "cell_type": "markdown",
   "id": "2edf70e0",
   "metadata": {},
   "source": [
    "# DESCARGAR EL DATA"
   ]
  },
  {
   "cell_type": "code",
   "execution_count": 2,
   "id": "4453d057",
   "metadata": {},
   "outputs": [
    {
     "data": {
      "text/plain": [
       "'Descargar los datos con los cuales vamos a trabajar '"
      ]
     },
     "execution_count": 2,
     "metadata": {},
     "output_type": "execute_result"
    }
   ],
   "source": [
    "sh_attacks = pd.read_csv('attacks.csv',encoding = 'ISO-8859-1')\n",
    "\"\"\"Descargar los datos con los cuales vamos a trabajar \"\"\""
   ]
  },
  {
   "cell_type": "markdown",
   "id": "2abdb39d",
   "metadata": {},
   "source": [
    "# MANIPULAR EL DATASET"
   ]
  },
  {
   "cell_type": "code",
   "execution_count": 3,
   "id": "e60ccf07",
   "metadata": {},
   "outputs": [
    {
     "data": {
      "text/html": [
       "<div>\n",
       "<style scoped>\n",
       "    .dataframe tbody tr th:only-of-type {\n",
       "        vertical-align: middle;\n",
       "    }\n",
       "\n",
       "    .dataframe tbody tr th {\n",
       "        vertical-align: top;\n",
       "    }\n",
       "\n",
       "    .dataframe thead th {\n",
       "        text-align: right;\n",
       "    }\n",
       "</style>\n",
       "<table border=\"1\" class=\"dataframe\">\n",
       "  <thead>\n",
       "    <tr style=\"text-align: right;\">\n",
       "      <th></th>\n",
       "      <th>Case Number</th>\n",
       "      <th>Date</th>\n",
       "      <th>Year</th>\n",
       "      <th>Type</th>\n",
       "      <th>Country</th>\n",
       "      <th>Area</th>\n",
       "      <th>Location</th>\n",
       "      <th>Activity</th>\n",
       "      <th>Name</th>\n",
       "      <th>Sex</th>\n",
       "      <th>...</th>\n",
       "      <th>Species</th>\n",
       "      <th>Investigator or Source</th>\n",
       "      <th>pdf</th>\n",
       "      <th>href formula</th>\n",
       "      <th>href</th>\n",
       "      <th>Case Number.1</th>\n",
       "      <th>Case Number.2</th>\n",
       "      <th>original order</th>\n",
       "      <th>Unnamed: 22</th>\n",
       "      <th>Unnamed: 23</th>\n",
       "    </tr>\n",
       "  </thead>\n",
       "  <tbody>\n",
       "    <tr>\n",
       "      <th>0</th>\n",
       "      <td>2018.06.25</td>\n",
       "      <td>25-Jun-2018</td>\n",
       "      <td>2018.0</td>\n",
       "      <td>Boating</td>\n",
       "      <td>USA</td>\n",
       "      <td>California</td>\n",
       "      <td>Oceanside, San Diego County</td>\n",
       "      <td>Paddling</td>\n",
       "      <td>Julie Wolfe</td>\n",
       "      <td>F</td>\n",
       "      <td>...</td>\n",
       "      <td>White shark</td>\n",
       "      <td>R. Collier, GSAF</td>\n",
       "      <td>2018.06.25-Wolfe.pdf</td>\n",
       "      <td>http://sharkattackfile.net/spreadsheets/pdf_di...</td>\n",
       "      <td>http://sharkattackfile.net/spreadsheets/pdf_di...</td>\n",
       "      <td>2018.06.25</td>\n",
       "      <td>2018.06.25</td>\n",
       "      <td>6303.0</td>\n",
       "      <td>NaN</td>\n",
       "      <td>NaN</td>\n",
       "    </tr>\n",
       "  </tbody>\n",
       "</table>\n",
       "<p>1 rows × 24 columns</p>\n",
       "</div>"
      ],
      "text/plain": [
       "  Case Number         Date    Year     Type Country        Area  \\\n",
       "0  2018.06.25  25-Jun-2018  2018.0  Boating     USA  California   \n",
       "\n",
       "                      Location  Activity         Name Sex   ...     Species   \\\n",
       "0  Oceanside, San Diego County  Paddling  Julie Wolfe    F  ...  White shark   \n",
       "\n",
       "  Investigator or Source                   pdf  \\\n",
       "0       R. Collier, GSAF  2018.06.25-Wolfe.pdf   \n",
       "\n",
       "                                        href formula  \\\n",
       "0  http://sharkattackfile.net/spreadsheets/pdf_di...   \n",
       "\n",
       "                                                href Case Number.1  \\\n",
       "0  http://sharkattackfile.net/spreadsheets/pdf_di...    2018.06.25   \n",
       "\n",
       "  Case Number.2 original order Unnamed: 22 Unnamed: 23  \n",
       "0    2018.06.25         6303.0         NaN         NaN  \n",
       "\n",
       "[1 rows x 24 columns]"
      ]
     },
     "execution_count": 3,
     "metadata": {},
     "output_type": "execute_result"
    }
   ],
   "source": [
    "sh_attacks.head(1)\n",
    "#Ver lo que analiza cada columna"
   ]
  },
  {
   "cell_type": "code",
   "execution_count": 4,
   "id": "c361f523",
   "metadata": {},
   "outputs": [],
   "source": [
    "columnas = list(sh_attacks.columns) \n",
    "#Hacer una lista con todas las columnas del dataframe"
   ]
  },
  {
   "cell_type": "code",
   "execution_count": 5,
   "id": "6f256e39",
   "metadata": {},
   "outputs": [
    {
     "name": "stdout",
     "output_type": "stream",
     "text": [
      "['Case Number', 'Date', 'Year', 'Type', 'Country', 'Area', 'Location', 'Activity', 'Name', 'Sex ', 'Age', 'Injury', 'Fatal (Y/N)', 'Time', 'Species ', 'Investigator or Source', 'pdf', 'href formula', 'href', 'Case Number.1', 'Case Number.2', 'original order', 'Unnamed: 22', 'Unnamed: 23']\n"
     ]
    }
   ],
   "source": [
    "print(columnas)"
   ]
  },
  {
   "cell_type": "code",
   "execution_count": 6,
   "id": "352445c3",
   "metadata": {},
   "outputs": [],
   "source": [
    "sh_attacks_copia = sh_attacks.copy()\n",
    "#Hacer una copia del sharks attack dataframe\n"
   ]
  },
  {
   "cell_type": "code",
   "execution_count": 7,
   "id": "9212dc60",
   "metadata": {},
   "outputs": [
    {
     "data": {
      "text/html": [
       "<div>\n",
       "<style scoped>\n",
       "    .dataframe tbody tr th:only-of-type {\n",
       "        vertical-align: middle;\n",
       "    }\n",
       "\n",
       "    .dataframe tbody tr th {\n",
       "        vertical-align: top;\n",
       "    }\n",
       "\n",
       "    .dataframe thead th {\n",
       "        text-align: right;\n",
       "    }\n",
       "</style>\n",
       "<table border=\"1\" class=\"dataframe\">\n",
       "  <thead>\n",
       "    <tr style=\"text-align: right;\">\n",
       "      <th></th>\n",
       "      <th>Case Number</th>\n",
       "      <th>Date</th>\n",
       "      <th>Year</th>\n",
       "      <th>Type</th>\n",
       "      <th>Country</th>\n",
       "      <th>Area</th>\n",
       "      <th>Location</th>\n",
       "      <th>Activity</th>\n",
       "      <th>Name</th>\n",
       "      <th>Sex</th>\n",
       "      <th>...</th>\n",
       "      <th>Species</th>\n",
       "      <th>Investigator or Source</th>\n",
       "      <th>pdf</th>\n",
       "      <th>href formula</th>\n",
       "      <th>href</th>\n",
       "      <th>Case Number.1</th>\n",
       "      <th>Case Number.2</th>\n",
       "      <th>original order</th>\n",
       "      <th>Unnamed: 22</th>\n",
       "      <th>Unnamed: 23</th>\n",
       "    </tr>\n",
       "  </thead>\n",
       "  <tbody>\n",
       "    <tr>\n",
       "      <th>0</th>\n",
       "      <td>2018.06.25</td>\n",
       "      <td>25-Jun-2018</td>\n",
       "      <td>2018.0</td>\n",
       "      <td>Boating</td>\n",
       "      <td>USA</td>\n",
       "      <td>California</td>\n",
       "      <td>Oceanside, San Diego County</td>\n",
       "      <td>Paddling</td>\n",
       "      <td>Julie Wolfe</td>\n",
       "      <td>F</td>\n",
       "      <td>...</td>\n",
       "      <td>White shark</td>\n",
       "      <td>R. Collier, GSAF</td>\n",
       "      <td>2018.06.25-Wolfe.pdf</td>\n",
       "      <td>http://sharkattackfile.net/spreadsheets/pdf_di...</td>\n",
       "      <td>http://sharkattackfile.net/spreadsheets/pdf_di...</td>\n",
       "      <td>2018.06.25</td>\n",
       "      <td>2018.06.25</td>\n",
       "      <td>6303.0</td>\n",
       "      <td>NaN</td>\n",
       "      <td>NaN</td>\n",
       "    </tr>\n",
       "  </tbody>\n",
       "</table>\n",
       "<p>1 rows × 24 columns</p>\n",
       "</div>"
      ],
      "text/plain": [
       "  Case Number         Date    Year     Type Country        Area  \\\n",
       "0  2018.06.25  25-Jun-2018  2018.0  Boating     USA  California   \n",
       "\n",
       "                      Location  Activity         Name Sex   ...     Species   \\\n",
       "0  Oceanside, San Diego County  Paddling  Julie Wolfe    F  ...  White shark   \n",
       "\n",
       "  Investigator or Source                   pdf  \\\n",
       "0       R. Collier, GSAF  2018.06.25-Wolfe.pdf   \n",
       "\n",
       "                                        href formula  \\\n",
       "0  http://sharkattackfile.net/spreadsheets/pdf_di...   \n",
       "\n",
       "                                                href Case Number.1  \\\n",
       "0  http://sharkattackfile.net/spreadsheets/pdf_di...    2018.06.25   \n",
       "\n",
       "  Case Number.2 original order Unnamed: 22 Unnamed: 23  \n",
       "0    2018.06.25         6303.0         NaN         NaN  \n",
       "\n",
       "[1 rows x 24 columns]"
      ]
     },
     "execution_count": 7,
     "metadata": {},
     "output_type": "execute_result"
    }
   ],
   "source": [
    "sh_attacks_copia.head(1)"
   ]
  },
  {
   "cell_type": "code",
   "execution_count": 8,
   "id": "6d857b38",
   "metadata": {},
   "outputs": [],
   "source": [
    "columnas_nuevas = {columna: columna.replace(\" \", \"_\") for columna in columnas}\n",
    "#Reemplazar los espacios por barrabajas en las columnas para un analisis mas detallado"
   ]
  },
  {
   "cell_type": "code",
   "execution_count": 9,
   "id": "52b9af84",
   "metadata": {},
   "outputs": [],
   "source": [
    "sh_attacks_copia.rename(columns=columnas_nuevas, inplace=True)\n",
    "#Reenombrar los nombres de las columnas del data set."
   ]
  },
  {
   "cell_type": "code",
   "execution_count": 10,
   "id": "58aa95ee",
   "metadata": {
    "scrolled": true
   },
   "outputs": [
    {
     "data": {
      "text/html": [
       "<div>\n",
       "<style scoped>\n",
       "    .dataframe tbody tr th:only-of-type {\n",
       "        vertical-align: middle;\n",
       "    }\n",
       "\n",
       "    .dataframe tbody tr th {\n",
       "        vertical-align: top;\n",
       "    }\n",
       "\n",
       "    .dataframe thead th {\n",
       "        text-align: right;\n",
       "    }\n",
       "</style>\n",
       "<table border=\"1\" class=\"dataframe\">\n",
       "  <thead>\n",
       "    <tr style=\"text-align: right;\">\n",
       "      <th></th>\n",
       "      <th>Case_Number</th>\n",
       "      <th>Date</th>\n",
       "      <th>Year</th>\n",
       "      <th>Type</th>\n",
       "      <th>Country</th>\n",
       "      <th>Area</th>\n",
       "      <th>Location</th>\n",
       "      <th>Activity</th>\n",
       "      <th>Name</th>\n",
       "      <th>Sex_</th>\n",
       "      <th>...</th>\n",
       "      <th>Species_</th>\n",
       "      <th>Investigator_or_Source</th>\n",
       "      <th>pdf</th>\n",
       "      <th>href_formula</th>\n",
       "      <th>href</th>\n",
       "      <th>Case_Number.1</th>\n",
       "      <th>Case_Number.2</th>\n",
       "      <th>original_order</th>\n",
       "      <th>Unnamed:_22</th>\n",
       "      <th>Unnamed:_23</th>\n",
       "    </tr>\n",
       "  </thead>\n",
       "  <tbody>\n",
       "    <tr>\n",
       "      <th>0</th>\n",
       "      <td>2018.06.25</td>\n",
       "      <td>25-Jun-2018</td>\n",
       "      <td>2018.0</td>\n",
       "      <td>Boating</td>\n",
       "      <td>USA</td>\n",
       "      <td>California</td>\n",
       "      <td>Oceanside, San Diego County</td>\n",
       "      <td>Paddling</td>\n",
       "      <td>Julie Wolfe</td>\n",
       "      <td>F</td>\n",
       "      <td>...</td>\n",
       "      <td>White shark</td>\n",
       "      <td>R. Collier, GSAF</td>\n",
       "      <td>2018.06.25-Wolfe.pdf</td>\n",
       "      <td>http://sharkattackfile.net/spreadsheets/pdf_di...</td>\n",
       "      <td>http://sharkattackfile.net/spreadsheets/pdf_di...</td>\n",
       "      <td>2018.06.25</td>\n",
       "      <td>2018.06.25</td>\n",
       "      <td>6303.0</td>\n",
       "      <td>NaN</td>\n",
       "      <td>NaN</td>\n",
       "    </tr>\n",
       "  </tbody>\n",
       "</table>\n",
       "<p>1 rows × 24 columns</p>\n",
       "</div>"
      ],
      "text/plain": [
       "  Case_Number         Date    Year     Type Country        Area  \\\n",
       "0  2018.06.25  25-Jun-2018  2018.0  Boating     USA  California   \n",
       "\n",
       "                      Location  Activity         Name Sex_  ...     Species_  \\\n",
       "0  Oceanside, San Diego County  Paddling  Julie Wolfe    F  ...  White shark   \n",
       "\n",
       "  Investigator_or_Source                   pdf  \\\n",
       "0       R. Collier, GSAF  2018.06.25-Wolfe.pdf   \n",
       "\n",
       "                                        href_formula  \\\n",
       "0  http://sharkattackfile.net/spreadsheets/pdf_di...   \n",
       "\n",
       "                                                href Case_Number.1  \\\n",
       "0  http://sharkattackfile.net/spreadsheets/pdf_di...    2018.06.25   \n",
       "\n",
       "  Case_Number.2 original_order Unnamed:_22 Unnamed:_23  \n",
       "0    2018.06.25         6303.0         NaN         NaN  \n",
       "\n",
       "[1 rows x 24 columns]"
      ]
     },
     "execution_count": 10,
     "metadata": {},
     "output_type": "execute_result"
    }
   ],
   "source": [
    "sh_attacks_copia.head(1)"
   ]
  },
  {
   "cell_type": "code",
   "execution_count": 11,
   "id": "c99a26ef",
   "metadata": {},
   "outputs": [],
   "source": [
    "sh_attacks2 = sh_attacks_copia[[\"Case_Number\",\"Year\", \"Type\", \"Country\",\"Area\", \"Activity\", \"Sex_\", \"Age\", \"Injury\", \"Fatal_(Y/N)\", \"Time\", \"Species_\", \"Investigator_or_Source\"]]"
   ]
  },
  {
   "cell_type": "code",
   "execution_count": 12,
   "id": "55175650",
   "metadata": {},
   "outputs": [
    {
     "data": {
      "text/plain": [
       "(25723, 13)"
      ]
     },
     "execution_count": 12,
     "metadata": {},
     "output_type": "execute_result"
    }
   ],
   "source": [
    "sh_attacks2.shape"
   ]
  },
  {
   "cell_type": "markdown",
   "id": "2a074c10",
   "metadata": {},
   "source": [
    "# SELECCIONAR LOS DATOS CON LOS QUE TRABAJAR"
   ]
  },
  {
   "cell_type": "code",
   "execution_count": 13,
   "id": "5784a1b1",
   "metadata": {},
   "outputs": [],
   "source": [
    "sh_attacks3 = sh_attacks2.dropna(how=\"all\")\n",
    "#Quitar las filas del data set que solo tienen NaN en toda la fila"
   ]
  },
  {
   "cell_type": "code",
   "execution_count": 14,
   "id": "9dd050cc",
   "metadata": {},
   "outputs": [
    {
     "data": {
      "text/plain": [
       "(8703, 13)"
      ]
     },
     "execution_count": 14,
     "metadata": {},
     "output_type": "execute_result"
    }
   ],
   "source": [
    "sh_attacks3.shape\n",
    "#Se reduce el número de filas de 25,723 a 8,703"
   ]
  },
  {
   "cell_type": "code",
   "execution_count": 15,
   "id": "195d80bf",
   "metadata": {},
   "outputs": [
    {
     "data": {
      "text/html": [
       "<div>\n",
       "<style scoped>\n",
       "    .dataframe tbody tr th:only-of-type {\n",
       "        vertical-align: middle;\n",
       "    }\n",
       "\n",
       "    .dataframe tbody tr th {\n",
       "        vertical-align: top;\n",
       "    }\n",
       "\n",
       "    .dataframe thead th {\n",
       "        text-align: right;\n",
       "    }\n",
       "</style>\n",
       "<table border=\"1\" class=\"dataframe\">\n",
       "  <thead>\n",
       "    <tr style=\"text-align: right;\">\n",
       "      <th></th>\n",
       "      <th>Case_Number</th>\n",
       "      <th>Year</th>\n",
       "      <th>Type</th>\n",
       "      <th>Country</th>\n",
       "      <th>Area</th>\n",
       "      <th>Activity</th>\n",
       "      <th>Sex_</th>\n",
       "      <th>Age</th>\n",
       "      <th>Injury</th>\n",
       "      <th>Fatal_(Y/N)</th>\n",
       "      <th>Time</th>\n",
       "      <th>Species_</th>\n",
       "      <th>Investigator_or_Source</th>\n",
       "    </tr>\n",
       "  </thead>\n",
       "  <tbody>\n",
       "    <tr>\n",
       "      <th>6228</th>\n",
       "      <td>ND.0085</td>\n",
       "      <td>0.0</td>\n",
       "      <td>Unprovoked</td>\n",
       "      <td>RED SEA?</td>\n",
       "      <td>NaN</td>\n",
       "      <td>Free diving</td>\n",
       "      <td>F</td>\n",
       "      <td>NaN</td>\n",
       "      <td>Shoulder scratched, swim fin bitten</td>\n",
       "      <td>N</td>\n",
       "      <td>Morning</td>\n",
       "      <td>NaN</td>\n",
       "      <td>Captain T. Falcon-Barker, pp. 91-93</td>\n",
       "    </tr>\n",
       "    <tr>\n",
       "      <th>3392</th>\n",
       "      <td>1970.06.13.a</td>\n",
       "      <td>1970.0</td>\n",
       "      <td>Unprovoked</td>\n",
       "      <td>GRENADA</td>\n",
       "      <td>St. Andrew Parish</td>\n",
       "      <td>Wading</td>\n",
       "      <td>M</td>\n",
       "      <td>18</td>\n",
       "      <td>FATAL, body not recovered</td>\n",
       "      <td>Y</td>\n",
       "      <td>14h00</td>\n",
       "      <td>NaN</td>\n",
       "      <td>E. Pace, FSAF</td>\n",
       "    </tr>\n",
       "  </tbody>\n",
       "</table>\n",
       "</div>"
      ],
      "text/plain": [
       "       Case_Number    Year        Type   Country               Area  \\\n",
       "6228       ND.0085     0.0  Unprovoked  RED SEA?                NaN   \n",
       "3392  1970.06.13.a  1970.0  Unprovoked   GRENADA  St. Andrew Parish   \n",
       "\n",
       "         Activity Sex_  Age                               Injury Fatal_(Y/N)  \\\n",
       "6228  Free diving    F  NaN  Shoulder scratched, swim fin bitten           N   \n",
       "3392       Wading    M   18            FATAL, body not recovered           Y   \n",
       "\n",
       "         Time Species_               Investigator_or_Source  \n",
       "6228  Morning      NaN  Captain T. Falcon-Barker, pp. 91-93  \n",
       "3392    14h00      NaN                        E. Pace, FSAF  "
      ]
     },
     "execution_count": 15,
     "metadata": {},
     "output_type": "execute_result"
    }
   ],
   "source": [
    "sh_attacks3.sample(2)"
   ]
  },
  {
   "cell_type": "code",
   "execution_count": 16,
   "id": "2b2d7142",
   "metadata": {},
   "outputs": [
    {
     "data": {
      "text/plain": [
       "array(['Boating', 'Unprovoked', 'Invalid', 'Provoked', 'Questionable',\n",
       "       'Sea Disaster', nan, 'Boat', 'Boatomg'], dtype=object)"
      ]
     },
     "execution_count": 16,
     "metadata": {},
     "output_type": "execute_result"
    }
   ],
   "source": [
    "sh_attacks3.Type.unique()\n",
    "# Ver todas las variables de la columna Type"
   ]
  },
  {
   "cell_type": "code",
   "execution_count": 17,
   "id": "624feabf",
   "metadata": {},
   "outputs": [
    {
     "data": {
      "text/plain": [
       "array(['Paddling', 'Standing', 'Surfing', ...,\n",
       "       'Crew swimming alongside their anchored ship',\n",
       "       '4 men were bathing', 'Wreck of  large double sailing canoe'],\n",
       "      dtype=object)"
      ]
     },
     "execution_count": 17,
     "metadata": {},
     "output_type": "execute_result"
    }
   ],
   "source": [
    "sh_attacks3.Activity.unique()\n",
    "# Ver todas las variables de la columna Activity"
   ]
  },
  {
   "cell_type": "code",
   "execution_count": 18,
   "id": "5bcc89f3",
   "metadata": {},
   "outputs": [
    {
     "name": "stdout",
     "output_type": "stream",
     "text": [
      "<class 'pandas.core.frame.DataFrame'>\n",
      "Int64Index: 8703 entries, 0 to 25722\n",
      "Data columns (total 13 columns):\n",
      " #   Column                  Non-Null Count  Dtype  \n",
      "---  ------                  --------------  -----  \n",
      " 0   Case_Number             8702 non-null   object \n",
      " 1   Year                    6300 non-null   float64\n",
      " 2   Type                    6298 non-null   object \n",
      " 3   Country                 6252 non-null   object \n",
      " 4   Area                    5847 non-null   object \n",
      " 5   Activity                5758 non-null   object \n",
      " 6   Sex_                    5737 non-null   object \n",
      " 7   Age                     3471 non-null   object \n",
      " 8   Injury                  6274 non-null   object \n",
      " 9   Fatal_(Y/N)             5763 non-null   object \n",
      " 10  Time                    2948 non-null   object \n",
      " 11  Species_                3464 non-null   object \n",
      " 12  Investigator_or_Source  6285 non-null   object \n",
      "dtypes: float64(1), object(12)\n",
      "memory usage: 951.9+ KB\n"
     ]
    }
   ],
   "source": [
    "sh_attacks3.info()\n",
    "#Información del Data Frame"
   ]
  },
  {
   "cell_type": "code",
   "execution_count": 19,
   "id": "5b10bbcd",
   "metadata": {
    "scrolled": true
   },
   "outputs": [
    {
     "data": {
      "text/plain": [
       "Case_Number                  1\n",
       "Year                      2403\n",
       "Type                      2405\n",
       "Country                   2451\n",
       "Area                      2856\n",
       "Activity                  2945\n",
       "Sex_                      2966\n",
       "Age                       5232\n",
       "Injury                    2429\n",
       "Fatal_(Y/N)               2940\n",
       "Time                      5755\n",
       "Species_                  5239\n",
       "Investigator_or_Source    2418\n",
       "dtype: int64"
      ]
     },
     "execution_count": 19,
     "metadata": {},
     "output_type": "execute_result"
    }
   ],
   "source": [
    "sh_attacks3.isna().sum()\n",
    "# Sumar todos los valores NaN por columna"
   ]
  },
  {
   "cell_type": "code",
   "execution_count": 20,
   "id": "0eeb9769",
   "metadata": {},
   "outputs": [],
   "source": [
    "sh_attacks4 = sh_attacks3.fillna(\"absent\")\n",
    "#Reemplazar los valores NaN de todo el data set por la palabra absent."
   ]
  },
  {
   "cell_type": "code",
   "execution_count": 21,
   "id": "09146a44",
   "metadata": {
    "scrolled": true
   },
   "outputs": [
    {
     "data": {
      "text/plain": [
       "Case_Number               0\n",
       "Year                      0\n",
       "Type                      0\n",
       "Country                   0\n",
       "Area                      0\n",
       "Activity                  0\n",
       "Sex_                      0\n",
       "Age                       0\n",
       "Injury                    0\n",
       "Fatal_(Y/N)               0\n",
       "Time                      0\n",
       "Species_                  0\n",
       "Investigator_or_Source    0\n",
       "dtype: int64"
      ]
     },
     "execution_count": 21,
     "metadata": {},
     "output_type": "execute_result"
    }
   ],
   "source": [
    "sh_attacks4.isna().sum()\n",
    "# Verificar que los valores NaN han desaparecido"
   ]
  },
  {
   "cell_type": "code",
   "execution_count": 22,
   "id": "f37cc1f7",
   "metadata": {},
   "outputs": [
    {
     "data": {
      "text/html": [
       "<div>\n",
       "<style scoped>\n",
       "    .dataframe tbody tr th:only-of-type {\n",
       "        vertical-align: middle;\n",
       "    }\n",
       "\n",
       "    .dataframe tbody tr th {\n",
       "        vertical-align: top;\n",
       "    }\n",
       "\n",
       "    .dataframe thead th {\n",
       "        text-align: right;\n",
       "    }\n",
       "</style>\n",
       "<table border=\"1\" class=\"dataframe\">\n",
       "  <thead>\n",
       "    <tr style=\"text-align: right;\">\n",
       "      <th></th>\n",
       "      <th>Case_Number</th>\n",
       "      <th>Year</th>\n",
       "      <th>Type</th>\n",
       "      <th>Country</th>\n",
       "      <th>Area</th>\n",
       "      <th>Activity</th>\n",
       "      <th>Sex_</th>\n",
       "      <th>Age</th>\n",
       "      <th>Injury</th>\n",
       "      <th>Fatal_(Y/N)</th>\n",
       "      <th>Time</th>\n",
       "      <th>Species_</th>\n",
       "      <th>Investigator_or_Source</th>\n",
       "    </tr>\n",
       "  </thead>\n",
       "  <tbody>\n",
       "    <tr>\n",
       "      <th>2945</th>\n",
       "      <td>1983.04.02.b</td>\n",
       "      <td>1983.0</td>\n",
       "      <td>Unprovoked</td>\n",
       "      <td>USA</td>\n",
       "      <td>Florida</td>\n",
       "      <td>Surfing</td>\n",
       "      <td>M</td>\n",
       "      <td>16</td>\n",
       "      <td>Left foot bitten</td>\n",
       "      <td>N</td>\n",
       "      <td>11h00</td>\n",
       "      <td>absent</td>\n",
       "      <td>Miami Herald, 4/3/1983, p.2D</td>\n",
       "    </tr>\n",
       "    <tr>\n",
       "      <th>5062</th>\n",
       "      <td>1929.11.29</td>\n",
       "      <td>1929.0</td>\n",
       "      <td>Sea Disaster</td>\n",
       "      <td>KIRIBATI</td>\n",
       "      <td>Phoenix Islands</td>\n",
       "      <td>Sea Disaster, wreck of the  SS Norwich City</td>\n",
       "      <td>M</td>\n",
       "      <td>absent</td>\n",
       "      <td>11 of her crew perished, most, possibly all, d...</td>\n",
       "      <td>Y</td>\n",
       "      <td>absent</td>\n",
       "      <td>absent</td>\n",
       "      <td>Hartford Courant, 2/15/1930</td>\n",
       "    </tr>\n",
       "    <tr>\n",
       "      <th>4569</th>\n",
       "      <td>1947.10.10</td>\n",
       "      <td>1947.0</td>\n",
       "      <td>Unprovoked</td>\n",
       "      <td>BRAZIL</td>\n",
       "      <td>Pernambuco</td>\n",
       "      <td>Swimming</td>\n",
       "      <td>M</td>\n",
       "      <td>25</td>\n",
       "      <td>FATAL</td>\n",
       "      <td>Y</td>\n",
       "      <td>absent</td>\n",
       "      <td>absent</td>\n",
       "      <td>JC Online, 6/25/2012</td>\n",
       "    </tr>\n",
       "  </tbody>\n",
       "</table>\n",
       "</div>"
      ],
      "text/plain": [
       "       Case_Number    Year          Type   Country             Area  \\\n",
       "2945  1983.04.02.b  1983.0    Unprovoked       USA          Florida   \n",
       "5062    1929.11.29  1929.0  Sea Disaster  KIRIBATI  Phoenix Islands   \n",
       "4569    1947.10.10  1947.0    Unprovoked    BRAZIL       Pernambuco   \n",
       "\n",
       "                                         Activity Sex_     Age  \\\n",
       "2945                                      Surfing    M      16   \n",
       "5062  Sea Disaster, wreck of the  SS Norwich City    M  absent   \n",
       "4569                                    Swimming     M      25   \n",
       "\n",
       "                                                 Injury Fatal_(Y/N)    Time  \\\n",
       "2945                                   Left foot bitten           N   11h00   \n",
       "5062  11 of her crew perished, most, possibly all, d...           Y  absent   \n",
       "4569                                              FATAL           Y  absent   \n",
       "\n",
       "     Species_        Investigator_or_Source  \n",
       "2945   absent  Miami Herald, 4/3/1983, p.2D  \n",
       "5062   absent   Hartford Courant, 2/15/1930  \n",
       "4569   absent          JC Online, 6/25/2012  "
      ]
     },
     "execution_count": 22,
     "metadata": {},
     "output_type": "execute_result"
    }
   ],
   "source": [
    "sh_attacks4.sample(3)"
   ]
  },
  {
   "cell_type": "code",
   "execution_count": 23,
   "id": "0b6d0910",
   "metadata": {},
   "outputs": [],
   "source": [
    "sh_attacks5 = sh_attacks4.drop_duplicates()\n",
    "# Formula para eliminar todas aquellas filas que estan duplicadas y son exactamente igual"
   ]
  },
  {
   "cell_type": "code",
   "execution_count": 24,
   "id": "d5da2f05",
   "metadata": {},
   "outputs": [
    {
     "data": {
      "text/plain": [
       "(6304, 13)"
      ]
     },
     "execution_count": 24,
     "metadata": {},
     "output_type": "execute_result"
    }
   ],
   "source": [
    "sh_attacks5.shape\n",
    "# Ver el la forma del Data Frame habiendo quitado todos los duplicados."
   ]
  },
  {
   "cell_type": "code",
   "execution_count": 25,
   "id": "d5cdd9d3",
   "metadata": {},
   "outputs": [],
   "source": [
    "sh_attacks6 = sh_attacks5.reset_index(drop=True)\n",
    "# Resetear el índice para ver el número de casos exactos."
   ]
  },
  {
   "cell_type": "code",
   "execution_count": 26,
   "id": "0d5f1111",
   "metadata": {},
   "outputs": [
    {
     "data": {
      "text/html": [
       "<div>\n",
       "<style scoped>\n",
       "    .dataframe tbody tr th:only-of-type {\n",
       "        vertical-align: middle;\n",
       "    }\n",
       "\n",
       "    .dataframe tbody tr th {\n",
       "        vertical-align: top;\n",
       "    }\n",
       "\n",
       "    .dataframe thead th {\n",
       "        text-align: right;\n",
       "    }\n",
       "</style>\n",
       "<table border=\"1\" class=\"dataframe\">\n",
       "  <thead>\n",
       "    <tr style=\"text-align: right;\">\n",
       "      <th></th>\n",
       "      <th>Case_Number</th>\n",
       "      <th>Year</th>\n",
       "      <th>Type</th>\n",
       "      <th>Country</th>\n",
       "      <th>Area</th>\n",
       "      <th>Activity</th>\n",
       "      <th>Sex_</th>\n",
       "      <th>Age</th>\n",
       "      <th>Injury</th>\n",
       "      <th>Fatal_(Y/N)</th>\n",
       "      <th>Time</th>\n",
       "      <th>Species_</th>\n",
       "      <th>Investigator_or_Source</th>\n",
       "    </tr>\n",
       "  </thead>\n",
       "  <tbody>\n",
       "    <tr>\n",
       "      <th>6303</th>\n",
       "      <td>xx</td>\n",
       "      <td>absent</td>\n",
       "      <td>absent</td>\n",
       "      <td>absent</td>\n",
       "      <td>absent</td>\n",
       "      <td>absent</td>\n",
       "      <td>absent</td>\n",
       "      <td>absent</td>\n",
       "      <td>absent</td>\n",
       "      <td>absent</td>\n",
       "      <td>absent</td>\n",
       "      <td>absent</td>\n",
       "      <td>absent</td>\n",
       "    </tr>\n",
       "  </tbody>\n",
       "</table>\n",
       "</div>"
      ],
      "text/plain": [
       "     Case_Number    Year    Type Country    Area Activity    Sex_     Age  \\\n",
       "6303          xx  absent  absent  absent  absent   absent  absent  absent   \n",
       "\n",
       "      Injury Fatal_(Y/N)    Time Species_ Investigator_or_Source  \n",
       "6303  absent      absent  absent   absent                 absent  "
      ]
     },
     "execution_count": 26,
     "metadata": {},
     "output_type": "execute_result"
    }
   ],
   "source": [
    "sh_attacks6.tail(1)"
   ]
  },
  {
   "cell_type": "code",
   "execution_count": 27,
   "id": "696305c1",
   "metadata": {},
   "outputs": [],
   "source": [
    "list_columnas = list(sh_attacks6.columns)"
   ]
  },
  {
   "cell_type": "code",
   "execution_count": 28,
   "id": "27eb817a",
   "metadata": {},
   "outputs": [
    {
     "name": "stdout",
     "output_type": "stream",
     "text": [
      "['Case_Number', 'Year', 'Type', 'Country', 'Area', 'Activity', 'Sex_', 'Age', 'Injury', 'Fatal_(Y/N)', 'Time', 'Species_', 'Investigator_or_Source']\n"
     ]
    }
   ],
   "source": [
    "print(list_columnas)"
   ]
  },
  {
   "cell_type": "code",
   "execution_count": 29,
   "id": "77e2f92c",
   "metadata": {},
   "outputs": [],
   "source": [
    "Split_Date_df = sh_attacks6[\"Case_Number\"].str.split(\".\", expand = True)\n",
    "# Hacer un Data Frame nuevo separado en columnas siempre y cuando haya un punto"
   ]
  },
  {
   "cell_type": "code",
   "execution_count": 30,
   "id": "39587a63",
   "metadata": {
    "scrolled": true
   },
   "outputs": [
    {
     "data": {
      "text/html": [
       "<div>\n",
       "<style scoped>\n",
       "    .dataframe tbody tr th:only-of-type {\n",
       "        vertical-align: middle;\n",
       "    }\n",
       "\n",
       "    .dataframe tbody tr th {\n",
       "        vertical-align: top;\n",
       "    }\n",
       "\n",
       "    .dataframe thead th {\n",
       "        text-align: right;\n",
       "    }\n",
       "</style>\n",
       "<table border=\"1\" class=\"dataframe\">\n",
       "  <thead>\n",
       "    <tr style=\"text-align: right;\">\n",
       "      <th></th>\n",
       "      <th>0</th>\n",
       "      <th>1</th>\n",
       "      <th>2</th>\n",
       "      <th>3</th>\n",
       "      <th>4</th>\n",
       "      <th>5</th>\n",
       "    </tr>\n",
       "  </thead>\n",
       "  <tbody>\n",
       "    <tr>\n",
       "      <th>0</th>\n",
       "      <td>2018</td>\n",
       "      <td>06</td>\n",
       "      <td>25</td>\n",
       "      <td>None</td>\n",
       "      <td>None</td>\n",
       "      <td>None</td>\n",
       "    </tr>\n",
       "    <tr>\n",
       "      <th>1</th>\n",
       "      <td>2018</td>\n",
       "      <td>06</td>\n",
       "      <td>18</td>\n",
       "      <td>None</td>\n",
       "      <td>None</td>\n",
       "      <td>None</td>\n",
       "    </tr>\n",
       "    <tr>\n",
       "      <th>2</th>\n",
       "      <td>2018</td>\n",
       "      <td>06</td>\n",
       "      <td>09</td>\n",
       "      <td>None</td>\n",
       "      <td>None</td>\n",
       "      <td>None</td>\n",
       "    </tr>\n",
       "    <tr>\n",
       "      <th>3</th>\n",
       "      <td>2018</td>\n",
       "      <td>06</td>\n",
       "      <td>08</td>\n",
       "      <td>None</td>\n",
       "      <td>None</td>\n",
       "      <td>None</td>\n",
       "    </tr>\n",
       "    <tr>\n",
       "      <th>4</th>\n",
       "      <td>2018</td>\n",
       "      <td>06</td>\n",
       "      <td>04</td>\n",
       "      <td>None</td>\n",
       "      <td>None</td>\n",
       "      <td>None</td>\n",
       "    </tr>\n",
       "    <tr>\n",
       "      <th>...</th>\n",
       "      <td>...</td>\n",
       "      <td>...</td>\n",
       "      <td>...</td>\n",
       "      <td>...</td>\n",
       "      <td>...</td>\n",
       "      <td>...</td>\n",
       "    </tr>\n",
       "    <tr>\n",
       "      <th>6299</th>\n",
       "      <td>ND</td>\n",
       "      <td>0003</td>\n",
       "      <td>None</td>\n",
       "      <td>None</td>\n",
       "      <td>None</td>\n",
       "      <td>None</td>\n",
       "    </tr>\n",
       "    <tr>\n",
       "      <th>6300</th>\n",
       "      <td>ND</td>\n",
       "      <td>0002</td>\n",
       "      <td>None</td>\n",
       "      <td>None</td>\n",
       "      <td>None</td>\n",
       "      <td>None</td>\n",
       "    </tr>\n",
       "    <tr>\n",
       "      <th>6301</th>\n",
       "      <td>ND</td>\n",
       "      <td>0001</td>\n",
       "      <td>None</td>\n",
       "      <td>None</td>\n",
       "      <td>None</td>\n",
       "      <td>None</td>\n",
       "    </tr>\n",
       "    <tr>\n",
       "      <th>6302</th>\n",
       "      <td>0</td>\n",
       "      <td>None</td>\n",
       "      <td>None</td>\n",
       "      <td>None</td>\n",
       "      <td>None</td>\n",
       "      <td>None</td>\n",
       "    </tr>\n",
       "    <tr>\n",
       "      <th>6303</th>\n",
       "      <td>xx</td>\n",
       "      <td>None</td>\n",
       "      <td>None</td>\n",
       "      <td>None</td>\n",
       "      <td>None</td>\n",
       "      <td>None</td>\n",
       "    </tr>\n",
       "  </tbody>\n",
       "</table>\n",
       "<p>6304 rows × 6 columns</p>\n",
       "</div>"
      ],
      "text/plain": [
       "         0     1     2     3     4     5\n",
       "0     2018    06    25  None  None  None\n",
       "1     2018    06    18  None  None  None\n",
       "2     2018    06    09  None  None  None\n",
       "3     2018    06    08  None  None  None\n",
       "4     2018    06    04  None  None  None\n",
       "...    ...   ...   ...   ...   ...   ...\n",
       "6299    ND  0003  None  None  None  None\n",
       "6300    ND  0002  None  None  None  None\n",
       "6301    ND  0001  None  None  None  None\n",
       "6302     0  None  None  None  None  None\n",
       "6303    xx  None  None  None  None  None\n",
       "\n",
       "[6304 rows x 6 columns]"
      ]
     },
     "metadata": {},
     "output_type": "display_data"
    }
   ],
   "source": [
    "display(Split_Date_df)"
   ]
  },
  {
   "cell_type": "code",
   "execution_count": 31,
   "id": "e41136ec",
   "metadata": {
    "scrolled": true
   },
   "outputs": [
    {
     "data": {
      "text/plain": [
       "[0, 1, 2, 3, 4, 5]"
      ]
     },
     "execution_count": 31,
     "metadata": {},
     "output_type": "execute_result"
    }
   ],
   "source": [
    "list(Split_Date_df.columns)\n",
    "# Hacer una lista de las columnas del nuevo Data Frame"
   ]
  },
  {
   "cell_type": "code",
   "execution_count": 32,
   "id": "cceae5ed",
   "metadata": {},
   "outputs": [],
   "source": [
    "#Ya que la columna de meses es la columna 1, hacerme un nuevo data Drame con el mes en el que ocurrió el caso."
   ]
  },
  {
   "cell_type": "code",
   "execution_count": 33,
   "id": "62454033",
   "metadata": {},
   "outputs": [],
   "source": [
    "months_df = Split_Date_df[[1]]"
   ]
  },
  {
   "cell_type": "code",
   "execution_count": 34,
   "id": "6f7faedf",
   "metadata": {},
   "outputs": [
    {
     "data": {
      "text/html": [
       "<div>\n",
       "<style scoped>\n",
       "    .dataframe tbody tr th:only-of-type {\n",
       "        vertical-align: middle;\n",
       "    }\n",
       "\n",
       "    .dataframe tbody tr th {\n",
       "        vertical-align: top;\n",
       "    }\n",
       "\n",
       "    .dataframe thead th {\n",
       "        text-align: right;\n",
       "    }\n",
       "</style>\n",
       "<table border=\"1\" class=\"dataframe\">\n",
       "  <thead>\n",
       "    <tr style=\"text-align: right;\">\n",
       "      <th></th>\n",
       "      <th>1</th>\n",
       "    </tr>\n",
       "  </thead>\n",
       "  <tbody>\n",
       "    <tr>\n",
       "      <th>0</th>\n",
       "      <td>06</td>\n",
       "    </tr>\n",
       "    <tr>\n",
       "      <th>1</th>\n",
       "      <td>06</td>\n",
       "    </tr>\n",
       "    <tr>\n",
       "      <th>2</th>\n",
       "      <td>06</td>\n",
       "    </tr>\n",
       "    <tr>\n",
       "      <th>3</th>\n",
       "      <td>06</td>\n",
       "    </tr>\n",
       "    <tr>\n",
       "      <th>4</th>\n",
       "      <td>06</td>\n",
       "    </tr>\n",
       "    <tr>\n",
       "      <th>...</th>\n",
       "      <td>...</td>\n",
       "    </tr>\n",
       "    <tr>\n",
       "      <th>6299</th>\n",
       "      <td>0003</td>\n",
       "    </tr>\n",
       "    <tr>\n",
       "      <th>6300</th>\n",
       "      <td>0002</td>\n",
       "    </tr>\n",
       "    <tr>\n",
       "      <th>6301</th>\n",
       "      <td>0001</td>\n",
       "    </tr>\n",
       "    <tr>\n",
       "      <th>6302</th>\n",
       "      <td>None</td>\n",
       "    </tr>\n",
       "    <tr>\n",
       "      <th>6303</th>\n",
       "      <td>None</td>\n",
       "    </tr>\n",
       "  </tbody>\n",
       "</table>\n",
       "<p>6304 rows × 1 columns</p>\n",
       "</div>"
      ],
      "text/plain": [
       "         1\n",
       "0       06\n",
       "1       06\n",
       "2       06\n",
       "3       06\n",
       "4       06\n",
       "...    ...\n",
       "6299  0003\n",
       "6300  0002\n",
       "6301  0001\n",
       "6302  None\n",
       "6303  None\n",
       "\n",
       "[6304 rows x 1 columns]"
      ]
     },
     "metadata": {},
     "output_type": "display_data"
    }
   ],
   "source": [
    "display(months_df)\n",
    "# Ver el mes en el cual ocurrií casa caso."
   ]
  },
  {
   "cell_type": "code",
   "execution_count": 35,
   "id": "b8ce5308",
   "metadata": {},
   "outputs": [
    {
     "data": {
      "text/plain": [
       "array(['06', '05', '04', '03', '02', '01', '12', '11', '10', '09', '08',\n",
       "       '07', '07-10', '00', '30', None, '29', '0214', '0336', '0493',\n",
       "       '0725', '0110', '0104', '0102', '0100', '0097', '0096', '0095',\n",
       "       '0094', '0093', '0091', '0090', '0089', '0088', '0087', '0086',\n",
       "       '0085', '0084', '0083', '0082', '0081', '0078', '0076', '0075',\n",
       "       '0074', '0073', '0069', '0068', '0066', '0065', '0064', '0063',\n",
       "       '0062', '0060', '0059', '0058', '0057', '0056', '0055', '0054',\n",
       "       '0053', '0052', '0051', '0049', '0048', '0047', '0046', '0044',\n",
       "       '0043', '0042', '0041', '0040', '0039', '0038', '0037', '0036',\n",
       "       '0035', '0034', '0033', '0032', '0031', '0030', '0028', '0027',\n",
       "       '0026', '0025', '0024', '0023', '0022', '0021', '0020', '0019',\n",
       "       '0018', '0017', '0016', '0015', '0014', '0013', '0012', '0011',\n",
       "       '0010', '0009', '0008', '0007', '0006', '0005', '0004', '0003',\n",
       "       '0002', '0001'], dtype=object)"
      ]
     },
     "execution_count": 35,
     "metadata": {},
     "output_type": "execute_result"
    }
   ],
   "source": [
    "months_df[1].unique()\n",
    "# Ver los meses que hay en el data frame de meses.\n",
    "#Previamente he visto los unique values de todas las columnas y la única columna que tenía 01-12 era esta columna."
   ]
  },
  {
   "cell_type": "code",
   "execution_count": 36,
   "id": "769f8895",
   "metadata": {},
   "outputs": [],
   "source": [
    "months_df1 = months_df[1].replace(['07-10', '00', '30', None, '29', '0214', '0336', '0493',\n",
    "       '0725', '0110', '0104', '0102', '0100', '0097', '0096', '0095',\n",
    "       '0094', '0093', '0091', '0090', '0089', '0088', '0087', '0086',\n",
    "       '0085', '0084', '0083', '0082', '0081', '0078', '0076', '0075',\n",
    "       '0074', '0073', '0069', '0068', '0066', '0065', '0064', '0063',\n",
    "       '0062', '0060', '0059', '0058', '0057', '0056', '0055', '0054',\n",
    "       '0053', '0052', '0051', '0049', '0048', '0047', '0046', '0044',\n",
    "       '0043', '0042', '0041', '0040', '0039', '0038', '0037', '0036',\n",
    "       '0035', '0034', '0033', '0032', '0031', '0030', '0028', '0027',\n",
    "       '0026', '0025', '0024', '0023', '0022', '0021', '0020', '0019',\n",
    "       '0018', '0017', '0016', '0015', '0014', '0013', '0012', '0011',\n",
    "       '0010', '0009', '0008', '0007', '0006', '0005', '0004', '0003',\n",
    "       '0002', '0001'], \"absent\")\n",
    "# Reemplazar todos los valores que nio dicen ningun mes por la palabra absent."
   ]
  },
  {
   "cell_type": "code",
   "execution_count": 37,
   "id": "fed802b6",
   "metadata": {},
   "outputs": [
    {
     "data": {
      "text/plain": [
       "07        668\n",
       "08        598\n",
       "09        554\n",
       "absent    534\n",
       "01        520\n",
       "06        499\n",
       "04        457\n",
       "12        443\n",
       "10        441\n",
       "03        410\n",
       "11        406\n",
       "05        392\n",
       "02        382\n",
       "Name: 1, dtype: int64"
      ]
     },
     "execution_count": 37,
     "metadata": {},
     "output_type": "execute_result"
    }
   ],
   "source": [
    "months_df1.value_counts()\n",
    "# Ver el número de valores absent"
   ]
  },
  {
   "cell_type": "code",
   "execution_count": 38,
   "id": "82bf72a6",
   "metadata": {
    "scrolled": true
   },
   "outputs": [
    {
     "data": {
      "text/plain": [
       "pandas.core.series.Series"
      ]
     },
     "execution_count": 38,
     "metadata": {},
     "output_type": "execute_result"
    }
   ],
   "source": [
    "type(months_df1)"
   ]
  },
  {
   "cell_type": "code",
   "execution_count": 39,
   "id": "f6614118",
   "metadata": {},
   "outputs": [],
   "source": [
    "list_months = list(months_df1)\n",
    "#Hacer una lista de la serie nueva de meses."
   ]
  },
  {
   "cell_type": "code",
   "execution_count": 40,
   "id": "3c2fa808",
   "metadata": {},
   "outputs": [
    {
     "name": "stdout",
     "output_type": "stream",
     "text": [
      "['06', '06', '06', '06', '06', '06', '06', '05', '05', '05', '05', '05', '05', '05', '05', '05', '05', '04', '04', '04', '04', '04', '04', '04', '04', '04', '04', '04', '04', '04', '04', '04', '04', '04', '04', '03', '03', '03', '03', '02', '02', '02', '02', '02', '02', '02', '02', '01', '01', '01', '01', '01', '01', '12', '12', '12', '12', '11', '11', '11', '11', '11', '11', '11', '11', '10', '10', '10', '10', '10', '10', '10', '10', '10', '10', '10', '10', '09', '09', '09', '09', '09', '09', '09', '09', '09', '09', '09', '09', '09', '09', '09', '09', '09', '09', '09', '08', '08', '08', '08', '08', '08', '08', '08', '08', '08', '07', '07', '07', '07', '07', '07', '07', '07', '07', '07', '07', '07', '07', '07', '07', '07', '07', '07', '07', '06', '06', '06', '06', '06', '06', '06', '06', '06', '06', '06', '06', '06', '06', '05', '05', '05', '05', '05', '05', '05', '04', '04', '04', '04', '04', '04', '04', '04', '04', '04', '04', '04', '04', '04', '04', '04', '04', '04', '04', '04', '04', '03', '03', '03', '03', '03', '02', '02', '02', '02', '02', '02', '02', '02', '02', '01', '01', '01', '01', '01', '01', '01', '01', '01', '12', '12', '12', '12', '12', '12', '12', '12', '11', '11', '10', '10', '10', '10', '10', '10', '10', '10', '10', '10', '10', '09', '09', '09', '09', '09', '09', '09', '09', '09', '09', '09', '09', '09', '09', '09', '09', '08', '08', '08', '08', '08', '08', '08', '07', '07', '07', '07', '07', '07', '07', '07', '07', '07', '07', '07', '07', '07', '07', '07', '07', '07', '07', '07', '07', '06', '06', '06', '06', '06', '06', '06', '06', '06', '06', '06', '06', '06', '06', '06', '06', '05', '05', '05', '05', '05', '05', '05', '05', '05', '05', '04', '04', '04', '04', '04', '04', '04', '04', '04', '04', '04', '03', '03', '03', '03', '03', '03', '03', '03', '03', '03', '03', '02', '02', '02', '02', '02', '02', '02', '02', '01', '01', '01', '01', '01', '01', '01', '01', '01', '12', '12', '12', '12', '12', '12', '12', '12', '12', '11', '11', '11', '11', '11', '12', '11', '11', '11', '10', '10', '10', '10', '10', '10', '10', '10', '10', '10', '10', '10', '10', '10', '10', '10', '09', '09', '09', '09', '09', '09', '09', '09', '09', '09', '09', '09', '09', '09', '09', '09', '09', '08', '08', '08', '08', '08', '08', '08', '08', '08', '07', '07', '07', '07', '07', '07', '07', '07', '07', '07', 'absent', '07', '07', '07', '07', '07', '07', '07', '06', '06', '06', '06', '06', '06', '06', '06', '06', '06', '06', '06', '06', '06', '06', '06', '06', '06', '06', '06', '06', '05', '05', '05', '05', '05', '05', '05', '05', '05', '05', '04', '04', '04', '04', '04', '04', '04', '04', '03', '03', '03', '03', '03', '03', '03', '03', '03', '02', '02', '02', '02', '02', '01', '01', '01', '01', '01', '01', '01', '01', '01', '01', '01', '01', '12', '12', '12', '12', '12', '12', '12', '12', '12', '11', '11', '11', '11', '11', '11', '11', '11', '10', '10', '10', '10', '10', '10', '10', '10', '10', '10', '10', '10', '10', '10', '10', '10', '10', '09', '09', '09', '09', '09', '09', '09', '09', '08', '08', '08', '08', '08', '08', '08', '08', '08', '08', '08', '08', '08', '08', '08', '08', '08', '08', '08', '08', '08', '07', '07', '07', '07', '07', '07', '07', '07', '07', '07', '07', '07', '06', '06', '06', '06', '06', '06', '06', '06', '06', '06', '06', '06', '06', '05', '05', '05', '05', '05', '05', '05', '05', '05', '05', '05', '04', '04', '04', '04', '04', '04', '04', '04', '03', '03', '03', '03', '03', '03', '03', '03', '03', '03', '02', '02', '02', '02', '02', '01', '01', '01', 'absent', 'absent', '12', '12', '12', '12', '12', '12', '12', '11', '11', '11', '11', '11', '11', '11', '11', '10', '10', '10', '10', '10', '10', '10', '10', '10', '10', '10', '10', '09', '09', '09', '09', '09', '09', '09', '09', '09', '09', '09', '09', '09', '09', '08', '08', '08', '08', '08', '08', '08', '08', '08', '08', '08', '08', '08', '07', '07', '07', '07', '07', '07', '07', '07', '07', '07', '07', '07', '07', '07', '07', '06', '06', '06', '06', '06', '06', '06', '06', '06', '06', '06', '06', '05', '05', '05', '05', '05', '05', '05', '05', '04', '04', '04', '04', '04', '04', '04', '04', '04', '04', '04', '03', '03', '03', '03', '03', '03', '03', '03', '03', '03', '02', '02', '02', '02', '02', '02', '01', '01', '01', '01', '01', '01', '12', '12', '12', '12', '12', '12', '12', '12', '11', '11', '11', '11', '11', '11', '10', '10', '10', '10', '10', '10', '10', '10', '10', '10', '09', '09', '09', '09', '09', '09', '09', '09', '09', '09', '09', '09', '09', '08', '08', '08', '08', '08', '08', '08', '08', '07', '07', '07', '07', '07', '07', '07', '07', '07', '07', '07', '07', '07', '07', '06', '06', '06', '06', '06', '06', '06', '06', '06', '06', '06', '06', '06', '06', '06', '06', '06', '06', '06', '05', '05', '05', '05', '05', '05', '05', '05', '04', '04', '04', '04', '04', '03', '03', '03', '03', '03', '03', '03', '03', '03', '03', '03', '03', '03', '02', '02', '02', '02', '01', '01', '01', '01', '01', '01', '01', '01', '01', '12', '12', '12', '12', '12', '12', '12', '12', '12', '12', '12', '12', '11', '11', '11', '11', '11', '11', '10', '10', '10', '10', '10', '10', '10', '10', '10', '10', '10', '10', '09', '09', '09', '09', '09', '09', '09', '09', '09', '09', '09', '09', '09', '09', '08', '08', '08', '08', '08', '08', '08', '08', '08', '08', '08', '08', '08', '08', '08', '08', '08', '07', '07', '07', '07', '07', '07', '07', '07', '07', '07', '07', '07', '06', '06', '06', '06', '06', '06', '06', '06', '06', '06', '06', '06', '06', '06', '06', '05', '05', '05', '05', '05', '05', '05', '05', '05', '05', '05', '04', '04', '04', '04', '04', '04', '03', '03', '03', '03', '03', '03', '03', '03', '02', '02', '02', '02', '02', '02', '02', '02', '01', '01', '01', '01', '01', '01', '01', '12', '12', '12', '12', '12', '12', '12', '11', '11', '11', '11', '11', '11', '11', '11', '10', '10', '10', '10', '10', '10', '10', '10', '10', '10', '10', '10', '09', '09', '09', '09', '09', '09', '09', '09', '09', '09', '08', '08', '08', '08', '08', '08', '08', '08', '08', '08', '08', '08', '07', '07', '07', '07', '07', '07', '07', '07', '07', '07', '07', '07', '06', '06', '06', '06', '06', '06', '06', '05', '05', '05', '05', '05', '05', '04', '04', '04', '04', '03', '02', '02', '02', '02', '02', '02', '02', '02', '02', '02', '02', '01', '01', '01', '01', '01', '01', '01', '01', '01', '01', '01', '12', '12', '12', '12', '12', '12', '12', '12', '12', '12', '12', '11', '11', '11', '11', '11', '11', '11', '11', '10', '10', '10', '10', '10', '10', '10', '10', '10', '10', '09', '09', '09', '09', '09', '09', '09', '09', '08', '08', '08', '08', '08', '08', '08', '07', '07', '07', '07', '07', '07', '07', '07', '07', '07', '07', '07', '07', '07', '06', '06', '06', '06', '06', '06', '06', '05', '05', '05', '05', '05', '05', '05', '04', '04', '04', '04', '04', '04', '04', '04', '04', '04', '04', '03', '03', '03', '03', '03', '03', '03', '03', '03', '03', '03', '03', '03', '02', '02', '02', '02', '02', '02', '02', '01', '01', '01', '01', '01', '01', '01', '01', '01', '01', '01', '01', '01', '01', '01', '01', '01', '12', '12', '12', '12', '12', '12', '12', '12', '12', '12', '11', '11', '11', '11', '11', '11', '10', '10', '10', '10', '10', '10', '09', '09', '09', '09', '09', '09', '09', '09', '09', '09', '09', '08', '08', '08', '08', '08', '08', '08', '08', '08', '08', '08', '08', '07', '07', '07', '07', '07', '07', '07', '07', '07', '07', '07', '07', '07', '07', '07', '07', '07', '06', '06', '06', '06', '06', '06', '06', '06', '06', '06', '06', '06', '06', '06', '05', '05', '05', '05', '05', '05', '05', '05', '05', '04', '04', '04', '04', '04', '04', '04', '04', '04', '04', '04', '04', '04', '03', '04', '04', '04', '03', '03', '03', '03', '03', '03', '03', '02', '02', '02', '02', '02', '01', '01', '01', '01', '01', '01', 'absent', 'absent', '12', '12', '12', '12', '12', '12', '12', '12', '11', '11', '11', '11', '11', '11', '11', '10', '10', '10', '10', '10', '09', '09', '09', '09', '09', '09', '09', '09', '09', '09', '09', '09', '09', '09', '09', '09', '09', '09', '08', '08', '08', '08', '08', '08', '08', '08', '08', '08', '08', '08', '08', '08', '08', '07', '07', '07', '07', '07', '07', '07', '07', '07', '07', '07', '07', '07', '07', '06', '06', '06', '06', '06', '06', '06', '05', '05', '05', '05', '05', '05', '05', '05', '05', '05', '05', '05', '04', '04', '04', '04', '04', '04', '03', '03', '03', '03', '03', '03', '03', '03', '03', '02', '02', '02', '01', '01', '01', '01', '01', '01', '01', '01', '12', '12', '12', '12', '12', '11', '11', '11', '10', '10', '10', '10', '10', '10', '10', '09', '09', '09', '09', '09', '09', '09', '09', '09', '09', '09', '08', '08', '08', '08', '08', '08', '08', '08', '08', '08', '08', '07', '07', '07', '07', '07', '07', '07', '07', '07', '07', '07', '07', '07', '07', '07', '07', '06', '06', '06', '06', '06', '06', '06', '06', '06', '06', '06', '05', '05', '05', '05', '05', '05', '05', '05', '05', '04', '04', '04', '04', '04', '04', '04', '04', '03', '03', '03', '03', '03', '02', '02', '02', '02', '02', '02', '02', '02', '01', '01', '01', '01', '01', '01', '01', '01', '01', '12', '12', '12', '12', '12', '11', '11', '11', '11', '11', '11', '11', '11', '11', '11', '11', '11', '11', '10', '10', '10', '10', '10', '10', '10', '10', '10', '10', '10', '09', '09', '09', '09', '09', '09', '09', '09', '09', '09', '09', '08', '08', '08', '08', '08', '08', '08', '08', '08', '07', '07', '07', '07', '07', '07', '07', '07', '07', '06', '06', '06', '06', '06', '06', '06', '06', '06', '06', '06', '05', '05', '05', '05', '05', '05', '05', '05', '04', '04', '04', '04', '04', '04', '04', '04', '04', '03', '03', '03', '03', '03', '03', '03', '03', '02', '02', '02', '02', '02', '01', '01', '01', '01', '12', '12', '12', '11', '11', '11', '11', '11', '11', '10', '10', '10', '10', '10', '10', '10', '10', '10', '10', '09', '09', '09', '09', '09', '08', '08', '08', '08', '08', '08', '08', '07', '07', '07', '07', '07', '07', '07', '07', '07', '07', '07', '06', '06', '06', '06', '06', '06', '05', '05', '05', '05', '05', '05', '05', '05', '05', '05', '04', '04', '04', '04', '04', '04', '04', '03', '03', '03', '03', '03', '03', '03', '03', '03', '03', '02', '02', '02', '02', '02', '02', '01', '01', '01', '01', '01', '01', '01', '01', '01', '01', 'absent', '12', '12', '12', '12', '12', '11', '11', '11', '11', '11', '11', '11', '11', '11', '11', '10', '10', '10', '10', '10', '10', '10', '10', '10', '10', '10', '10', '09', '09', '09', '09', '09', '09', '09', '09', '09', '09', '09', '09', '08', '08', '08', '08', '07', '07', '07', '07', '07', '07', '07', '07', '07', '07', '06', '06', '06', '06', '06', '06', '06', '06', '06', '05', '05', '05', '05', '05', '05', '04', '04', '04', '04', '04', '04', '04', '04', '04', '04', '04', '04', '04', '04', '04', '03', '02', '02', '02', '02', '02', '01', '01', '01', '12', '12', '12', '12', '12', '12', '11', '11', '11', '11', '11', '11', '11', '10', '10', '10', '10', '10', '10', '09', '09', '09', '09', '09', '09', '09', '09', '09', '09', '09', '09', '08', '08', '08', '08', '08', '08', '08', '07', '07', '07', '07', '07', '07', '06', '06', '06', '06', '06', '06', '06', '06', '06', '06', '05', '05', '05', '05', '05', '05', '05', '05', '05', '04', '04', '04', '04', '04', '04', '04', '04', '03', '03', '03', '03', '03', '03', '03', '02', '02', '02', '02', '01', '01', '01', '01', '01', '01', '12', '11', '11', '11', '10', '10', '09', '09', '09', '09', '09', '09', '09', '09', '09', '09', '09', '09', '09', '09', '09', '08', '08', '08', '08', '08', '08', '08', '08', '08', '08', '08', '08', '08', '08', '08', '08', '08', '08', '07', '07', '07', '07', '07', '07', '07', '07', '07', '07', '06', '06', '06', '06', '05', '05', '05', '05', '05', '05', '05', '05', '05', '04', '04', '04', '04', '04', '04', '04', '04', '04', '04', '04', '04', '04', '04', '04', '04', '04', '03', '03', '03', '03', '03', '02', '02', '02', '01', '01', '01', '01', '01', '12', '12', '12', '12', '12', '12', '11', '11', '11', '11', '11', '11', '11', '10', '10', '10', '10', '10', '10', '10', '10', '09', '09', '09', '09', '09', '09', '09', '09', '09', '09', '09', '09', '09', '09', '09', '08', '08', '08', '08', '08', '08', '08', '08', '08', '08', '07', '07', '07', '07', '07', '07', '07', '07', '07', '07', '07', '07', '07', '07', '07', '07', '07', '06', '06', '06', '06', '06', '06', '06', '06', '06', '05', '05', '05', '05', '04', '04', '03', '03', '03', '03', '03', '03', '03', '03', '03', '03', '03', '02', '02', '02', '02', '02', '01', '01', 'absent', '12', '12', '12', '12', '12', '12', '12', '11', '11', '11', '11', '11', '11', '11', '10', '10', '10', '10', '09', '09', '09', '09', '09', '09', '09', '09', '08', '08', '08', '08', '08', '08', '08', '07', '07', '07', '07', '07', '07', '07', '06', '06', '06', '06', '05', '05', '04', '04', '04', '03', '03', '03', '03', '03', '03', '03', '02', '02', '02', '01', '01', '01', '01', '01', 'absent', 'absent', '12', '12', '12', '12', '12', '11', '11', '11', '11', '11', '11', '10', '10', '10', '10', '10', '10', '09', '09', '09', '09', '09', '08', '08', '08', '08', '08', '08', '08', '08', '08', '07', '07', '07', '07', '07', '06', '06', '06', '06', '05', '05', '05', '05', '05', '05', '05', '04', '04', '04', '04', '04', '03', '03', '03', '02', '01', '01', '01', '01', '01', '01', 'absent', 'absent', 'absent', '12', '12', '12', '12', '11', '11', '11', '10', '10', '10', '10', '10', '10', '09', '09', '09', '09', '08', '08', '08', '08', '08', '08', '08', '08', '08', '08', '08', '08', '08', '08', '07', '07', '07', '07', '07', '07', '06', '06', '06', '06', '06', '05', '05', '05', '05', '05', '04', '02', '02', '02', '02', '02', '01', '01', '01', '01', '12', '12', '12', '12', '11', '11', '10', '10', '10', '10', '10', '10', '10', '09', '09', '09', '09', '09', '09', '09', '08', '08', '08', '07', '07', '07', '07', '07', '07', '07', '07', '07', '06', '06', '06', '05', '05', '05', '05', '05', '04', '04', '04', '04', '03', '03', '02', '02', '02', '02', '02', '02', '02', '01', '01', '01', '01', '01', '01', 'absent', 'absent', '12', '11', '11', '11', '11', '10', '10', '10', '10', '09', '09', '09', '09', '09', '09', '09', '09', '09', '09', '08', '08', '08', '08', '08', '08', '08', '08', '08', '08', '08', '08', '08', '08', '08', '08', '08', '07', '07', '07', '07', '07', '07', '07', '07', '11', '07', '07', '07', '06', '06', '06', '06', '06', '06', '06', '06', '06', '05', '05', '05', '05', '05', '04', '04', '04', '04', '03', '03', '03', '02', '02', '01', '01', 'absent', 'absent', 'absent', 'absent', '12', '12', '12', '12', '12', '12', '12', '12', '11', '11', '11', '10', '10', '10', '10', '09', '09', '09', '09', '08', '07', '07', '07', '07', '07', '07', '07', '06', '05', '05', '05', '05', '05', '05', '04', '04', '04', '04', '04', '03', '03', '03', '03', '02', '02', '02', '02', '02', '01', '01', '01', '01', '01', '01', 'absent', 'absent', '12', '11', '11', '11', '11', '10', '10', '10', '10', '09', '09', '09', '09', '09', '09', '09', '08', '08', '08', '08', '08', '08', '08', '08', '08', '07', '07', '06', '06', '06', '06', '06', '06', '06', '06', '06', '05', '05', '04', '03', '03', '03', '03', '03', '03', '02', '02', '02', '01', '01', '01', '01', 'absent', 'absent', 'absent', 'absent', '12', '12', '11', '11', '11', '11', '11', '11', '11', '11', '10', '10', '10', '10', '10', '09', '09', '09', '09', '09', '08', '08', '08', '08', '08', '08', '07', '07', '07', '07', '06', '06', '06', '06', '06', '05', '05', '05', '04', '04', '03', '03', '03', '03', '03', '02', '02', '02', '01', '01', '01', '01', '01', '01', '01', 'absent', '12', '11', '11', '11', '11', '11', '10', '10', '09', '09', '08', '08', '08', '08', '07', '07', '07', '07', '07', '07', '07', '06', '06', '06', '06', '06', '05', '05', '04', '04', '04', '04', '03', '02', '02', '01', '01', '01', '12', '11', '11', '11', '10', '10', '10', '10', '10', '10', '10', '09', '09', '09', '08', '08', '08', '08', '07', '07', '06', '06', '05', '05', '05', '05', '04', '04', '04', '04', '04', '04', '03', '03', '02', '02', '01', 'absent', '12', '12', '12', '11', '11', '11', '11', '10', '10', '10', '10', '10', '10', '09', '09', '09', '09', '09', '09', '08', '08', '08', '08', '08', '08', '07', '07', '07', '07', '07', '06', '06', '06', '06', '06', '06', '04', '04', '04', '04', '04', '03', '03', '02', '02', '02', '01', '01', '01', '01', '01', '01', 'absent', 'absent', '12', '11', '11', '10', '10', '10', '10', '10', '10', '10', '10', '09', '09', '09', '08', '08', '08', '08', '07', '07', '07', '07', '07', '07', '07', '06', '06', '06', '06', '06', '05', '05', '05', '04', '04', '04', '04', '04', '04', '04', '03', '03', '03', '03', '02', '02', '02', '02', '02', '01', '01', '01', '01', '01', 'absent', '12', '12', '12', '11', '11', '10', '10', '10', '10', '09', '09', '08', '08', '07', '07', '07', '07', '07', '07', '06', '05', '05', '05', '04', '04', '04', '04', '03', '03', '02', '02', '01', '01', 'absent', 'absent', '12', '12', '12', '12', '12', '12', '12', '11', '11', '11', '10', '10', '10', '10', '10', '09', '09', '09', '08', '08', '08', '08', '07', '07', '07', '05', '05', '04', '04', '03', '03', '03', '02', '02', '02', '02', '02', '01', 'absent', '12', '12', '11', '11', '11', '10', '10', '10', '10', '10', '09', '09', '09', '09', '08', '08', '08', '07', '07', '07', '07', '07', '05', '05', '03', '03', '02', '02', '01', '01', '01', '01', '01', '01', '01', 'absent', 'absent', '12', '11', '11', '11', '10', '10', '10', '10', '09', '09', '09', '09', '09', '09', '09', '09', '09', '08', '08', '07', '07', '07', '07', '07', '06', '06', '06', '05', '03', '03', '03', '03', '02', '02', '02', '02', '01', '01', 'absent', 'absent', '12', '12', '12', '12', '12', '12', '11', '11', '11', '10', '10', '09', '08', '08', '08', '08', '08', '08', '07', '07', '07', '07', '07', '07', '07', '06', '06', '06', '06', '06', '06', '05', '05', '05', '04', '04', '04', '04', '03', '03', '03', '03', '02', '01', '01', '01', '01', 'absent', 'absent', 'absent', '11', '10', '09', '09', '09', '09', '09', '09', '08', '08', '08', '08', '07', '07', '07', '07', '07', '07', '07', '06', '06', '06', '06', '06', '05', '03', '03', '03', '02', '02', '02', '02', '02', '02', '02', '02', '01', 'absent', 'absent', 'absent', '12', '12', '12', '11', '10', '11', '10', '10', '10', '10', '09', '09', '09', '09', '09', '08', '08', '08', '08', '08', '08', '07', '07', '07', '07', '06', '06', '05', '05', '05', '05', '05', '05', '05', '03', '05', '03', '03', '03', '03', '02', '02', '02', '02', '02', '01', '01', 'absent', 'absent', '12', '12', '11', '11', '11', '11', '10', '10', '08', '08', '08', '07', '07', '07', '07', '07', '06', '05', '04', '04', '04', '03', '03', '03', '03', '01', '01', '01', '01', '01', '01', 'absent', 'absent', 'absent', 'absent', '12', '12', '12', '11', '11', '10', '09', '08', '08', '08', '08', '06', '05', '05', '05', '05', '05', '04', '04', '03', '03', '03', '03', '02', 'absent', '12', '12', '11', '11', '10', '09', '09', '09', '08', '08', '07', '07', '06', '06', '06', '04', '04', '04', '03', '02', '02', '01', '01', 'absent', 'absent', '12', '12', '12', '12', '11', '10', '08', '08', '08', '08', '08', '07', '06', '06', '05', '05', '04', '04', '03', '03', '03', '03', '02', '02', '02', '01', '12', '12', '11', '11', '11', '11', '11', '10', '10', '10', '09', '09', '09', '09', '09', '09', '08', '08', '07', '07', '07', '07', '06', '06', '06', '06', '05', '04', '03', '03', '03', '03', '02', '01', '01', '01', '01', '01', 'absent', '12', '12', '12', '11', '11', '11', '11', '10', '10', '10', '09', '08', '08', '08', '08', '07', '07', '07', '07', '07', '07', '07', '07', '07', '06', '06', '06', '06', '06', '05', '05', '04', '04', '04', '03', '03', '03', '03', '03', '03', '02', '02', '02', '02', '02', '02', '01', 'absent', 'absent', '12', '11', '09', '09', '09', '09', '09', '09', '09', '08', '08', '08', '08', '08', '08', '07', '07', '07', '06', '05', '04', '04', '04', '04', '04', '03', '03', '02', '02', '02', '02', '01', '01', '01', '01', '01', 'absent', 'absent', '12', '12', '12', '12', '12', '11', '11', '11', '09', '09', '09', '09', '09', '08', '08', '08', '06', '04', '03', '03', '03', '02', '01', '01', 'absent', 'absent', 'absent', '12', '12', '12', '12', '12', '12', '12', '10', '10', '10', '10', '10', '09', '09', '08', '08', '08', '07', '06', '06', '06', '05', '05', '04', '04', '04', '03', '03', '02', '02', '01', '01', '01', 'absent', 'absent', '12', '12', '12', '11', '11', '10', '10', '10', '09', '09', '09', '08', '07', '07', '06', '06', '04', '04', '04', '04', '04', '04', '03', '01', 'absent', 'absent', 'absent', '12', '12', '12', '12', '11', '10', '10', '09', '09', '09', '09', '09', '09', '08', '07', '06', '06', '06', '06', '06', '04', '04', '04', '03', '03', '02', '01', '01', '01', '01', '01', '01', '01', '01', 'absent', 'absent', 'absent', 'absent', 'absent', 'absent', 'absent', 'absent', '11', '11', '11', '10', '09', '08', '08', '08', '08', '08', '07', '07', '07', '06', '06', '06', '05', '05', '05', '05', '04', '04', '03', '03', '02', '02', '01', '01', 'absent', '12', '12', '12', '12', '12', '12', '11', '11', '11', '10', '10', '10', '09', '09', '08', '08', '08', '08', '08', '07', '07', '07', '07', '07', '06', '06', '06', '05', '05', '04', '04', '04', '04', '04', '03', '03', '03', '02', '02', '02', '02', '02', '02', '01', 'absent', 'absent', 'absent', '12', '12', '12', '12', '12', '11', '11', '11', '11', '11', '10', '10', '10', '09', '09', '09', '09', '09', '09', '08', '08', '08', '08', '08', '08', '08', '08', '08', '08', '07', '07', '07', '06', '06', '05', '05', '04', '03', '03', '03', '03', '03', '03', '02', '01', '01', '01', '01', '12', '12', '12', '12', '12', '11', '11', '10', '10', '09', '09', '09', '09', '09', '09', '09', '08', '08', '08', '08', '08', '08', '08', '08', '08', '08', '07', '07', '07', '07', '07', '07', '07', '06', '06', '06', '06', '05', '05', '05', '05', '05', '04', '04', '03', '03', '02', '01', '01', '01', '01', '01', '01', '01', '01', '01', '01', 'absent', '12', '12', '12', '11', '11', '11', '11', '10', '10', '10', '10', '10', '09', '09', '09', '08', '08', '07', '07', '07', '06', '06', '06', '06', '06', '05', '05', '05', '05', '05', '04', '04', '04', '04', '04', '03', '03', '02', '02', '01', '01', '01', '01', '01', 'absent', 'absent', 'absent', 'absent', 'absent', 'absent', 'absent', '12', '12', '12', '12', '12', '11', '11', '11', '11', '10', '10', '10', '09', '09', '09', '08', '08', '08', '08', '08', '08', '08', '07', '07', '07', '07', '07', '07', '07', '06', '06', '06', '06', '06', '06', '05', '05', '05', '04', '03', '03', '03', '03', '02', '02', '02', '02', '02', '02', '02', '02', '02', '02', '02', '02', '01', '01', '01', '01', '01', '01', '01', '01', '01', '01', '01', '12', '12', '12', '12', '12', '12', '12', '12', '12', '12', '12', '11', '11', '11', '11', '11', '11', '11', '11', '11', '10', '10', '09', '09', '09', '09', '09', '08', '07', '07', '07', '07', '07', '06', '06', '05', '05', '04', '04', '04', '04', '04', '04', '03', '02', '02', '02', '02', '02', '01', '01', '01', '01', '01', '01', '01', '01', '01', '01', 'absent', 'absent', '12', '12', '12', '11', '11', '11', '11', '11', '10', '10', '10', '10', '10', '10', '09', '09', '09', '09', '08', 'absent', '08', '08', '08', '08', '08', '08', '08', '08', '08', '07', '07', '07', '07', '07', '07', '06', '06', '06', '06', '06', '06', '06', '06', '06', '06', '06', '05', '05', '05', '04', '04', '04', '04', '03', '03', '03', '02', '02', '02', '02', '02', '02', '02', '02', '01', '01', '01', '01', '01', '01', '01', '01', '01', '01', '01', '01', '01', '01', '01', '01', '01', '01', '01', 'absent', 'absent', 'absent', '12', '12', '12', '12', '12', '12', '12', '12', '11', '10', '10', '10', '10', '09', '09', '09', '09', '09', '09', '09', '08', '08', '08', '08', '08', '07', '07', '07', '07', '07', '06', '06', '06', '06', '06', '05', '05', '05', '05', '04', '04', '04', '04', '04', '04', '04', '04', '04', '04', '04', '03', '03', '03', '03', '03', '03', '03', '02', '02', '02', '02', '02', '02', '02', '01', '01', '01', '01', '01', '01', '01', '01', '01', '01', 'absent', '01', 'absent', 'absent', 'absent', '12', '12', '12', '12', '12', '11', '11', '11', '11', '11', '11', '11', '10', '10', '10', '10', '10', '10', '10', '10', '09', '09', '09', '09', '09', '08', '08', '08', '08', '08', '08', '08', '08', '08', '08', '08', '08', '07', '07', '07', '07', '06', '06', '06', '06', '06', '06', '06', '05', '05', '05', '05', '05', '04', '04', '04', '04', '04', '04', '04', '04', '04', '04', '04', '04', '04', '03', '03', '02', '02', '02', '02', '02', '02', '02', '02', '01', '01', '01', '01', '01', '01', '01', 'absent', 'absent', 'absent', 'absent', 'absent', 'absent', 'absent', 'absent', 'absent', 'absent', '12', '12', '12', '12', '12', '12', '12', '12', '12', '11', '11', '11', '11', '11', '11', '11', '11', '11', '10', '10', '10', '10', '10', '09', '09', '09', '09', '09', '09', '09', '09', '08', '08', '08', '08', '08', '08', '08', '08', '08', '08', '08', '08', '08', '08', '07', '07', '07', '07', '07', '07', '07', '07', '07', '07', '06', '06', '06', '06', '05', '05', '05', '05', '05', '04', '04', '04', '04', '04', '03', '03', '03', '02', '02', '02', '02', '02', '01', '01', '01', '01', '01', '01', '01', '01', '01', 'absent', 'absent', 'absent', 'absent', 'absent', 'absent', 'absent', '12', '12', '12', '12', '12', '11', '11', '11', '11', '10', '10', '10', '10', '09', '09', '09', '08', '08', '07', '07', '07', '07', '07', '07', '07', '07', '07', '07', '07', '06', '06', '06', '06', '06', '04', '04', '04', '04', '04', '02', '02', '01', '01', '01', '01', 'absent', 'absent', 'absent', 'absent', 'absent', 'absent', 'absent', 'absent', 'absent', '12', '12', '12', '12', '12', '12', '11', '11', '10', '10', '09', '08', '07', '07', '07', '06', '05', '05', '05', '04', '04', '04', '04', '04', '04', '02', '02', '02', '02', '01', 'absent', 'absent', 'absent', 'absent', 'absent', 'absent', 'absent', 'absent', 'absent', 'absent', 'absent', '12', '12', '12', '12', '10', '10', '10', '10', '09', '09', '09', '09', '08', '08', '08', '08', '08', '08', '08', '08', '08', '08', '08', '07', '07', '07', '07', '07', '06', '06', '06', '05', '05', '05', '03', '03', '03', '03', '02', '02', '01', '01', '01', 'absent', 'absent', 'absent', 'absent', 'absent', 'absent', 'absent', 'absent', '12', '12', '11', '11', '10', '09', '09', '09', '09', '09', '08', '08', '08', '08', '08', '08', '08', '07', '07', '07', '07', '05', '05', '04', '04', '04', '03', '03', '03', '02', '02', '02', '02', '02', '02', '01', '01', 'absent', 'absent', 'absent', 'absent', 'absent', 'absent', '12', '12', '12', '12', '11', '10', '10', '10', '10', '09', '09', '09', '08', '08', '08', '07', '07', '07', '07', '07', '07', '07', '07', '06', '06', '06', '05', '05', '04', '04', '02', '01', '01', '01', '01', 'absent', 'absent', 'absent', 'absent', 'absent', 'absent', 'absent', '12', '12', '12', '12', '10', '09', '09', '09', '09', '09', '08', '07', '07', '07', '07', '07', '07', '07', '07', '06', '04', '04', '04', '04', '03', '03', '03', '03', '02', '02', '02', '01', '01', 'absent', 'absent', 'absent', '12', '12', '12', '08', '08', '12', '12', '10', '08', '08', '07', '07', '07', '07', '07', '07', '05', '05', '05', '04', '04', '03', '01', '01', 'absent', 'absent', 'absent', 'absent', 'absent', '12', '12', '12', '12', '11', '11', '11', '11', '10', '10', '09', '09', '09', '08', '08', '08', '08', '07', '07', '06', '06', '05', '05', '03', '03', '03', '02', '02', '02', '01', '01', 'absent', '12', '12', '12', '11', '11', '11', '10', '10', '08', '08', '07', '07', '07', '07', '07', '07', '07', '06', '06', '05', '05', '04', '04', '03', '03', '03', '02', '02', '01', '01', 'absent', 'absent', 'absent', 'absent', 'absent', 'absent', 'absent', 'absent', 'absent', 'absent', 'absent', 'absent', 'absent', '12', '12', '11', '11', '08', '08', '08', '08', '08', '07', '07', '07', '07', '06', '05', '05', '04', '04', '04', '03', '01', '01', '01', '01', 'absent', 'absent', 'absent', 'absent', 'absent', 'absent', 'absent', '12', '12', '12', '12', '12', '12', '11', '09', '09', '09', '09', '09', '09', '08', '08', '08', '07', '06', '05', '04', '03', '03', '03', '02', '02', '01', 'absent', 'absent', 'absent', 'absent', '12', '12', '12', '11', '11', '11', '11', '11', '11', '10', '10', '08', '07', '07', '07', '07', '06', '06', '05', '04', '04', '04', '04', '03', '03', '02', '02', '02', '01', '01', '12', '12', '11', '10', '10', '08', '08', '07', '07', '06', '05', '04', '04', '03', '02', '02', '02', '01', '01', '01', '01', '01', '01', 'absent', 'absent', 'absent', '09', '09', '09', '09', '08', '08', '07', '07', '06', '05', '03', '02', 'absent', 'absent', 'absent', 'absent', '12', '12', '11', '11', '10', '10', '10', '10', '10', '10', '09', '09', '08', '07', '06', '05', '05', '05', '04', '03', '03', '03', '02', '02', '01', '01', '01', '01', 'absent', 'absent', 'absent', '12', '12', '11', '11', '10', '09', '08', '07', '07', '07', '06', '05', '05', '05', '05', '05', '04', '03', '03', '03', '03', '01', 'absent', 'absent', 'absent', 'absent', 'absent', 'absent', '12', '11', '11', '11', '11', '11', '11', '11', '11', '11', '11', '10', '09', '09', '09', '09', '08', '07', '07', '06', '06', '06', '06', '05', '04', '03', '03', '01', '01', '01', 'absent', 'absent', 'absent', 'absent', 'absent', 'absent', 'absent', 'absent', 'absent', 'absent', 'absent', '12', '12', '11', '11', '11', '11', '09', '08', '08', '08', '07', '07', '06', '06', '03', '03', '02', '02', '01', '01', 'absent', 'absent', 'absent', 'absent', 'absent', 'absent', 'absent', '12', '12', '12', '12', '09', '07', '07', '06', '03', '03', '02', '02', '02', '01', '01', '01', '01', '01', 'absent', 'absent', 'absent', 'absent', 'absent', 'absent', '12', '12', '11', '11', '11', '11', '11', '10', '10', '09', '08', '07', '07', '07', '05', '04', '03', '02', '02', '01', 'absent', 'absent', 'absent', 'absent', 'absent', '12', '10', '08', '08', '07', '07', '07', '07', '06', '06', '05', '05', '05', '03', '03', '01', '01', '01', '01', 'absent', 'absent', 'absent', 'absent', 'absent', '11', '11', '11', '10', '10', '10', '10', '09', '09', '09', '09', '08', '08', '08', '07', '07', '06', '06', '06', '05', '05', '03', '03', '02', '02', '02', '02', '02', '01', 'absent', '12', '12', '12', '12', '12', '11', '09', '09', '08', '08', '08', '08', '08', '07', '07', '07', '07', '06', '06', '04', '04', '03', '03', '03', '03', '02', '02', '02', '01', '01', '01', 'absent', '12', '11', '09', '09', '08', '08', '08', '07', '07', '07', '07', '06', '06', '06', '06', '05', '05', '04', '04', '04', '03', '03', '03', '03', '03', '03', '03', '02', '01', '01', '01', '01', '12', '12', '12', '12', '10', '10', '10', '09', '08', '08', '08', '08', '08', '07', '06', '06', '04', '04', '04', '04', '03', '03', '02', '02', '01', '01', '01', '11', '11', '10', '09', '08', '08', '08', '07', '07', '06', '06', '06', '05', '05', '06', '05', '04', '02', '02', '02', '02', '01', '12', '12', '11', '10', '10', '09', '08', '08', '08', '08', '08', '07', '07', '06', '06', '06', '05', '05', '04', '04', '02', '02', '02', '01', '01', '01', 'absent', '11', '09', '09', '09', '09', '08', '08', '08', '08', '08', '08', '08', '08', '07', '07', '06', '06', '06', '05', '04', '03', '03', '03', '02', '01', '01', '01', 'absent', 'absent', '12', '12', '12', '12', '11', '09', '09', '08', '08', '08', '07', '07', '06', '05', '05', '05', '04', '03', '02', '02', '02', '01', '01', '01', 'absent', 'absent', '12', '12', '12', '12', '12', '12', '11', '11', '10', '10', '09', '08', '07', '07', '06', '05', '04', '04', '04', '04', '04', '03', '03', '03', '03', '02', '02', '02', '01', '01', '01', '01', '01', 'absent', 'absent', 'absent', 'absent', 'absent', '12', '11', '11', '11', '11', '09', '08', '07', '07', '06', '05', '04', '04', '04', '04', '04', '03', '02', '02', '02', '01', '01', '01', '01', '01', 'absent', '12', '11', '10', '10', '10', '07', '05', '05', '04', '04', '03', '02', '02', '02', '01', '01', '01', 'absent', 'absent', '12', '11', '10', '10', '10', '09', '08', '07', '07', '07', '07', '05', '04', '04', '03', '01', '01', 'absent', 'absent', 'absent', 'absent', '11', '11', '11', '09', '09', '08', '06', '05', '03', '03', '03', '01', '01', 'absent', '11', '11', '11', '10', '10', '07', '07', '07', '06', '04', '04', '04', '03', '03', '02', '02', '01', '01', '01', '12', '12', '11', '11', '10', '10', '10', '08', '07', '06', '06', '05', '05', '03', '02', '01', '01', '01', 'absent', 'absent', 'absent', 'absent', '12', '12', '09', '10', '09', '09', '09', '07', '06', '05', '05', '04', '03', '03', '03', '02', '02', '01', '01', '01', '01', '12', '11', '11', '11', '10', '10', '09', '08', '08', '07', '01', '11', '08', '11', '11', '07', '07', '06', '06', '03', '01', '02', '01', '01', 'absent', 'absent', 'absent', '12', '12', '11', '09', '08', '05', '04', '03', '01', '01', '01', '01', 'absent', 'absent', '11', '11', '09', '03', 'absent', '12', '11', '09', '09', '09', '07', '07', '06', '05', '05', 'absent', '12', '12', '12', '11', '11', '11', '10', '08', '07', '07', '07', '07', '07', '07', '07', '07', '07', '07', '07', '06', '06', '06', '04', '04', '03', '12', '11', '11', '08', '07', '07', '05', '03', '02', '01', '01', 'absent', '12', '10', '09', '09', '07', '07', '07', '06', '06', '05', '05', '03', '03', '03', '02', '02', '01', 'absent', '12', '12', '11', '11', '09', '09', '08', '08', '08', '07', '07', '05', '05', '03', '01', 'absent', 'absent', 'absent', '11', '08', '07', '07', '05', '03', '02', '02', '02', '01', '01', '01', '01', 'absent', '11', '10', '10', '09', '09', '09', '07', '07', '05', '05', '05', '04', '03', '01', 'absent', 'absent', '12', '12', '11', '11', '06', '06', '05', '03', '03', '03', '02', '01', 'absent', 'absent', '12', '12', '12', '11', '09', '08', '07', '07', '06', '06', '06', '04', '04', '04', '03', '01', '01', 'absent', '12', '12', '09', '09', '08', '07', '07', '06', '06', '06', '05', '05', '01', '12', '10', '10', '10', '10', '10', '10', '09', '09', '08', '08', '08', '07', '07', '07', '04', '03', '03', '02', '02', '02', 'absent', 'absent', '11', '10', '10', '10', '10', '09', '09', '09', '09', '08', '08', '07', '07', '04', '04', '04', '04', '04', '02', '01', '01', '12', '12', '09', 'absent', '08', '08', '08', '07', '07', '07', '07', '05', '04', '03', '03', '02', '01', 'absent', '11', '10', '09', '08', '07', '07', '07', '02', '02', '01', 'absent', 'absent', 'absent', 'absent', '10', '09', '07', '06', '05', '03', '03', '01', 'absent', 'absent', '12', '11', '11', '08', '08', '08', '07', '07', '06', '06', '04', '02', '01', '01', '01', '12', '10', '09', '07', '07', '06', '06', '01', 'absent', '12', '11', '10', '09', '09', '09', '08', '07', '07', '07', '01', 'absent', 'absent', '12', '11', '10', '10', '10', '09', '08', '08', '08', '08', '08', '07', '06', '06', '05', '05', '01', 'absent', 'absent', 'absent', '12', '10', '09', '09', '09', '08', '07', '07', '07', '07', '06', '04', '01', 'absent', 'absent', 'absent', 'absent', 'absent', 'absent', 'absent', 'absent', '12', '10', '10', '09', '09', '07', '06', '03', '03', 'absent', 'absent', '12', '12', '12', '11', '11', '09', '07', '06', '01', 'absent', 'absent', '12', '11', '11', '09', '09', '09', '08', '08', '07', '06', '06', '05', '05', '04', '04', '03', '03', '02', '02', 'absent', '12', '11', '10', '09', '09', '09', '08', '08', '07', '06', '06', '06', '06', '04', '04', '10', '10', '07', '06', '06', '05', '05', '04', '04', '04', '01', '01', 'absent', '12', '11', '11', '09', '06', '06', '05', '04', '03', '03', 'absent', '12', '12', '11', '09', '08', '08', '06', '03', '01', '12', '12', '10', '08', '08', '08', '06', '06', '06', '05', '03', '02', 'absent', 'absent', 'absent', 'absent', 'absent', '11', '11', '11', '10', '07', '07', '07', '01', '01', '12', '12', '12', '10', '08', '08', '07', '07', '07', '06', '06', '02', '01', '02', 'absent', '12', '12', '10', '10', '09', '09', '07', '03', '02', '02', '01', '01', 'absent', '08', '08', '08', '06', '06', '05', '04', '04', '03', '03', '02', '01', '01', '01', 'absent', '11', '11', '08', '07', '07', '07', '04', '04', '03', '12', '12', '08', '08', '04', '01', '01', '12', '12', '10', '10', '09', '07', '02', '02', '01', 'absent', 'absent', 'absent', 'absent', '12', '11', '11', '09', '05', '05', '04', '02', '01', '01', 'absent', 'absent', '11', '10', '09', '08', '08', '06', '06', 'absent', 'absent', '11', '10', '08', '07', '05', '05', '05', '05', '05', '01', '01', 'absent', 'absent', 'absent', 'absent', '12', '11', '09', '08', '07', '03', '03', 'absent', '11', '10', '10', '09', '09', '09', '08', '08', '06', '03', '02', '02', 'absent', '12', '12', '12', '09', '08', '04', '04', '03', '03', '02', '01', '01', '01', 'absent', '10', '09', '06', '05', '02', 'absent', 'absent', 'absent', 'absent', '11', '08', '03', '01', '11', 'absent', '11', '07', '07', '07', '06', '06', '06', '06', '04', '02', '01', '07', '06', '01', 'absent', '11', '11', '10', '08', '04', '02', '01', 'absent', '12', '08', '08', '05', '05', '03', 'absent', 'absent', 'absent', '07', '06', '06', '05', '05', '05', '01', 'absent', '04', '04', '09', '05', '01', '01', 'absent', 'absent', '08', '08', '06', '01', 'absent', '07', '04', '09', '07', '03', 'absent', '10', '09', '09', '08', '08', '07', '05', '04', '04', '01', '01', '01', 'absent', 'absent', '12', '09', '07', '04', '03', '02', '01', 'absent', 'absent', 'absent', 'absent', '12', '12', '12', '08', '08', '07', '07', '07', '06', '05', 'absent', 'absent', '11', '09', '03', '02', '01', '12', '10', '08', '04', '04', '03', '03', '03', '08', '08', '04', '03', '01', '01', '05', '11', '11', '06', '02', '11', '09', '07', '04', '03', '02', 'absent', '11', '09', '07', 'absent', 'absent', 'absent', 'absent', 'absent', '12', '10', '10', '08', '08', '07', '05', '02', '01', 'absent', '06', '03', 'absent', '10', 'absent', '12', '12', '10', '09', '06', '06', '01', '08', '07', '07', '11', '09', '07', '07', '03', '02', 'absent', 'absent', 'absent', '12', '09', '08', '12', '11', '09', '09', '07', 'absent', '07', '07', '05', 'absent', '07', '07', 'absent', 'absent', '03', '12', '09', '07', '04', '02', '11', '04', 'absent', 'absent', '09', '07', '01', 'absent', '08', '07', 'absent', '02', '01', '07', '06', '01', '08', '01', '07', '07', '04', '04', '07', '06', 'absent', '09', 'absent', '06', '06', 'absent', '12', '11', '08', '08', '05', 'absent', 'absent', '12', '04', '07', '05', '06', '06', '05', '02', '09', '10', '07', '03', '09', '12', '06', '02', '01', '04', '09', '02', '05', '03', '04', '12', 'absent', '05', '09', 'absent', '05', '07', '08', '09', '12', '03', '08', 'absent', 'absent', 'absent', '07', 'absent', 'absent', 'absent', '10', '07', 'absent', 'absent', 'absent', '12', '04', 'absent', 'absent', '06', '03', 'absent', 'absent', 'absent', 'absent', 'absent', 'absent', 'absent', 'absent', 'absent', '01', 'absent', 'absent', 'absent', 'absent', 'absent', 'absent', 'absent', 'absent', 'absent', 'absent', 'absent', 'absent', 'absent', 'absent', 'absent', 'absent', 'absent', 'absent', 'absent', 'absent', 'absent', 'absent', 'absent', 'absent', 'absent', 'absent', 'absent', 'absent', 'absent', 'absent', 'absent', 'absent', 'absent', 'absent', 'absent', 'absent', 'absent', 'absent', 'absent', 'absent', 'absent', 'absent', 'absent', 'absent', 'absent', 'absent', 'absent', 'absent', 'absent', 'absent', 'absent', 'absent', 'absent', 'absent', 'absent', 'absent', 'absent', 'absent', 'absent', 'absent', 'absent', 'absent', 'absent', 'absent', 'absent', 'absent', 'absent', 'absent', 'absent', 'absent', 'absent', 'absent', 'absent', 'absent', 'absent', 'absent', 'absent', 'absent', 'absent', 'absent', 'absent', 'absent', 'absent', 'absent', 'absent', 'absent', 'absent', 'absent', 'absent', 'absent', 'absent', 'absent', 'absent', 'absent', 'absent', 'absent', 'absent', 'absent', 'absent', 'absent', 'absent', 'absent', 'absent', 'absent', 'absent', 'absent', 'absent', 'absent', 'absent', 'absent', 'absent', 'absent', 'absent', 'absent', 'absent', 'absent', 'absent', 'absent', 'absent', 'absent', 'absent', 'absent', 'absent', 'absent', 'absent', 'absent', 'absent', 'absent', 'absent', 'absent', 'absent', 'absent', 'absent']\n"
     ]
    }
   ],
   "source": [
    "print(list_months)"
   ]
  },
  {
   "cell_type": "code",
   "execution_count": 41,
   "id": "08674e3e",
   "metadata": {},
   "outputs": [],
   "source": [
    "sh_attacks6[\"Month\"] = list_months\n",
    "#Añadir una nueva columna al data Frame con el mes donde el tiburón decidio atacar."
   ]
  },
  {
   "cell_type": "code",
   "execution_count": 42,
   "id": "57a7411b",
   "metadata": {},
   "outputs": [
    {
     "data": {
      "text/html": [
       "<div>\n",
       "<style scoped>\n",
       "    .dataframe tbody tr th:only-of-type {\n",
       "        vertical-align: middle;\n",
       "    }\n",
       "\n",
       "    .dataframe tbody tr th {\n",
       "        vertical-align: top;\n",
       "    }\n",
       "\n",
       "    .dataframe thead th {\n",
       "        text-align: right;\n",
       "    }\n",
       "</style>\n",
       "<table border=\"1\" class=\"dataframe\">\n",
       "  <thead>\n",
       "    <tr style=\"text-align: right;\">\n",
       "      <th></th>\n",
       "      <th>Case_Number</th>\n",
       "      <th>Year</th>\n",
       "      <th>Type</th>\n",
       "      <th>Country</th>\n",
       "      <th>Area</th>\n",
       "      <th>Activity</th>\n",
       "      <th>Sex_</th>\n",
       "      <th>Age</th>\n",
       "      <th>Injury</th>\n",
       "      <th>Fatal_(Y/N)</th>\n",
       "      <th>Time</th>\n",
       "      <th>Species_</th>\n",
       "      <th>Investigator_or_Source</th>\n",
       "      <th>Month</th>\n",
       "    </tr>\n",
       "  </thead>\n",
       "  <tbody>\n",
       "    <tr>\n",
       "      <th>3481</th>\n",
       "      <td>1968.03.00</td>\n",
       "      <td>1968.0</td>\n",
       "      <td>Invalid</td>\n",
       "      <td>USA</td>\n",
       "      <td>Florida</td>\n",
       "      <td>Treading water</td>\n",
       "      <td>M</td>\n",
       "      <td>28</td>\n",
       "      <td>No injury</td>\n",
       "      <td>absent</td>\n",
       "      <td>Night</td>\n",
       "      <td>Invalid</td>\n",
       "      <td>H.D. Baldridge (1994) SAF Case #1530</td>\n",
       "      <td>03</td>\n",
       "    </tr>\n",
       "    <tr>\n",
       "      <th>6302</th>\n",
       "      <td>0</td>\n",
       "      <td>absent</td>\n",
       "      <td>absent</td>\n",
       "      <td>absent</td>\n",
       "      <td>absent</td>\n",
       "      <td>absent</td>\n",
       "      <td>absent</td>\n",
       "      <td>absent</td>\n",
       "      <td>absent</td>\n",
       "      <td>absent</td>\n",
       "      <td>absent</td>\n",
       "      <td>absent</td>\n",
       "      <td>absent</td>\n",
       "      <td>absent</td>\n",
       "    </tr>\n",
       "  </tbody>\n",
       "</table>\n",
       "</div>"
      ],
      "text/plain": [
       "     Case_Number    Year     Type Country     Area        Activity    Sex_  \\\n",
       "3481  1968.03.00  1968.0  Invalid     USA  Florida  Treading water       M   \n",
       "6302           0  absent   absent  absent   absent          absent  absent   \n",
       "\n",
       "         Age     Injury Fatal_(Y/N)    Time Species_  \\\n",
       "3481      28  No injury      absent   Night  Invalid   \n",
       "6302  absent     absent      absent  absent   absent   \n",
       "\n",
       "                    Investigator_or_Source   Month  \n",
       "3481  H.D. Baldridge (1994) SAF Case #1530      03  \n",
       "6302                                absent  absent  "
      ]
     },
     "execution_count": 42,
     "metadata": {},
     "output_type": "execute_result"
    }
   ],
   "source": [
    "sh_attacks6.sample(2)"
   ]
  },
  {
   "cell_type": "code",
   "execution_count": 43,
   "id": "32113d3c",
   "metadata": {},
   "outputs": [
    {
     "data": {
      "text/plain": [
       "array(['Boating', 'Unprovoked', 'Invalid', 'Provoked', 'Questionable',\n",
       "       'Sea Disaster', 'absent', 'Boat', 'Boatomg'], dtype=object)"
      ]
     },
     "execution_count": 43,
     "metadata": {},
     "output_type": "execute_result"
    }
   ],
   "source": [
    "sh_attacks6.Type.unique()"
   ]
  },
  {
   "cell_type": "code",
   "execution_count": 44,
   "id": "4e9f66f7",
   "metadata": {},
   "outputs": [],
   "source": [
    "type_df = sh_attacks6[\"Type\"]\n",
    "#Crear un Data Frame solo con la columna de tipo de accidente."
   ]
  },
  {
   "cell_type": "code",
   "execution_count": 45,
   "id": "48dcc981",
   "metadata": {},
   "outputs": [
    {
     "data": {
      "text/plain": [
       "pandas.core.series.Series"
      ]
     },
     "execution_count": 45,
     "metadata": {},
     "output_type": "execute_result"
    }
   ],
   "source": [
    "type(type_df)\n",
    "# Entiendo que los accidentes del tipo Boating, Boat y Boatomg son todos accidentes de barco.\n",
    "# Por lo tanto, paso a llamar a todos estos accidentes de tipo Boat."
   ]
  },
  {
   "cell_type": "code",
   "execution_count": 46,
   "id": "09bc8a14",
   "metadata": {},
   "outputs": [],
   "source": [
    "type_df1 = type_df.replace({'Boating':'Boat'})\n",
    "#Reemplazo boating por boat"
   ]
  },
  {
   "cell_type": "code",
   "execution_count": 47,
   "id": "6b259fca",
   "metadata": {},
   "outputs": [
    {
     "data": {
      "text/plain": [
       "array(['Boat', 'Unprovoked', 'Invalid', 'Provoked', 'Questionable',\n",
       "       'Sea Disaster', 'absent', 'Boatomg'], dtype=object)"
      ]
     },
     "execution_count": 47,
     "metadata": {},
     "output_type": "execute_result"
    }
   ],
   "source": [
    "type_df1.unique()"
   ]
  },
  {
   "cell_type": "code",
   "execution_count": 48,
   "id": "ac85d697",
   "metadata": {},
   "outputs": [],
   "source": [
    "type_df2 = type_df1.replace({'Boatomg':'Boat'})\n",
    "# Reemplazo Boatomg por Boat"
   ]
  },
  {
   "cell_type": "code",
   "execution_count": 49,
   "id": "0d7d849b",
   "metadata": {},
   "outputs": [
    {
     "data": {
      "text/plain": [
       "array(['Boat', 'Unprovoked', 'Invalid', 'Provoked', 'Questionable',\n",
       "       'Sea Disaster', 'absent'], dtype=object)"
      ]
     },
     "execution_count": 49,
     "metadata": {},
     "output_type": "execute_result"
    }
   ],
   "source": [
    "type_df2.unique()"
   ]
  },
  {
   "cell_type": "code",
   "execution_count": 50,
   "id": "ab305f9e",
   "metadata": {},
   "outputs": [
    {
     "data": {
      "text/plain": [
       "0             Boat\n",
       "1       Unprovoked\n",
       "2          Invalid\n",
       "3       Unprovoked\n",
       "4         Provoked\n",
       "           ...    \n",
       "6299    Unprovoked\n",
       "6300    Unprovoked\n",
       "6301    Unprovoked\n",
       "6302        absent\n",
       "6303        absent\n",
       "Name: Type, Length: 6304, dtype: object"
      ]
     },
     "metadata": {},
     "output_type": "display_data"
    }
   ],
   "source": [
    "display(type_df2)"
   ]
  },
  {
   "cell_type": "code",
   "execution_count": 51,
   "id": "ef13a591",
   "metadata": {},
   "outputs": [],
   "source": [
    "list_types_of_accident = list(type_df2)"
   ]
  },
  {
   "cell_type": "code",
   "execution_count": 52,
   "id": "eee9a7ea",
   "metadata": {},
   "outputs": [],
   "source": [
    "sh_attacks6[\"Type_of_accident\"] = list_types_of_accident\n",
    "#Añadir una columna con el tipo de accidente detallado de manera correcta."
   ]
  },
  {
   "cell_type": "code",
   "execution_count": 53,
   "id": "3cdbfbdc",
   "metadata": {},
   "outputs": [
    {
     "data": {
      "text/plain": [
       "M         5094\n",
       "F          637\n",
       "absent     567\n",
       "M            2\n",
       "N            2\n",
       "lli          1\n",
       ".            1\n",
       "Name: Sex_, dtype: int64"
      ]
     },
     "execution_count": 53,
     "metadata": {},
     "output_type": "execute_result"
    }
   ],
   "source": [
    "sh_attacks6.Sex_.value_counts()"
   ]
  },
  {
   "cell_type": "code",
   "execution_count": 54,
   "id": "977dec1c",
   "metadata": {},
   "outputs": [],
   "source": [
    "Sex_df = sh_attacks6[\"Sex_\"]"
   ]
  },
  {
   "cell_type": "code",
   "execution_count": 55,
   "id": "896734d3",
   "metadata": {},
   "outputs": [],
   "source": [
    "Sex_df1 = Sex_df.replace({'M ':'M'})"
   ]
  },
  {
   "cell_type": "code",
   "execution_count": 56,
   "id": "b946abcb",
   "metadata": {},
   "outputs": [],
   "source": [
    "Sex_df2 = Sex_df1.replace({'N','lli', '.'}, 'absent')\n",
    "#Reemplazar todas las que no dicen nada por absent"
   ]
  },
  {
   "cell_type": "code",
   "execution_count": 57,
   "id": "9e4716d8",
   "metadata": {},
   "outputs": [],
   "source": [
    "list_Sex = list(Sex_df2)"
   ]
  },
  {
   "cell_type": "code",
   "execution_count": 58,
   "id": "5ac80344",
   "metadata": {},
   "outputs": [
    {
     "data": {
      "text/plain": [
       "array(['F', 'M', 'absent'], dtype=object)"
      ]
     },
     "execution_count": 58,
     "metadata": {},
     "output_type": "execute_result"
    }
   ],
   "source": [
    "Sex_df2.unique()"
   ]
  },
  {
   "cell_type": "code",
   "execution_count": 59,
   "id": "ac3896ed",
   "metadata": {},
   "outputs": [],
   "source": [
    "sh_attacks6[\"Sex\"] = list_Sex"
   ]
  },
  {
   "cell_type": "code",
   "execution_count": 60,
   "id": "5ba208ca",
   "metadata": {},
   "outputs": [
    {
     "data": {
      "text/html": [
       "<div>\n",
       "<style scoped>\n",
       "    .dataframe tbody tr th:only-of-type {\n",
       "        vertical-align: middle;\n",
       "    }\n",
       "\n",
       "    .dataframe tbody tr th {\n",
       "        vertical-align: top;\n",
       "    }\n",
       "\n",
       "    .dataframe thead th {\n",
       "        text-align: right;\n",
       "    }\n",
       "</style>\n",
       "<table border=\"1\" class=\"dataframe\">\n",
       "  <thead>\n",
       "    <tr style=\"text-align: right;\">\n",
       "      <th></th>\n",
       "      <th>Case_Number</th>\n",
       "      <th>Year</th>\n",
       "      <th>Type</th>\n",
       "      <th>Country</th>\n",
       "      <th>Area</th>\n",
       "      <th>Activity</th>\n",
       "      <th>Sex_</th>\n",
       "      <th>Age</th>\n",
       "      <th>Injury</th>\n",
       "      <th>Fatal_(Y/N)</th>\n",
       "      <th>Time</th>\n",
       "      <th>Species_</th>\n",
       "      <th>Investigator_or_Source</th>\n",
       "      <th>Month</th>\n",
       "      <th>Type_of_accident</th>\n",
       "      <th>Sex</th>\n",
       "    </tr>\n",
       "  </thead>\n",
       "  <tbody>\n",
       "    <tr>\n",
       "      <th>197</th>\n",
       "      <td>2016.12.01</td>\n",
       "      <td>2016.0</td>\n",
       "      <td>Unprovoked</td>\n",
       "      <td>AUSTRALIA</td>\n",
       "      <td>New South Wales</td>\n",
       "      <td>Surfing</td>\n",
       "      <td>M</td>\n",
       "      <td>65</td>\n",
       "      <td>Injuries to foot &amp; arm</td>\n",
       "      <td>N</td>\n",
       "      <td>09h00</td>\n",
       "      <td>White shark</td>\n",
       "      <td>B. Myatt, GSAF</td>\n",
       "      <td>12</td>\n",
       "      <td>Unprovoked</td>\n",
       "      <td>M</td>\n",
       "    </tr>\n",
       "    <tr>\n",
       "      <th>2840</th>\n",
       "      <td>1985.10.12</td>\n",
       "      <td>1985.0</td>\n",
       "      <td>Unprovoked</td>\n",
       "      <td>USA</td>\n",
       "      <td>Hawaii</td>\n",
       "      <td>Floating on inner tube after diving for lobster</td>\n",
       "      <td>M</td>\n",
       "      <td>24</td>\n",
       "      <td>Left arm lacerated</td>\n",
       "      <td>N</td>\n",
       "      <td>absent</td>\n",
       "      <td>1.8 m to 2.4 m [6' to 8'] shark</td>\n",
       "      <td>J. Borg, p.76; L. Taylor (1993), pp.106-107; O...</td>\n",
       "      <td>10</td>\n",
       "      <td>Unprovoked</td>\n",
       "      <td>M</td>\n",
       "    </tr>\n",
       "    <tr>\n",
       "      <th>356</th>\n",
       "      <td>2015.09.24</td>\n",
       "      <td>2015.0</td>\n",
       "      <td>Boating</td>\n",
       "      <td>USA</td>\n",
       "      <td>California</td>\n",
       "      <td>Kayak fishing</td>\n",
       "      <td>M</td>\n",
       "      <td>absent</td>\n",
       "      <td>No injury, kayak damaged</td>\n",
       "      <td>N</td>\n",
       "      <td>10h45-11h15</td>\n",
       "      <td>White shark, 19'</td>\n",
       "      <td>R. Collier</td>\n",
       "      <td>09</td>\n",
       "      <td>Boat</td>\n",
       "      <td>M</td>\n",
       "    </tr>\n",
       "  </tbody>\n",
       "</table>\n",
       "</div>"
      ],
      "text/plain": [
       "     Case_Number    Year        Type    Country             Area  \\\n",
       "197   2016.12.01  2016.0  Unprovoked  AUSTRALIA  New South Wales   \n",
       "2840  1985.10.12  1985.0  Unprovoked        USA           Hawaii   \n",
       "356   2015.09.24  2015.0     Boating        USA       California   \n",
       "\n",
       "                                             Activity Sex_     Age  \\\n",
       "197                                           Surfing    M      65   \n",
       "2840  Floating on inner tube after diving for lobster    M      24   \n",
       "356                                     Kayak fishing    M  absent   \n",
       "\n",
       "                        Injury Fatal_(Y/N)         Time  \\\n",
       "197     Injuries to foot & arm           N        09h00   \n",
       "2840        Left arm lacerated           N       absent   \n",
       "356   No injury, kayak damaged           N  10h45-11h15   \n",
       "\n",
       "                             Species_  \\\n",
       "197                       White shark   \n",
       "2840  1.8 m to 2.4 m [6' to 8'] shark   \n",
       "356                  White shark, 19'   \n",
       "\n",
       "                                 Investigator_or_Source Month  \\\n",
       "197                                      B. Myatt, GSAF    12   \n",
       "2840  J. Borg, p.76; L. Taylor (1993), pp.106-107; O...    10   \n",
       "356                                          R. Collier    09   \n",
       "\n",
       "     Type_of_accident Sex  \n",
       "197        Unprovoked   M  \n",
       "2840       Unprovoked   M  \n",
       "356              Boat   M  "
      ]
     },
     "execution_count": 60,
     "metadata": {},
     "output_type": "execute_result"
    }
   ],
   "source": [
    "sh_attacks6.sample(3)"
   ]
  },
  {
   "cell_type": "code",
   "execution_count": 61,
   "id": "49dc1223",
   "metadata": {},
   "outputs": [],
   "source": [
    "#COLUMNAS A ELIMINAR DE sh_attacks 6 : Case_Number, Sex_, Type"
   ]
  },
  {
   "cell_type": "code",
   "execution_count": 62,
   "id": "153c283d",
   "metadata": {},
   "outputs": [
    {
     "name": "stdout",
     "output_type": "stream",
     "text": [
      "['Case_Number', 'Year', 'Type', 'Country', 'Area', 'Activity', 'Sex_', 'Age', 'Injury', 'Fatal_(Y/N)', 'Time', 'Species_', 'Investigator_or_Source', 'Month', 'Type_of_accident', 'Sex']\n"
     ]
    }
   ],
   "source": [
    "print(list(sh_attacks6.columns))"
   ]
  },
  {
   "cell_type": "code",
   "execution_count": 63,
   "id": "28b8316b",
   "metadata": {},
   "outputs": [
    {
     "data": {
      "text/plain": [
       "array(['N', 'Y', 'absent', 'M', 'UNKNOWN', '2017', ' N', 'N ', 'y'],\n",
       "      dtype=object)"
      ]
     },
     "execution_count": 63,
     "metadata": {},
     "output_type": "execute_result"
    }
   ],
   "source": [
    "sh_attacks6[\"Fatal_(Y/N)\"].unique()"
   ]
  },
  {
   "cell_type": "code",
   "execution_count": 64,
   "id": "a4e8c42a",
   "metadata": {},
   "outputs": [],
   "source": [
    "Fatal_df = sh_attacks6[\"Fatal_(Y/N)\"]"
   ]
  },
  {
   "cell_type": "code",
   "execution_count": 65,
   "id": "6c85df0c",
   "metadata": {},
   "outputs": [],
   "source": [
    "Fatal_df1 = Fatal_df.replace({' N', 'N '}, 'N')"
   ]
  },
  {
   "cell_type": "code",
   "execution_count": 66,
   "id": "1167eaca",
   "metadata": {},
   "outputs": [],
   "source": [
    "Fatal_df2 = Fatal_df1.replace({'M', 'UNKNOWN', '2017'}, 'absent')"
   ]
  },
  {
   "cell_type": "code",
   "execution_count": 67,
   "id": "5e40b673",
   "metadata": {},
   "outputs": [],
   "source": [
    "Fatal_df3 = Fatal_df2.replace({'y'}, 'Y')"
   ]
  },
  {
   "cell_type": "code",
   "execution_count": 68,
   "id": "ab366e32",
   "metadata": {},
   "outputs": [],
   "source": [
    "list_fatal = list(Fatal_df3)"
   ]
  },
  {
   "cell_type": "code",
   "execution_count": 69,
   "id": "0f73025e",
   "metadata": {},
   "outputs": [],
   "source": [
    "sh_attacks6[\"Fatal_attack_(Y/N)\"] = list_fatal"
   ]
  },
  {
   "cell_type": "code",
   "execution_count": 70,
   "id": "894e4e11",
   "metadata": {},
   "outputs": [],
   "source": [
    "#COLUMNAS A ELIMINAR DE sh_attacks 6 : Case_Number, Sex_, Type, Fatal_(Y/N)"
   ]
  },
  {
   "cell_type": "code",
   "execution_count": 71,
   "id": "d502f205",
   "metadata": {},
   "outputs": [
    {
     "data": {
      "text/html": [
       "<div>\n",
       "<style scoped>\n",
       "    .dataframe tbody tr th:only-of-type {\n",
       "        vertical-align: middle;\n",
       "    }\n",
       "\n",
       "    .dataframe tbody tr th {\n",
       "        vertical-align: top;\n",
       "    }\n",
       "\n",
       "    .dataframe thead th {\n",
       "        text-align: right;\n",
       "    }\n",
       "</style>\n",
       "<table border=\"1\" class=\"dataframe\">\n",
       "  <thead>\n",
       "    <tr style=\"text-align: right;\">\n",
       "      <th></th>\n",
       "      <th>Case_Number</th>\n",
       "      <th>Year</th>\n",
       "      <th>Type</th>\n",
       "      <th>Country</th>\n",
       "      <th>Area</th>\n",
       "      <th>Activity</th>\n",
       "      <th>Sex_</th>\n",
       "      <th>Age</th>\n",
       "      <th>Injury</th>\n",
       "      <th>Fatal_(Y/N)</th>\n",
       "      <th>Time</th>\n",
       "      <th>Species_</th>\n",
       "      <th>Investigator_or_Source</th>\n",
       "      <th>Month</th>\n",
       "      <th>Type_of_accident</th>\n",
       "      <th>Sex</th>\n",
       "      <th>Fatal_attack_(Y/N)</th>\n",
       "    </tr>\n",
       "  </thead>\n",
       "  <tbody>\n",
       "    <tr>\n",
       "      <th>5093</th>\n",
       "      <td>1929.00.00.a</td>\n",
       "      <td>1929.0</td>\n",
       "      <td>Unprovoked</td>\n",
       "      <td>USA</td>\n",
       "      <td>Florida</td>\n",
       "      <td>Hardhat diving</td>\n",
       "      <td>M</td>\n",
       "      <td>27</td>\n",
       "      <td>Put hand through hatch, shark nearly bit off ...</td>\n",
       "      <td>N</td>\n",
       "      <td>absent</td>\n",
       "      <td>absent</td>\n",
       "      <td>R. McAllister; D. Baldridge, p.180</td>\n",
       "      <td>absent</td>\n",
       "      <td>Unprovoked</td>\n",
       "      <td>M</td>\n",
       "      <td>N</td>\n",
       "    </tr>\n",
       "    <tr>\n",
       "      <th>1824</th>\n",
       "      <td>2002.09.27.b</td>\n",
       "      <td>2002.0</td>\n",
       "      <td>Provoked</td>\n",
       "      <td>USA</td>\n",
       "      <td>Florida</td>\n",
       "      <td>Fishing</td>\n",
       "      <td>M</td>\n",
       "      <td></td>\n",
       "      <td>Left thumb lacerated PROVOKED INCIDENT</td>\n",
       "      <td>N</td>\n",
       "      <td>Afternoon</td>\n",
       "      <td>1.8 m [6'] blacktip shark</td>\n",
       "      <td>J. Eager, scubaradio.com</td>\n",
       "      <td>09</td>\n",
       "      <td>Provoked</td>\n",
       "      <td>M</td>\n",
       "      <td>N</td>\n",
       "    </tr>\n",
       "  </tbody>\n",
       "</table>\n",
       "</div>"
      ],
      "text/plain": [
       "       Case_Number    Year        Type Country     Area         Activity Sex_  \\\n",
       "5093  1929.00.00.a  1929.0  Unprovoked     USA  Florida  Hardhat diving     M   \n",
       "1824  2002.09.27.b  2002.0    Provoked     USA  Florida          Fishing    M   \n",
       "\n",
       "     Age                                             Injury Fatal_(Y/N)  \\\n",
       "5093  27  Put hand through hatch, shark nearly bit off ...           N   \n",
       "1824                 Left thumb lacerated PROVOKED INCIDENT           N   \n",
       "\n",
       "           Time                   Species_  \\\n",
       "5093     absent                     absent   \n",
       "1824  Afternoon  1.8 m [6'] blacktip shark   \n",
       "\n",
       "                   Investigator_or_Source   Month Type_of_accident Sex  \\\n",
       "5093  R. McAllister; D. Baldridge, p.180   absent       Unprovoked   M   \n",
       "1824             J. Eager, scubaradio.com      09         Provoked   M   \n",
       "\n",
       "     Fatal_attack_(Y/N)  \n",
       "5093                  N  \n",
       "1824                  N  "
      ]
     },
     "execution_count": 71,
     "metadata": {},
     "output_type": "execute_result"
    }
   ],
   "source": [
    "sh_attacks6.sample(2)"
   ]
  },
  {
   "cell_type": "code",
   "execution_count": 72,
   "id": "545c9ba3",
   "metadata": {},
   "outputs": [
    {
     "data": {
      "text/plain": [
       "(6304, 17)"
      ]
     },
     "execution_count": 72,
     "metadata": {},
     "output_type": "execute_result"
    }
   ],
   "source": [
    "sh_attacks6.shape"
   ]
  },
  {
   "cell_type": "code",
   "execution_count": 73,
   "id": "3a68409c",
   "metadata": {},
   "outputs": [
    {
     "data": {
      "text/plain": [
       "pandas.core.frame.DataFrame"
      ]
     },
     "execution_count": 73,
     "metadata": {},
     "output_type": "execute_result"
    }
   ],
   "source": [
    "type(sh_attacks6)"
   ]
  },
  {
   "cell_type": "code",
   "execution_count": 74,
   "id": "b71097da",
   "metadata": {},
   "outputs": [],
   "source": [
    "sh_attacks7 = sh_attacks6.drop(['Case_Number', 'Sex_', 'Type', 'Fatal_(Y/N)'], axis=1)\n",
    "#Al estar varias columnas duplicadas, he quitado todas las \"malas\""
   ]
  },
  {
   "cell_type": "code",
   "execution_count": 75,
   "id": "074fb8ee",
   "metadata": {},
   "outputs": [
    {
     "data": {
      "text/html": [
       "<div>\n",
       "<style scoped>\n",
       "    .dataframe tbody tr th:only-of-type {\n",
       "        vertical-align: middle;\n",
       "    }\n",
       "\n",
       "    .dataframe tbody tr th {\n",
       "        vertical-align: top;\n",
       "    }\n",
       "\n",
       "    .dataframe thead th {\n",
       "        text-align: right;\n",
       "    }\n",
       "</style>\n",
       "<table border=\"1\" class=\"dataframe\">\n",
       "  <thead>\n",
       "    <tr style=\"text-align: right;\">\n",
       "      <th></th>\n",
       "      <th>Year</th>\n",
       "      <th>Country</th>\n",
       "      <th>Area</th>\n",
       "      <th>Activity</th>\n",
       "      <th>Age</th>\n",
       "      <th>Injury</th>\n",
       "      <th>Time</th>\n",
       "      <th>Species_</th>\n",
       "      <th>Investigator_or_Source</th>\n",
       "      <th>Month</th>\n",
       "      <th>Type_of_accident</th>\n",
       "      <th>Sex</th>\n",
       "      <th>Fatal_attack_(Y/N)</th>\n",
       "    </tr>\n",
       "  </thead>\n",
       "  <tbody>\n",
       "    <tr>\n",
       "      <th>0</th>\n",
       "      <td>2018.0</td>\n",
       "      <td>USA</td>\n",
       "      <td>California</td>\n",
       "      <td>Paddling</td>\n",
       "      <td>57</td>\n",
       "      <td>No injury to occupant, outrigger canoe and pad...</td>\n",
       "      <td>18h00</td>\n",
       "      <td>White shark</td>\n",
       "      <td>R. Collier, GSAF</td>\n",
       "      <td>06</td>\n",
       "      <td>Boat</td>\n",
       "      <td>F</td>\n",
       "      <td>N</td>\n",
       "    </tr>\n",
       "    <tr>\n",
       "      <th>1</th>\n",
       "      <td>2018.0</td>\n",
       "      <td>USA</td>\n",
       "      <td>Georgia</td>\n",
       "      <td>Standing</td>\n",
       "      <td>11</td>\n",
       "      <td>Minor injury to left thigh</td>\n",
       "      <td>14h00  -15h00</td>\n",
       "      <td>absent</td>\n",
       "      <td>K.McMurray, TrackingSharks.com</td>\n",
       "      <td>06</td>\n",
       "      <td>Unprovoked</td>\n",
       "      <td>F</td>\n",
       "      <td>N</td>\n",
       "    </tr>\n",
       "    <tr>\n",
       "      <th>2</th>\n",
       "      <td>2018.0</td>\n",
       "      <td>USA</td>\n",
       "      <td>Hawaii</td>\n",
       "      <td>Surfing</td>\n",
       "      <td>48</td>\n",
       "      <td>Injury to left lower leg from surfboard skeg</td>\n",
       "      <td>07h45</td>\n",
       "      <td>absent</td>\n",
       "      <td>K.McMurray, TrackingSharks.com</td>\n",
       "      <td>06</td>\n",
       "      <td>Invalid</td>\n",
       "      <td>M</td>\n",
       "      <td>N</td>\n",
       "    </tr>\n",
       "    <tr>\n",
       "      <th>3</th>\n",
       "      <td>2018.0</td>\n",
       "      <td>AUSTRALIA</td>\n",
       "      <td>New South Wales</td>\n",
       "      <td>Surfing</td>\n",
       "      <td>absent</td>\n",
       "      <td>Minor injury to lower leg</td>\n",
       "      <td>absent</td>\n",
       "      <td>2 m shark</td>\n",
       "      <td>B. Myatt, GSAF</td>\n",
       "      <td>06</td>\n",
       "      <td>Unprovoked</td>\n",
       "      <td>M</td>\n",
       "      <td>N</td>\n",
       "    </tr>\n",
       "    <tr>\n",
       "      <th>4</th>\n",
       "      <td>2018.0</td>\n",
       "      <td>MEXICO</td>\n",
       "      <td>Colima</td>\n",
       "      <td>Free diving</td>\n",
       "      <td>absent</td>\n",
       "      <td>Lacerations to leg &amp; hand shark PROVOKED INCIDENT</td>\n",
       "      <td>absent</td>\n",
       "      <td>Tiger shark, 3m</td>\n",
       "      <td>A .Kipper</td>\n",
       "      <td>06</td>\n",
       "      <td>Provoked</td>\n",
       "      <td>M</td>\n",
       "      <td>N</td>\n",
       "    </tr>\n",
       "    <tr>\n",
       "      <th>...</th>\n",
       "      <td>...</td>\n",
       "      <td>...</td>\n",
       "      <td>...</td>\n",
       "      <td>...</td>\n",
       "      <td>...</td>\n",
       "      <td>...</td>\n",
       "      <td>...</td>\n",
       "      <td>...</td>\n",
       "      <td>...</td>\n",
       "      <td>...</td>\n",
       "      <td>...</td>\n",
       "      <td>...</td>\n",
       "      <td>...</td>\n",
       "    </tr>\n",
       "    <tr>\n",
       "      <th>6299</th>\n",
       "      <td>0.0</td>\n",
       "      <td>USA</td>\n",
       "      <td>North Carolina</td>\n",
       "      <td>Swimming</td>\n",
       "      <td>absent</td>\n",
       "      <td>FATAL</td>\n",
       "      <td>absent</td>\n",
       "      <td>absent</td>\n",
       "      <td>F. Schwartz, p.23; C. Creswell, GSAF</td>\n",
       "      <td>absent</td>\n",
       "      <td>Unprovoked</td>\n",
       "      <td>M</td>\n",
       "      <td>Y</td>\n",
       "    </tr>\n",
       "    <tr>\n",
       "      <th>6300</th>\n",
       "      <td>0.0</td>\n",
       "      <td>PANAMA</td>\n",
       "      <td>absent</td>\n",
       "      <td>absent</td>\n",
       "      <td>absent</td>\n",
       "      <td>FATAL</td>\n",
       "      <td>absent</td>\n",
       "      <td>absent</td>\n",
       "      <td>The Sun, 10/20/1938</td>\n",
       "      <td>absent</td>\n",
       "      <td>Unprovoked</td>\n",
       "      <td>M</td>\n",
       "      <td>Y</td>\n",
       "    </tr>\n",
       "    <tr>\n",
       "      <th>6301</th>\n",
       "      <td>0.0</td>\n",
       "      <td>CEYLON (SRI LANKA)</td>\n",
       "      <td>Eastern Province</td>\n",
       "      <td>Swimming</td>\n",
       "      <td>15</td>\n",
       "      <td>FATAL. \"Shark bit him in half, carrying away t...</td>\n",
       "      <td>absent</td>\n",
       "      <td>absent</td>\n",
       "      <td>S.W. Baker</td>\n",
       "      <td>absent</td>\n",
       "      <td>Unprovoked</td>\n",
       "      <td>M</td>\n",
       "      <td>Y</td>\n",
       "    </tr>\n",
       "    <tr>\n",
       "      <th>6302</th>\n",
       "      <td>absent</td>\n",
       "      <td>absent</td>\n",
       "      <td>absent</td>\n",
       "      <td>absent</td>\n",
       "      <td>absent</td>\n",
       "      <td>absent</td>\n",
       "      <td>absent</td>\n",
       "      <td>absent</td>\n",
       "      <td>absent</td>\n",
       "      <td>absent</td>\n",
       "      <td>absent</td>\n",
       "      <td>absent</td>\n",
       "      <td>absent</td>\n",
       "    </tr>\n",
       "    <tr>\n",
       "      <th>6303</th>\n",
       "      <td>absent</td>\n",
       "      <td>absent</td>\n",
       "      <td>absent</td>\n",
       "      <td>absent</td>\n",
       "      <td>absent</td>\n",
       "      <td>absent</td>\n",
       "      <td>absent</td>\n",
       "      <td>absent</td>\n",
       "      <td>absent</td>\n",
       "      <td>absent</td>\n",
       "      <td>absent</td>\n",
       "      <td>absent</td>\n",
       "      <td>absent</td>\n",
       "    </tr>\n",
       "  </tbody>\n",
       "</table>\n",
       "<p>6304 rows × 13 columns</p>\n",
       "</div>"
      ],
      "text/plain": [
       "        Year             Country              Area     Activity     Age  \\\n",
       "0     2018.0                 USA        California     Paddling      57   \n",
       "1     2018.0                 USA           Georgia     Standing      11   \n",
       "2     2018.0                 USA            Hawaii      Surfing      48   \n",
       "3     2018.0           AUSTRALIA   New South Wales      Surfing  absent   \n",
       "4     2018.0              MEXICO            Colima  Free diving  absent   \n",
       "...      ...                 ...               ...          ...     ...   \n",
       "6299     0.0                 USA    North Carolina     Swimming  absent   \n",
       "6300     0.0              PANAMA            absent       absent  absent   \n",
       "6301     0.0  CEYLON (SRI LANKA)  Eastern Province     Swimming      15   \n",
       "6302  absent              absent            absent       absent  absent   \n",
       "6303  absent              absent            absent       absent  absent   \n",
       "\n",
       "                                                 Injury           Time  \\\n",
       "0     No injury to occupant, outrigger canoe and pad...          18h00   \n",
       "1                            Minor injury to left thigh  14h00  -15h00   \n",
       "2          Injury to left lower leg from surfboard skeg          07h45   \n",
       "3                             Minor injury to lower leg         absent   \n",
       "4     Lacerations to leg & hand shark PROVOKED INCIDENT         absent   \n",
       "...                                                 ...            ...   \n",
       "6299                                              FATAL         absent   \n",
       "6300                                              FATAL         absent   \n",
       "6301  FATAL. \"Shark bit him in half, carrying away t...         absent   \n",
       "6302                                             absent         absent   \n",
       "6303                                             absent         absent   \n",
       "\n",
       "             Species_                Investigator_or_Source   Month  \\\n",
       "0         White shark                      R. Collier, GSAF      06   \n",
       "1              absent        K.McMurray, TrackingSharks.com      06   \n",
       "2              absent        K.McMurray, TrackingSharks.com      06   \n",
       "3           2 m shark                        B. Myatt, GSAF      06   \n",
       "4     Tiger shark, 3m                             A .Kipper      06   \n",
       "...               ...                                   ...     ...   \n",
       "6299           absent  F. Schwartz, p.23; C. Creswell, GSAF  absent   \n",
       "6300           absent                   The Sun, 10/20/1938  absent   \n",
       "6301           absent                            S.W. Baker  absent   \n",
       "6302           absent                                absent  absent   \n",
       "6303           absent                                absent  absent   \n",
       "\n",
       "     Type_of_accident     Sex Fatal_attack_(Y/N)  \n",
       "0                Boat       F                  N  \n",
       "1          Unprovoked       F                  N  \n",
       "2             Invalid       M                  N  \n",
       "3          Unprovoked       M                  N  \n",
       "4            Provoked       M                  N  \n",
       "...               ...     ...                ...  \n",
       "6299       Unprovoked       M                  Y  \n",
       "6300       Unprovoked       M                  Y  \n",
       "6301       Unprovoked       M                  Y  \n",
       "6302           absent  absent             absent  \n",
       "6303           absent  absent             absent  \n",
       "\n",
       "[6304 rows x 13 columns]"
      ]
     },
     "execution_count": 75,
     "metadata": {},
     "output_type": "execute_result"
    }
   ],
   "source": [
    "sh_attacks7"
   ]
  },
  {
   "cell_type": "code",
   "execution_count": 76,
   "id": "0878dcde",
   "metadata": {},
   "outputs": [],
   "source": [
    "sh_attacks8 = sh_attacks7.drop_duplicates()\n",
    "#Ya que muchos valores han cambiado, aquí he quitado otra vez todas aquellas celdas duplicadas."
   ]
  },
  {
   "cell_type": "code",
   "execution_count": 77,
   "id": "3457a88d",
   "metadata": {},
   "outputs": [],
   "source": [
    "sh_attacks9 = sh_attacks8.reset_index(drop=True)"
   ]
  },
  {
   "cell_type": "code",
   "execution_count": 78,
   "id": "bda7b112",
   "metadata": {},
   "outputs": [
    {
     "data": {
      "text/html": [
       "<div>\n",
       "<style scoped>\n",
       "    .dataframe tbody tr th:only-of-type {\n",
       "        vertical-align: middle;\n",
       "    }\n",
       "\n",
       "    .dataframe tbody tr th {\n",
       "        vertical-align: top;\n",
       "    }\n",
       "\n",
       "    .dataframe thead th {\n",
       "        text-align: right;\n",
       "    }\n",
       "</style>\n",
       "<table border=\"1\" class=\"dataframe\">\n",
       "  <thead>\n",
       "    <tr style=\"text-align: right;\">\n",
       "      <th></th>\n",
       "      <th>Year</th>\n",
       "      <th>Country</th>\n",
       "      <th>Area</th>\n",
       "      <th>Activity</th>\n",
       "      <th>Age</th>\n",
       "      <th>Injury</th>\n",
       "      <th>Time</th>\n",
       "      <th>Species_</th>\n",
       "      <th>Investigator_or_Source</th>\n",
       "      <th>Month</th>\n",
       "      <th>Type_of_accident</th>\n",
       "      <th>Sex</th>\n",
       "      <th>Fatal_attack_(Y/N)</th>\n",
       "    </tr>\n",
       "  </thead>\n",
       "  <tbody>\n",
       "    <tr>\n",
       "      <th>0</th>\n",
       "      <td>2018.0</td>\n",
       "      <td>USA</td>\n",
       "      <td>California</td>\n",
       "      <td>Paddling</td>\n",
       "      <td>57</td>\n",
       "      <td>No injury to occupant, outrigger canoe and pad...</td>\n",
       "      <td>18h00</td>\n",
       "      <td>White shark</td>\n",
       "      <td>R. Collier, GSAF</td>\n",
       "      <td>06</td>\n",
       "      <td>Boat</td>\n",
       "      <td>F</td>\n",
       "      <td>N</td>\n",
       "    </tr>\n",
       "    <tr>\n",
       "      <th>1</th>\n",
       "      <td>2018.0</td>\n",
       "      <td>USA</td>\n",
       "      <td>Georgia</td>\n",
       "      <td>Standing</td>\n",
       "      <td>11</td>\n",
       "      <td>Minor injury to left thigh</td>\n",
       "      <td>14h00  -15h00</td>\n",
       "      <td>absent</td>\n",
       "      <td>K.McMurray, TrackingSharks.com</td>\n",
       "      <td>06</td>\n",
       "      <td>Unprovoked</td>\n",
       "      <td>F</td>\n",
       "      <td>N</td>\n",
       "    </tr>\n",
       "    <tr>\n",
       "      <th>2</th>\n",
       "      <td>2018.0</td>\n",
       "      <td>USA</td>\n",
       "      <td>Hawaii</td>\n",
       "      <td>Surfing</td>\n",
       "      <td>48</td>\n",
       "      <td>Injury to left lower leg from surfboard skeg</td>\n",
       "      <td>07h45</td>\n",
       "      <td>absent</td>\n",
       "      <td>K.McMurray, TrackingSharks.com</td>\n",
       "      <td>06</td>\n",
       "      <td>Invalid</td>\n",
       "      <td>M</td>\n",
       "      <td>N</td>\n",
       "    </tr>\n",
       "    <tr>\n",
       "      <th>3</th>\n",
       "      <td>2018.0</td>\n",
       "      <td>AUSTRALIA</td>\n",
       "      <td>New South Wales</td>\n",
       "      <td>Surfing</td>\n",
       "      <td>absent</td>\n",
       "      <td>Minor injury to lower leg</td>\n",
       "      <td>absent</td>\n",
       "      <td>2 m shark</td>\n",
       "      <td>B. Myatt, GSAF</td>\n",
       "      <td>06</td>\n",
       "      <td>Unprovoked</td>\n",
       "      <td>M</td>\n",
       "      <td>N</td>\n",
       "    </tr>\n",
       "    <tr>\n",
       "      <th>4</th>\n",
       "      <td>2018.0</td>\n",
       "      <td>MEXICO</td>\n",
       "      <td>Colima</td>\n",
       "      <td>Free diving</td>\n",
       "      <td>absent</td>\n",
       "      <td>Lacerations to leg &amp; hand shark PROVOKED INCIDENT</td>\n",
       "      <td>absent</td>\n",
       "      <td>Tiger shark, 3m</td>\n",
       "      <td>A .Kipper</td>\n",
       "      <td>06</td>\n",
       "      <td>Provoked</td>\n",
       "      <td>M</td>\n",
       "      <td>N</td>\n",
       "    </tr>\n",
       "    <tr>\n",
       "      <th>...</th>\n",
       "      <td>...</td>\n",
       "      <td>...</td>\n",
       "      <td>...</td>\n",
       "      <td>...</td>\n",
       "      <td>...</td>\n",
       "      <td>...</td>\n",
       "      <td>...</td>\n",
       "      <td>...</td>\n",
       "      <td>...</td>\n",
       "      <td>...</td>\n",
       "      <td>...</td>\n",
       "      <td>...</td>\n",
       "      <td>...</td>\n",
       "    </tr>\n",
       "    <tr>\n",
       "      <th>6291</th>\n",
       "      <td>0.0</td>\n",
       "      <td>AUSTRALIA</td>\n",
       "      <td>Western Australia</td>\n",
       "      <td>Pearl diving</td>\n",
       "      <td>absent</td>\n",
       "      <td>FATAL</td>\n",
       "      <td>absent</td>\n",
       "      <td>absent</td>\n",
       "      <td>H. Taunton; N. Bartlett,  pp. 233-234</td>\n",
       "      <td>absent</td>\n",
       "      <td>Unprovoked</td>\n",
       "      <td>M</td>\n",
       "      <td>Y</td>\n",
       "    </tr>\n",
       "    <tr>\n",
       "      <th>6292</th>\n",
       "      <td>0.0</td>\n",
       "      <td>USA</td>\n",
       "      <td>North Carolina</td>\n",
       "      <td>Swimming</td>\n",
       "      <td>absent</td>\n",
       "      <td>FATAL</td>\n",
       "      <td>absent</td>\n",
       "      <td>absent</td>\n",
       "      <td>F. Schwartz, p.23; C. Creswell, GSAF</td>\n",
       "      <td>absent</td>\n",
       "      <td>Unprovoked</td>\n",
       "      <td>M</td>\n",
       "      <td>Y</td>\n",
       "    </tr>\n",
       "    <tr>\n",
       "      <th>6293</th>\n",
       "      <td>0.0</td>\n",
       "      <td>PANAMA</td>\n",
       "      <td>absent</td>\n",
       "      <td>absent</td>\n",
       "      <td>absent</td>\n",
       "      <td>FATAL</td>\n",
       "      <td>absent</td>\n",
       "      <td>absent</td>\n",
       "      <td>The Sun, 10/20/1938</td>\n",
       "      <td>absent</td>\n",
       "      <td>Unprovoked</td>\n",
       "      <td>M</td>\n",
       "      <td>Y</td>\n",
       "    </tr>\n",
       "    <tr>\n",
       "      <th>6294</th>\n",
       "      <td>0.0</td>\n",
       "      <td>CEYLON (SRI LANKA)</td>\n",
       "      <td>Eastern Province</td>\n",
       "      <td>Swimming</td>\n",
       "      <td>15</td>\n",
       "      <td>FATAL. \"Shark bit him in half, carrying away t...</td>\n",
       "      <td>absent</td>\n",
       "      <td>absent</td>\n",
       "      <td>S.W. Baker</td>\n",
       "      <td>absent</td>\n",
       "      <td>Unprovoked</td>\n",
       "      <td>M</td>\n",
       "      <td>Y</td>\n",
       "    </tr>\n",
       "    <tr>\n",
       "      <th>6295</th>\n",
       "      <td>absent</td>\n",
       "      <td>absent</td>\n",
       "      <td>absent</td>\n",
       "      <td>absent</td>\n",
       "      <td>absent</td>\n",
       "      <td>absent</td>\n",
       "      <td>absent</td>\n",
       "      <td>absent</td>\n",
       "      <td>absent</td>\n",
       "      <td>absent</td>\n",
       "      <td>absent</td>\n",
       "      <td>absent</td>\n",
       "      <td>absent</td>\n",
       "    </tr>\n",
       "  </tbody>\n",
       "</table>\n",
       "<p>6296 rows × 13 columns</p>\n",
       "</div>"
      ],
      "text/plain": [
       "        Year             Country               Area      Activity     Age  \\\n",
       "0     2018.0                 USA         California      Paddling      57   \n",
       "1     2018.0                 USA            Georgia      Standing      11   \n",
       "2     2018.0                 USA             Hawaii       Surfing      48   \n",
       "3     2018.0           AUSTRALIA    New South Wales       Surfing  absent   \n",
       "4     2018.0              MEXICO             Colima   Free diving  absent   \n",
       "...      ...                 ...                ...           ...     ...   \n",
       "6291     0.0           AUSTRALIA  Western Australia  Pearl diving  absent   \n",
       "6292     0.0                 USA     North Carolina      Swimming  absent   \n",
       "6293     0.0              PANAMA             absent        absent  absent   \n",
       "6294     0.0  CEYLON (SRI LANKA)   Eastern Province      Swimming      15   \n",
       "6295  absent              absent             absent        absent  absent   \n",
       "\n",
       "                                                 Injury           Time  \\\n",
       "0     No injury to occupant, outrigger canoe and pad...          18h00   \n",
       "1                            Minor injury to left thigh  14h00  -15h00   \n",
       "2          Injury to left lower leg from surfboard skeg          07h45   \n",
       "3                             Minor injury to lower leg         absent   \n",
       "4     Lacerations to leg & hand shark PROVOKED INCIDENT         absent   \n",
       "...                                                 ...            ...   \n",
       "6291                                              FATAL         absent   \n",
       "6292                                              FATAL         absent   \n",
       "6293                                              FATAL         absent   \n",
       "6294  FATAL. \"Shark bit him in half, carrying away t...         absent   \n",
       "6295                                             absent         absent   \n",
       "\n",
       "             Species_                 Investigator_or_Source   Month  \\\n",
       "0         White shark                       R. Collier, GSAF      06   \n",
       "1              absent         K.McMurray, TrackingSharks.com      06   \n",
       "2              absent         K.McMurray, TrackingSharks.com      06   \n",
       "3           2 m shark                         B. Myatt, GSAF      06   \n",
       "4     Tiger shark, 3m                              A .Kipper      06   \n",
       "...               ...                                    ...     ...   \n",
       "6291           absent  H. Taunton; N. Bartlett,  pp. 233-234  absent   \n",
       "6292           absent   F. Schwartz, p.23; C. Creswell, GSAF  absent   \n",
       "6293           absent                    The Sun, 10/20/1938  absent   \n",
       "6294           absent                             S.W. Baker  absent   \n",
       "6295           absent                                 absent  absent   \n",
       "\n",
       "     Type_of_accident     Sex Fatal_attack_(Y/N)  \n",
       "0                Boat       F                  N  \n",
       "1          Unprovoked       F                  N  \n",
       "2             Invalid       M                  N  \n",
       "3          Unprovoked       M                  N  \n",
       "4            Provoked       M                  N  \n",
       "...               ...     ...                ...  \n",
       "6291       Unprovoked       M                  Y  \n",
       "6292       Unprovoked       M                  Y  \n",
       "6293       Unprovoked       M                  Y  \n",
       "6294       Unprovoked       M                  Y  \n",
       "6295           absent  absent             absent  \n",
       "\n",
       "[6296 rows x 13 columns]"
      ]
     },
     "execution_count": 78,
     "metadata": {},
     "output_type": "execute_result"
    }
   ],
   "source": [
    "sh_attacks9"
   ]
  },
  {
   "cell_type": "code",
   "execution_count": 79,
   "id": "8f2aa615",
   "metadata": {},
   "outputs": [
    {
     "data": {
      "text/plain": [
       "pandas.core.frame.DataFrame"
      ]
     },
     "execution_count": 79,
     "metadata": {},
     "output_type": "execute_result"
    }
   ],
   "source": [
    "type(sh_attacks9)"
   ]
  },
  {
   "cell_type": "code",
   "execution_count": 80,
   "id": "994a1e23",
   "metadata": {},
   "outputs": [
    {
     "data": {
      "text/plain": [
       "array(['57', '11', '48', 'absent', '18', '52', '15', '12', '32', '10',\n",
       "       '21', '34', '30', '60', '33', '29', '54', '41', '37', '56', '19',\n",
       "       '25', '69', '38', '55', '35', '46', '45', '14', '40s', '28', '20',\n",
       "       '24', '26', '49', '22', '7', '31', '17', '40', '13', '42', '3',\n",
       "       '8', '50', '16', '82', '73', '20s', '68', '51', '39', '58', 'Teen',\n",
       "       '47', '61', '65', '36', '66', '43', '60s', '9', '72', '59', '6',\n",
       "       '27', '64', '23', '71', '44', '62', '63', '70', '18 months', '53',\n",
       "       '30s', '50s', 'teen', '77', '74', '28 & 26', '5', '86', '18 or 20',\n",
       "       '12 or 13', '46 & 34', '28, 23 & 30', 'Teens', '36 & 26',\n",
       "       '8 or 10', '84', '\\xa0 ', ' ', '30 or 36', '6½', '21 & ?', '75',\n",
       "       '33 or 37', 'mid-30s', '23 & 20', ' 30', '7      &    31', ' 28',\n",
       "       '20?', \"60's\", '32 & 30', '16 to 18', '87', '67', 'Elderly',\n",
       "       'mid-20s', 'Ca. 33', '74 ', '45 ', '21 or 26', '20 ', '>50',\n",
       "       '18 to 22', 'adult', '9 & 12', '? & 19', '9 months', '25 to 35',\n",
       "       '23 & 26', '1', '(adult)', '33 & 37', '25 or 28',\n",
       "       '37, 67, 35, 27,  ? & 27', '21, 34,24 & 35', '30 & 32', '50 & 30',\n",
       "       '17 & 35', 'X', '\"middle-age\"', '13 or 18', '34 & 19', '33 & 26',\n",
       "       '2 to 3 months', 'MAKE LINE GREEN', ' 43', '81', '\"young\"',\n",
       "       '7 or 8', '78', '17 & 16', 'F', 'Both 11', '9 or 10', 'young',\n",
       "       '36 & 23', '  ', 'A.M.', '?    &   14', '10 or 12', '31 or 33',\n",
       "       '2½', '13 or 14'], dtype=object)"
      ]
     },
     "execution_count": 80,
     "metadata": {},
     "output_type": "execute_result"
    }
   ],
   "source": [
    "sh_attacks9.Age.unique()"
   ]
  },
  {
   "cell_type": "code",
   "execution_count": 81,
   "id": "90b87193",
   "metadata": {},
   "outputs": [],
   "source": [
    "sh_attacks9.to_csv(\"sharcks_final.csv\")"
   ]
  },
  {
   "cell_type": "code",
   "execution_count": null,
   "id": "c574f3a7",
   "metadata": {},
   "outputs": [],
   "source": []
  },
  {
   "cell_type": "code",
   "execution_count": null,
   "id": "01295980",
   "metadata": {},
   "outputs": [],
   "source": []
  }
 ],
 "metadata": {
  "kernelspec": {
   "display_name": "ironhack",
   "language": "python",
   "name": "ironhack"
  },
  "language_info": {
   "codemirror_mode": {
    "name": "ipython",
    "version": 3
   },
   "file_extension": ".py",
   "mimetype": "text/x-python",
   "name": "python",
   "nbconvert_exporter": "python",
   "pygments_lexer": "ipython3",
   "version": "3.8.11"
  }
 },
 "nbformat": 4,
 "nbformat_minor": 5
}
