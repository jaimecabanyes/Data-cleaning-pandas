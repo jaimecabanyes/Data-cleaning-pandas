{
 "cells": [
  {
   "cell_type": "markdown",
   "id": "1d70b9c3",
   "metadata": {},
   "source": [
    "# IMPORTAR LIBRERIAS"
   ]
  },
  {
   "cell_type": "code",
   "execution_count": 1,
   "id": "d019be4d",
   "metadata": {},
   "outputs": [],
   "source": [
    "import pandas as pd\n",
    "import matplotlib.pyplot as plt\n",
    "import seaborn as sns\n",
    "import numpy as np\n",
    "import src.sharks_functions as sf"
   ]
  },
  {
   "cell_type": "markdown",
   "id": "2edf70e0",
   "metadata": {},
   "source": [
    "# DESCARGAR EL DATA"
   ]
  },
  {
   "cell_type": "code",
   "execution_count": 2,
   "id": "4453d057",
   "metadata": {},
   "outputs": [],
   "source": [
    "sh_attacks = pd.read_csv('attacks.csv',encoding = 'ISO-8859-1')"
   ]
  },
  {
   "cell_type": "markdown",
   "id": "b9405699",
   "metadata": {},
   "source": [
    "# MANIPULAR EL DATASET"
   ]
  },
  {
   "cell_type": "code",
   "execution_count": 3,
   "id": "2dd83a28",
   "metadata": {},
   "outputs": [
    {
     "data": {
      "text/html": [
       "<div>\n",
       "<style scoped>\n",
       "    .dataframe tbody tr th:only-of-type {\n",
       "        vertical-align: middle;\n",
       "    }\n",
       "\n",
       "    .dataframe tbody tr th {\n",
       "        vertical-align: top;\n",
       "    }\n",
       "\n",
       "    .dataframe thead th {\n",
       "        text-align: right;\n",
       "    }\n",
       "</style>\n",
       "<table border=\"1\" class=\"dataframe\">\n",
       "  <thead>\n",
       "    <tr style=\"text-align: right;\">\n",
       "      <th></th>\n",
       "      <th>Case Number</th>\n",
       "      <th>Date</th>\n",
       "      <th>Year</th>\n",
       "      <th>Type</th>\n",
       "      <th>Country</th>\n",
       "      <th>Area</th>\n",
       "      <th>Location</th>\n",
       "      <th>Activity</th>\n",
       "      <th>Name</th>\n",
       "      <th>Sex</th>\n",
       "      <th>...</th>\n",
       "      <th>Species</th>\n",
       "      <th>Investigator or Source</th>\n",
       "      <th>pdf</th>\n",
       "      <th>href formula</th>\n",
       "      <th>href</th>\n",
       "      <th>Case Number.1</th>\n",
       "      <th>Case Number.2</th>\n",
       "      <th>original order</th>\n",
       "      <th>Unnamed: 22</th>\n",
       "      <th>Unnamed: 23</th>\n",
       "    </tr>\n",
       "  </thead>\n",
       "  <tbody>\n",
       "    <tr>\n",
       "      <th>0</th>\n",
       "      <td>2018.06.25</td>\n",
       "      <td>25-Jun-2018</td>\n",
       "      <td>2018.0</td>\n",
       "      <td>Boating</td>\n",
       "      <td>USA</td>\n",
       "      <td>California</td>\n",
       "      <td>Oceanside, San Diego County</td>\n",
       "      <td>Paddling</td>\n",
       "      <td>Julie Wolfe</td>\n",
       "      <td>F</td>\n",
       "      <td>...</td>\n",
       "      <td>White shark</td>\n",
       "      <td>R. Collier, GSAF</td>\n",
       "      <td>2018.06.25-Wolfe.pdf</td>\n",
       "      <td>http://sharkattackfile.net/spreadsheets/pdf_di...</td>\n",
       "      <td>http://sharkattackfile.net/spreadsheets/pdf_di...</td>\n",
       "      <td>2018.06.25</td>\n",
       "      <td>2018.06.25</td>\n",
       "      <td>6303.0</td>\n",
       "      <td>NaN</td>\n",
       "      <td>NaN</td>\n",
       "    </tr>\n",
       "  </tbody>\n",
       "</table>\n",
       "<p>1 rows × 24 columns</p>\n",
       "</div>"
      ],
      "text/plain": [
       "  Case Number         Date    Year     Type Country        Area  \\\n",
       "0  2018.06.25  25-Jun-2018  2018.0  Boating     USA  California   \n",
       "\n",
       "                      Location  Activity         Name Sex   ...     Species   \\\n",
       "0  Oceanside, San Diego County  Paddling  Julie Wolfe    F  ...  White shark   \n",
       "\n",
       "  Investigator or Source                   pdf  \\\n",
       "0       R. Collier, GSAF  2018.06.25-Wolfe.pdf   \n",
       "\n",
       "                                        href formula  \\\n",
       "0  http://sharkattackfile.net/spreadsheets/pdf_di...   \n",
       "\n",
       "                                                href Case Number.1  \\\n",
       "0  http://sharkattackfile.net/spreadsheets/pdf_di...    2018.06.25   \n",
       "\n",
       "  Case Number.2 original order Unnamed: 22 Unnamed: 23  \n",
       "0    2018.06.25         6303.0         NaN         NaN  \n",
       "\n",
       "[1 rows x 24 columns]"
      ]
     },
     "execution_count": 3,
     "metadata": {},
     "output_type": "execute_result"
    }
   ],
   "source": [
    "sh_attacks.head(1)\n"
   ]
  },
  {
   "cell_type": "code",
   "execution_count": 4,
   "id": "a8fc20f8",
   "metadata": {},
   "outputs": [],
   "source": [
    "columnas = list(sh_attacks.columns)"
   ]
  },
  {
   "cell_type": "code",
   "execution_count": 5,
   "id": "bfa5a37c",
   "metadata": {},
   "outputs": [
    {
     "name": "stdout",
     "output_type": "stream",
     "text": [
      "['Case Number', 'Date', 'Year', 'Type', 'Country', 'Area', 'Location', 'Activity', 'Name', 'Sex ', 'Age', 'Injury', 'Fatal (Y/N)', 'Time', 'Species ', 'Investigator or Source', 'pdf', 'href formula', 'href', 'Case Number.1', 'Case Number.2', 'original order', 'Unnamed: 22', 'Unnamed: 23']\n"
     ]
    }
   ],
   "source": [
    "print(columnas)"
   ]
  },
  {
   "cell_type": "code",
   "execution_count": 6,
   "id": "c46d799b",
   "metadata": {},
   "outputs": [],
   "source": [
    "sh_attacks_copia = sh_attacks.copy()"
   ]
  },
  {
   "cell_type": "code",
   "execution_count": 7,
   "id": "8612c7ab",
   "metadata": {},
   "outputs": [
    {
     "data": {
      "text/html": [
       "<div>\n",
       "<style scoped>\n",
       "    .dataframe tbody tr th:only-of-type {\n",
       "        vertical-align: middle;\n",
       "    }\n",
       "\n",
       "    .dataframe tbody tr th {\n",
       "        vertical-align: top;\n",
       "    }\n",
       "\n",
       "    .dataframe thead th {\n",
       "        text-align: right;\n",
       "    }\n",
       "</style>\n",
       "<table border=\"1\" class=\"dataframe\">\n",
       "  <thead>\n",
       "    <tr style=\"text-align: right;\">\n",
       "      <th></th>\n",
       "      <th>Case Number</th>\n",
       "      <th>Date</th>\n",
       "      <th>Year</th>\n",
       "      <th>Type</th>\n",
       "      <th>Country</th>\n",
       "      <th>Area</th>\n",
       "      <th>Location</th>\n",
       "      <th>Activity</th>\n",
       "      <th>Name</th>\n",
       "      <th>Sex</th>\n",
       "      <th>...</th>\n",
       "      <th>Species</th>\n",
       "      <th>Investigator or Source</th>\n",
       "      <th>pdf</th>\n",
       "      <th>href formula</th>\n",
       "      <th>href</th>\n",
       "      <th>Case Number.1</th>\n",
       "      <th>Case Number.2</th>\n",
       "      <th>original order</th>\n",
       "      <th>Unnamed: 22</th>\n",
       "      <th>Unnamed: 23</th>\n",
       "    </tr>\n",
       "  </thead>\n",
       "  <tbody>\n",
       "    <tr>\n",
       "      <th>0</th>\n",
       "      <td>2018.06.25</td>\n",
       "      <td>25-Jun-2018</td>\n",
       "      <td>2018.0</td>\n",
       "      <td>Boating</td>\n",
       "      <td>USA</td>\n",
       "      <td>California</td>\n",
       "      <td>Oceanside, San Diego County</td>\n",
       "      <td>Paddling</td>\n",
       "      <td>Julie Wolfe</td>\n",
       "      <td>F</td>\n",
       "      <td>...</td>\n",
       "      <td>White shark</td>\n",
       "      <td>R. Collier, GSAF</td>\n",
       "      <td>2018.06.25-Wolfe.pdf</td>\n",
       "      <td>http://sharkattackfile.net/spreadsheets/pdf_di...</td>\n",
       "      <td>http://sharkattackfile.net/spreadsheets/pdf_di...</td>\n",
       "      <td>2018.06.25</td>\n",
       "      <td>2018.06.25</td>\n",
       "      <td>6303.0</td>\n",
       "      <td>NaN</td>\n",
       "      <td>NaN</td>\n",
       "    </tr>\n",
       "  </tbody>\n",
       "</table>\n",
       "<p>1 rows × 24 columns</p>\n",
       "</div>"
      ],
      "text/plain": [
       "  Case Number         Date    Year     Type Country        Area  \\\n",
       "0  2018.06.25  25-Jun-2018  2018.0  Boating     USA  California   \n",
       "\n",
       "                      Location  Activity         Name Sex   ...     Species   \\\n",
       "0  Oceanside, San Diego County  Paddling  Julie Wolfe    F  ...  White shark   \n",
       "\n",
       "  Investigator or Source                   pdf  \\\n",
       "0       R. Collier, GSAF  2018.06.25-Wolfe.pdf   \n",
       "\n",
       "                                        href formula  \\\n",
       "0  http://sharkattackfile.net/spreadsheets/pdf_di...   \n",
       "\n",
       "                                                href Case Number.1  \\\n",
       "0  http://sharkattackfile.net/spreadsheets/pdf_di...    2018.06.25   \n",
       "\n",
       "  Case Number.2 original order Unnamed: 22 Unnamed: 23  \n",
       "0    2018.06.25         6303.0         NaN         NaN  \n",
       "\n",
       "[1 rows x 24 columns]"
      ]
     },
     "execution_count": 7,
     "metadata": {},
     "output_type": "execute_result"
    }
   ],
   "source": [
    "sh_attacks_copia.head(1)"
   ]
  },
  {
   "cell_type": "code",
   "execution_count": 8,
   "id": "fd838abc",
   "metadata": {},
   "outputs": [],
   "source": [
    "columnas_nuevas = {columna: columna.replace(\" \", \"_\") for columna in columnas}"
   ]
  },
  {
   "cell_type": "code",
   "execution_count": 9,
   "id": "886969b6",
   "metadata": {},
   "outputs": [],
   "source": [
    "sh_attacks_copia.rename(columns=columnas_nuevas, inplace=True)"
   ]
  },
  {
   "cell_type": "code",
   "execution_count": 10,
   "id": "b189d1ec",
   "metadata": {
    "scrolled": true
   },
   "outputs": [
    {
     "data": {
      "text/html": [
       "<div>\n",
       "<style scoped>\n",
       "    .dataframe tbody tr th:only-of-type {\n",
       "        vertical-align: middle;\n",
       "    }\n",
       "\n",
       "    .dataframe tbody tr th {\n",
       "        vertical-align: top;\n",
       "    }\n",
       "\n",
       "    .dataframe thead th {\n",
       "        text-align: right;\n",
       "    }\n",
       "</style>\n",
       "<table border=\"1\" class=\"dataframe\">\n",
       "  <thead>\n",
       "    <tr style=\"text-align: right;\">\n",
       "      <th></th>\n",
       "      <th>Case_Number</th>\n",
       "      <th>Date</th>\n",
       "      <th>Year</th>\n",
       "      <th>Type</th>\n",
       "      <th>Country</th>\n",
       "      <th>Area</th>\n",
       "      <th>Location</th>\n",
       "      <th>Activity</th>\n",
       "      <th>Name</th>\n",
       "      <th>Sex_</th>\n",
       "      <th>...</th>\n",
       "      <th>Species_</th>\n",
       "      <th>Investigator_or_Source</th>\n",
       "      <th>pdf</th>\n",
       "      <th>href_formula</th>\n",
       "      <th>href</th>\n",
       "      <th>Case_Number.1</th>\n",
       "      <th>Case_Number.2</th>\n",
       "      <th>original_order</th>\n",
       "      <th>Unnamed:_22</th>\n",
       "      <th>Unnamed:_23</th>\n",
       "    </tr>\n",
       "  </thead>\n",
       "  <tbody>\n",
       "    <tr>\n",
       "      <th>0</th>\n",
       "      <td>2018.06.25</td>\n",
       "      <td>25-Jun-2018</td>\n",
       "      <td>2018.0</td>\n",
       "      <td>Boating</td>\n",
       "      <td>USA</td>\n",
       "      <td>California</td>\n",
       "      <td>Oceanside, San Diego County</td>\n",
       "      <td>Paddling</td>\n",
       "      <td>Julie Wolfe</td>\n",
       "      <td>F</td>\n",
       "      <td>...</td>\n",
       "      <td>White shark</td>\n",
       "      <td>R. Collier, GSAF</td>\n",
       "      <td>2018.06.25-Wolfe.pdf</td>\n",
       "      <td>http://sharkattackfile.net/spreadsheets/pdf_di...</td>\n",
       "      <td>http://sharkattackfile.net/spreadsheets/pdf_di...</td>\n",
       "      <td>2018.06.25</td>\n",
       "      <td>2018.06.25</td>\n",
       "      <td>6303.0</td>\n",
       "      <td>NaN</td>\n",
       "      <td>NaN</td>\n",
       "    </tr>\n",
       "  </tbody>\n",
       "</table>\n",
       "<p>1 rows × 24 columns</p>\n",
       "</div>"
      ],
      "text/plain": [
       "  Case_Number         Date    Year     Type Country        Area  \\\n",
       "0  2018.06.25  25-Jun-2018  2018.0  Boating     USA  California   \n",
       "\n",
       "                      Location  Activity         Name Sex_  ...     Species_  \\\n",
       "0  Oceanside, San Diego County  Paddling  Julie Wolfe    F  ...  White shark   \n",
       "\n",
       "  Investigator_or_Source                   pdf  \\\n",
       "0       R. Collier, GSAF  2018.06.25-Wolfe.pdf   \n",
       "\n",
       "                                        href_formula  \\\n",
       "0  http://sharkattackfile.net/spreadsheets/pdf_di...   \n",
       "\n",
       "                                                href Case_Number.1  \\\n",
       "0  http://sharkattackfile.net/spreadsheets/pdf_di...    2018.06.25   \n",
       "\n",
       "  Case_Number.2 original_order Unnamed:_22 Unnamed:_23  \n",
       "0    2018.06.25         6303.0         NaN         NaN  \n",
       "\n",
       "[1 rows x 24 columns]"
      ]
     },
     "execution_count": 10,
     "metadata": {},
     "output_type": "execute_result"
    }
   ],
   "source": [
    "sh_attacks_copia.head(1)"
   ]
  },
  {
   "cell_type": "code",
   "execution_count": 11,
   "id": "bda1bbba",
   "metadata": {},
   "outputs": [],
   "source": [
    "sh_attacks2 = sh_attacks_copia[[\"Date\",\"Year\", \"Type\", \"Country\",\"Area\", \"Activity\", \"Sex_\", \"Age\", \"Injury\", \"Fatal_(Y/N)\", \"Time\", \"Species_\", \"Investigator_or_Source\"]]"
   ]
  },
  {
   "cell_type": "code",
   "execution_count": 12,
   "id": "51538e99",
   "metadata": {},
   "outputs": [
    {
     "data": {
      "text/plain": [
       "(25723, 13)"
      ]
     },
     "execution_count": 12,
     "metadata": {},
     "output_type": "execute_result"
    }
   ],
   "source": [
    "sh_attacks2.shape"
   ]
  },
  {
   "cell_type": "markdown",
   "id": "2a074c10",
   "metadata": {},
   "source": [
    "# SELECCIONAR LOS DATOS CON LOS QUE TRABAJAR"
   ]
  },
  {
   "cell_type": "code",
   "execution_count": 13,
   "id": "5784a1b1",
   "metadata": {},
   "outputs": [],
   "source": [
    "sh_attacks3 = sh_attacks2.dropna(how=\"all\")"
   ]
  },
  {
   "cell_type": "code",
   "execution_count": 14,
   "id": "0c5a0a0d",
   "metadata": {},
   "outputs": [
    {
     "data": {
      "text/plain": [
       "(6302, 13)"
      ]
     },
     "execution_count": 14,
     "metadata": {},
     "output_type": "execute_result"
    }
   ],
   "source": [
    "sh_attacks3.shape"
   ]
  },
  {
   "cell_type": "code",
   "execution_count": 27,
   "id": "95db1fa9",
   "metadata": {},
   "outputs": [
    {
     "data": {
      "text/html": [
       "<div>\n",
       "<style scoped>\n",
       "    .dataframe tbody tr th:only-of-type {\n",
       "        vertical-align: middle;\n",
       "    }\n",
       "\n",
       "    .dataframe tbody tr th {\n",
       "        vertical-align: top;\n",
       "    }\n",
       "\n",
       "    .dataframe thead th {\n",
       "        text-align: right;\n",
       "    }\n",
       "</style>\n",
       "<table border=\"1\" class=\"dataframe\">\n",
       "  <thead>\n",
       "    <tr style=\"text-align: right;\">\n",
       "      <th></th>\n",
       "      <th>Date</th>\n",
       "      <th>Year</th>\n",
       "      <th>Type</th>\n",
       "      <th>Country</th>\n",
       "      <th>Area</th>\n",
       "      <th>Activity</th>\n",
       "      <th>Sex_</th>\n",
       "      <th>Age</th>\n",
       "      <th>Injury</th>\n",
       "      <th>Fatal_(Y/N)</th>\n",
       "      <th>Time</th>\n",
       "      <th>Species_</th>\n",
       "      <th>Investigator_or_Source</th>\n",
       "    </tr>\n",
       "  </thead>\n",
       "  <tbody>\n",
       "    <tr>\n",
       "      <th>3804</th>\n",
       "      <td>Aug-1962</td>\n",
       "      <td>1962.0</td>\n",
       "      <td>Unprovoked</td>\n",
       "      <td>SENEGAL</td>\n",
       "      <td>Cap Vert Peninsula</td>\n",
       "      <td>Beach seine netting</td>\n",
       "      <td>M</td>\n",
       "      <td>23</td>\n",
       "      <td>Ankle bitten</td>\n",
       "      <td>N</td>\n",
       "      <td>NaN</td>\n",
       "      <td>3.5 m shark</td>\n",
       "      <td>S. Trape</td>\n",
       "    </tr>\n",
       "    <tr>\n",
       "      <th>1201</th>\n",
       "      <td>28-Sep-2008</td>\n",
       "      <td>2008.0</td>\n",
       "      <td>Unprovoked</td>\n",
       "      <td>USA</td>\n",
       "      <td>Florida</td>\n",
       "      <td>Surfing</td>\n",
       "      <td>M</td>\n",
       "      <td>40</td>\n",
       "      <td>Right foot bitten</td>\n",
       "      <td>N</td>\n",
       "      <td>11h00</td>\n",
       "      <td>+3' shark</td>\n",
       "      <td>S. Petersohn</td>\n",
       "    </tr>\n",
       "    <tr>\n",
       "      <th>3306</th>\n",
       "      <td>27-Feb-1973</td>\n",
       "      <td>1973.0</td>\n",
       "      <td>Unprovoked</td>\n",
       "      <td>MEXICO</td>\n",
       "      <td>Guerrero</td>\n",
       "      <td>Swimming</td>\n",
       "      <td>NaN</td>\n",
       "      <td>57</td>\n",
       "      <td>FATAL, multiple bites</td>\n",
       "      <td>Y</td>\n",
       "      <td>NaN</td>\n",
       "      <td>NaN</td>\n",
       "      <td>Reno Gazette, 4/8/1973; A.Resciniti, pp.108-109</td>\n",
       "    </tr>\n",
       "    <tr>\n",
       "      <th>3949</th>\n",
       "      <td>06-Nov-1960</td>\n",
       "      <td>1960.0</td>\n",
       "      <td>Unprovoked</td>\n",
       "      <td>AUSTRALIA</td>\n",
       "      <td>Western Australia</td>\n",
       "      <td>Spearfishing, speared fish retreated to cave w...</td>\n",
       "      <td>M</td>\n",
       "      <td>24</td>\n",
       "      <td>Scratches on right upper arm</td>\n",
       "      <td>N</td>\n",
       "      <td>NaN</td>\n",
       "      <td>Wobbegong shark, 1.8 m [6']</td>\n",
       "      <td>The West Australian (Perth), 11/7/1960;   V.M....</td>\n",
       "    </tr>\n",
       "    <tr>\n",
       "      <th>3439</th>\n",
       "      <td>09-Mar-1969</td>\n",
       "      <td>1969.0</td>\n",
       "      <td>Unprovoked</td>\n",
       "      <td>USA</td>\n",
       "      <td>Hawaii</td>\n",
       "      <td>Surfing</td>\n",
       "      <td>M</td>\n",
       "      <td>16</td>\n",
       "      <td>Leg &amp; surfboard bitten</td>\n",
       "      <td>N</td>\n",
       "      <td>17h30</td>\n",
       "      <td>White shark, identified by tooth fragments in ...</td>\n",
       "      <td>J. Borg, p.73; L. Taylor (1993), pp.102-103</td>\n",
       "    </tr>\n",
       "    <tr>\n",
       "      <th>5181</th>\n",
       "      <td>04-Jul-1924</td>\n",
       "      <td>1924.0</td>\n",
       "      <td>Boating</td>\n",
       "      <td>USA</td>\n",
       "      <td>California</td>\n",
       "      <td>Fishing</td>\n",
       "      <td>M</td>\n",
       "      <td>?    &amp;   14</td>\n",
       "      <td>No injury, shark tore hole in the side of the ...</td>\n",
       "      <td>N</td>\n",
       "      <td>NaN</td>\n",
       "      <td>NaN</td>\n",
       "      <td>The Daily Pilot, 3/6/2010, citing The Times 7/...</td>\n",
       "    </tr>\n",
       "    <tr>\n",
       "      <th>5641</th>\n",
       "      <td>23-Apr-1895</td>\n",
       "      <td>1895.0</td>\n",
       "      <td>Unprovoked</td>\n",
       "      <td>NEW ZEALAND</td>\n",
       "      <td>South Island</td>\n",
       "      <td>Swimming</td>\n",
       "      <td>M</td>\n",
       "      <td>NaN</td>\n",
       "      <td>Lacerations to foot</td>\n",
       "      <td>N</td>\n",
       "      <td>Early morning</td>\n",
       "      <td>NaN</td>\n",
       "      <td>Star, 4/25/1895, p.</td>\n",
       "    </tr>\n",
       "    <tr>\n",
       "      <th>2897</th>\n",
       "      <td>17-Mar-1984</td>\n",
       "      <td>1984.0</td>\n",
       "      <td>Invalid</td>\n",
       "      <td>SOMALIA</td>\n",
       "      <td>NaN</td>\n",
       "      <td>Murder</td>\n",
       "      <td>M</td>\n",
       "      <td>NaN</td>\n",
       "      <td>Forced at gunpoint to jump overboard. Presume...</td>\n",
       "      <td>NaN</td>\n",
       "      <td>NaN</td>\n",
       "      <td>Shark involvement prior to death was not confi...</td>\n",
       "      <td>Courier Mail, 5/18/1984</td>\n",
       "    </tr>\n",
       "    <tr>\n",
       "      <th>2035</th>\n",
       "      <td>12-Jul-2000</td>\n",
       "      <td>2000.0</td>\n",
       "      <td>Unprovoked</td>\n",
       "      <td>TONGA</td>\n",
       "      <td>Minerva Reef</td>\n",
       "      <td>Scuba diving</td>\n",
       "      <td>M</td>\n",
       "      <td>69</td>\n",
       "      <td>Left arm bitten</td>\n",
       "      <td>N</td>\n",
       "      <td>NaN</td>\n",
       "      <td>Grey reef shark, 2 m [6.75']</td>\n",
       "      <td>www.spearfishingsa.co.za</td>\n",
       "    </tr>\n",
       "    <tr>\n",
       "      <th>3339</th>\n",
       "      <td>16-Mar-1972</td>\n",
       "      <td>1972.0</td>\n",
       "      <td>Unprovoked</td>\n",
       "      <td>USA</td>\n",
       "      <td>Hawaii</td>\n",
       "      <td>Spearfishing</td>\n",
       "      <td>M</td>\n",
       "      <td>NaN</td>\n",
       "      <td>Leg bitten</td>\n",
       "      <td>N</td>\n",
       "      <td>NaN</td>\n",
       "      <td>NaN</td>\n",
       "      <td>J. Borg, p.74; L. Taylor (1993), pp.102-103</td>\n",
       "    </tr>\n",
       "  </tbody>\n",
       "</table>\n",
       "</div>"
      ],
      "text/plain": [
       "             Date    Year        Type      Country                Area  \\\n",
       "3804     Aug-1962  1962.0  Unprovoked      SENEGAL  Cap Vert Peninsula   \n",
       "1201  28-Sep-2008  2008.0  Unprovoked          USA             Florida   \n",
       "3306  27-Feb-1973  1973.0  Unprovoked       MEXICO            Guerrero   \n",
       "3949  06-Nov-1960  1960.0  Unprovoked    AUSTRALIA   Western Australia   \n",
       "3439  09-Mar-1969  1969.0  Unprovoked          USA              Hawaii   \n",
       "5181  04-Jul-1924  1924.0     Boating          USA          California   \n",
       "5641  23-Apr-1895  1895.0  Unprovoked  NEW ZEALAND        South Island   \n",
       "2897  17-Mar-1984  1984.0     Invalid      SOMALIA                 NaN   \n",
       "2035  12-Jul-2000  2000.0  Unprovoked        TONGA        Minerva Reef   \n",
       "3339  16-Mar-1972  1972.0  Unprovoked          USA              Hawaii   \n",
       "\n",
       "                                               Activity Sex_          Age  \\\n",
       "3804                                Beach seine netting    M           23   \n",
       "1201                                            Surfing    M           40   \n",
       "3306                                           Swimming  NaN           57   \n",
       "3949  Spearfishing, speared fish retreated to cave w...    M           24   \n",
       "3439                                            Surfing    M           16   \n",
       "5181                                            Fishing    M  ?    &   14   \n",
       "5641                                           Swimming    M          NaN   \n",
       "2897                                             Murder    M          NaN   \n",
       "2035                                       Scuba diving    M           69   \n",
       "3339                                       Spearfishing    M          NaN   \n",
       "\n",
       "                                                 Injury Fatal_(Y/N)  \\\n",
       "3804                                       Ankle bitten           N   \n",
       "1201                                  Right foot bitten           N   \n",
       "3306                             FATAL, multiple bites            Y   \n",
       "3949                       Scratches on right upper arm           N   \n",
       "3439                             Leg & surfboard bitten           N   \n",
       "5181  No injury, shark tore hole in the side of the ...           N   \n",
       "5641                                Lacerations to foot           N   \n",
       "2897   Forced at gunpoint to jump overboard. Presume...         NaN   \n",
       "2035                                    Left arm bitten           N   \n",
       "3339                                         Leg bitten           N   \n",
       "\n",
       "               Time                                           Species_  \\\n",
       "3804            NaN                                        3.5 m shark   \n",
       "1201          11h00                                          +3' shark   \n",
       "3306            NaN                                                NaN   \n",
       "3949            NaN                       Wobbegong shark, 1.8 m [6']    \n",
       "3439          17h30  White shark, identified by tooth fragments in ...   \n",
       "5181            NaN                                                NaN   \n",
       "5641  Early morning                                                NaN   \n",
       "2897            NaN  Shark involvement prior to death was not confi...   \n",
       "2035            NaN                      Grey reef shark, 2 m [6.75']    \n",
       "3339            NaN                                                NaN   \n",
       "\n",
       "                                 Investigator_or_Source  \n",
       "3804                                           S. Trape  \n",
       "1201                                       S. Petersohn  \n",
       "3306    Reno Gazette, 4/8/1973; A.Resciniti, pp.108-109  \n",
       "3949  The West Australian (Perth), 11/7/1960;   V.M....  \n",
       "3439        J. Borg, p.73; L. Taylor (1993), pp.102-103  \n",
       "5181  The Daily Pilot, 3/6/2010, citing The Times 7/...  \n",
       "5641                                Star, 4/25/1895, p.  \n",
       "2897                            Courier Mail, 5/18/1984  \n",
       "2035                           www.spearfishingsa.co.za  \n",
       "3339        J. Borg, p.74; L. Taylor (1993), pp.102-103  "
      ]
     },
     "execution_count": 27,
     "metadata": {},
     "output_type": "execute_result"
    }
   ],
   "source": [
    "sh_attacks3.sample(10)"
   ]
  },
  {
   "cell_type": "code",
   "execution_count": 21,
   "id": "379941fe",
   "metadata": {},
   "outputs": [
    {
     "data": {
      "text/plain": [
       "array(['Boating', 'Unprovoked', 'Invalid', 'Provoked', 'Questionable',\n",
       "       'Sea Disaster', nan, 'Boat', 'Boatomg'], dtype=object)"
      ]
     },
     "execution_count": 21,
     "metadata": {},
     "output_type": "execute_result"
    }
   ],
   "source": [
    "sh_attacks3.Type.unique()"
   ]
  },
  {
   "cell_type": "code",
   "execution_count": 22,
   "id": "b75abcb2",
   "metadata": {},
   "outputs": [
    {
     "data": {
      "text/plain": [
       "array(['Paddling', 'Standing', 'Surfing', ...,\n",
       "       'Crew swimming alongside their anchored ship',\n",
       "       '4 men were bathing', 'Wreck of  large double sailing canoe'],\n",
       "      dtype=object)"
      ]
     },
     "execution_count": 22,
     "metadata": {},
     "output_type": "execute_result"
    }
   ],
   "source": [
    "sh_attacks3.Activity.unique()"
   ]
  },
  {
   "cell_type": "code",
   "execution_count": 23,
   "id": "44c4184f",
   "metadata": {},
   "outputs": [
    {
     "name": "stdout",
     "output_type": "stream",
     "text": [
      "<class 'pandas.core.frame.DataFrame'>\n",
      "Int64Index: 6302 entries, 0 to 6301\n",
      "Data columns (total 13 columns):\n",
      " #   Column                  Non-Null Count  Dtype  \n",
      "---  ------                  --------------  -----  \n",
      " 0   Date                    6302 non-null   object \n",
      " 1   Year                    6300 non-null   float64\n",
      " 2   Type                    6298 non-null   object \n",
      " 3   Country                 6252 non-null   object \n",
      " 4   Area                    5847 non-null   object \n",
      " 5   Activity                5758 non-null   object \n",
      " 6   Sex_                    5737 non-null   object \n",
      " 7   Age                     3471 non-null   object \n",
      " 8   Injury                  6274 non-null   object \n",
      " 9   Fatal_(Y/N)             5763 non-null   object \n",
      " 10  Time                    2948 non-null   object \n",
      " 11  Species_                3464 non-null   object \n",
      " 12  Investigator_or_Source  6285 non-null   object \n",
      "dtypes: float64(1), object(12)\n",
      "memory usage: 689.3+ KB\n"
     ]
    }
   ],
   "source": [
    "sh_attacks3.info()"
   ]
  },
  {
   "cell_type": "code",
   "execution_count": 24,
   "id": "13648e9a",
   "metadata": {
    "scrolled": true
   },
   "outputs": [
    {
     "data": {
      "text/plain": [
       "Date                         0\n",
       "Year                         2\n",
       "Type                         4\n",
       "Country                     50\n",
       "Area                       455\n",
       "Activity                   544\n",
       "Sex_                       565\n",
       "Age                       2831\n",
       "Injury                      28\n",
       "Fatal_(Y/N)                539\n",
       "Time                      3354\n",
       "Species_                  2838\n",
       "Investigator_or_Source      17\n",
       "dtype: int64"
      ]
     },
     "execution_count": 24,
     "metadata": {},
     "output_type": "execute_result"
    }
   ],
   "source": [
    "sh_attacks3.isna().sum()"
   ]
  },
  {
   "cell_type": "code",
   "execution_count": null,
   "id": "d6ec3828",
   "metadata": {},
   "outputs": [],
   "source": []
  },
  {
   "cell_type": "code",
   "execution_count": null,
   "id": "69aa3cf7",
   "metadata": {},
   "outputs": [],
   "source": []
  }
 ],
 "metadata": {
  "kernelspec": {
   "display_name": "ironhack",
   "language": "python",
   "name": "ironhack"
  },
  "language_info": {
   "codemirror_mode": {
    "name": "ipython",
    "version": 3
   },
   "file_extension": ".py",
   "mimetype": "text/x-python",
   "name": "python",
   "nbconvert_exporter": "python",
   "pygments_lexer": "ipython3",
   "version": "3.8.11"
  }
 },
 "nbformat": 4,
 "nbformat_minor": 5
}
