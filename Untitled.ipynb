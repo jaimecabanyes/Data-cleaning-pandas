{
 "cells": [
  {
   "cell_type": "markdown",
   "id": "1d70b9c3",
   "metadata": {},
   "source": [
    "# IMPORTAR LIBRERIAS"
   ]
  },
  {
   "cell_type": "code",
   "execution_count": 1,
   "id": "d019be4d",
   "metadata": {},
   "outputs": [],
   "source": [
    "import pandas as pd\n",
    "import matplotlib.pyplot as plt\n",
    "import seaborn as sns\n",
    "import numpy as np\n"
   ]
  },
  {
   "cell_type": "markdown",
   "id": "2edf70e0",
   "metadata": {},
   "source": [
    "# DESCARGAR EL DATA"
   ]
  },
  {
   "cell_type": "code",
   "execution_count": 2,
   "id": "4453d057",
   "metadata": {},
   "outputs": [
    {
     "data": {
      "text/plain": [
       "'Descargar los datos con los cuales vamos a trabajar '"
      ]
     },
     "execution_count": 2,
     "metadata": {},
     "output_type": "execute_result"
    }
   ],
   "source": [
    "sh_attacks = pd.read_csv('attacks.csv',encoding = 'ISO-8859-1')\n",
    "\"\"\"Descargar los datos con los cuales vamos a trabajar \"\"\""
   ]
  },
  {
   "cell_type": "markdown",
   "id": "b829fc94",
   "metadata": {},
   "source": [
    "# MANIPULAR EL DATASET"
   ]
  },
  {
   "cell_type": "code",
   "execution_count": 58,
   "id": "91a285fa",
   "metadata": {},
   "outputs": [
    {
     "data": {
      "text/html": [
       "<div>\n",
       "<style scoped>\n",
       "    .dataframe tbody tr th:only-of-type {\n",
       "        vertical-align: middle;\n",
       "    }\n",
       "\n",
       "    .dataframe tbody tr th {\n",
       "        vertical-align: top;\n",
       "    }\n",
       "\n",
       "    .dataframe thead th {\n",
       "        text-align: right;\n",
       "    }\n",
       "</style>\n",
       "<table border=\"1\" class=\"dataframe\">\n",
       "  <thead>\n",
       "    <tr style=\"text-align: right;\">\n",
       "      <th></th>\n",
       "      <th>Case Number</th>\n",
       "      <th>Date</th>\n",
       "      <th>Year</th>\n",
       "      <th>Type</th>\n",
       "      <th>Country</th>\n",
       "      <th>Area</th>\n",
       "      <th>Location</th>\n",
       "      <th>Activity</th>\n",
       "      <th>Name</th>\n",
       "      <th>Sex</th>\n",
       "      <th>...</th>\n",
       "      <th>Species</th>\n",
       "      <th>Investigator or Source</th>\n",
       "      <th>pdf</th>\n",
       "      <th>href formula</th>\n",
       "      <th>href</th>\n",
       "      <th>Case Number.1</th>\n",
       "      <th>Case Number.2</th>\n",
       "      <th>original order</th>\n",
       "      <th>Unnamed: 22</th>\n",
       "      <th>Unnamed: 23</th>\n",
       "    </tr>\n",
       "  </thead>\n",
       "  <tbody>\n",
       "    <tr>\n",
       "      <th>0</th>\n",
       "      <td>2018.06.25</td>\n",
       "      <td>25-Jun-2018</td>\n",
       "      <td>2018.0</td>\n",
       "      <td>Boating</td>\n",
       "      <td>USA</td>\n",
       "      <td>California</td>\n",
       "      <td>Oceanside, San Diego County</td>\n",
       "      <td>Paddling</td>\n",
       "      <td>Julie Wolfe</td>\n",
       "      <td>F</td>\n",
       "      <td>...</td>\n",
       "      <td>White shark</td>\n",
       "      <td>R. Collier, GSAF</td>\n",
       "      <td>2018.06.25-Wolfe.pdf</td>\n",
       "      <td>http://sharkattackfile.net/spreadsheets/pdf_di...</td>\n",
       "      <td>http://sharkattackfile.net/spreadsheets/pdf_di...</td>\n",
       "      <td>2018.06.25</td>\n",
       "      <td>2018.06.25</td>\n",
       "      <td>6303.0</td>\n",
       "      <td>NaN</td>\n",
       "      <td>NaN</td>\n",
       "    </tr>\n",
       "  </tbody>\n",
       "</table>\n",
       "<p>1 rows × 24 columns</p>\n",
       "</div>"
      ],
      "text/plain": [
       "  Case Number         Date    Year     Type Country        Area  \\\n",
       "0  2018.06.25  25-Jun-2018  2018.0  Boating     USA  California   \n",
       "\n",
       "                      Location  Activity         Name Sex   ...     Species   \\\n",
       "0  Oceanside, San Diego County  Paddling  Julie Wolfe    F  ...  White shark   \n",
       "\n",
       "  Investigator or Source                   pdf  \\\n",
       "0       R. Collier, GSAF  2018.06.25-Wolfe.pdf   \n",
       "\n",
       "                                        href formula  \\\n",
       "0  http://sharkattackfile.net/spreadsheets/pdf_di...   \n",
       "\n",
       "                                                href Case Number.1  \\\n",
       "0  http://sharkattackfile.net/spreadsheets/pdf_di...    2018.06.25   \n",
       "\n",
       "  Case Number.2 original order Unnamed: 22 Unnamed: 23  \n",
       "0    2018.06.25         6303.0         NaN         NaN  \n",
       "\n",
       "[1 rows x 24 columns]"
      ]
     },
     "execution_count": 58,
     "metadata": {},
     "output_type": "execute_result"
    }
   ],
   "source": [
    "sh_attacks.head(1)\n",
    "#Ver lo que analiza cada columna"
   ]
  },
  {
   "cell_type": "code",
   "execution_count": 61,
   "id": "cff0dfb9",
   "metadata": {},
   "outputs": [],
   "source": [
    "columnas = list(sh_attacks.columns) \n",
    "#Hacer una lista con todas las columnas del dataframe"
   ]
  },
  {
   "cell_type": "code",
   "execution_count": 62,
   "id": "fc2763b8",
   "metadata": {},
   "outputs": [
    {
     "name": "stdout",
     "output_type": "stream",
     "text": [
      "['Case Number', 'Date', 'Year', 'Type', 'Country', 'Area', 'Location', 'Activity', 'Name', 'Sex ', 'Age', 'Injury', 'Fatal (Y/N)', 'Time', 'Species ', 'Investigator or Source', 'pdf', 'href formula', 'href', 'Case Number.1', 'Case Number.2', 'original order', 'Unnamed: 22', 'Unnamed: 23']\n"
     ]
    }
   ],
   "source": [
    "print(columnas)"
   ]
  },
  {
   "cell_type": "code",
   "execution_count": 63,
   "id": "42ec2278",
   "metadata": {},
   "outputs": [],
   "source": [
    "sh_attacks_copia = sh_attacks.copy()\n",
    "#Hacer una copia del sharks attack dataframe\n"
   ]
  },
  {
   "cell_type": "code",
   "execution_count": 64,
   "id": "4bb7e01e",
   "metadata": {},
   "outputs": [
    {
     "data": {
      "text/html": [
       "<div>\n",
       "<style scoped>\n",
       "    .dataframe tbody tr th:only-of-type {\n",
       "        vertical-align: middle;\n",
       "    }\n",
       "\n",
       "    .dataframe tbody tr th {\n",
       "        vertical-align: top;\n",
       "    }\n",
       "\n",
       "    .dataframe thead th {\n",
       "        text-align: right;\n",
       "    }\n",
       "</style>\n",
       "<table border=\"1\" class=\"dataframe\">\n",
       "  <thead>\n",
       "    <tr style=\"text-align: right;\">\n",
       "      <th></th>\n",
       "      <th>Case Number</th>\n",
       "      <th>Date</th>\n",
       "      <th>Year</th>\n",
       "      <th>Type</th>\n",
       "      <th>Country</th>\n",
       "      <th>Area</th>\n",
       "      <th>Location</th>\n",
       "      <th>Activity</th>\n",
       "      <th>Name</th>\n",
       "      <th>Sex</th>\n",
       "      <th>...</th>\n",
       "      <th>Species</th>\n",
       "      <th>Investigator or Source</th>\n",
       "      <th>pdf</th>\n",
       "      <th>href formula</th>\n",
       "      <th>href</th>\n",
       "      <th>Case Number.1</th>\n",
       "      <th>Case Number.2</th>\n",
       "      <th>original order</th>\n",
       "      <th>Unnamed: 22</th>\n",
       "      <th>Unnamed: 23</th>\n",
       "    </tr>\n",
       "  </thead>\n",
       "  <tbody>\n",
       "    <tr>\n",
       "      <th>0</th>\n",
       "      <td>2018.06.25</td>\n",
       "      <td>25-Jun-2018</td>\n",
       "      <td>2018.0</td>\n",
       "      <td>Boating</td>\n",
       "      <td>USA</td>\n",
       "      <td>California</td>\n",
       "      <td>Oceanside, San Diego County</td>\n",
       "      <td>Paddling</td>\n",
       "      <td>Julie Wolfe</td>\n",
       "      <td>F</td>\n",
       "      <td>...</td>\n",
       "      <td>White shark</td>\n",
       "      <td>R. Collier, GSAF</td>\n",
       "      <td>2018.06.25-Wolfe.pdf</td>\n",
       "      <td>http://sharkattackfile.net/spreadsheets/pdf_di...</td>\n",
       "      <td>http://sharkattackfile.net/spreadsheets/pdf_di...</td>\n",
       "      <td>2018.06.25</td>\n",
       "      <td>2018.06.25</td>\n",
       "      <td>6303.0</td>\n",
       "      <td>NaN</td>\n",
       "      <td>NaN</td>\n",
       "    </tr>\n",
       "  </tbody>\n",
       "</table>\n",
       "<p>1 rows × 24 columns</p>\n",
       "</div>"
      ],
      "text/plain": [
       "  Case Number         Date    Year     Type Country        Area  \\\n",
       "0  2018.06.25  25-Jun-2018  2018.0  Boating     USA  California   \n",
       "\n",
       "                      Location  Activity         Name Sex   ...     Species   \\\n",
       "0  Oceanside, San Diego County  Paddling  Julie Wolfe    F  ...  White shark   \n",
       "\n",
       "  Investigator or Source                   pdf  \\\n",
       "0       R. Collier, GSAF  2018.06.25-Wolfe.pdf   \n",
       "\n",
       "                                        href formula  \\\n",
       "0  http://sharkattackfile.net/spreadsheets/pdf_di...   \n",
       "\n",
       "                                                href Case Number.1  \\\n",
       "0  http://sharkattackfile.net/spreadsheets/pdf_di...    2018.06.25   \n",
       "\n",
       "  Case Number.2 original order Unnamed: 22 Unnamed: 23  \n",
       "0    2018.06.25         6303.0         NaN         NaN  \n",
       "\n",
       "[1 rows x 24 columns]"
      ]
     },
     "execution_count": 64,
     "metadata": {},
     "output_type": "execute_result"
    }
   ],
   "source": [
    "sh_attacks_copia.head(1)"
   ]
  },
  {
   "cell_type": "code",
   "execution_count": 8,
   "id": "d1ed5b35",
   "metadata": {},
   "outputs": [],
   "source": [
    "columnas_nuevas = {columna: columna.replace(\" \", \"_\") for columna in columnas}\n",
    "#Reemplazar los espacios por barrabajas en las columnas para un analisis mas detallado"
   ]
  },
  {
   "cell_type": "code",
   "execution_count": 9,
   "id": "9b223c1c",
   "metadata": {},
   "outputs": [],
   "source": [
    "sh_attacks_copia.rename(columns=columnas_nuevas, inplace=True)\n",
    "#Reenombrar los nombres de las columnas del data set."
   ]
  },
  {
   "cell_type": "code",
   "execution_count": 10,
   "id": "a058601c",
   "metadata": {
    "scrolled": true
   },
   "outputs": [
    {
     "data": {
      "text/html": [
       "<div>\n",
       "<style scoped>\n",
       "    .dataframe tbody tr th:only-of-type {\n",
       "        vertical-align: middle;\n",
       "    }\n",
       "\n",
       "    .dataframe tbody tr th {\n",
       "        vertical-align: top;\n",
       "    }\n",
       "\n",
       "    .dataframe thead th {\n",
       "        text-align: right;\n",
       "    }\n",
       "</style>\n",
       "<table border=\"1\" class=\"dataframe\">\n",
       "  <thead>\n",
       "    <tr style=\"text-align: right;\">\n",
       "      <th></th>\n",
       "      <th>Case_Number</th>\n",
       "      <th>Date</th>\n",
       "      <th>Year</th>\n",
       "      <th>Type</th>\n",
       "      <th>Country</th>\n",
       "      <th>Area</th>\n",
       "      <th>Location</th>\n",
       "      <th>Activity</th>\n",
       "      <th>Name</th>\n",
       "      <th>Sex_</th>\n",
       "      <th>...</th>\n",
       "      <th>Species_</th>\n",
       "      <th>Investigator_or_Source</th>\n",
       "      <th>pdf</th>\n",
       "      <th>href_formula</th>\n",
       "      <th>href</th>\n",
       "      <th>Case_Number.1</th>\n",
       "      <th>Case_Number.2</th>\n",
       "      <th>original_order</th>\n",
       "      <th>Unnamed:_22</th>\n",
       "      <th>Unnamed:_23</th>\n",
       "    </tr>\n",
       "  </thead>\n",
       "  <tbody>\n",
       "    <tr>\n",
       "      <th>0</th>\n",
       "      <td>2018.06.25</td>\n",
       "      <td>25-Jun-2018</td>\n",
       "      <td>2018.0</td>\n",
       "      <td>Boating</td>\n",
       "      <td>USA</td>\n",
       "      <td>California</td>\n",
       "      <td>Oceanside, San Diego County</td>\n",
       "      <td>Paddling</td>\n",
       "      <td>Julie Wolfe</td>\n",
       "      <td>F</td>\n",
       "      <td>...</td>\n",
       "      <td>White shark</td>\n",
       "      <td>R. Collier, GSAF</td>\n",
       "      <td>2018.06.25-Wolfe.pdf</td>\n",
       "      <td>http://sharkattackfile.net/spreadsheets/pdf_di...</td>\n",
       "      <td>http://sharkattackfile.net/spreadsheets/pdf_di...</td>\n",
       "      <td>2018.06.25</td>\n",
       "      <td>2018.06.25</td>\n",
       "      <td>6303.0</td>\n",
       "      <td>NaN</td>\n",
       "      <td>NaN</td>\n",
       "    </tr>\n",
       "  </tbody>\n",
       "</table>\n",
       "<p>1 rows × 24 columns</p>\n",
       "</div>"
      ],
      "text/plain": [
       "  Case_Number         Date    Year     Type Country        Area  \\\n",
       "0  2018.06.25  25-Jun-2018  2018.0  Boating     USA  California   \n",
       "\n",
       "                      Location  Activity         Name Sex_  ...     Species_  \\\n",
       "0  Oceanside, San Diego County  Paddling  Julie Wolfe    F  ...  White shark   \n",
       "\n",
       "  Investigator_or_Source                   pdf  \\\n",
       "0       R. Collier, GSAF  2018.06.25-Wolfe.pdf   \n",
       "\n",
       "                                        href_formula  \\\n",
       "0  http://sharkattackfile.net/spreadsheets/pdf_di...   \n",
       "\n",
       "                                                href Case_Number.1  \\\n",
       "0  http://sharkattackfile.net/spreadsheets/pdf_di...    2018.06.25   \n",
       "\n",
       "  Case_Number.2 original_order Unnamed:_22 Unnamed:_23  \n",
       "0    2018.06.25         6303.0         NaN         NaN  \n",
       "\n",
       "[1 rows x 24 columns]"
      ]
     },
     "execution_count": 10,
     "metadata": {},
     "output_type": "execute_result"
    }
   ],
   "source": [
    "sh_attacks_copia.head(1)"
   ]
  },
  {
   "cell_type": "code",
   "execution_count": 11,
   "id": "bdb5a80b",
   "metadata": {},
   "outputs": [],
   "source": [
    "sh_attacks2 = sh_attacks_copia[[\"Case_Number\",\"Year\", \"Type\", \"Country\",\"Area\", \"Activity\", \"Sex_\", \"Age\", \"Injury\", \"Fatal_(Y/N)\", \"Time\", \"Species_\", \"Investigator_or_Source\"]]"
   ]
  },
  {
   "cell_type": "code",
   "execution_count": 12,
   "id": "85786d02",
   "metadata": {},
   "outputs": [
    {
     "data": {
      "text/plain": [
       "(25723, 13)"
      ]
     },
     "execution_count": 12,
     "metadata": {},
     "output_type": "execute_result"
    }
   ],
   "source": [
    "sh_attacks2.shape"
   ]
  },
  {
   "cell_type": "markdown",
   "id": "2a074c10",
   "metadata": {},
   "source": [
    "# SELECCIONAR LOS DATOS CON LOS QUE TRABAJAR"
   ]
  },
  {
   "cell_type": "code",
   "execution_count": 65,
   "id": "5784a1b1",
   "metadata": {},
   "outputs": [],
   "source": [
    "sh_attacks3 = sh_attacks2.dropna(how=\"all\")\n",
    "#Quitar las filas del data set que solo tienen NaN en toda la fila"
   ]
  },
  {
   "cell_type": "code",
   "execution_count": 66,
   "id": "2a15c11b",
   "metadata": {},
   "outputs": [
    {
     "data": {
      "text/plain": [
       "(8703, 13)"
      ]
     },
     "execution_count": 66,
     "metadata": {},
     "output_type": "execute_result"
    }
   ],
   "source": [
    "sh_attacks3.shape\n",
    "#Se reduce el número de filas de 25,723 a 8,703"
   ]
  },
  {
   "cell_type": "code",
   "execution_count": 67,
   "id": "a460e917",
   "metadata": {},
   "outputs": [
    {
     "data": {
      "text/html": [
       "<div>\n",
       "<style scoped>\n",
       "    .dataframe tbody tr th:only-of-type {\n",
       "        vertical-align: middle;\n",
       "    }\n",
       "\n",
       "    .dataframe tbody tr th {\n",
       "        vertical-align: top;\n",
       "    }\n",
       "\n",
       "    .dataframe thead th {\n",
       "        text-align: right;\n",
       "    }\n",
       "</style>\n",
       "<table border=\"1\" class=\"dataframe\">\n",
       "  <thead>\n",
       "    <tr style=\"text-align: right;\">\n",
       "      <th></th>\n",
       "      <th>Case_Number</th>\n",
       "      <th>Year</th>\n",
       "      <th>Type</th>\n",
       "      <th>Country</th>\n",
       "      <th>Area</th>\n",
       "      <th>Activity</th>\n",
       "      <th>Sex_</th>\n",
       "      <th>Age</th>\n",
       "      <th>Injury</th>\n",
       "      <th>Fatal_(Y/N)</th>\n",
       "      <th>Time</th>\n",
       "      <th>Species_</th>\n",
       "      <th>Investigator_or_Source</th>\n",
       "    </tr>\n",
       "  </thead>\n",
       "  <tbody>\n",
       "    <tr>\n",
       "      <th>613</th>\n",
       "      <td>2013.10.11</td>\n",
       "      <td>2013.0</td>\n",
       "      <td>Unprovoked</td>\n",
       "      <td>SOUTH AFRICA</td>\n",
       "      <td>Eastern Cape Province</td>\n",
       "      <td>Swimming / snorkeling</td>\n",
       "      <td>M</td>\n",
       "      <td>74</td>\n",
       "      <td>FATAL</td>\n",
       "      <td>Y</td>\n",
       "      <td>11h30</td>\n",
       "      <td>White shark</td>\n",
       "      <td>JBayNews.com, 10/11/2013</td>\n",
       "    </tr>\n",
       "    <tr>\n",
       "      <th>7964</th>\n",
       "      <td>0</td>\n",
       "      <td>NaN</td>\n",
       "      <td>NaN</td>\n",
       "      <td>NaN</td>\n",
       "      <td>NaN</td>\n",
       "      <td>NaN</td>\n",
       "      <td>NaN</td>\n",
       "      <td>NaN</td>\n",
       "      <td>NaN</td>\n",
       "      <td>NaN</td>\n",
       "      <td>NaN</td>\n",
       "      <td>NaN</td>\n",
       "      <td>NaN</td>\n",
       "    </tr>\n",
       "  </tbody>\n",
       "</table>\n",
       "</div>"
      ],
      "text/plain": [
       "     Case_Number    Year        Type       Country                   Area  \\\n",
       "613   2013.10.11  2013.0  Unprovoked  SOUTH AFRICA  Eastern Cape Province   \n",
       "7964           0     NaN         NaN           NaN                    NaN   \n",
       "\n",
       "                   Activity Sex_  Age Injury Fatal_(Y/N)   Time     Species_  \\\n",
       "613   Swimming / snorkeling    M   74  FATAL           Y  11h30  White shark   \n",
       "7964                    NaN  NaN  NaN    NaN         NaN    NaN          NaN   \n",
       "\n",
       "        Investigator_or_Source  \n",
       "613   JBayNews.com, 10/11/2013  \n",
       "7964                       NaN  "
      ]
     },
     "execution_count": 67,
     "metadata": {},
     "output_type": "execute_result"
    }
   ],
   "source": [
    "sh_attacks3.sample(2)"
   ]
  },
  {
   "cell_type": "code",
   "execution_count": 68,
   "id": "edecb776",
   "metadata": {},
   "outputs": [
    {
     "data": {
      "text/plain": [
       "array(['Boating', 'Unprovoked', 'Invalid', 'Provoked', 'Questionable',\n",
       "       'Sea Disaster', nan, 'Boat', 'Boatomg'], dtype=object)"
      ]
     },
     "execution_count": 68,
     "metadata": {},
     "output_type": "execute_result"
    }
   ],
   "source": [
    "sh_attacks3.Type.unique()\n",
    "# Ver todas las variables de la columna Type"
   ]
  },
  {
   "cell_type": "code",
   "execution_count": 17,
   "id": "2cb88003",
   "metadata": {},
   "outputs": [
    {
     "data": {
      "text/plain": [
       "array(['Paddling', 'Standing', 'Surfing', ...,\n",
       "       'Crew swimming alongside their anchored ship',\n",
       "       '4 men were bathing', 'Wreck of  large double sailing canoe'],\n",
       "      dtype=object)"
      ]
     },
     "execution_count": 17,
     "metadata": {},
     "output_type": "execute_result"
    }
   ],
   "source": [
    "sh_attacks3.Activity.unique()\n",
    "# Ver todas las variables de la columna Activity"
   ]
  },
  {
   "cell_type": "code",
   "execution_count": 69,
   "id": "918594e3",
   "metadata": {},
   "outputs": [
    {
     "name": "stdout",
     "output_type": "stream",
     "text": [
      "<class 'pandas.core.frame.DataFrame'>\n",
      "Int64Index: 8703 entries, 0 to 25722\n",
      "Data columns (total 13 columns):\n",
      " #   Column                  Non-Null Count  Dtype  \n",
      "---  ------                  --------------  -----  \n",
      " 0   Case_Number             8702 non-null   object \n",
      " 1   Year                    6300 non-null   float64\n",
      " 2   Type                    6298 non-null   object \n",
      " 3   Country                 6252 non-null   object \n",
      " 4   Area                    5847 non-null   object \n",
      " 5   Activity                5758 non-null   object \n",
      " 6   Sex_                    5737 non-null   object \n",
      " 7   Age                     3471 non-null   object \n",
      " 8   Injury                  6274 non-null   object \n",
      " 9   Fatal_(Y/N)             5763 non-null   object \n",
      " 10  Time                    2948 non-null   object \n",
      " 11  Species_                3464 non-null   object \n",
      " 12  Investigator_or_Source  6285 non-null   object \n",
      "dtypes: float64(1), object(12)\n",
      "memory usage: 951.9+ KB\n"
     ]
    }
   ],
   "source": [
    "sh_attacks3.info()\n",
    "#Información del Data Frame"
   ]
  },
  {
   "cell_type": "code",
   "execution_count": 19,
   "id": "f631002f",
   "metadata": {
    "scrolled": true
   },
   "outputs": [
    {
     "data": {
      "text/plain": [
       "Case_Number                  1\n",
       "Year                      2403\n",
       "Type                      2405\n",
       "Country                   2451\n",
       "Area                      2856\n",
       "Activity                  2945\n",
       "Sex_                      2966\n",
       "Age                       5232\n",
       "Injury                    2429\n",
       "Fatal_(Y/N)               2940\n",
       "Time                      5755\n",
       "Species_                  5239\n",
       "Investigator_or_Source    2418\n",
       "dtype: int64"
      ]
     },
     "execution_count": 19,
     "metadata": {},
     "output_type": "execute_result"
    }
   ],
   "source": [
    "sh_attacks3.isna().sum()\n",
    "# Sumar todos los valores NaN por columna"
   ]
  },
  {
   "cell_type": "code",
   "execution_count": 20,
   "id": "fb9a63a7",
   "metadata": {},
   "outputs": [],
   "source": [
    "sh_attacks4 = sh_attacks3.fillna(\"absent\")\n",
    "#Reemplazar los valores NaN de todo el data set por la palabra absent."
   ]
  },
  {
   "cell_type": "code",
   "execution_count": 21,
   "id": "a601d865",
   "metadata": {
    "scrolled": true
   },
   "outputs": [
    {
     "data": {
      "text/plain": [
       "Case_Number               0\n",
       "Year                      0\n",
       "Type                      0\n",
       "Country                   0\n",
       "Area                      0\n",
       "Activity                  0\n",
       "Sex_                      0\n",
       "Age                       0\n",
       "Injury                    0\n",
       "Fatal_(Y/N)               0\n",
       "Time                      0\n",
       "Species_                  0\n",
       "Investigator_or_Source    0\n",
       "dtype: int64"
      ]
     },
     "execution_count": 21,
     "metadata": {},
     "output_type": "execute_result"
    }
   ],
   "source": [
    "sh_attacks4.isna().sum()\n",
    "# Verificar que los valores NaN han desaparecido"
   ]
  },
  {
   "cell_type": "code",
   "execution_count": 22,
   "id": "5571662c",
   "metadata": {},
   "outputs": [
    {
     "data": {
      "text/html": [
       "<div>\n",
       "<style scoped>\n",
       "    .dataframe tbody tr th:only-of-type {\n",
       "        vertical-align: middle;\n",
       "    }\n",
       "\n",
       "    .dataframe tbody tr th {\n",
       "        vertical-align: top;\n",
       "    }\n",
       "\n",
       "    .dataframe thead th {\n",
       "        text-align: right;\n",
       "    }\n",
       "</style>\n",
       "<table border=\"1\" class=\"dataframe\">\n",
       "  <thead>\n",
       "    <tr style=\"text-align: right;\">\n",
       "      <th></th>\n",
       "      <th>Case_Number</th>\n",
       "      <th>Year</th>\n",
       "      <th>Type</th>\n",
       "      <th>Country</th>\n",
       "      <th>Area</th>\n",
       "      <th>Activity</th>\n",
       "      <th>Sex_</th>\n",
       "      <th>Age</th>\n",
       "      <th>Injury</th>\n",
       "      <th>Fatal_(Y/N)</th>\n",
       "      <th>Time</th>\n",
       "      <th>Species_</th>\n",
       "      <th>Investigator_or_Source</th>\n",
       "    </tr>\n",
       "  </thead>\n",
       "  <tbody>\n",
       "    <tr>\n",
       "      <th>1955</th>\n",
       "      <td>2001.04.12.e</td>\n",
       "      <td>2001.0</td>\n",
       "      <td>Unprovoked</td>\n",
       "      <td>USA</td>\n",
       "      <td>Florida</td>\n",
       "      <td>absent</td>\n",
       "      <td>M</td>\n",
       "      <td>mid-30s</td>\n",
       "      <td>Right ankle &amp; lower leg lacerated</td>\n",
       "      <td>N</td>\n",
       "      <td>16h00</td>\n",
       "      <td>absent</td>\n",
       "      <td>M. Large, Stuart News, 4/13/2001</td>\n",
       "    </tr>\n",
       "    <tr>\n",
       "      <th>2554</th>\n",
       "      <td>1992.05.00</td>\n",
       "      <td>1992.0</td>\n",
       "      <td>Unprovoked</td>\n",
       "      <td>MEXICO</td>\n",
       "      <td>Mexico / Caribbean Sea</td>\n",
       "      <td>Scuba diving &amp; filming</td>\n",
       "      <td>M</td>\n",
       "      <td>absent</td>\n",
       "      <td>Fingers, hand &amp; arm bitten</td>\n",
       "      <td>N</td>\n",
       "      <td>absent</td>\n",
       "      <td>absent</td>\n",
       "      <td>T. Allen, p.238</td>\n",
       "    </tr>\n",
       "    <tr>\n",
       "      <th>2121</th>\n",
       "      <td>1999.06.12</td>\n",
       "      <td>1999.0</td>\n",
       "      <td>Unprovoked</td>\n",
       "      <td>USA</td>\n",
       "      <td>Florida</td>\n",
       "      <td>Swimming</td>\n",
       "      <td>M</td>\n",
       "      <td>41</td>\n",
       "      <td>8-inch bite on calf</td>\n",
       "      <td>N</td>\n",
       "      <td>13h15</td>\n",
       "      <td>absent</td>\n",
       "      <td>Florida Times-Union, 6/13/1999</td>\n",
       "    </tr>\n",
       "  </tbody>\n",
       "</table>\n",
       "</div>"
      ],
      "text/plain": [
       "       Case_Number    Year        Type Country                    Area  \\\n",
       "1955  2001.04.12.e  2001.0  Unprovoked     USA                 Florida   \n",
       "2554    1992.05.00  1992.0  Unprovoked  MEXICO  Mexico / Caribbean Sea   \n",
       "2121    1999.06.12  1999.0  Unprovoked     USA                 Florida   \n",
       "\n",
       "                    Activity Sex_      Age                             Injury  \\\n",
       "1955                  absent    M  mid-30s  Right ankle & lower leg lacerated   \n",
       "2554  Scuba diving & filming    M   absent         Fingers, hand & arm bitten   \n",
       "2121                Swimming    M       41                8-inch bite on calf   \n",
       "\n",
       "     Fatal_(Y/N)    Time Species_             Investigator_or_Source  \n",
       "1955           N   16h00   absent  M. Large, Stuart News, 4/13/2001   \n",
       "2554           N  absent   absent                    T. Allen, p.238  \n",
       "2121           N   13h15   absent     Florida Times-Union, 6/13/1999  "
      ]
     },
     "execution_count": 22,
     "metadata": {},
     "output_type": "execute_result"
    }
   ],
   "source": [
    "sh_attacks4.sample(3)"
   ]
  },
  {
   "cell_type": "code",
   "execution_count": 23,
   "id": "6b917206",
   "metadata": {},
   "outputs": [],
   "source": [
    "sh_attacks5 = sh_attacks4.drop_duplicates()\n",
    "# Formula para eliminar todas aquellas filas que estan duplicadas y son exactamente igual"
   ]
  },
  {
   "cell_type": "code",
   "execution_count": 24,
   "id": "74e5964d",
   "metadata": {},
   "outputs": [
    {
     "data": {
      "text/plain": [
       "(6304, 13)"
      ]
     },
     "execution_count": 24,
     "metadata": {},
     "output_type": "execute_result"
    }
   ],
   "source": [
    "sh_attacks5.shape\n",
    "# Ver el la forma del Data Frame habiendo quitado todos los duplicados."
   ]
  },
  {
   "cell_type": "code",
   "execution_count": 70,
   "id": "1fe2f01d",
   "metadata": {},
   "outputs": [],
   "source": [
    "sh_attacks6 = sh_attacks5.reset_index(drop=True)\n",
    "# Resetear el índice para ver el número de casos exactos."
   ]
  },
  {
   "cell_type": "code",
   "execution_count": 71,
   "id": "c870bd41",
   "metadata": {},
   "outputs": [
    {
     "data": {
      "text/html": [
       "<div>\n",
       "<style scoped>\n",
       "    .dataframe tbody tr th:only-of-type {\n",
       "        vertical-align: middle;\n",
       "    }\n",
       "\n",
       "    .dataframe tbody tr th {\n",
       "        vertical-align: top;\n",
       "    }\n",
       "\n",
       "    .dataframe thead th {\n",
       "        text-align: right;\n",
       "    }\n",
       "</style>\n",
       "<table border=\"1\" class=\"dataframe\">\n",
       "  <thead>\n",
       "    <tr style=\"text-align: right;\">\n",
       "      <th></th>\n",
       "      <th>Case_Number</th>\n",
       "      <th>Year</th>\n",
       "      <th>Type</th>\n",
       "      <th>Country</th>\n",
       "      <th>Area</th>\n",
       "      <th>Activity</th>\n",
       "      <th>Sex_</th>\n",
       "      <th>Age</th>\n",
       "      <th>Injury</th>\n",
       "      <th>Fatal_(Y/N)</th>\n",
       "      <th>Time</th>\n",
       "      <th>Species_</th>\n",
       "      <th>Investigator_or_Source</th>\n",
       "    </tr>\n",
       "  </thead>\n",
       "  <tbody>\n",
       "    <tr>\n",
       "      <th>6303</th>\n",
       "      <td>xx</td>\n",
       "      <td>absent</td>\n",
       "      <td>absent</td>\n",
       "      <td>absent</td>\n",
       "      <td>absent</td>\n",
       "      <td>absent</td>\n",
       "      <td>absent</td>\n",
       "      <td>absent</td>\n",
       "      <td>absent</td>\n",
       "      <td>absent</td>\n",
       "      <td>absent</td>\n",
       "      <td>absent</td>\n",
       "      <td>absent</td>\n",
       "    </tr>\n",
       "  </tbody>\n",
       "</table>\n",
       "</div>"
      ],
      "text/plain": [
       "     Case_Number    Year    Type Country    Area Activity    Sex_     Age  \\\n",
       "6303          xx  absent  absent  absent  absent   absent  absent  absent   \n",
       "\n",
       "      Injury Fatal_(Y/N)    Time Species_ Investigator_or_Source  \n",
       "6303  absent      absent  absent   absent                 absent  "
      ]
     },
     "execution_count": 71,
     "metadata": {},
     "output_type": "execute_result"
    }
   ],
   "source": [
    "sh_attacks6.tail(1)"
   ]
  },
  {
   "cell_type": "code",
   "execution_count": 72,
   "id": "2f883943",
   "metadata": {},
   "outputs": [],
   "source": [
    "list_columnas = list(sh_attacks6.columns)"
   ]
  },
  {
   "cell_type": "code",
   "execution_count": 73,
   "id": "81f7b65f",
   "metadata": {},
   "outputs": [
    {
     "name": "stdout",
     "output_type": "stream",
     "text": [
      "['Case_Number', 'Year', 'Type', 'Country', 'Area', 'Activity', 'Sex_', 'Age', 'Injury', 'Fatal_(Y/N)', 'Time', 'Species_', 'Investigator_or_Source']\n"
     ]
    }
   ],
   "source": [
    "print(list_columnas)"
   ]
  },
  {
   "cell_type": "code",
   "execution_count": 75,
   "id": "3342abee",
   "metadata": {},
   "outputs": [],
   "source": [
    "Split_Date_df = sh_attacks6[\"Case_Number\"].str.split(\".\", expand = True)\n",
    "# Hacer un Data Frame nuevo separado en columnas siempre y cuando haya un punto"
   ]
  },
  {
   "cell_type": "code",
   "execution_count": 76,
   "id": "b72ac1af",
   "metadata": {
    "scrolled": true
   },
   "outputs": [
    {
     "data": {
      "text/html": [
       "<div>\n",
       "<style scoped>\n",
       "    .dataframe tbody tr th:only-of-type {\n",
       "        vertical-align: middle;\n",
       "    }\n",
       "\n",
       "    .dataframe tbody tr th {\n",
       "        vertical-align: top;\n",
       "    }\n",
       "\n",
       "    .dataframe thead th {\n",
       "        text-align: right;\n",
       "    }\n",
       "</style>\n",
       "<table border=\"1\" class=\"dataframe\">\n",
       "  <thead>\n",
       "    <tr style=\"text-align: right;\">\n",
       "      <th></th>\n",
       "      <th>0</th>\n",
       "      <th>1</th>\n",
       "      <th>2</th>\n",
       "      <th>3</th>\n",
       "      <th>4</th>\n",
       "      <th>5</th>\n",
       "    </tr>\n",
       "  </thead>\n",
       "  <tbody>\n",
       "    <tr>\n",
       "      <th>0</th>\n",
       "      <td>2018</td>\n",
       "      <td>06</td>\n",
       "      <td>25</td>\n",
       "      <td>None</td>\n",
       "      <td>None</td>\n",
       "      <td>None</td>\n",
       "    </tr>\n",
       "    <tr>\n",
       "      <th>1</th>\n",
       "      <td>2018</td>\n",
       "      <td>06</td>\n",
       "      <td>18</td>\n",
       "      <td>None</td>\n",
       "      <td>None</td>\n",
       "      <td>None</td>\n",
       "    </tr>\n",
       "    <tr>\n",
       "      <th>2</th>\n",
       "      <td>2018</td>\n",
       "      <td>06</td>\n",
       "      <td>09</td>\n",
       "      <td>None</td>\n",
       "      <td>None</td>\n",
       "      <td>None</td>\n",
       "    </tr>\n",
       "    <tr>\n",
       "      <th>3</th>\n",
       "      <td>2018</td>\n",
       "      <td>06</td>\n",
       "      <td>08</td>\n",
       "      <td>None</td>\n",
       "      <td>None</td>\n",
       "      <td>None</td>\n",
       "    </tr>\n",
       "    <tr>\n",
       "      <th>4</th>\n",
       "      <td>2018</td>\n",
       "      <td>06</td>\n",
       "      <td>04</td>\n",
       "      <td>None</td>\n",
       "      <td>None</td>\n",
       "      <td>None</td>\n",
       "    </tr>\n",
       "    <tr>\n",
       "      <th>...</th>\n",
       "      <td>...</td>\n",
       "      <td>...</td>\n",
       "      <td>...</td>\n",
       "      <td>...</td>\n",
       "      <td>...</td>\n",
       "      <td>...</td>\n",
       "    </tr>\n",
       "    <tr>\n",
       "      <th>6299</th>\n",
       "      <td>ND</td>\n",
       "      <td>0003</td>\n",
       "      <td>None</td>\n",
       "      <td>None</td>\n",
       "      <td>None</td>\n",
       "      <td>None</td>\n",
       "    </tr>\n",
       "    <tr>\n",
       "      <th>6300</th>\n",
       "      <td>ND</td>\n",
       "      <td>0002</td>\n",
       "      <td>None</td>\n",
       "      <td>None</td>\n",
       "      <td>None</td>\n",
       "      <td>None</td>\n",
       "    </tr>\n",
       "    <tr>\n",
       "      <th>6301</th>\n",
       "      <td>ND</td>\n",
       "      <td>0001</td>\n",
       "      <td>None</td>\n",
       "      <td>None</td>\n",
       "      <td>None</td>\n",
       "      <td>None</td>\n",
       "    </tr>\n",
       "    <tr>\n",
       "      <th>6302</th>\n",
       "      <td>0</td>\n",
       "      <td>None</td>\n",
       "      <td>None</td>\n",
       "      <td>None</td>\n",
       "      <td>None</td>\n",
       "      <td>None</td>\n",
       "    </tr>\n",
       "    <tr>\n",
       "      <th>6303</th>\n",
       "      <td>xx</td>\n",
       "      <td>None</td>\n",
       "      <td>None</td>\n",
       "      <td>None</td>\n",
       "      <td>None</td>\n",
       "      <td>None</td>\n",
       "    </tr>\n",
       "  </tbody>\n",
       "</table>\n",
       "<p>6304 rows × 6 columns</p>\n",
       "</div>"
      ],
      "text/plain": [
       "         0     1     2     3     4     5\n",
       "0     2018    06    25  None  None  None\n",
       "1     2018    06    18  None  None  None\n",
       "2     2018    06    09  None  None  None\n",
       "3     2018    06    08  None  None  None\n",
       "4     2018    06    04  None  None  None\n",
       "...    ...   ...   ...   ...   ...   ...\n",
       "6299    ND  0003  None  None  None  None\n",
       "6300    ND  0002  None  None  None  None\n",
       "6301    ND  0001  None  None  None  None\n",
       "6302     0  None  None  None  None  None\n",
       "6303    xx  None  None  None  None  None\n",
       "\n",
       "[6304 rows x 6 columns]"
      ]
     },
     "metadata": {},
     "output_type": "display_data"
    }
   ],
   "source": [
    "display(Split_Date_df)"
   ]
  },
  {
   "cell_type": "code",
   "execution_count": 77,
   "id": "2f1bfe3d",
   "metadata": {
    "scrolled": true
   },
   "outputs": [
    {
     "data": {
      "text/plain": [
       "[0, 1, 2, 3, 4, 5]"
      ]
     },
     "execution_count": 77,
     "metadata": {},
     "output_type": "execute_result"
    }
   ],
   "source": [
    "list(Split_Date_df.columns)\n",
    "# Hacer una lista de las columnas del nuevo Data Frame"
   ]
  },
  {
   "cell_type": "code",
   "execution_count": null,
   "id": "15f4aaba",
   "metadata": {},
   "outputs": [],
   "source": [
    "#Ya que la columna de de meses es la columna 1, hacerme un nuevo data Drame con el mes en el que ocurrió el caso."
   ]
  },
  {
   "cell_type": "code",
   "execution_count": 79,
   "id": "dde171c1",
   "metadata": {},
   "outputs": [],
   "source": [
    "months_df = Split_Date_df[[1]]"
   ]
  },
  {
   "cell_type": "code",
   "execution_count": 80,
   "id": "de323dba",
   "metadata": {},
   "outputs": [
    {
     "data": {
      "text/html": [
       "<div>\n",
       "<style scoped>\n",
       "    .dataframe tbody tr th:only-of-type {\n",
       "        vertical-align: middle;\n",
       "    }\n",
       "\n",
       "    .dataframe tbody tr th {\n",
       "        vertical-align: top;\n",
       "    }\n",
       "\n",
       "    .dataframe thead th {\n",
       "        text-align: right;\n",
       "    }\n",
       "</style>\n",
       "<table border=\"1\" class=\"dataframe\">\n",
       "  <thead>\n",
       "    <tr style=\"text-align: right;\">\n",
       "      <th></th>\n",
       "      <th>1</th>\n",
       "    </tr>\n",
       "  </thead>\n",
       "  <tbody>\n",
       "    <tr>\n",
       "      <th>0</th>\n",
       "      <td>06</td>\n",
       "    </tr>\n",
       "    <tr>\n",
       "      <th>1</th>\n",
       "      <td>06</td>\n",
       "    </tr>\n",
       "    <tr>\n",
       "      <th>2</th>\n",
       "      <td>06</td>\n",
       "    </tr>\n",
       "    <tr>\n",
       "      <th>3</th>\n",
       "      <td>06</td>\n",
       "    </tr>\n",
       "    <tr>\n",
       "      <th>4</th>\n",
       "      <td>06</td>\n",
       "    </tr>\n",
       "    <tr>\n",
       "      <th>...</th>\n",
       "      <td>...</td>\n",
       "    </tr>\n",
       "    <tr>\n",
       "      <th>6299</th>\n",
       "      <td>0003</td>\n",
       "    </tr>\n",
       "    <tr>\n",
       "      <th>6300</th>\n",
       "      <td>0002</td>\n",
       "    </tr>\n",
       "    <tr>\n",
       "      <th>6301</th>\n",
       "      <td>0001</td>\n",
       "    </tr>\n",
       "    <tr>\n",
       "      <th>6302</th>\n",
       "      <td>None</td>\n",
       "    </tr>\n",
       "    <tr>\n",
       "      <th>6303</th>\n",
       "      <td>None</td>\n",
       "    </tr>\n",
       "  </tbody>\n",
       "</table>\n",
       "<p>6304 rows × 1 columns</p>\n",
       "</div>"
      ],
      "text/plain": [
       "         1\n",
       "0       06\n",
       "1       06\n",
       "2       06\n",
       "3       06\n",
       "4       06\n",
       "...    ...\n",
       "6299  0003\n",
       "6300  0002\n",
       "6301  0001\n",
       "6302  None\n",
       "6303  None\n",
       "\n",
       "[6304 rows x 1 columns]"
      ]
     },
     "metadata": {},
     "output_type": "display_data"
    }
   ],
   "source": [
    "display(months_df)\n",
    "# Ver el mes en el cual ocurrií casa caso."
   ]
  },
  {
   "cell_type": "code",
   "execution_count": 81,
   "id": "db4fd3f8",
   "metadata": {},
   "outputs": [
    {
     "data": {
      "text/plain": [
       "array(['06', '05', '04', '03', '02', '01', '12', '11', '10', '09', '08',\n",
       "       '07', '07-10', '00', '30', None, '29', '0214', '0336', '0493',\n",
       "       '0725', '0110', '0104', '0102', '0100', '0097', '0096', '0095',\n",
       "       '0094', '0093', '0091', '0090', '0089', '0088', '0087', '0086',\n",
       "       '0085', '0084', '0083', '0082', '0081', '0078', '0076', '0075',\n",
       "       '0074', '0073', '0069', '0068', '0066', '0065', '0064', '0063',\n",
       "       '0062', '0060', '0059', '0058', '0057', '0056', '0055', '0054',\n",
       "       '0053', '0052', '0051', '0049', '0048', '0047', '0046', '0044',\n",
       "       '0043', '0042', '0041', '0040', '0039', '0038', '0037', '0036',\n",
       "       '0035', '0034', '0033', '0032', '0031', '0030', '0028', '0027',\n",
       "       '0026', '0025', '0024', '0023', '0022', '0021', '0020', '0019',\n",
       "       '0018', '0017', '0016', '0015', '0014', '0013', '0012', '0011',\n",
       "       '0010', '0009', '0008', '0007', '0006', '0005', '0004', '0003',\n",
       "       '0002', '0001'], dtype=object)"
      ]
     },
     "execution_count": 81,
     "metadata": {},
     "output_type": "execute_result"
    }
   ],
   "source": [
    "months_df[1].unique()\n",
    "# Ver los meses que hay en el data frame de meses.\n",
    "#Previamente he visto los unique values de todas las columnas y la única columna que tenía 01-12 era esta columna."
   ]
  },
  {
   "cell_type": "code",
   "execution_count": 35,
   "id": "f7576bd7",
   "metadata": {},
   "outputs": [],
   "source": [
    "months_df1 = months_df[1].replace(['07-10', '00', '30', None, '29', '0214', '0336', '0493',\n",
    "       '0725', '0110', '0104', '0102', '0100', '0097', '0096', '0095',\n",
    "       '0094', '0093', '0091', '0090', '0089', '0088', '0087', '0086',\n",
    "       '0085', '0084', '0083', '0082', '0081', '0078', '0076', '0075',\n",
    "       '0074', '0073', '0069', '0068', '0066', '0065', '0064', '0063',\n",
    "       '0062', '0060', '0059', '0058', '0057', '0056', '0055', '0054',\n",
    "       '0053', '0052', '0051', '0049', '0048', '0047', '0046', '0044',\n",
    "       '0043', '0042', '0041', '0040', '0039', '0038', '0037', '0036',\n",
    "       '0035', '0034', '0033', '0032', '0031', '0030', '0028', '0027',\n",
    "       '0026', '0025', '0024', '0023', '0022', '0021', '0020', '0019',\n",
    "       '0018', '0017', '0016', '0015', '0014', '0013', '0012', '0011',\n",
    "       '0010', '0009', '0008', '0007', '0006', '0005', '0004', '0003',\n",
    "       '0002', '0001'], \"absent\")\n",
    "# Reemplazar todos los valores que nio dicen ningun mes por la palabra absent."
   ]
  },
  {
   "cell_type": "code",
   "execution_count": 89,
   "id": "e6e2b93b",
   "metadata": {},
   "outputs": [
    {
     "data": {
      "text/plain": [
       "07        668\n",
       "08        598\n",
       "09        554\n",
       "absent    534\n",
       "01        520\n",
       "06        499\n",
       "04        457\n",
       "12        443\n",
       "10        441\n",
       "03        410\n",
       "11        406\n",
       "05        392\n",
       "02        382\n",
       "Name: 1, dtype: int64"
      ]
     },
     "execution_count": 89,
     "metadata": {},
     "output_type": "execute_result"
    }
   ],
   "source": [
    "months_df1.value_counts()\n",
    "# Ver el número de valores absent"
   ]
  },
  {
   "cell_type": "code",
   "execution_count": 90,
   "id": "ade80f8f",
   "metadata": {
    "scrolled": true
   },
   "outputs": [
    {
     "data": {
      "text/plain": [
       "pandas.core.series.Series"
      ]
     },
     "execution_count": 90,
     "metadata": {},
     "output_type": "execute_result"
    }
   ],
   "source": [
    "type(months_df1)"
   ]
  },
  {
   "cell_type": "code",
   "execution_count": 38,
   "id": "d881431b",
   "metadata": {},
   "outputs": [],
   "source": [
    "list_months = list(months_df1)\n",
    "#Hacer una lista de la serie nueva de meses."
   ]
  },
  {
   "cell_type": "code",
   "execution_count": 91,
   "id": "6fcd5568",
   "metadata": {},
   "outputs": [
    {
     "name": "stdout",
     "output_type": "stream",
     "text": [
      "['06', '06', '06', '06', '06', '06', '06', '05', '05', '05', '05', '05', '05', '05', '05', '05', '05', '04', '04', '04', '04', '04', '04', '04', '04', '04', '04', '04', '04', '04', '04', '04', '04', '04', '04', '03', '03', '03', '03', '02', '02', '02', '02', '02', '02', '02', '02', '01', '01', '01', '01', '01', '01', '12', '12', '12', '12', '11', '11', '11', '11', '11', '11', '11', '11', '10', '10', '10', '10', '10', '10', '10', '10', '10', '10', '10', '10', '09', '09', '09', '09', '09', '09', '09', '09', '09', '09', '09', '09', '09', '09', '09', '09', '09', '09', '09', '08', '08', '08', '08', '08', '08', '08', '08', '08', '08', '07', '07', '07', '07', '07', '07', '07', '07', '07', '07', '07', '07', '07', '07', '07', '07', '07', '07', '07', '06', '06', '06', '06', '06', '06', '06', '06', '06', '06', '06', '06', '06', '06', '05', '05', '05', '05', '05', '05', '05', '04', '04', '04', '04', '04', '04', '04', '04', '04', '04', '04', '04', '04', '04', '04', '04', '04', '04', '04', '04', '04', '03', '03', '03', '03', '03', '02', '02', '02', '02', '02', '02', '02', '02', '02', '01', '01', '01', '01', '01', '01', '01', '01', '01', '12', '12', '12', '12', '12', '12', '12', '12', '11', '11', '10', '10', '10', '10', '10', '10', '10', '10', '10', '10', '10', '09', '09', '09', '09', '09', '09', '09', '09', '09', '09', '09', '09', '09', '09', '09', '09', '08', '08', '08', '08', '08', '08', '08', '07', '07', '07', '07', '07', '07', '07', '07', '07', '07', '07', '07', '07', '07', '07', '07', '07', '07', '07', '07', '07', '06', '06', '06', '06', '06', '06', '06', '06', '06', '06', '06', '06', '06', '06', '06', '06', '05', '05', '05', '05', '05', '05', '05', '05', '05', '05', '04', '04', '04', '04', '04', '04', '04', '04', '04', '04', '04', '03', '03', '03', '03', '03', '03', '03', '03', '03', '03', '03', '02', '02', '02', '02', '02', '02', '02', '02', '01', '01', '01', '01', '01', '01', '01', '01', '01', '12', '12', '12', '12', '12', '12', '12', '12', '12', '11', '11', '11', '11', '11', '12', '11', '11', '11', '10', '10', '10', '10', '10', '10', '10', '10', '10', '10', '10', '10', '10', '10', '10', '10', '09', '09', '09', '09', '09', '09', '09', '09', '09', '09', '09', '09', '09', '09', '09', '09', '09', '08', '08', '08', '08', '08', '08', '08', '08', '08', '07', '07', '07', '07', '07', '07', '07', '07', '07', '07', 'absent', '07', '07', '07', '07', '07', '07', '07', '06', '06', '06', '06', '06', '06', '06', '06', '06', '06', '06', '06', '06', '06', '06', '06', '06', '06', '06', '06', '06', '05', '05', '05', '05', '05', '05', '05', '05', '05', '05', '04', '04', '04', '04', '04', '04', '04', '04', '03', '03', '03', '03', '03', '03', '03', '03', '03', '02', '02', '02', '02', '02', '01', '01', '01', '01', '01', '01', '01', '01', '01', '01', '01', '01', '12', '12', '12', '12', '12', '12', '12', '12', '12', '11', '11', '11', '11', '11', '11', '11', '11', '10', '10', '10', '10', '10', '10', '10', '10', '10', '10', '10', '10', '10', '10', '10', '10', '10', '09', '09', '09', '09', '09', '09', '09', '09', '08', '08', '08', '08', '08', '08', '08', '08', '08', '08', '08', '08', '08', '08', '08', '08', '08', '08', '08', '08', '08', '07', '07', '07', '07', '07', '07', '07', '07', '07', '07', '07', '07', '06', '06', '06', '06', '06', '06', '06', '06', '06', '06', '06', '06', '06', '05', '05', '05', '05', '05', '05', '05', '05', '05', '05', '05', '04', '04', '04', '04', '04', '04', '04', '04', '03', '03', '03', '03', '03', '03', '03', '03', '03', '03', '02', '02', '02', '02', '02', '01', '01', '01', 'absent', 'absent', '12', '12', '12', '12', '12', '12', '12', '11', '11', '11', '11', '11', '11', '11', '11', '10', '10', '10', '10', '10', '10', '10', '10', '10', '10', '10', '10', '09', '09', '09', '09', '09', '09', '09', '09', '09', '09', '09', '09', '09', '09', '08', '08', '08', '08', '08', '08', '08', '08', '08', '08', '08', '08', '08', '07', '07', '07', '07', '07', '07', '07', '07', '07', '07', '07', '07', '07', '07', '07', '06', '06', '06', '06', '06', '06', '06', '06', '06', '06', '06', '06', '05', '05', '05', '05', '05', '05', '05', '05', '04', '04', '04', '04', '04', '04', '04', '04', '04', '04', '04', '03', '03', '03', '03', '03', '03', '03', '03', '03', '03', '02', '02', '02', '02', '02', '02', '01', '01', '01', '01', '01', '01', '12', '12', '12', '12', '12', '12', '12', '12', '11', '11', '11', '11', '11', '11', '10', '10', '10', '10', '10', '10', '10', '10', '10', '10', '09', '09', '09', '09', '09', '09', '09', '09', '09', '09', '09', '09', '09', '08', '08', '08', '08', '08', '08', '08', '08', '07', '07', '07', '07', '07', '07', '07', '07', '07', '07', '07', '07', '07', '07', '06', '06', '06', '06', '06', '06', '06', '06', '06', '06', '06', '06', '06', '06', '06', '06', '06', '06', '06', '05', '05', '05', '05', '05', '05', '05', '05', '04', '04', '04', '04', '04', '03', '03', '03', '03', '03', '03', '03', '03', '03', '03', '03', '03', '03', '02', '02', '02', '02', '01', '01', '01', '01', '01', '01', '01', '01', '01', '12', '12', '12', '12', '12', '12', '12', '12', '12', '12', '12', '12', '11', '11', '11', '11', '11', '11', '10', '10', '10', '10', '10', '10', '10', '10', '10', '10', '10', '10', '09', '09', '09', '09', '09', '09', '09', '09', '09', '09', '09', '09', '09', '09', '08', '08', '08', '08', '08', '08', '08', '08', '08', '08', '08', '08', '08', '08', '08', '08', '08', '07', '07', '07', '07', '07', '07', '07', '07', '07', '07', '07', '07', '06', '06', '06', '06', '06', '06', '06', '06', '06', '06', '06', '06', '06', '06', '06', '05', '05', '05', '05', '05', '05', '05', '05', '05', '05', '05', '04', '04', '04', '04', '04', '04', '03', '03', '03', '03', '03', '03', '03', '03', '02', '02', '02', '02', '02', '02', '02', '02', '01', '01', '01', '01', '01', '01', '01', '12', '12', '12', '12', '12', '12', '12', '11', '11', '11', '11', '11', '11', '11', '11', '10', '10', '10', '10', '10', '10', '10', '10', '10', '10', '10', '10', '09', '09', '09', '09', '09', '09', '09', '09', '09', '09', '08', '08', '08', '08', '08', '08', '08', '08', '08', '08', '08', '08', '07', '07', '07', '07', '07', '07', '07', '07', '07', '07', '07', '07', '06', '06', '06', '06', '06', '06', '06', '05', '05', '05', '05', '05', '05', '04', '04', '04', '04', '03', '02', '02', '02', '02', '02', '02', '02', '02', '02', '02', '02', '01', '01', '01', '01', '01', '01', '01', '01', '01', '01', '01', '12', '12', '12', '12', '12', '12', '12', '12', '12', '12', '12', '11', '11', '11', '11', '11', '11', '11', '11', '10', '10', '10', '10', '10', '10', '10', '10', '10', '10', '09', '09', '09', '09', '09', '09', '09', '09', '08', '08', '08', '08', '08', '08', '08', '07', '07', '07', '07', '07', '07', '07', '07', '07', '07', '07', '07', '07', '07', '06', '06', '06', '06', '06', '06', '06', '05', '05', '05', '05', '05', '05', '05', '04', '04', '04', '04', '04', '04', '04', '04', '04', '04', '04', '03', '03', '03', '03', '03', '03', '03', '03', '03', '03', '03', '03', '03', '02', '02', '02', '02', '02', '02', '02', '01', '01', '01', '01', '01', '01', '01', '01', '01', '01', '01', '01', '01', '01', '01', '01', '01', '12', '12', '12', '12', '12', '12', '12', '12', '12', '12', '11', '11', '11', '11', '11', '11', '10', '10', '10', '10', '10', '10', '09', '09', '09', '09', '09', '09', '09', '09', '09', '09', '09', '08', '08', '08', '08', '08', '08', '08', '08', '08', '08', '08', '08', '07', '07', '07', '07', '07', '07', '07', '07', '07', '07', '07', '07', '07', '07', '07', '07', '07', '06', '06', '06', '06', '06', '06', '06', '06', '06', '06', '06', '06', '06', '06', '05', '05', '05', '05', '05', '05', '05', '05', '05', '04', '04', '04', '04', '04', '04', '04', '04', '04', '04', '04', '04', '04', '03', '04', '04', '04', '03', '03', '03', '03', '03', '03', '03', '02', '02', '02', '02', '02', '01', '01', '01', '01', '01', '01', 'absent', 'absent', '12', '12', '12', '12', '12', '12', '12', '12', '11', '11', '11', '11', '11', '11', '11', '10', '10', '10', '10', '10', '09', '09', '09', '09', '09', '09', '09', '09', '09', '09', '09', '09', '09', '09', '09', '09', '09', '09', '08', '08', '08', '08', '08', '08', '08', '08', '08', '08', '08', '08', '08', '08', '08', '07', '07', '07', '07', '07', '07', '07', '07', '07', '07', '07', '07', '07', '07', '06', '06', '06', '06', '06', '06', '06', '05', '05', '05', '05', '05', '05', '05', '05', '05', '05', '05', '05', '04', '04', '04', '04', '04', '04', '03', '03', '03', '03', '03', '03', '03', '03', '03', '02', '02', '02', '01', '01', '01', '01', '01', '01', '01', '01', '12', '12', '12', '12', '12', '11', '11', '11', '10', '10', '10', '10', '10', '10', '10', '09', '09', '09', '09', '09', '09', '09', '09', '09', '09', '09', '08', '08', '08', '08', '08', '08', '08', '08', '08', '08', '08', '07', '07', '07', '07', '07', '07', '07', '07', '07', '07', '07', '07', '07', '07', '07', '07', '06', '06', '06', '06', '06', '06', '06', '06', '06', '06', '06', '05', '05', '05', '05', '05', '05', '05', '05', '05', '04', '04', '04', '04', '04', '04', '04', '04', '03', '03', '03', '03', '03', '02', '02', '02', '02', '02', '02', '02', '02', '01', '01', '01', '01', '01', '01', '01', '01', '01', '12', '12', '12', '12', '12', '11', '11', '11', '11', '11', '11', '11', '11', '11', '11', '11', '11', '11', '10', '10', '10', '10', '10', '10', '10', '10', '10', '10', '10', '09', '09', '09', '09', '09', '09', '09', '09', '09', '09', '09', '08', '08', '08', '08', '08', '08', '08', '08', '08', '07', '07', '07', '07', '07', '07', '07', '07', '07', '06', '06', '06', '06', '06', '06', '06', '06', '06', '06', '06', '05', '05', '05', '05', '05', '05', '05', '05', '04', '04', '04', '04', '04', '04', '04', '04', '04', '03', '03', '03', '03', '03', '03', '03', '03', '02', '02', '02', '02', '02', '01', '01', '01', '01', '12', '12', '12', '11', '11', '11', '11', '11', '11', '10', '10', '10', '10', '10', '10', '10', '10', '10', '10', '09', '09', '09', '09', '09', '08', '08', '08', '08', '08', '08', '08', '07', '07', '07', '07', '07', '07', '07', '07', '07', '07', '07', '06', '06', '06', '06', '06', '06', '05', '05', '05', '05', '05', '05', '05', '05', '05', '05', '04', '04', '04', '04', '04', '04', '04', '03', '03', '03', '03', '03', '03', '03', '03', '03', '03', '02', '02', '02', '02', '02', '02', '01', '01', '01', '01', '01', '01', '01', '01', '01', '01', 'absent', '12', '12', '12', '12', '12', '11', '11', '11', '11', '11', '11', '11', '11', '11', '11', '10', '10', '10', '10', '10', '10', '10', '10', '10', '10', '10', '10', '09', '09', '09', '09', '09', '09', '09', '09', '09', '09', '09', '09', '08', '08', '08', '08', '07', '07', '07', '07', '07', '07', '07', '07', '07', '07', '06', '06', '06', '06', '06', '06', '06', '06', '06', '05', '05', '05', '05', '05', '05', '04', '04', '04', '04', '04', '04', '04', '04', '04', '04', '04', '04', '04', '04', '04', '03', '02', '02', '02', '02', '02', '01', '01', '01', '12', '12', '12', '12', '12', '12', '11', '11', '11', '11', '11', '11', '11', '10', '10', '10', '10', '10', '10', '09', '09', '09', '09', '09', '09', '09', '09', '09', '09', '09', '09', '08', '08', '08', '08', '08', '08', '08', '07', '07', '07', '07', '07', '07', '06', '06', '06', '06', '06', '06', '06', '06', '06', '06', '05', '05', '05', '05', '05', '05', '05', '05', '05', '04', '04', '04', '04', '04', '04', '04', '04', '03', '03', '03', '03', '03', '03', '03', '02', '02', '02', '02', '01', '01', '01', '01', '01', '01', '12', '11', '11', '11', '10', '10', '09', '09', '09', '09', '09', '09', '09', '09', '09', '09', '09', '09', '09', '09', '09', '08', '08', '08', '08', '08', '08', '08', '08', '08', '08', '08', '08', '08', '08', '08', '08', '08', '08', '07', '07', '07', '07', '07', '07', '07', '07', '07', '07', '06', '06', '06', '06', '05', '05', '05', '05', '05', '05', '05', '05', '05', '04', '04', '04', '04', '04', '04', '04', '04', '04', '04', '04', '04', '04', '04', '04', '04', '04', '03', '03', '03', '03', '03', '02', '02', '02', '01', '01', '01', '01', '01', '12', '12', '12', '12', '12', '12', '11', '11', '11', '11', '11', '11', '11', '10', '10', '10', '10', '10', '10', '10', '10', '09', '09', '09', '09', '09', '09', '09', '09', '09', '09', '09', '09', '09', '09', '09', '08', '08', '08', '08', '08', '08', '08', '08', '08', '08', '07', '07', '07', '07', '07', '07', '07', '07', '07', '07', '07', '07', '07', '07', '07', '07', '07', '06', '06', '06', '06', '06', '06', '06', '06', '06', '05', '05', '05', '05', '04', '04', '03', '03', '03', '03', '03', '03', '03', '03', '03', '03', '03', '02', '02', '02', '02', '02', '01', '01', 'absent', '12', '12', '12', '12', '12', '12', '12', '11', '11', '11', '11', '11', '11', '11', '10', '10', '10', '10', '09', '09', '09', '09', '09', '09', '09', '09', '08', '08', '08', '08', '08', '08', '08', '07', '07', '07', '07', '07', '07', '07', '06', '06', '06', '06', '05', '05', '04', '04', '04', '03', '03', '03', '03', '03', '03', '03', '02', '02', '02', '01', '01', '01', '01', '01', 'absent', 'absent', '12', '12', '12', '12', '12', '11', '11', '11', '11', '11', '11', '10', '10', '10', '10', '10', '10', '09', '09', '09', '09', '09', '08', '08', '08', '08', '08', '08', '08', '08', '08', '07', '07', '07', '07', '07', '06', '06', '06', '06', '05', '05', '05', '05', '05', '05', '05', '04', '04', '04', '04', '04', '03', '03', '03', '02', '01', '01', '01', '01', '01', '01', 'absent', 'absent', 'absent', '12', '12', '12', '12', '11', '11', '11', '10', '10', '10', '10', '10', '10', '09', '09', '09', '09', '08', '08', '08', '08', '08', '08', '08', '08', '08', '08', '08', '08', '08', '08', '07', '07', '07', '07', '07', '07', '06', '06', '06', '06', '06', '05', '05', '05', '05', '05', '04', '02', '02', '02', '02', '02', '01', '01', '01', '01', '12', '12', '12', '12', '11', '11', '10', '10', '10', '10', '10', '10', '10', '09', '09', '09', '09', '09', '09', '09', '08', '08', '08', '07', '07', '07', '07', '07', '07', '07', '07', '07', '06', '06', '06', '05', '05', '05', '05', '05', '04', '04', '04', '04', '03', '03', '02', '02', '02', '02', '02', '02', '02', '01', '01', '01', '01', '01', '01', 'absent', 'absent', '12', '11', '11', '11', '11', '10', '10', '10', '10', '09', '09', '09', '09', '09', '09', '09', '09', '09', '09', '08', '08', '08', '08', '08', '08', '08', '08', '08', '08', '08', '08', '08', '08', '08', '08', '08', '07', '07', '07', '07', '07', '07', '07', '07', '11', '07', '07', '07', '06', '06', '06', '06', '06', '06', '06', '06', '06', '05', '05', '05', '05', '05', '04', '04', '04', '04', '03', '03', '03', '02', '02', '01', '01', 'absent', 'absent', 'absent', 'absent', '12', '12', '12', '12', '12', '12', '12', '12', '11', '11', '11', '10', '10', '10', '10', '09', '09', '09', '09', '08', '07', '07', '07', '07', '07', '07', '07', '06', '05', '05', '05', '05', '05', '05', '04', '04', '04', '04', '04', '03', '03', '03', '03', '02', '02', '02', '02', '02', '01', '01', '01', '01', '01', '01', 'absent', 'absent', '12', '11', '11', '11', '11', '10', '10', '10', '10', '09', '09', '09', '09', '09', '09', '09', '08', '08', '08', '08', '08', '08', '08', '08', '08', '07', '07', '06', '06', '06', '06', '06', '06', '06', '06', '06', '05', '05', '04', '03', '03', '03', '03', '03', '03', '02', '02', '02', '01', '01', '01', '01', 'absent', 'absent', 'absent', 'absent', '12', '12', '11', '11', '11', '11', '11', '11', '11', '11', '10', '10', '10', '10', '10', '09', '09', '09', '09', '09', '08', '08', '08', '08', '08', '08', '07', '07', '07', '07', '06', '06', '06', '06', '06', '05', '05', '05', '04', '04', '03', '03', '03', '03', '03', '02', '02', '02', '01', '01', '01', '01', '01', '01', '01', 'absent', '12', '11', '11', '11', '11', '11', '10', '10', '09', '09', '08', '08', '08', '08', '07', '07', '07', '07', '07', '07', '07', '06', '06', '06', '06', '06', '05', '05', '04', '04', '04', '04', '03', '02', '02', '01', '01', '01', '12', '11', '11', '11', '10', '10', '10', '10', '10', '10', '10', '09', '09', '09', '08', '08', '08', '08', '07', '07', '06', '06', '05', '05', '05', '05', '04', '04', '04', '04', '04', '04', '03', '03', '02', '02', '01', 'absent', '12', '12', '12', '11', '11', '11', '11', '10', '10', '10', '10', '10', '10', '09', '09', '09', '09', '09', '09', '08', '08', '08', '08', '08', '08', '07', '07', '07', '07', '07', '06', '06', '06', '06', '06', '06', '04', '04', '04', '04', '04', '03', '03', '02', '02', '02', '01', '01', '01', '01', '01', '01', 'absent', 'absent', '12', '11', '11', '10', '10', '10', '10', '10', '10', '10', '10', '09', '09', '09', '08', '08', '08', '08', '07', '07', '07', '07', '07', '07', '07', '06', '06', '06', '06', '06', '05', '05', '05', '04', '04', '04', '04', '04', '04', '04', '03', '03', '03', '03', '02', '02', '02', '02', '02', '01', '01', '01', '01', '01', 'absent', '12', '12', '12', '11', '11', '10', '10', '10', '10', '09', '09', '08', '08', '07', '07', '07', '07', '07', '07', '06', '05', '05', '05', '04', '04', '04', '04', '03', '03', '02', '02', '01', '01', 'absent', 'absent', '12', '12', '12', '12', '12', '12', '12', '11', '11', '11', '10', '10', '10', '10', '10', '09', '09', '09', '08', '08', '08', '08', '07', '07', '07', '05', '05', '04', '04', '03', '03', '03', '02', '02', '02', '02', '02', '01', 'absent', '12', '12', '11', '11', '11', '10', '10', '10', '10', '10', '09', '09', '09', '09', '08', '08', '08', '07', '07', '07', '07', '07', '05', '05', '03', '03', '02', '02', '01', '01', '01', '01', '01', '01', '01', 'absent', 'absent', '12', '11', '11', '11', '10', '10', '10', '10', '09', '09', '09', '09', '09', '09', '09', '09', '09', '08', '08', '07', '07', '07', '07', '07', '06', '06', '06', '05', '03', '03', '03', '03', '02', '02', '02', '02', '01', '01', 'absent', 'absent', '12', '12', '12', '12', '12', '12', '11', '11', '11', '10', '10', '09', '08', '08', '08', '08', '08', '08', '07', '07', '07', '07', '07', '07', '07', '06', '06', '06', '06', '06', '06', '05', '05', '05', '04', '04', '04', '04', '03', '03', '03', '03', '02', '01', '01', '01', '01', 'absent', 'absent', 'absent', '11', '10', '09', '09', '09', '09', '09', '09', '08', '08', '08', '08', '07', '07', '07', '07', '07', '07', '07', '06', '06', '06', '06', '06', '05', '03', '03', '03', '02', '02', '02', '02', '02', '02', '02', '02', '01', 'absent', 'absent', 'absent', '12', '12', '12', '11', '10', '11', '10', '10', '10', '10', '09', '09', '09', '09', '09', '08', '08', '08', '08', '08', '08', '07', '07', '07', '07', '06', '06', '05', '05', '05', '05', '05', '05', '05', '03', '05', '03', '03', '03', '03', '02', '02', '02', '02', '02', '01', '01', 'absent', 'absent', '12', '12', '11', '11', '11', '11', '10', '10', '08', '08', '08', '07', '07', '07', '07', '07', '06', '05', '04', '04', '04', '03', '03', '03', '03', '01', '01', '01', '01', '01', '01', 'absent', 'absent', 'absent', 'absent', '12', '12', '12', '11', '11', '10', '09', '08', '08', '08', '08', '06', '05', '05', '05', '05', '05', '04', '04', '03', '03', '03', '03', '02', 'absent', '12', '12', '11', '11', '10', '09', '09', '09', '08', '08', '07', '07', '06', '06', '06', '04', '04', '04', '03', '02', '02', '01', '01', 'absent', 'absent', '12', '12', '12', '12', '11', '10', '08', '08', '08', '08', '08', '07', '06', '06', '05', '05', '04', '04', '03', '03', '03', '03', '02', '02', '02', '01', '12', '12', '11', '11', '11', '11', '11', '10', '10', '10', '09', '09', '09', '09', '09', '09', '08', '08', '07', '07', '07', '07', '06', '06', '06', '06', '05', '04', '03', '03', '03', '03', '02', '01', '01', '01', '01', '01', 'absent', '12', '12', '12', '11', '11', '11', '11', '10', '10', '10', '09', '08', '08', '08', '08', '07', '07', '07', '07', '07', '07', '07', '07', '07', '06', '06', '06', '06', '06', '05', '05', '04', '04', '04', '03', '03', '03', '03', '03', '03', '02', '02', '02', '02', '02', '02', '01', 'absent', 'absent', '12', '11', '09', '09', '09', '09', '09', '09', '09', '08', '08', '08', '08', '08', '08', '07', '07', '07', '06', '05', '04', '04', '04', '04', '04', '03', '03', '02', '02', '02', '02', '01', '01', '01', '01', '01', 'absent', 'absent', '12', '12', '12', '12', '12', '11', '11', '11', '09', '09', '09', '09', '09', '08', '08', '08', '06', '04', '03', '03', '03', '02', '01', '01', 'absent', 'absent', 'absent', '12', '12', '12', '12', '12', '12', '12', '10', '10', '10', '10', '10', '09', '09', '08', '08', '08', '07', '06', '06', '06', '05', '05', '04', '04', '04', '03', '03', '02', '02', '01', '01', '01', 'absent', 'absent', '12', '12', '12', '11', '11', '10', '10', '10', '09', '09', '09', '08', '07', '07', '06', '06', '04', '04', '04', '04', '04', '04', '03', '01', 'absent', 'absent', 'absent', '12', '12', '12', '12', '11', '10', '10', '09', '09', '09', '09', '09', '09', '08', '07', '06', '06', '06', '06', '06', '04', '04', '04', '03', '03', '02', '01', '01', '01', '01', '01', '01', '01', '01', 'absent', 'absent', 'absent', 'absent', 'absent', 'absent', 'absent', 'absent', '11', '11', '11', '10', '09', '08', '08', '08', '08', '08', '07', '07', '07', '06', '06', '06', '05', '05', '05', '05', '04', '04', '03', '03', '02', '02', '01', '01', 'absent', '12', '12', '12', '12', '12', '12', '11', '11', '11', '10', '10', '10', '09', '09', '08', '08', '08', '08', '08', '07', '07', '07', '07', '07', '06', '06', '06', '05', '05', '04', '04', '04', '04', '04', '03', '03', '03', '02', '02', '02', '02', '02', '02', '01', 'absent', 'absent', 'absent', '12', '12', '12', '12', '12', '11', '11', '11', '11', '11', '10', '10', '10', '09', '09', '09', '09', '09', '09', '08', '08', '08', '08', '08', '08', '08', '08', '08', '08', '07', '07', '07', '06', '06', '05', '05', '04', '03', '03', '03', '03', '03', '03', '02', '01', '01', '01', '01', '12', '12', '12', '12', '12', '11', '11', '10', '10', '09', '09', '09', '09', '09', '09', '09', '08', '08', '08', '08', '08', '08', '08', '08', '08', '08', '07', '07', '07', '07', '07', '07', '07', '06', '06', '06', '06', '05', '05', '05', '05', '05', '04', '04', '03', '03', '02', '01', '01', '01', '01', '01', '01', '01', '01', '01', '01', 'absent', '12', '12', '12', '11', '11', '11', '11', '10', '10', '10', '10', '10', '09', '09', '09', '08', '08', '07', '07', '07', '06', '06', '06', '06', '06', '05', '05', '05', '05', '05', '04', '04', '04', '04', '04', '03', '03', '02', '02', '01', '01', '01', '01', '01', 'absent', 'absent', 'absent', 'absent', 'absent', 'absent', 'absent', '12', '12', '12', '12', '12', '11', '11', '11', '11', '10', '10', '10', '09', '09', '09', '08', '08', '08', '08', '08', '08', '08', '07', '07', '07', '07', '07', '07', '07', '06', '06', '06', '06', '06', '06', '05', '05', '05', '04', '03', '03', '03', '03', '02', '02', '02', '02', '02', '02', '02', '02', '02', '02', '02', '02', '01', '01', '01', '01', '01', '01', '01', '01', '01', '01', '01', '12', '12', '12', '12', '12', '12', '12', '12', '12', '12', '12', '11', '11', '11', '11', '11', '11', '11', '11', '11', '10', '10', '09', '09', '09', '09', '09', '08', '07', '07', '07', '07', '07', '06', '06', '05', '05', '04', '04', '04', '04', '04', '04', '03', '02', '02', '02', '02', '02', '01', '01', '01', '01', '01', '01', '01', '01', '01', '01', 'absent', 'absent', '12', '12', '12', '11', '11', '11', '11', '11', '10', '10', '10', '10', '10', '10', '09', '09', '09', '09', '08', 'absent', '08', '08', '08', '08', '08', '08', '08', '08', '08', '07', '07', '07', '07', '07', '07', '06', '06', '06', '06', '06', '06', '06', '06', '06', '06', '06', '05', '05', '05', '04', '04', '04', '04', '03', '03', '03', '02', '02', '02', '02', '02', '02', '02', '02', '01', '01', '01', '01', '01', '01', '01', '01', '01', '01', '01', '01', '01', '01', '01', '01', '01', '01', '01', 'absent', 'absent', 'absent', '12', '12', '12', '12', '12', '12', '12', '12', '11', '10', '10', '10', '10', '09', '09', '09', '09', '09', '09', '09', '08', '08', '08', '08', '08', '07', '07', '07', '07', '07', '06', '06', '06', '06', '06', '05', '05', '05', '05', '04', '04', '04', '04', '04', '04', '04', '04', '04', '04', '04', '03', '03', '03', '03', '03', '03', '03', '02', '02', '02', '02', '02', '02', '02', '01', '01', '01', '01', '01', '01', '01', '01', '01', '01', 'absent', '01', 'absent', 'absent', 'absent', '12', '12', '12', '12', '12', '11', '11', '11', '11', '11', '11', '11', '10', '10', '10', '10', '10', '10', '10', '10', '09', '09', '09', '09', '09', '08', '08', '08', '08', '08', '08', '08', '08', '08', '08', '08', '08', '07', '07', '07', '07', '06', '06', '06', '06', '06', '06', '06', '05', '05', '05', '05', '05', '04', '04', '04', '04', '04', '04', '04', '04', '04', '04', '04', '04', '04', '03', '03', '02', '02', '02', '02', '02', '02', '02', '02', '01', '01', '01', '01', '01', '01', '01', 'absent', 'absent', 'absent', 'absent', 'absent', 'absent', 'absent', 'absent', 'absent', 'absent', '12', '12', '12', '12', '12', '12', '12', '12', '12', '11', '11', '11', '11', '11', '11', '11', '11', '11', '10', '10', '10', '10', '10', '09', '09', '09', '09', '09', '09', '09', '09', '08', '08', '08', '08', '08', '08', '08', '08', '08', '08', '08', '08', '08', '08', '07', '07', '07', '07', '07', '07', '07', '07', '07', '07', '06', '06', '06', '06', '05', '05', '05', '05', '05', '04', '04', '04', '04', '04', '03', '03', '03', '02', '02', '02', '02', '02', '01', '01', '01', '01', '01', '01', '01', '01', '01', 'absent', 'absent', 'absent', 'absent', 'absent', 'absent', 'absent', '12', '12', '12', '12', '12', '11', '11', '11', '11', '10', '10', '10', '10', '09', '09', '09', '08', '08', '07', '07', '07', '07', '07', '07', '07', '07', '07', '07', '07', '06', '06', '06', '06', '06', '04', '04', '04', '04', '04', '02', '02', '01', '01', '01', '01', 'absent', 'absent', 'absent', 'absent', 'absent', 'absent', 'absent', 'absent', 'absent', '12', '12', '12', '12', '12', '12', '11', '11', '10', '10', '09', '08', '07', '07', '07', '06', '05', '05', '05', '04', '04', '04', '04', '04', '04', '02', '02', '02', '02', '01', 'absent', 'absent', 'absent', 'absent', 'absent', 'absent', 'absent', 'absent', 'absent', 'absent', 'absent', '12', '12', '12', '12', '10', '10', '10', '10', '09', '09', '09', '09', '08', '08', '08', '08', '08', '08', '08', '08', '08', '08', '08', '07', '07', '07', '07', '07', '06', '06', '06', '05', '05', '05', '03', '03', '03', '03', '02', '02', '01', '01', '01', 'absent', 'absent', 'absent', 'absent', 'absent', 'absent', 'absent', 'absent', '12', '12', '11', '11', '10', '09', '09', '09', '09', '09', '08', '08', '08', '08', '08', '08', '08', '07', '07', '07', '07', '05', '05', '04', '04', '04', '03', '03', '03', '02', '02', '02', '02', '02', '02', '01', '01', 'absent', 'absent', 'absent', 'absent', 'absent', 'absent', '12', '12', '12', '12', '11', '10', '10', '10', '10', '09', '09', '09', '08', '08', '08', '07', '07', '07', '07', '07', '07', '07', '07', '06', '06', '06', '05', '05', '04', '04', '02', '01', '01', '01', '01', 'absent', 'absent', 'absent', 'absent', 'absent', 'absent', 'absent', '12', '12', '12', '12', '10', '09', '09', '09', '09', '09', '08', '07', '07', '07', '07', '07', '07', '07', '07', '06', '04', '04', '04', '04', '03', '03', '03', '03', '02', '02', '02', '01', '01', 'absent', 'absent', 'absent', '12', '12', '12', '08', '08', '12', '12', '10', '08', '08', '07', '07', '07', '07', '07', '07', '05', '05', '05', '04', '04', '03', '01', '01', 'absent', 'absent', 'absent', 'absent', 'absent', '12', '12', '12', '12', '11', '11', '11', '11', '10', '10', '09', '09', '09', '08', '08', '08', '08', '07', '07', '06', '06', '05', '05', '03', '03', '03', '02', '02', '02', '01', '01', 'absent', '12', '12', '12', '11', '11', '11', '10', '10', '08', '08', '07', '07', '07', '07', '07', '07', '07', '06', '06', '05', '05', '04', '04', '03', '03', '03', '02', '02', '01', '01', 'absent', 'absent', 'absent', 'absent', 'absent', 'absent', 'absent', 'absent', 'absent', 'absent', 'absent', 'absent', 'absent', '12', '12', '11', '11', '08', '08', '08', '08', '08', '07', '07', '07', '07', '06', '05', '05', '04', '04', '04', '03', '01', '01', '01', '01', 'absent', 'absent', 'absent', 'absent', 'absent', 'absent', 'absent', '12', '12', '12', '12', '12', '12', '11', '09', '09', '09', '09', '09', '09', '08', '08', '08', '07', '06', '05', '04', '03', '03', '03', '02', '02', '01', 'absent', 'absent', 'absent', 'absent', '12', '12', '12', '11', '11', '11', '11', '11', '11', '10', '10', '08', '07', '07', '07', '07', '06', '06', '05', '04', '04', '04', '04', '03', '03', '02', '02', '02', '01', '01', '12', '12', '11', '10', '10', '08', '08', '07', '07', '06', '05', '04', '04', '03', '02', '02', '02', '01', '01', '01', '01', '01', '01', 'absent', 'absent', 'absent', '09', '09', '09', '09', '08', '08', '07', '07', '06', '05', '03', '02', 'absent', 'absent', 'absent', 'absent', '12', '12', '11', '11', '10', '10', '10', '10', '10', '10', '09', '09', '08', '07', '06', '05', '05', '05', '04', '03', '03', '03', '02', '02', '01', '01', '01', '01', 'absent', 'absent', 'absent', '12', '12', '11', '11', '10', '09', '08', '07', '07', '07', '06', '05', '05', '05', '05', '05', '04', '03', '03', '03', '03', '01', 'absent', 'absent', 'absent', 'absent', 'absent', 'absent', '12', '11', '11', '11', '11', '11', '11', '11', '11', '11', '11', '10', '09', '09', '09', '09', '08', '07', '07', '06', '06', '06', '06', '05', '04', '03', '03', '01', '01', '01', 'absent', 'absent', 'absent', 'absent', 'absent', 'absent', 'absent', 'absent', 'absent', 'absent', 'absent', '12', '12', '11', '11', '11', '11', '09', '08', '08', '08', '07', '07', '06', '06', '03', '03', '02', '02', '01', '01', 'absent', 'absent', 'absent', 'absent', 'absent', 'absent', 'absent', '12', '12', '12', '12', '09', '07', '07', '06', '03', '03', '02', '02', '02', '01', '01', '01', '01', '01', 'absent', 'absent', 'absent', 'absent', 'absent', 'absent', '12', '12', '11', '11', '11', '11', '11', '10', '10', '09', '08', '07', '07', '07', '05', '04', '03', '02', '02', '01', 'absent', 'absent', 'absent', 'absent', 'absent', '12', '10', '08', '08', '07', '07', '07', '07', '06', '06', '05', '05', '05', '03', '03', '01', '01', '01', '01', 'absent', 'absent', 'absent', 'absent', 'absent', '11', '11', '11', '10', '10', '10', '10', '09', '09', '09', '09', '08', '08', '08', '07', '07', '06', '06', '06', '05', '05', '03', '03', '02', '02', '02', '02', '02', '01', 'absent', '12', '12', '12', '12', '12', '11', '09', '09', '08', '08', '08', '08', '08', '07', '07', '07', '07', '06', '06', '04', '04', '03', '03', '03', '03', '02', '02', '02', '01', '01', '01', 'absent', '12', '11', '09', '09', '08', '08', '08', '07', '07', '07', '07', '06', '06', '06', '06', '05', '05', '04', '04', '04', '03', '03', '03', '03', '03', '03', '03', '02', '01', '01', '01', '01', '12', '12', '12', '12', '10', '10', '10', '09', '08', '08', '08', '08', '08', '07', '06', '06', '04', '04', '04', '04', '03', '03', '02', '02', '01', '01', '01', '11', '11', '10', '09', '08', '08', '08', '07', '07', '06', '06', '06', '05', '05', '06', '05', '04', '02', '02', '02', '02', '01', '12', '12', '11', '10', '10', '09', '08', '08', '08', '08', '08', '07', '07', '06', '06', '06', '05', '05', '04', '04', '02', '02', '02', '01', '01', '01', 'absent', '11', '09', '09', '09', '09', '08', '08', '08', '08', '08', '08', '08', '08', '07', '07', '06', '06', '06', '05', '04', '03', '03', '03', '02', '01', '01', '01', 'absent', 'absent', '12', '12', '12', '12', '11', '09', '09', '08', '08', '08', '07', '07', '06', '05', '05', '05', '04', '03', '02', '02', '02', '01', '01', '01', 'absent', 'absent', '12', '12', '12', '12', '12', '12', '11', '11', '10', '10', '09', '08', '07', '07', '06', '05', '04', '04', '04', '04', '04', '03', '03', '03', '03', '02', '02', '02', '01', '01', '01', '01', '01', 'absent', 'absent', 'absent', 'absent', 'absent', '12', '11', '11', '11', '11', '09', '08', '07', '07', '06', '05', '04', '04', '04', '04', '04', '03', '02', '02', '02', '01', '01', '01', '01', '01', 'absent', '12', '11', '10', '10', '10', '07', '05', '05', '04', '04', '03', '02', '02', '02', '01', '01', '01', 'absent', 'absent', '12', '11', '10', '10', '10', '09', '08', '07', '07', '07', '07', '05', '04', '04', '03', '01', '01', 'absent', 'absent', 'absent', 'absent', '11', '11', '11', '09', '09', '08', '06', '05', '03', '03', '03', '01', '01', 'absent', '11', '11', '11', '10', '10', '07', '07', '07', '06', '04', '04', '04', '03', '03', '02', '02', '01', '01', '01', '12', '12', '11', '11', '10', '10', '10', '08', '07', '06', '06', '05', '05', '03', '02', '01', '01', '01', 'absent', 'absent', 'absent', 'absent', '12', '12', '09', '10', '09', '09', '09', '07', '06', '05', '05', '04', '03', '03', '03', '02', '02', '01', '01', '01', '01', '12', '11', '11', '11', '10', '10', '09', '08', '08', '07', '01', '11', '08', '11', '11', '07', '07', '06', '06', '03', '01', '02', '01', '01', 'absent', 'absent', 'absent', '12', '12', '11', '09', '08', '05', '04', '03', '01', '01', '01', '01', 'absent', 'absent', '11', '11', '09', '03', 'absent', '12', '11', '09', '09', '09', '07', '07', '06', '05', '05', 'absent', '12', '12', '12', '11', '11', '11', '10', '08', '07', '07', '07', '07', '07', '07', '07', '07', '07', '07', '07', '06', '06', '06', '04', '04', '03', '12', '11', '11', '08', '07', '07', '05', '03', '02', '01', '01', 'absent', '12', '10', '09', '09', '07', '07', '07', '06', '06', '05', '05', '03', '03', '03', '02', '02', '01', 'absent', '12', '12', '11', '11', '09', '09', '08', '08', '08', '07', '07', '05', '05', '03', '01', 'absent', 'absent', 'absent', '11', '08', '07', '07', '05', '03', '02', '02', '02', '01', '01', '01', '01', 'absent', '11', '10', '10', '09', '09', '09', '07', '07', '05', '05', '05', '04', '03', '01', 'absent', 'absent', '12', '12', '11', '11', '06', '06', '05', '03', '03', '03', '02', '01', 'absent', 'absent', '12', '12', '12', '11', '09', '08', '07', '07', '06', '06', '06', '04', '04', '04', '03', '01', '01', 'absent', '12', '12', '09', '09', '08', '07', '07', '06', '06', '06', '05', '05', '01', '12', '10', '10', '10', '10', '10', '10', '09', '09', '08', '08', '08', '07', '07', '07', '04', '03', '03', '02', '02', '02', 'absent', 'absent', '11', '10', '10', '10', '10', '09', '09', '09', '09', '08', '08', '07', '07', '04', '04', '04', '04', '04', '02', '01', '01', '12', '12', '09', 'absent', '08', '08', '08', '07', '07', '07', '07', '05', '04', '03', '03', '02', '01', 'absent', '11', '10', '09', '08', '07', '07', '07', '02', '02', '01', 'absent', 'absent', 'absent', 'absent', '10', '09', '07', '06', '05', '03', '03', '01', 'absent', 'absent', '12', '11', '11', '08', '08', '08', '07', '07', '06', '06', '04', '02', '01', '01', '01', '12', '10', '09', '07', '07', '06', '06', '01', 'absent', '12', '11', '10', '09', '09', '09', '08', '07', '07', '07', '01', 'absent', 'absent', '12', '11', '10', '10', '10', '09', '08', '08', '08', '08', '08', '07', '06', '06', '05', '05', '01', 'absent', 'absent', 'absent', '12', '10', '09', '09', '09', '08', '07', '07', '07', '07', '06', '04', '01', 'absent', 'absent', 'absent', 'absent', 'absent', 'absent', 'absent', 'absent', '12', '10', '10', '09', '09', '07', '06', '03', '03', 'absent', 'absent', '12', '12', '12', '11', '11', '09', '07', '06', '01', 'absent', 'absent', '12', '11', '11', '09', '09', '09', '08', '08', '07', '06', '06', '05', '05', '04', '04', '03', '03', '02', '02', 'absent', '12', '11', '10', '09', '09', '09', '08', '08', '07', '06', '06', '06', '06', '04', '04', '10', '10', '07', '06', '06', '05', '05', '04', '04', '04', '01', '01', 'absent', '12', '11', '11', '09', '06', '06', '05', '04', '03', '03', 'absent', '12', '12', '11', '09', '08', '08', '06', '03', '01', '12', '12', '10', '08', '08', '08', '06', '06', '06', '05', '03', '02', 'absent', 'absent', 'absent', 'absent', 'absent', '11', '11', '11', '10', '07', '07', '07', '01', '01', '12', '12', '12', '10', '08', '08', '07', '07', '07', '06', '06', '02', '01', '02', 'absent', '12', '12', '10', '10', '09', '09', '07', '03', '02', '02', '01', '01', 'absent', '08', '08', '08', '06', '06', '05', '04', '04', '03', '03', '02', '01', '01', '01', 'absent', '11', '11', '08', '07', '07', '07', '04', '04', '03', '12', '12', '08', '08', '04', '01', '01', '12', '12', '10', '10', '09', '07', '02', '02', '01', 'absent', 'absent', 'absent', 'absent', '12', '11', '11', '09', '05', '05', '04', '02', '01', '01', 'absent', 'absent', '11', '10', '09', '08', '08', '06', '06', 'absent', 'absent', '11', '10', '08', '07', '05', '05', '05', '05', '05', '01', '01', 'absent', 'absent', 'absent', 'absent', '12', '11', '09', '08', '07', '03', '03', 'absent', '11', '10', '10', '09', '09', '09', '08', '08', '06', '03', '02', '02', 'absent', '12', '12', '12', '09', '08', '04', '04', '03', '03', '02', '01', '01', '01', 'absent', '10', '09', '06', '05', '02', 'absent', 'absent', 'absent', 'absent', '11', '08', '03', '01', '11', 'absent', '11', '07', '07', '07', '06', '06', '06', '06', '04', '02', '01', '07', '06', '01', 'absent', '11', '11', '10', '08', '04', '02', '01', 'absent', '12', '08', '08', '05', '05', '03', 'absent', 'absent', 'absent', '07', '06', '06', '05', '05', '05', '01', 'absent', '04', '04', '09', '05', '01', '01', 'absent', 'absent', '08', '08', '06', '01', 'absent', '07', '04', '09', '07', '03', 'absent', '10', '09', '09', '08', '08', '07', '05', '04', '04', '01', '01', '01', 'absent', 'absent', '12', '09', '07', '04', '03', '02', '01', 'absent', 'absent', 'absent', 'absent', '12', '12', '12', '08', '08', '07', '07', '07', '06', '05', 'absent', 'absent', '11', '09', '03', '02', '01', '12', '10', '08', '04', '04', '03', '03', '03', '08', '08', '04', '03', '01', '01', '05', '11', '11', '06', '02', '11', '09', '07', '04', '03', '02', 'absent', '11', '09', '07', 'absent', 'absent', 'absent', 'absent', 'absent', '12', '10', '10', '08', '08', '07', '05', '02', '01', 'absent', '06', '03', 'absent', '10', 'absent', '12', '12', '10', '09', '06', '06', '01', '08', '07', '07', '11', '09', '07', '07', '03', '02', 'absent', 'absent', 'absent', '12', '09', '08', '12', '11', '09', '09', '07', 'absent', '07', '07', '05', 'absent', '07', '07', 'absent', 'absent', '03', '12', '09', '07', '04', '02', '11', '04', 'absent', 'absent', '09', '07', '01', 'absent', '08', '07', 'absent', '02', '01', '07', '06', '01', '08', '01', '07', '07', '04', '04', '07', '06', 'absent', '09', 'absent', '06', '06', 'absent', '12', '11', '08', '08', '05', 'absent', 'absent', '12', '04', '07', '05', '06', '06', '05', '02', '09', '10', '07', '03', '09', '12', '06', '02', '01', '04', '09', '02', '05', '03', '04', '12', 'absent', '05', '09', 'absent', '05', '07', '08', '09', '12', '03', '08', 'absent', 'absent', 'absent', '07', 'absent', 'absent', 'absent', '10', '07', 'absent', 'absent', 'absent', '12', '04', 'absent', 'absent', '06', '03', 'absent', 'absent', 'absent', 'absent', 'absent', 'absent', 'absent', 'absent', 'absent', '01', 'absent', 'absent', 'absent', 'absent', 'absent', 'absent', 'absent', 'absent', 'absent', 'absent', 'absent', 'absent', 'absent', 'absent', 'absent', 'absent', 'absent', 'absent', 'absent', 'absent', 'absent', 'absent', 'absent', 'absent', 'absent', 'absent', 'absent', 'absent', 'absent', 'absent', 'absent', 'absent', 'absent', 'absent', 'absent', 'absent', 'absent', 'absent', 'absent', 'absent', 'absent', 'absent', 'absent', 'absent', 'absent', 'absent', 'absent', 'absent', 'absent', 'absent', 'absent', 'absent', 'absent', 'absent', 'absent', 'absent', 'absent', 'absent', 'absent', 'absent', 'absent', 'absent', 'absent', 'absent', 'absent', 'absent', 'absent', 'absent', 'absent', 'absent', 'absent', 'absent', 'absent', 'absent', 'absent', 'absent', 'absent', 'absent', 'absent', 'absent', 'absent', 'absent', 'absent', 'absent', 'absent', 'absent', 'absent', 'absent', 'absent', 'absent', 'absent', 'absent', 'absent', 'absent', 'absent', 'absent', 'absent', 'absent', 'absent', 'absent', 'absent', 'absent', 'absent', 'absent', 'absent', 'absent', 'absent', 'absent', 'absent', 'absent', 'absent', 'absent', 'absent', 'absent', 'absent', 'absent', 'absent', 'absent', 'absent', 'absent', 'absent', 'absent', 'absent', 'absent', 'absent', 'absent', 'absent', 'absent', 'absent', 'absent', 'absent', 'absent', 'absent']\n"
     ]
    }
   ],
   "source": [
    "print(list_months)"
   ]
  },
  {
   "cell_type": "code",
   "execution_count": 51,
   "id": "607efbf3",
   "metadata": {},
   "outputs": [],
   "source": [
    "sh_attacks6[\"Month\"] = list_months\n",
    "#Añadir una nueva columna al data Frame con el mes donde el tiburón decidio atacar."
   ]
  },
  {
   "cell_type": "code",
   "execution_count": 92,
   "id": "29f3cb79",
   "metadata": {},
   "outputs": [
    {
     "data": {
      "text/html": [
       "<div>\n",
       "<style scoped>\n",
       "    .dataframe tbody tr th:only-of-type {\n",
       "        vertical-align: middle;\n",
       "    }\n",
       "\n",
       "    .dataframe tbody tr th {\n",
       "        vertical-align: top;\n",
       "    }\n",
       "\n",
       "    .dataframe thead th {\n",
       "        text-align: right;\n",
       "    }\n",
       "</style>\n",
       "<table border=\"1\" class=\"dataframe\">\n",
       "  <thead>\n",
       "    <tr style=\"text-align: right;\">\n",
       "      <th></th>\n",
       "      <th>Case_Number</th>\n",
       "      <th>Year</th>\n",
       "      <th>Type</th>\n",
       "      <th>Country</th>\n",
       "      <th>Area</th>\n",
       "      <th>Activity</th>\n",
       "      <th>Sex_</th>\n",
       "      <th>Age</th>\n",
       "      <th>Injury</th>\n",
       "      <th>Fatal_(Y/N)</th>\n",
       "      <th>Time</th>\n",
       "      <th>Species_</th>\n",
       "      <th>Investigator_or_Source</th>\n",
       "    </tr>\n",
       "  </thead>\n",
       "  <tbody>\n",
       "    <tr>\n",
       "      <th>4514</th>\n",
       "      <td>1949.04.18</td>\n",
       "      <td>1949.0</td>\n",
       "      <td>Provoked</td>\n",
       "      <td>AUSTRALIA</td>\n",
       "      <td>Queensland</td>\n",
       "      <td>Fishing</td>\n",
       "      <td>M</td>\n",
       "      <td>absent</td>\n",
       "      <td>Toe bitten by netted shark PROVOKED INCIDENT</td>\n",
       "      <td>N</td>\n",
       "      <td>absent</td>\n",
       "      <td>3' shark</td>\n",
       "      <td>Courier-Mail, 4/19/1949</td>\n",
       "    </tr>\n",
       "    <tr>\n",
       "      <th>5883</th>\n",
       "      <td>1876.06.18.R</td>\n",
       "      <td>1874.0</td>\n",
       "      <td>Unprovoked</td>\n",
       "      <td>MEXICO</td>\n",
       "      <td>Veracruz</td>\n",
       "      <td>Bathing</td>\n",
       "      <td>M</td>\n",
       "      <td>absent</td>\n",
       "      <td>FATAL</td>\n",
       "      <td>Y</td>\n",
       "      <td>absent</td>\n",
       "      <td>absent</td>\n",
       "      <td>The Times-Picayune, 6/18/1874</td>\n",
       "    </tr>\n",
       "  </tbody>\n",
       "</table>\n",
       "</div>"
      ],
      "text/plain": [
       "       Case_Number    Year        Type    Country        Area Activity Sex_  \\\n",
       "4514    1949.04.18  1949.0    Provoked  AUSTRALIA  Queensland  Fishing    M   \n",
       "5883  1876.06.18.R  1874.0  Unprovoked     MEXICO   Veracruz   Bathing    M   \n",
       "\n",
       "         Age                                        Injury Fatal_(Y/N)  \\\n",
       "4514  absent  Toe bitten by netted shark PROVOKED INCIDENT           N   \n",
       "5883  absent                                         FATAL           Y   \n",
       "\n",
       "        Time  Species_         Investigator_or_Source  \n",
       "4514  absent  3' shark        Courier-Mail, 4/19/1949  \n",
       "5883  absent    absent  The Times-Picayune, 6/18/1874  "
      ]
     },
     "execution_count": 92,
     "metadata": {},
     "output_type": "execute_result"
    }
   ],
   "source": [
    "sh_attacks6.sample(2)"
   ]
  },
  {
   "cell_type": "code",
   "execution_count": 93,
   "id": "8f7b6c6d",
   "metadata": {},
   "outputs": [
    {
     "data": {
      "text/plain": [
       "array(['Boating', 'Unprovoked', 'Invalid', 'Provoked', 'Questionable',\n",
       "       'Sea Disaster', 'absent', 'Boat', 'Boatomg'], dtype=object)"
      ]
     },
     "execution_count": 93,
     "metadata": {},
     "output_type": "execute_result"
    }
   ],
   "source": [
    "sh_attacks6.Type.unique()"
   ]
  },
  {
   "cell_type": "code",
   "execution_count": null,
   "id": "f8bd74a3",
   "metadata": {},
   "outputs": [],
   "source": []
  }
 ],
 "metadata": {
  "kernelspec": {
   "display_name": "ironhack",
   "language": "python",
   "name": "ironhack"
  },
  "language_info": {
   "codemirror_mode": {
    "name": "ipython",
    "version": 3
   },
   "file_extension": ".py",
   "mimetype": "text/x-python",
   "name": "python",
   "nbconvert_exporter": "python",
   "pygments_lexer": "ipython3",
   "version": "3.8.11"
  }
 },
 "nbformat": 4,
 "nbformat_minor": 5
}
