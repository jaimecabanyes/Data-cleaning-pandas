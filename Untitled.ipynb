{
 "cells": [
  {
   "cell_type": "markdown",
   "id": "1d70b9c3",
   "metadata": {},
   "source": [
    "# IMPORTAR LIBRERIAS"
   ]
  },
  {
   "cell_type": "code",
   "execution_count": 1,
   "id": "d019be4d",
   "metadata": {},
   "outputs": [],
   "source": [
    "import pandas as pd\n",
    "import matplotlib.pyplot as plt\n",
    "import seaborn as sns\n",
    "import numpy as np\n"
   ]
  },
  {
   "cell_type": "markdown",
   "id": "2edf70e0",
   "metadata": {},
   "source": [
    "# DESCARGAR EL DATA"
   ]
  },
  {
   "cell_type": "code",
   "execution_count": 2,
   "id": "4453d057",
   "metadata": {},
   "outputs": [
    {
     "data": {
      "text/plain": [
       "'Descargar los datos con los cuales vamos a trabajar '"
      ]
     },
     "execution_count": 2,
     "metadata": {},
     "output_type": "execute_result"
    }
   ],
   "source": [
    "sh_attacks = pd.read_csv('attacks.csv',encoding = 'ISO-8859-1')\n",
    "\"\"\"Descargar los datos con los cuales vamos a trabajar \"\"\""
   ]
  },
  {
   "cell_type": "markdown",
   "id": "5359e3ba",
   "metadata": {},
   "source": [
    "# MANIPULAR EL DATASET"
   ]
  },
  {
   "cell_type": "code",
   "execution_count": 3,
   "id": "4e26aebc",
   "metadata": {},
   "outputs": [
    {
     "data": {
      "text/html": [
       "<div>\n",
       "<style scoped>\n",
       "    .dataframe tbody tr th:only-of-type {\n",
       "        vertical-align: middle;\n",
       "    }\n",
       "\n",
       "    .dataframe tbody tr th {\n",
       "        vertical-align: top;\n",
       "    }\n",
       "\n",
       "    .dataframe thead th {\n",
       "        text-align: right;\n",
       "    }\n",
       "</style>\n",
       "<table border=\"1\" class=\"dataframe\">\n",
       "  <thead>\n",
       "    <tr style=\"text-align: right;\">\n",
       "      <th></th>\n",
       "      <th>Case Number</th>\n",
       "      <th>Date</th>\n",
       "      <th>Year</th>\n",
       "      <th>Type</th>\n",
       "      <th>Country</th>\n",
       "      <th>Area</th>\n",
       "      <th>Location</th>\n",
       "      <th>Activity</th>\n",
       "      <th>Name</th>\n",
       "      <th>Sex</th>\n",
       "      <th>...</th>\n",
       "      <th>Species</th>\n",
       "      <th>Investigator or Source</th>\n",
       "      <th>pdf</th>\n",
       "      <th>href formula</th>\n",
       "      <th>href</th>\n",
       "      <th>Case Number.1</th>\n",
       "      <th>Case Number.2</th>\n",
       "      <th>original order</th>\n",
       "      <th>Unnamed: 22</th>\n",
       "      <th>Unnamed: 23</th>\n",
       "    </tr>\n",
       "  </thead>\n",
       "  <tbody>\n",
       "    <tr>\n",
       "      <th>0</th>\n",
       "      <td>2018.06.25</td>\n",
       "      <td>25-Jun-2018</td>\n",
       "      <td>2018.0</td>\n",
       "      <td>Boating</td>\n",
       "      <td>USA</td>\n",
       "      <td>California</td>\n",
       "      <td>Oceanside, San Diego County</td>\n",
       "      <td>Paddling</td>\n",
       "      <td>Julie Wolfe</td>\n",
       "      <td>F</td>\n",
       "      <td>...</td>\n",
       "      <td>White shark</td>\n",
       "      <td>R. Collier, GSAF</td>\n",
       "      <td>2018.06.25-Wolfe.pdf</td>\n",
       "      <td>http://sharkattackfile.net/spreadsheets/pdf_di...</td>\n",
       "      <td>http://sharkattackfile.net/spreadsheets/pdf_di...</td>\n",
       "      <td>2018.06.25</td>\n",
       "      <td>2018.06.25</td>\n",
       "      <td>6303.0</td>\n",
       "      <td>NaN</td>\n",
       "      <td>NaN</td>\n",
       "    </tr>\n",
       "  </tbody>\n",
       "</table>\n",
       "<p>1 rows × 24 columns</p>\n",
       "</div>"
      ],
      "text/plain": [
       "  Case Number         Date    Year     Type Country        Area  \\\n",
       "0  2018.06.25  25-Jun-2018  2018.0  Boating     USA  California   \n",
       "\n",
       "                      Location  Activity         Name Sex   ...     Species   \\\n",
       "0  Oceanside, San Diego County  Paddling  Julie Wolfe    F  ...  White shark   \n",
       "\n",
       "  Investigator or Source                   pdf  \\\n",
       "0       R. Collier, GSAF  2018.06.25-Wolfe.pdf   \n",
       "\n",
       "                                        href formula  \\\n",
       "0  http://sharkattackfile.net/spreadsheets/pdf_di...   \n",
       "\n",
       "                                                href Case Number.1  \\\n",
       "0  http://sharkattackfile.net/spreadsheets/pdf_di...    2018.06.25   \n",
       "\n",
       "  Case Number.2 original order Unnamed: 22 Unnamed: 23  \n",
       "0    2018.06.25         6303.0         NaN         NaN  \n",
       "\n",
       "[1 rows x 24 columns]"
      ]
     },
     "execution_count": 3,
     "metadata": {},
     "output_type": "execute_result"
    }
   ],
   "source": [
    "sh_attacks.head(1)\n",
    "#Ver lo que analiza cada columna"
   ]
  },
  {
   "cell_type": "code",
   "execution_count": 4,
   "id": "7486b403",
   "metadata": {},
   "outputs": [],
   "source": [
    "columnas = list(sh_attacks.columns) \n",
    "#Hacer una lista con todas las columnas del dataframe"
   ]
  },
  {
   "cell_type": "code",
   "execution_count": 5,
   "id": "ecff0906",
   "metadata": {},
   "outputs": [
    {
     "name": "stdout",
     "output_type": "stream",
     "text": [
      "['Case Number', 'Date', 'Year', 'Type', 'Country', 'Area', 'Location', 'Activity', 'Name', 'Sex ', 'Age', 'Injury', 'Fatal (Y/N)', 'Time', 'Species ', 'Investigator or Source', 'pdf', 'href formula', 'href', 'Case Number.1', 'Case Number.2', 'original order', 'Unnamed: 22', 'Unnamed: 23']\n"
     ]
    }
   ],
   "source": [
    "print(columnas)"
   ]
  },
  {
   "cell_type": "code",
   "execution_count": 6,
   "id": "a472ce55",
   "metadata": {},
   "outputs": [],
   "source": [
    "sh_attacks_copia = sh_attacks.copy()\n",
    "#Hacer una copia del sharks attack dataframe\n"
   ]
  },
  {
   "cell_type": "code",
   "execution_count": 7,
   "id": "170753ff",
   "metadata": {},
   "outputs": [
    {
     "data": {
      "text/html": [
       "<div>\n",
       "<style scoped>\n",
       "    .dataframe tbody tr th:only-of-type {\n",
       "        vertical-align: middle;\n",
       "    }\n",
       "\n",
       "    .dataframe tbody tr th {\n",
       "        vertical-align: top;\n",
       "    }\n",
       "\n",
       "    .dataframe thead th {\n",
       "        text-align: right;\n",
       "    }\n",
       "</style>\n",
       "<table border=\"1\" class=\"dataframe\">\n",
       "  <thead>\n",
       "    <tr style=\"text-align: right;\">\n",
       "      <th></th>\n",
       "      <th>Case Number</th>\n",
       "      <th>Date</th>\n",
       "      <th>Year</th>\n",
       "      <th>Type</th>\n",
       "      <th>Country</th>\n",
       "      <th>Area</th>\n",
       "      <th>Location</th>\n",
       "      <th>Activity</th>\n",
       "      <th>Name</th>\n",
       "      <th>Sex</th>\n",
       "      <th>...</th>\n",
       "      <th>Species</th>\n",
       "      <th>Investigator or Source</th>\n",
       "      <th>pdf</th>\n",
       "      <th>href formula</th>\n",
       "      <th>href</th>\n",
       "      <th>Case Number.1</th>\n",
       "      <th>Case Number.2</th>\n",
       "      <th>original order</th>\n",
       "      <th>Unnamed: 22</th>\n",
       "      <th>Unnamed: 23</th>\n",
       "    </tr>\n",
       "  </thead>\n",
       "  <tbody>\n",
       "    <tr>\n",
       "      <th>0</th>\n",
       "      <td>2018.06.25</td>\n",
       "      <td>25-Jun-2018</td>\n",
       "      <td>2018.0</td>\n",
       "      <td>Boating</td>\n",
       "      <td>USA</td>\n",
       "      <td>California</td>\n",
       "      <td>Oceanside, San Diego County</td>\n",
       "      <td>Paddling</td>\n",
       "      <td>Julie Wolfe</td>\n",
       "      <td>F</td>\n",
       "      <td>...</td>\n",
       "      <td>White shark</td>\n",
       "      <td>R. Collier, GSAF</td>\n",
       "      <td>2018.06.25-Wolfe.pdf</td>\n",
       "      <td>http://sharkattackfile.net/spreadsheets/pdf_di...</td>\n",
       "      <td>http://sharkattackfile.net/spreadsheets/pdf_di...</td>\n",
       "      <td>2018.06.25</td>\n",
       "      <td>2018.06.25</td>\n",
       "      <td>6303.0</td>\n",
       "      <td>NaN</td>\n",
       "      <td>NaN</td>\n",
       "    </tr>\n",
       "  </tbody>\n",
       "</table>\n",
       "<p>1 rows × 24 columns</p>\n",
       "</div>"
      ],
      "text/plain": [
       "  Case Number         Date    Year     Type Country        Area  \\\n",
       "0  2018.06.25  25-Jun-2018  2018.0  Boating     USA  California   \n",
       "\n",
       "                      Location  Activity         Name Sex   ...     Species   \\\n",
       "0  Oceanside, San Diego County  Paddling  Julie Wolfe    F  ...  White shark   \n",
       "\n",
       "  Investigator or Source                   pdf  \\\n",
       "0       R. Collier, GSAF  2018.06.25-Wolfe.pdf   \n",
       "\n",
       "                                        href formula  \\\n",
       "0  http://sharkattackfile.net/spreadsheets/pdf_di...   \n",
       "\n",
       "                                                href Case Number.1  \\\n",
       "0  http://sharkattackfile.net/spreadsheets/pdf_di...    2018.06.25   \n",
       "\n",
       "  Case Number.2 original order Unnamed: 22 Unnamed: 23  \n",
       "0    2018.06.25         6303.0         NaN         NaN  \n",
       "\n",
       "[1 rows x 24 columns]"
      ]
     },
     "execution_count": 7,
     "metadata": {},
     "output_type": "execute_result"
    }
   ],
   "source": [
    "sh_attacks_copia.head(1)"
   ]
  },
  {
   "cell_type": "code",
   "execution_count": 8,
   "id": "8aa78a74",
   "metadata": {},
   "outputs": [],
   "source": [
    "columnas_nuevas = {columna: columna.replace(\" \", \"_\") for columna in columnas}\n",
    "#Reemplazar los espacios por barrabajas en las columnas para un analisis mas detallado"
   ]
  },
  {
   "cell_type": "code",
   "execution_count": 9,
   "id": "ea0ff8c9",
   "metadata": {},
   "outputs": [],
   "source": [
    "sh_attacks_copia.rename(columns=columnas_nuevas, inplace=True)\n",
    "#Reenombrar los nombres de las columnas del data set."
   ]
  },
  {
   "cell_type": "code",
   "execution_count": 10,
   "id": "2c74ea88",
   "metadata": {
    "scrolled": true
   },
   "outputs": [
    {
     "data": {
      "text/html": [
       "<div>\n",
       "<style scoped>\n",
       "    .dataframe tbody tr th:only-of-type {\n",
       "        vertical-align: middle;\n",
       "    }\n",
       "\n",
       "    .dataframe tbody tr th {\n",
       "        vertical-align: top;\n",
       "    }\n",
       "\n",
       "    .dataframe thead th {\n",
       "        text-align: right;\n",
       "    }\n",
       "</style>\n",
       "<table border=\"1\" class=\"dataframe\">\n",
       "  <thead>\n",
       "    <tr style=\"text-align: right;\">\n",
       "      <th></th>\n",
       "      <th>Case_Number</th>\n",
       "      <th>Date</th>\n",
       "      <th>Year</th>\n",
       "      <th>Type</th>\n",
       "      <th>Country</th>\n",
       "      <th>Area</th>\n",
       "      <th>Location</th>\n",
       "      <th>Activity</th>\n",
       "      <th>Name</th>\n",
       "      <th>Sex_</th>\n",
       "      <th>...</th>\n",
       "      <th>Species_</th>\n",
       "      <th>Investigator_or_Source</th>\n",
       "      <th>pdf</th>\n",
       "      <th>href_formula</th>\n",
       "      <th>href</th>\n",
       "      <th>Case_Number.1</th>\n",
       "      <th>Case_Number.2</th>\n",
       "      <th>original_order</th>\n",
       "      <th>Unnamed:_22</th>\n",
       "      <th>Unnamed:_23</th>\n",
       "    </tr>\n",
       "  </thead>\n",
       "  <tbody>\n",
       "    <tr>\n",
       "      <th>0</th>\n",
       "      <td>2018.06.25</td>\n",
       "      <td>25-Jun-2018</td>\n",
       "      <td>2018.0</td>\n",
       "      <td>Boating</td>\n",
       "      <td>USA</td>\n",
       "      <td>California</td>\n",
       "      <td>Oceanside, San Diego County</td>\n",
       "      <td>Paddling</td>\n",
       "      <td>Julie Wolfe</td>\n",
       "      <td>F</td>\n",
       "      <td>...</td>\n",
       "      <td>White shark</td>\n",
       "      <td>R. Collier, GSAF</td>\n",
       "      <td>2018.06.25-Wolfe.pdf</td>\n",
       "      <td>http://sharkattackfile.net/spreadsheets/pdf_di...</td>\n",
       "      <td>http://sharkattackfile.net/spreadsheets/pdf_di...</td>\n",
       "      <td>2018.06.25</td>\n",
       "      <td>2018.06.25</td>\n",
       "      <td>6303.0</td>\n",
       "      <td>NaN</td>\n",
       "      <td>NaN</td>\n",
       "    </tr>\n",
       "  </tbody>\n",
       "</table>\n",
       "<p>1 rows × 24 columns</p>\n",
       "</div>"
      ],
      "text/plain": [
       "  Case_Number         Date    Year     Type Country        Area  \\\n",
       "0  2018.06.25  25-Jun-2018  2018.0  Boating     USA  California   \n",
       "\n",
       "                      Location  Activity         Name Sex_  ...     Species_  \\\n",
       "0  Oceanside, San Diego County  Paddling  Julie Wolfe    F  ...  White shark   \n",
       "\n",
       "  Investigator_or_Source                   pdf  \\\n",
       "0       R. Collier, GSAF  2018.06.25-Wolfe.pdf   \n",
       "\n",
       "                                        href_formula  \\\n",
       "0  http://sharkattackfile.net/spreadsheets/pdf_di...   \n",
       "\n",
       "                                                href Case_Number.1  \\\n",
       "0  http://sharkattackfile.net/spreadsheets/pdf_di...    2018.06.25   \n",
       "\n",
       "  Case_Number.2 original_order Unnamed:_22 Unnamed:_23  \n",
       "0    2018.06.25         6303.0         NaN         NaN  \n",
       "\n",
       "[1 rows x 24 columns]"
      ]
     },
     "execution_count": 10,
     "metadata": {},
     "output_type": "execute_result"
    }
   ],
   "source": [
    "sh_attacks_copia.head(1)"
   ]
  },
  {
   "cell_type": "code",
   "execution_count": 11,
   "id": "814a1309",
   "metadata": {},
   "outputs": [],
   "source": [
    "sh_attacks2 = sh_attacks_copia[[\"Case_Number\",\"Year\", \"Type\", \"Country\",\"Area\", \"Activity\", \"Sex_\", \"Age\", \"Injury\", \"Fatal_(Y/N)\", \"Time\", \"Species_\", \"Investigator_or_Source\"]]"
   ]
  },
  {
   "cell_type": "code",
   "execution_count": 12,
   "id": "85a1c3d9",
   "metadata": {},
   "outputs": [
    {
     "data": {
      "text/plain": [
       "(25723, 13)"
      ]
     },
     "execution_count": 12,
     "metadata": {},
     "output_type": "execute_result"
    }
   ],
   "source": [
    "sh_attacks2.shape"
   ]
  },
  {
   "cell_type": "markdown",
   "id": "2a074c10",
   "metadata": {},
   "source": [
    "# SELECCIONAR LOS DATOS CON LOS QUE TRABAJAR"
   ]
  },
  {
   "cell_type": "code",
   "execution_count": 13,
   "id": "5784a1b1",
   "metadata": {},
   "outputs": [],
   "source": [
    "sh_attacks3 = sh_attacks2.dropna(how=\"all\")\n",
    "#Quitar las filas del data set que solo tienen NaN en toda la fila"
   ]
  },
  {
   "cell_type": "code",
   "execution_count": 14,
   "id": "bae05aff",
   "metadata": {},
   "outputs": [
    {
     "data": {
      "text/plain": [
       "(8703, 13)"
      ]
     },
     "execution_count": 14,
     "metadata": {},
     "output_type": "execute_result"
    }
   ],
   "source": [
    "sh_attacks3.shape\n",
    "#Se reduce el número de filas de 25,723 a 8,703"
   ]
  },
  {
   "cell_type": "code",
   "execution_count": 15,
   "id": "89518b09",
   "metadata": {},
   "outputs": [
    {
     "data": {
      "text/html": [
       "<div>\n",
       "<style scoped>\n",
       "    .dataframe tbody tr th:only-of-type {\n",
       "        vertical-align: middle;\n",
       "    }\n",
       "\n",
       "    .dataframe tbody tr th {\n",
       "        vertical-align: top;\n",
       "    }\n",
       "\n",
       "    .dataframe thead th {\n",
       "        text-align: right;\n",
       "    }\n",
       "</style>\n",
       "<table border=\"1\" class=\"dataframe\">\n",
       "  <thead>\n",
       "    <tr style=\"text-align: right;\">\n",
       "      <th></th>\n",
       "      <th>Case_Number</th>\n",
       "      <th>Year</th>\n",
       "      <th>Type</th>\n",
       "      <th>Country</th>\n",
       "      <th>Area</th>\n",
       "      <th>Activity</th>\n",
       "      <th>Sex_</th>\n",
       "      <th>Age</th>\n",
       "      <th>Injury</th>\n",
       "      <th>Fatal_(Y/N)</th>\n",
       "      <th>Time</th>\n",
       "      <th>Species_</th>\n",
       "      <th>Investigator_or_Source</th>\n",
       "    </tr>\n",
       "  </thead>\n",
       "  <tbody>\n",
       "    <tr>\n",
       "      <th>7300</th>\n",
       "      <td>0</td>\n",
       "      <td>NaN</td>\n",
       "      <td>NaN</td>\n",
       "      <td>NaN</td>\n",
       "      <td>NaN</td>\n",
       "      <td>NaN</td>\n",
       "      <td>NaN</td>\n",
       "      <td>NaN</td>\n",
       "      <td>NaN</td>\n",
       "      <td>NaN</td>\n",
       "      <td>NaN</td>\n",
       "      <td>NaN</td>\n",
       "      <td>NaN</td>\n",
       "    </tr>\n",
       "    <tr>\n",
       "      <th>2213</th>\n",
       "      <td>1997.12.25.a</td>\n",
       "      <td>1997.0</td>\n",
       "      <td>Unprovoked</td>\n",
       "      <td>USA</td>\n",
       "      <td>Florida</td>\n",
       "      <td>Swimming</td>\n",
       "      <td>M</td>\n",
       "      <td>8</td>\n",
       "      <td>Left leg gashed knee to ankle</td>\n",
       "      <td>N</td>\n",
       "      <td>NaN</td>\n",
       "      <td>NaN</td>\n",
       "      <td>Orlando Sentinel, 12/27/1997, p.D.3; Globe New...</td>\n",
       "    </tr>\n",
       "  </tbody>\n",
       "</table>\n",
       "</div>"
      ],
      "text/plain": [
       "       Case_Number    Year        Type Country     Area  Activity Sex_  Age  \\\n",
       "7300             0     NaN         NaN     NaN      NaN       NaN  NaN  NaN   \n",
       "2213  1997.12.25.a  1997.0  Unprovoked     USA  Florida  Swimming    M    8   \n",
       "\n",
       "                             Injury Fatal_(Y/N) Time Species_  \\\n",
       "7300                            NaN         NaN  NaN      NaN   \n",
       "2213  Left leg gashed knee to ankle           N  NaN      NaN   \n",
       "\n",
       "                                 Investigator_or_Source  \n",
       "7300                                                NaN  \n",
       "2213  Orlando Sentinel, 12/27/1997, p.D.3; Globe New...  "
      ]
     },
     "execution_count": 15,
     "metadata": {},
     "output_type": "execute_result"
    }
   ],
   "source": [
    "sh_attacks3.sample(2)"
   ]
  },
  {
   "cell_type": "code",
   "execution_count": 16,
   "id": "56f32a24",
   "metadata": {},
   "outputs": [
    {
     "data": {
      "text/plain": [
       "array(['Boating', 'Unprovoked', 'Invalid', 'Provoked', 'Questionable',\n",
       "       'Sea Disaster', nan, 'Boat', 'Boatomg'], dtype=object)"
      ]
     },
     "execution_count": 16,
     "metadata": {},
     "output_type": "execute_result"
    }
   ],
   "source": [
    "sh_attacks3.Type.unique()\n",
    "# Ver todas las variables de la columna Type"
   ]
  },
  {
   "cell_type": "code",
   "execution_count": 17,
   "id": "72e069dc",
   "metadata": {},
   "outputs": [
    {
     "data": {
      "text/plain": [
       "array(['Paddling', 'Standing', 'Surfing', ...,\n",
       "       'Crew swimming alongside their anchored ship',\n",
       "       '4 men were bathing', 'Wreck of  large double sailing canoe'],\n",
       "      dtype=object)"
      ]
     },
     "execution_count": 17,
     "metadata": {},
     "output_type": "execute_result"
    }
   ],
   "source": [
    "sh_attacks3.Activity.unique()\n",
    "# Ver todas las variables de la columna Activity"
   ]
  },
  {
   "cell_type": "code",
   "execution_count": 18,
   "id": "ddc359bd",
   "metadata": {},
   "outputs": [
    {
     "name": "stdout",
     "output_type": "stream",
     "text": [
      "<class 'pandas.core.frame.DataFrame'>\n",
      "Int64Index: 8703 entries, 0 to 25722\n",
      "Data columns (total 13 columns):\n",
      " #   Column                  Non-Null Count  Dtype  \n",
      "---  ------                  --------------  -----  \n",
      " 0   Case_Number             8702 non-null   object \n",
      " 1   Year                    6300 non-null   float64\n",
      " 2   Type                    6298 non-null   object \n",
      " 3   Country                 6252 non-null   object \n",
      " 4   Area                    5847 non-null   object \n",
      " 5   Activity                5758 non-null   object \n",
      " 6   Sex_                    5737 non-null   object \n",
      " 7   Age                     3471 non-null   object \n",
      " 8   Injury                  6274 non-null   object \n",
      " 9   Fatal_(Y/N)             5763 non-null   object \n",
      " 10  Time                    2948 non-null   object \n",
      " 11  Species_                3464 non-null   object \n",
      " 12  Investigator_or_Source  6285 non-null   object \n",
      "dtypes: float64(1), object(12)\n",
      "memory usage: 951.9+ KB\n"
     ]
    }
   ],
   "source": [
    "sh_attacks3.info()\n",
    "#Información del Data Frame"
   ]
  },
  {
   "cell_type": "code",
   "execution_count": 19,
   "id": "af8303cc",
   "metadata": {
    "scrolled": true
   },
   "outputs": [
    {
     "data": {
      "text/plain": [
       "Case_Number                  1\n",
       "Year                      2403\n",
       "Type                      2405\n",
       "Country                   2451\n",
       "Area                      2856\n",
       "Activity                  2945\n",
       "Sex_                      2966\n",
       "Age                       5232\n",
       "Injury                    2429\n",
       "Fatal_(Y/N)               2940\n",
       "Time                      5755\n",
       "Species_                  5239\n",
       "Investigator_or_Source    2418\n",
       "dtype: int64"
      ]
     },
     "execution_count": 19,
     "metadata": {},
     "output_type": "execute_result"
    }
   ],
   "source": [
    "sh_attacks3.isna().sum()\n",
    "# Sumar todos los valores NaN por columna"
   ]
  },
  {
   "cell_type": "code",
   "execution_count": 20,
   "id": "06363f02",
   "metadata": {},
   "outputs": [],
   "source": [
    "sh_attacks4 = sh_attacks3.fillna(\"absent\")\n",
    "#Reemplazar los valores NaN de todo el data set por la palabra absent."
   ]
  },
  {
   "cell_type": "code",
   "execution_count": 21,
   "id": "72d70812",
   "metadata": {
    "scrolled": true
   },
   "outputs": [
    {
     "data": {
      "text/plain": [
       "Case_Number               0\n",
       "Year                      0\n",
       "Type                      0\n",
       "Country                   0\n",
       "Area                      0\n",
       "Activity                  0\n",
       "Sex_                      0\n",
       "Age                       0\n",
       "Injury                    0\n",
       "Fatal_(Y/N)               0\n",
       "Time                      0\n",
       "Species_                  0\n",
       "Investigator_or_Source    0\n",
       "dtype: int64"
      ]
     },
     "execution_count": 21,
     "metadata": {},
     "output_type": "execute_result"
    }
   ],
   "source": [
    "sh_attacks4.isna().sum()\n",
    "# Verificar que los valores NaN han desaparecido"
   ]
  },
  {
   "cell_type": "code",
   "execution_count": 22,
   "id": "0cd252fb",
   "metadata": {},
   "outputs": [
    {
     "data": {
      "text/html": [
       "<div>\n",
       "<style scoped>\n",
       "    .dataframe tbody tr th:only-of-type {\n",
       "        vertical-align: middle;\n",
       "    }\n",
       "\n",
       "    .dataframe tbody tr th {\n",
       "        vertical-align: top;\n",
       "    }\n",
       "\n",
       "    .dataframe thead th {\n",
       "        text-align: right;\n",
       "    }\n",
       "</style>\n",
       "<table border=\"1\" class=\"dataframe\">\n",
       "  <thead>\n",
       "    <tr style=\"text-align: right;\">\n",
       "      <th></th>\n",
       "      <th>Case_Number</th>\n",
       "      <th>Year</th>\n",
       "      <th>Type</th>\n",
       "      <th>Country</th>\n",
       "      <th>Area</th>\n",
       "      <th>Activity</th>\n",
       "      <th>Sex_</th>\n",
       "      <th>Age</th>\n",
       "      <th>Injury</th>\n",
       "      <th>Fatal_(Y/N)</th>\n",
       "      <th>Time</th>\n",
       "      <th>Species_</th>\n",
       "      <th>Investigator_or_Source</th>\n",
       "    </tr>\n",
       "  </thead>\n",
       "  <tbody>\n",
       "    <tr>\n",
       "      <th>169</th>\n",
       "      <td>2017.03.18</td>\n",
       "      <td>2017.0</td>\n",
       "      <td>Boating</td>\n",
       "      <td>USA</td>\n",
       "      <td>California</td>\n",
       "      <td>Kayaking</td>\n",
       "      <td>M</td>\n",
       "      <td>absent</td>\n",
       "      <td>No injury, kayak bitten</td>\n",
       "      <td>N</td>\n",
       "      <td>14h30</td>\n",
       "      <td>White shark</td>\n",
       "      <td>R. Collier, GSAF</td>\n",
       "    </tr>\n",
       "    <tr>\n",
       "      <th>2014</th>\n",
       "      <td>2000.09.08.c</td>\n",
       "      <td>2000.0</td>\n",
       "      <td>Unprovoked</td>\n",
       "      <td>TANZANIA</td>\n",
       "      <td>absent</td>\n",
       "      <td>Swimming</td>\n",
       "      <td>M</td>\n",
       "      <td>28</td>\n",
       "      <td>FATAL</td>\n",
       "      <td>Y</td>\n",
       "      <td>absent</td>\n",
       "      <td>Thought to involve a Zambesi shark</td>\n",
       "      <td>E. Matechi; A. Mbogora</td>\n",
       "    </tr>\n",
       "    <tr>\n",
       "      <th>6076</th>\n",
       "      <td>1837.07.00</td>\n",
       "      <td>1837.0</td>\n",
       "      <td>Unprovoked</td>\n",
       "      <td>USA</td>\n",
       "      <td>New York</td>\n",
       "      <td>Bathing</td>\n",
       "      <td>M</td>\n",
       "      <td>absent</td>\n",
       "      <td>Leg injured</td>\n",
       "      <td>N</td>\n",
       "      <td>Evening</td>\n",
       "      <td>absent</td>\n",
       "      <td>Public Ledger, 7.13/1837</td>\n",
       "    </tr>\n",
       "  </tbody>\n",
       "</table>\n",
       "</div>"
      ],
      "text/plain": [
       "       Case_Number    Year        Type   Country        Area  Activity Sex_  \\\n",
       "169     2017.03.18  2017.0     Boating       USA  California  Kayaking    M   \n",
       "2014  2000.09.08.c  2000.0  Unprovoked  TANZANIA      absent  Swimming    M   \n",
       "6076    1837.07.00  1837.0  Unprovoked       USA    New York   Bathing    M   \n",
       "\n",
       "         Age                   Injury Fatal_(Y/N)     Time  \\\n",
       "169   absent  No injury, kayak bitten           N    14h30   \n",
       "2014      28                    FATAL           Y   absent   \n",
       "6076  absent              Leg injured           N  Evening   \n",
       "\n",
       "                                Species_    Investigator_or_Source  \n",
       "169                          White shark          R. Collier, GSAF  \n",
       "2014  Thought to involve a Zambesi shark   E. Matechi; A. Mbogora   \n",
       "6076                              absent  Public Ledger, 7.13/1837  "
      ]
     },
     "execution_count": 22,
     "metadata": {},
     "output_type": "execute_result"
    }
   ],
   "source": [
    "sh_attacks4.sample(3)"
   ]
  },
  {
   "cell_type": "code",
   "execution_count": 23,
   "id": "3bcd9043",
   "metadata": {},
   "outputs": [],
   "source": [
    "sh_attacks5 = sh_attacks4.drop_duplicates()\n",
    "# Formula para eliminar todas aquellas filas que estan duplicadas y son exactamente igual"
   ]
  },
  {
   "cell_type": "code",
   "execution_count": 24,
   "id": "a4849b2a",
   "metadata": {},
   "outputs": [
    {
     "data": {
      "text/plain": [
       "(6304, 13)"
      ]
     },
     "execution_count": 24,
     "metadata": {},
     "output_type": "execute_result"
    }
   ],
   "source": [
    "sh_attacks5.shape\n",
    "# Ver el la forma del Data Frame habiendo quitado todos los duplicados."
   ]
  },
  {
   "cell_type": "code",
   "execution_count": 25,
   "id": "887a9256",
   "metadata": {},
   "outputs": [],
   "source": [
    "sh_attacks6 = sh_attacks5.reset_index(drop=True)\n",
    "# Resetear el índice para ver el número de casos exactos."
   ]
  },
  {
   "cell_type": "code",
   "execution_count": 26,
   "id": "9c24c8cd",
   "metadata": {},
   "outputs": [
    {
     "data": {
      "text/html": [
       "<div>\n",
       "<style scoped>\n",
       "    .dataframe tbody tr th:only-of-type {\n",
       "        vertical-align: middle;\n",
       "    }\n",
       "\n",
       "    .dataframe tbody tr th {\n",
       "        vertical-align: top;\n",
       "    }\n",
       "\n",
       "    .dataframe thead th {\n",
       "        text-align: right;\n",
       "    }\n",
       "</style>\n",
       "<table border=\"1\" class=\"dataframe\">\n",
       "  <thead>\n",
       "    <tr style=\"text-align: right;\">\n",
       "      <th></th>\n",
       "      <th>Case_Number</th>\n",
       "      <th>Year</th>\n",
       "      <th>Type</th>\n",
       "      <th>Country</th>\n",
       "      <th>Area</th>\n",
       "      <th>Activity</th>\n",
       "      <th>Sex_</th>\n",
       "      <th>Age</th>\n",
       "      <th>Injury</th>\n",
       "      <th>Fatal_(Y/N)</th>\n",
       "      <th>Time</th>\n",
       "      <th>Species_</th>\n",
       "      <th>Investigator_or_Source</th>\n",
       "    </tr>\n",
       "  </thead>\n",
       "  <tbody>\n",
       "    <tr>\n",
       "      <th>6303</th>\n",
       "      <td>xx</td>\n",
       "      <td>absent</td>\n",
       "      <td>absent</td>\n",
       "      <td>absent</td>\n",
       "      <td>absent</td>\n",
       "      <td>absent</td>\n",
       "      <td>absent</td>\n",
       "      <td>absent</td>\n",
       "      <td>absent</td>\n",
       "      <td>absent</td>\n",
       "      <td>absent</td>\n",
       "      <td>absent</td>\n",
       "      <td>absent</td>\n",
       "    </tr>\n",
       "  </tbody>\n",
       "</table>\n",
       "</div>"
      ],
      "text/plain": [
       "     Case_Number    Year    Type Country    Area Activity    Sex_     Age  \\\n",
       "6303          xx  absent  absent  absent  absent   absent  absent  absent   \n",
       "\n",
       "      Injury Fatal_(Y/N)    Time Species_ Investigator_or_Source  \n",
       "6303  absent      absent  absent   absent                 absent  "
      ]
     },
     "execution_count": 26,
     "metadata": {},
     "output_type": "execute_result"
    }
   ],
   "source": [
    "sh_attacks6.tail(1)"
   ]
  },
  {
   "cell_type": "code",
   "execution_count": 27,
   "id": "3d48da0b",
   "metadata": {},
   "outputs": [],
   "source": [
    "list_columnas = list(sh_attacks6.columns)"
   ]
  },
  {
   "cell_type": "code",
   "execution_count": 28,
   "id": "7f7e595f",
   "metadata": {},
   "outputs": [
    {
     "name": "stdout",
     "output_type": "stream",
     "text": [
      "['Case_Number', 'Year', 'Type', 'Country', 'Area', 'Activity', 'Sex_', 'Age', 'Injury', 'Fatal_(Y/N)', 'Time', 'Species_', 'Investigator_or_Source']\n"
     ]
    }
   ],
   "source": [
    "print(list_columnas)"
   ]
  },
  {
   "cell_type": "code",
   "execution_count": 29,
   "id": "73b4ea7c",
   "metadata": {},
   "outputs": [],
   "source": [
    "Split_Date_df = sh_attacks6[\"Case_Number\"].str.split(\".\", expand = True)\n",
    "# Hacer un Data Frame nuevo separado en columnas siempre y cuando haya un punto"
   ]
  },
  {
   "cell_type": "code",
   "execution_count": 30,
   "id": "c869240b",
   "metadata": {
    "scrolled": true
   },
   "outputs": [
    {
     "data": {
      "text/html": [
       "<div>\n",
       "<style scoped>\n",
       "    .dataframe tbody tr th:only-of-type {\n",
       "        vertical-align: middle;\n",
       "    }\n",
       "\n",
       "    .dataframe tbody tr th {\n",
       "        vertical-align: top;\n",
       "    }\n",
       "\n",
       "    .dataframe thead th {\n",
       "        text-align: right;\n",
       "    }\n",
       "</style>\n",
       "<table border=\"1\" class=\"dataframe\">\n",
       "  <thead>\n",
       "    <tr style=\"text-align: right;\">\n",
       "      <th></th>\n",
       "      <th>0</th>\n",
       "      <th>1</th>\n",
       "      <th>2</th>\n",
       "      <th>3</th>\n",
       "      <th>4</th>\n",
       "      <th>5</th>\n",
       "    </tr>\n",
       "  </thead>\n",
       "  <tbody>\n",
       "    <tr>\n",
       "      <th>0</th>\n",
       "      <td>2018</td>\n",
       "      <td>06</td>\n",
       "      <td>25</td>\n",
       "      <td>None</td>\n",
       "      <td>None</td>\n",
       "      <td>None</td>\n",
       "    </tr>\n",
       "    <tr>\n",
       "      <th>1</th>\n",
       "      <td>2018</td>\n",
       "      <td>06</td>\n",
       "      <td>18</td>\n",
       "      <td>None</td>\n",
       "      <td>None</td>\n",
       "      <td>None</td>\n",
       "    </tr>\n",
       "    <tr>\n",
       "      <th>2</th>\n",
       "      <td>2018</td>\n",
       "      <td>06</td>\n",
       "      <td>09</td>\n",
       "      <td>None</td>\n",
       "      <td>None</td>\n",
       "      <td>None</td>\n",
       "    </tr>\n",
       "    <tr>\n",
       "      <th>3</th>\n",
       "      <td>2018</td>\n",
       "      <td>06</td>\n",
       "      <td>08</td>\n",
       "      <td>None</td>\n",
       "      <td>None</td>\n",
       "      <td>None</td>\n",
       "    </tr>\n",
       "    <tr>\n",
       "      <th>4</th>\n",
       "      <td>2018</td>\n",
       "      <td>06</td>\n",
       "      <td>04</td>\n",
       "      <td>None</td>\n",
       "      <td>None</td>\n",
       "      <td>None</td>\n",
       "    </tr>\n",
       "    <tr>\n",
       "      <th>...</th>\n",
       "      <td>...</td>\n",
       "      <td>...</td>\n",
       "      <td>...</td>\n",
       "      <td>...</td>\n",
       "      <td>...</td>\n",
       "      <td>...</td>\n",
       "    </tr>\n",
       "    <tr>\n",
       "      <th>6299</th>\n",
       "      <td>ND</td>\n",
       "      <td>0003</td>\n",
       "      <td>None</td>\n",
       "      <td>None</td>\n",
       "      <td>None</td>\n",
       "      <td>None</td>\n",
       "    </tr>\n",
       "    <tr>\n",
       "      <th>6300</th>\n",
       "      <td>ND</td>\n",
       "      <td>0002</td>\n",
       "      <td>None</td>\n",
       "      <td>None</td>\n",
       "      <td>None</td>\n",
       "      <td>None</td>\n",
       "    </tr>\n",
       "    <tr>\n",
       "      <th>6301</th>\n",
       "      <td>ND</td>\n",
       "      <td>0001</td>\n",
       "      <td>None</td>\n",
       "      <td>None</td>\n",
       "      <td>None</td>\n",
       "      <td>None</td>\n",
       "    </tr>\n",
       "    <tr>\n",
       "      <th>6302</th>\n",
       "      <td>0</td>\n",
       "      <td>None</td>\n",
       "      <td>None</td>\n",
       "      <td>None</td>\n",
       "      <td>None</td>\n",
       "      <td>None</td>\n",
       "    </tr>\n",
       "    <tr>\n",
       "      <th>6303</th>\n",
       "      <td>xx</td>\n",
       "      <td>None</td>\n",
       "      <td>None</td>\n",
       "      <td>None</td>\n",
       "      <td>None</td>\n",
       "      <td>None</td>\n",
       "    </tr>\n",
       "  </tbody>\n",
       "</table>\n",
       "<p>6304 rows × 6 columns</p>\n",
       "</div>"
      ],
      "text/plain": [
       "         0     1     2     3     4     5\n",
       "0     2018    06    25  None  None  None\n",
       "1     2018    06    18  None  None  None\n",
       "2     2018    06    09  None  None  None\n",
       "3     2018    06    08  None  None  None\n",
       "4     2018    06    04  None  None  None\n",
       "...    ...   ...   ...   ...   ...   ...\n",
       "6299    ND  0003  None  None  None  None\n",
       "6300    ND  0002  None  None  None  None\n",
       "6301    ND  0001  None  None  None  None\n",
       "6302     0  None  None  None  None  None\n",
       "6303    xx  None  None  None  None  None\n",
       "\n",
       "[6304 rows x 6 columns]"
      ]
     },
     "metadata": {},
     "output_type": "display_data"
    }
   ],
   "source": [
    "display(Split_Date_df)"
   ]
  },
  {
   "cell_type": "code",
   "execution_count": 31,
   "id": "cfd949cd",
   "metadata": {
    "scrolled": true
   },
   "outputs": [
    {
     "data": {
      "text/plain": [
       "[0, 1, 2, 3, 4, 5]"
      ]
     },
     "execution_count": 31,
     "metadata": {},
     "output_type": "execute_result"
    }
   ],
   "source": [
    "list(Split_Date_df.columns)\n",
    "# Hacer una lista de las columnas del nuevo Data Frame"
   ]
  },
  {
   "cell_type": "code",
   "execution_count": 32,
   "id": "dad6a456",
   "metadata": {},
   "outputs": [],
   "source": [
    "#Ya que la columna de meses es la columna 1, hacerme un nuevo data Drame con el mes en el que ocurrió el caso."
   ]
  },
  {
   "cell_type": "code",
   "execution_count": 33,
   "id": "76bbcbe3",
   "metadata": {},
   "outputs": [],
   "source": [
    "months_df = Split_Date_df[[1]]"
   ]
  },
  {
   "cell_type": "code",
   "execution_count": 34,
   "id": "6d121725",
   "metadata": {},
   "outputs": [
    {
     "data": {
      "text/html": [
       "<div>\n",
       "<style scoped>\n",
       "    .dataframe tbody tr th:only-of-type {\n",
       "        vertical-align: middle;\n",
       "    }\n",
       "\n",
       "    .dataframe tbody tr th {\n",
       "        vertical-align: top;\n",
       "    }\n",
       "\n",
       "    .dataframe thead th {\n",
       "        text-align: right;\n",
       "    }\n",
       "</style>\n",
       "<table border=\"1\" class=\"dataframe\">\n",
       "  <thead>\n",
       "    <tr style=\"text-align: right;\">\n",
       "      <th></th>\n",
       "      <th>1</th>\n",
       "    </tr>\n",
       "  </thead>\n",
       "  <tbody>\n",
       "    <tr>\n",
       "      <th>0</th>\n",
       "      <td>06</td>\n",
       "    </tr>\n",
       "    <tr>\n",
       "      <th>1</th>\n",
       "      <td>06</td>\n",
       "    </tr>\n",
       "    <tr>\n",
       "      <th>2</th>\n",
       "      <td>06</td>\n",
       "    </tr>\n",
       "    <tr>\n",
       "      <th>3</th>\n",
       "      <td>06</td>\n",
       "    </tr>\n",
       "    <tr>\n",
       "      <th>4</th>\n",
       "      <td>06</td>\n",
       "    </tr>\n",
       "    <tr>\n",
       "      <th>...</th>\n",
       "      <td>...</td>\n",
       "    </tr>\n",
       "    <tr>\n",
       "      <th>6299</th>\n",
       "      <td>0003</td>\n",
       "    </tr>\n",
       "    <tr>\n",
       "      <th>6300</th>\n",
       "      <td>0002</td>\n",
       "    </tr>\n",
       "    <tr>\n",
       "      <th>6301</th>\n",
       "      <td>0001</td>\n",
       "    </tr>\n",
       "    <tr>\n",
       "      <th>6302</th>\n",
       "      <td>None</td>\n",
       "    </tr>\n",
       "    <tr>\n",
       "      <th>6303</th>\n",
       "      <td>None</td>\n",
       "    </tr>\n",
       "  </tbody>\n",
       "</table>\n",
       "<p>6304 rows × 1 columns</p>\n",
       "</div>"
      ],
      "text/plain": [
       "         1\n",
       "0       06\n",
       "1       06\n",
       "2       06\n",
       "3       06\n",
       "4       06\n",
       "...    ...\n",
       "6299  0003\n",
       "6300  0002\n",
       "6301  0001\n",
       "6302  None\n",
       "6303  None\n",
       "\n",
       "[6304 rows x 1 columns]"
      ]
     },
     "metadata": {},
     "output_type": "display_data"
    }
   ],
   "source": [
    "display(months_df)\n",
    "# Ver el mes en el cual ocurrií casa caso."
   ]
  },
  {
   "cell_type": "code",
   "execution_count": 35,
   "id": "9ae53727",
   "metadata": {},
   "outputs": [
    {
     "data": {
      "text/plain": [
       "array(['06', '05', '04', '03', '02', '01', '12', '11', '10', '09', '08',\n",
       "       '07', '07-10', '00', '30', None, '29', '0214', '0336', '0493',\n",
       "       '0725', '0110', '0104', '0102', '0100', '0097', '0096', '0095',\n",
       "       '0094', '0093', '0091', '0090', '0089', '0088', '0087', '0086',\n",
       "       '0085', '0084', '0083', '0082', '0081', '0078', '0076', '0075',\n",
       "       '0074', '0073', '0069', '0068', '0066', '0065', '0064', '0063',\n",
       "       '0062', '0060', '0059', '0058', '0057', '0056', '0055', '0054',\n",
       "       '0053', '0052', '0051', '0049', '0048', '0047', '0046', '0044',\n",
       "       '0043', '0042', '0041', '0040', '0039', '0038', '0037', '0036',\n",
       "       '0035', '0034', '0033', '0032', '0031', '0030', '0028', '0027',\n",
       "       '0026', '0025', '0024', '0023', '0022', '0021', '0020', '0019',\n",
       "       '0018', '0017', '0016', '0015', '0014', '0013', '0012', '0011',\n",
       "       '0010', '0009', '0008', '0007', '0006', '0005', '0004', '0003',\n",
       "       '0002', '0001'], dtype=object)"
      ]
     },
     "execution_count": 35,
     "metadata": {},
     "output_type": "execute_result"
    }
   ],
   "source": [
    "months_df[1].unique()\n",
    "# Ver los meses que hay en el data frame de meses.\n",
    "#Previamente he visto los unique values de todas las columnas y la única columna que tenía 01-12 era esta columna."
   ]
  },
  {
   "cell_type": "code",
   "execution_count": 36,
   "id": "0de4e277",
   "metadata": {},
   "outputs": [],
   "source": [
    "months_df1 = months_df[1].replace(['07-10', '00', '30', None, '29', '0214', '0336', '0493',\n",
    "       '0725', '0110', '0104', '0102', '0100', '0097', '0096', '0095',\n",
    "       '0094', '0093', '0091', '0090', '0089', '0088', '0087', '0086',\n",
    "       '0085', '0084', '0083', '0082', '0081', '0078', '0076', '0075',\n",
    "       '0074', '0073', '0069', '0068', '0066', '0065', '0064', '0063',\n",
    "       '0062', '0060', '0059', '0058', '0057', '0056', '0055', '0054',\n",
    "       '0053', '0052', '0051', '0049', '0048', '0047', '0046', '0044',\n",
    "       '0043', '0042', '0041', '0040', '0039', '0038', '0037', '0036',\n",
    "       '0035', '0034', '0033', '0032', '0031', '0030', '0028', '0027',\n",
    "       '0026', '0025', '0024', '0023', '0022', '0021', '0020', '0019',\n",
    "       '0018', '0017', '0016', '0015', '0014', '0013', '0012', '0011',\n",
    "       '0010', '0009', '0008', '0007', '0006', '0005', '0004', '0003',\n",
    "       '0002', '0001'], \"absent\")\n",
    "# Reemplazar todos los valores que nio dicen ningun mes por la palabra absent."
   ]
  },
  {
   "cell_type": "code",
   "execution_count": 37,
   "id": "1c109000",
   "metadata": {},
   "outputs": [
    {
     "data": {
      "text/plain": [
       "07        668\n",
       "08        598\n",
       "09        554\n",
       "absent    534\n",
       "01        520\n",
       "06        499\n",
       "04        457\n",
       "12        443\n",
       "10        441\n",
       "03        410\n",
       "11        406\n",
       "05        392\n",
       "02        382\n",
       "Name: 1, dtype: int64"
      ]
     },
     "execution_count": 37,
     "metadata": {},
     "output_type": "execute_result"
    }
   ],
   "source": [
    "months_df1.value_counts()\n",
    "# Ver el número de valores absent"
   ]
  },
  {
   "cell_type": "code",
   "execution_count": 38,
   "id": "665296fb",
   "metadata": {
    "scrolled": true
   },
   "outputs": [
    {
     "data": {
      "text/plain": [
       "pandas.core.series.Series"
      ]
     },
     "execution_count": 38,
     "metadata": {},
     "output_type": "execute_result"
    }
   ],
   "source": [
    "type(months_df1)"
   ]
  },
  {
   "cell_type": "code",
   "execution_count": 39,
   "id": "be23f540",
   "metadata": {},
   "outputs": [],
   "source": [
    "list_months = list(months_df1)\n",
    "#Hacer una lista de la serie nueva de meses."
   ]
  },
  {
   "cell_type": "code",
   "execution_count": 40,
   "id": "35cca618",
   "metadata": {},
   "outputs": [
    {
     "name": "stdout",
     "output_type": "stream",
     "text": [
      "['06', '06', '06', '06', '06', '06', '06', '05', '05', '05', '05', '05', '05', '05', '05', '05', '05', '04', '04', '04', '04', '04', '04', '04', '04', '04', '04', '04', '04', '04', '04', '04', '04', '04', '04', '03', '03', '03', '03', '02', '02', '02', '02', '02', '02', '02', '02', '01', '01', '01', '01', '01', '01', '12', '12', '12', '12', '11', '11', '11', '11', '11', '11', '11', '11', '10', '10', '10', '10', '10', '10', '10', '10', '10', '10', '10', '10', '09', '09', '09', '09', '09', '09', '09', '09', '09', '09', '09', '09', '09', '09', '09', '09', '09', '09', '09', '08', '08', '08', '08', '08', '08', '08', '08', '08', '08', '07', '07', '07', '07', '07', '07', '07', '07', '07', '07', '07', '07', '07', '07', '07', '07', '07', '07', '07', '06', '06', '06', '06', '06', '06', '06', '06', '06', '06', '06', '06', '06', '06', '05', '05', '05', '05', '05', '05', '05', '04', '04', '04', '04', '04', '04', '04', '04', '04', '04', '04', '04', '04', '04', '04', '04', '04', '04', '04', '04', '04', '03', '03', '03', '03', '03', '02', '02', '02', '02', '02', '02', '02', '02', '02', '01', '01', '01', '01', '01', '01', '01', '01', '01', '12', '12', '12', '12', '12', '12', '12', '12', '11', '11', '10', '10', '10', '10', '10', '10', '10', '10', '10', '10', '10', '09', '09', '09', '09', '09', '09', '09', '09', '09', '09', '09', '09', '09', '09', '09', '09', '08', '08', '08', '08', '08', '08', '08', '07', '07', '07', '07', '07', '07', '07', '07', '07', '07', '07', '07', '07', '07', '07', '07', '07', '07', '07', '07', '07', '06', '06', '06', '06', '06', '06', '06', '06', '06', '06', '06', '06', '06', '06', '06', '06', '05', '05', '05', '05', '05', '05', '05', '05', '05', '05', '04', '04', '04', '04', '04', '04', '04', '04', '04', '04', '04', '03', '03', '03', '03', '03', '03', '03', '03', '03', '03', '03', '02', '02', '02', '02', '02', '02', '02', '02', '01', '01', '01', '01', '01', '01', '01', '01', '01', '12', '12', '12', '12', '12', '12', '12', '12', '12', '11', '11', '11', '11', '11', '12', '11', '11', '11', '10', '10', '10', '10', '10', '10', '10', '10', '10', '10', '10', '10', '10', '10', '10', '10', '09', '09', '09', '09', '09', '09', '09', '09', '09', '09', '09', '09', '09', '09', '09', '09', '09', '08', '08', '08', '08', '08', '08', '08', '08', '08', '07', '07', '07', '07', '07', '07', '07', '07', '07', '07', 'absent', '07', '07', '07', '07', '07', '07', '07', '06', '06', '06', '06', '06', '06', '06', '06', '06', '06', '06', '06', '06', '06', '06', '06', '06', '06', '06', '06', '06', '05', '05', '05', '05', '05', '05', '05', '05', '05', '05', '04', '04', '04', '04', '04', '04', '04', '04', '03', '03', '03', '03', '03', '03', '03', '03', '03', '02', '02', '02', '02', '02', '01', '01', '01', '01', '01', '01', '01', '01', '01', '01', '01', '01', '12', '12', '12', '12', '12', '12', '12', '12', '12', '11', '11', '11', '11', '11', '11', '11', '11', '10', '10', '10', '10', '10', '10', '10', '10', '10', '10', '10', '10', '10', '10', '10', '10', '10', '09', '09', '09', '09', '09', '09', '09', '09', '08', '08', '08', '08', '08', '08', '08', '08', '08', '08', '08', '08', '08', '08', '08', '08', '08', '08', '08', '08', '08', '07', '07', '07', '07', '07', '07', '07', '07', '07', '07', '07', '07', '06', '06', '06', '06', '06', '06', '06', '06', '06', '06', '06', '06', '06', '05', '05', '05', '05', '05', '05', '05', '05', '05', '05', '05', '04', '04', '04', '04', '04', '04', '04', '04', '03', '03', '03', '03', '03', '03', '03', '03', '03', '03', '02', '02', '02', '02', '02', '01', '01', '01', 'absent', 'absent', '12', '12', '12', '12', '12', '12', '12', '11', '11', '11', '11', '11', '11', '11', '11', '10', '10', '10', '10', '10', '10', '10', '10', '10', '10', '10', '10', '09', '09', '09', '09', '09', '09', '09', '09', '09', '09', '09', '09', '09', '09', '08', '08', '08', '08', '08', '08', '08', '08', '08', '08', '08', '08', '08', '07', '07', '07', '07', '07', '07', '07', '07', '07', '07', '07', '07', '07', '07', '07', '06', '06', '06', '06', '06', '06', '06', '06', '06', '06', '06', '06', '05', '05', '05', '05', '05', '05', '05', '05', '04', '04', '04', '04', '04', '04', '04', '04', '04', '04', '04', '03', '03', '03', '03', '03', '03', '03', '03', '03', '03', '02', '02', '02', '02', '02', '02', '01', '01', '01', '01', '01', '01', '12', '12', '12', '12', '12', '12', '12', '12', '11', '11', '11', '11', '11', '11', '10', '10', '10', '10', '10', '10', '10', '10', '10', '10', '09', '09', '09', '09', '09', '09', '09', '09', '09', '09', '09', '09', '09', '08', '08', '08', '08', '08', '08', '08', '08', '07', '07', '07', '07', '07', '07', '07', '07', '07', '07', '07', '07', '07', '07', '06', '06', '06', '06', '06', '06', '06', '06', '06', '06', '06', '06', '06', '06', '06', '06', '06', '06', '06', '05', '05', '05', '05', '05', '05', '05', '05', '04', '04', '04', '04', '04', '03', '03', '03', '03', '03', '03', '03', '03', '03', '03', '03', '03', '03', '02', '02', '02', '02', '01', '01', '01', '01', '01', '01', '01', '01', '01', '12', '12', '12', '12', '12', '12', '12', '12', '12', '12', '12', '12', '11', '11', '11', '11', '11', '11', '10', '10', '10', '10', '10', '10', '10', '10', '10', '10', '10', '10', '09', '09', '09', '09', '09', '09', '09', '09', '09', '09', '09', '09', '09', '09', '08', '08', '08', '08', '08', '08', '08', '08', '08', '08', '08', '08', '08', '08', '08', '08', '08', '07', '07', '07', '07', '07', '07', '07', '07', '07', '07', '07', '07', '06', '06', '06', '06', '06', '06', '06', '06', '06', '06', '06', '06', '06', '06', '06', '05', '05', '05', '05', '05', '05', '05', '05', '05', '05', '05', '04', '04', '04', '04', '04', '04', '03', '03', '03', '03', '03', '03', '03', '03', '02', '02', '02', '02', '02', '02', '02', '02', '01', '01', '01', '01', '01', '01', '01', '12', '12', '12', '12', '12', '12', '12', '11', '11', '11', '11', '11', '11', '11', '11', '10', '10', '10', '10', '10', '10', '10', '10', '10', '10', '10', '10', '09', '09', '09', '09', '09', '09', '09', '09', '09', '09', '08', '08', '08', '08', '08', '08', '08', '08', '08', '08', '08', '08', '07', '07', '07', '07', '07', '07', '07', '07', '07', '07', '07', '07', '06', '06', '06', '06', '06', '06', '06', '05', '05', '05', '05', '05', '05', '04', '04', '04', '04', '03', '02', '02', '02', '02', '02', '02', '02', '02', '02', '02', '02', '01', '01', '01', '01', '01', '01', '01', '01', '01', '01', '01', '12', '12', '12', '12', '12', '12', '12', '12', '12', '12', '12', '11', '11', '11', '11', '11', '11', '11', '11', '10', '10', '10', '10', '10', '10', '10', '10', '10', '10', '09', '09', '09', '09', '09', '09', '09', '09', '08', '08', '08', '08', '08', '08', '08', '07', '07', '07', '07', '07', '07', '07', '07', '07', '07', '07', '07', '07', '07', '06', '06', '06', '06', '06', '06', '06', '05', '05', '05', '05', '05', '05', '05', '04', '04', '04', '04', '04', '04', '04', '04', '04', '04', '04', '03', '03', '03', '03', '03', '03', '03', '03', '03', '03', '03', '03', '03', '02', '02', '02', '02', '02', '02', '02', '01', '01', '01', '01', '01', '01', '01', '01', '01', '01', '01', '01', '01', '01', '01', '01', '01', '12', '12', '12', '12', '12', '12', '12', '12', '12', '12', '11', '11', '11', '11', '11', '11', '10', '10', '10', '10', '10', '10', '09', '09', '09', '09', '09', '09', '09', '09', '09', '09', '09', '08', '08', '08', '08', '08', '08', '08', '08', '08', '08', '08', '08', '07', '07', '07', '07', '07', '07', '07', '07', '07', '07', '07', '07', '07', '07', '07', '07', '07', '06', '06', '06', '06', '06', '06', '06', '06', '06', '06', '06', '06', '06', '06', '05', '05', '05', '05', '05', '05', '05', '05', '05', '04', '04', '04', '04', '04', '04', '04', '04', '04', '04', '04', '04', '04', '03', '04', '04', '04', '03', '03', '03', '03', '03', '03', '03', '02', '02', '02', '02', '02', '01', '01', '01', '01', '01', '01', 'absent', 'absent', '12', '12', '12', '12', '12', '12', '12', '12', '11', '11', '11', '11', '11', '11', '11', '10', '10', '10', '10', '10', '09', '09', '09', '09', '09', '09', '09', '09', '09', '09', '09', '09', '09', '09', '09', '09', '09', '09', '08', '08', '08', '08', '08', '08', '08', '08', '08', '08', '08', '08', '08', '08', '08', '07', '07', '07', '07', '07', '07', '07', '07', '07', '07', '07', '07', '07', '07', '06', '06', '06', '06', '06', '06', '06', '05', '05', '05', '05', '05', '05', '05', '05', '05', '05', '05', '05', '04', '04', '04', '04', '04', '04', '03', '03', '03', '03', '03', '03', '03', '03', '03', '02', '02', '02', '01', '01', '01', '01', '01', '01', '01', '01', '12', '12', '12', '12', '12', '11', '11', '11', '10', '10', '10', '10', '10', '10', '10', '09', '09', '09', '09', '09', '09', '09', '09', '09', '09', '09', '08', '08', '08', '08', '08', '08', '08', '08', '08', '08', '08', '07', '07', '07', '07', '07', '07', '07', '07', '07', '07', '07', '07', '07', '07', '07', '07', '06', '06', '06', '06', '06', '06', '06', '06', '06', '06', '06', '05', '05', '05', '05', '05', '05', '05', '05', '05', '04', '04', '04', '04', '04', '04', '04', '04', '03', '03', '03', '03', '03', '02', '02', '02', '02', '02', '02', '02', '02', '01', '01', '01', '01', '01', '01', '01', '01', '01', '12', '12', '12', '12', '12', '11', '11', '11', '11', '11', '11', '11', '11', '11', '11', '11', '11', '11', '10', '10', '10', '10', '10', '10', '10', '10', '10', '10', '10', '09', '09', '09', '09', '09', '09', '09', '09', '09', '09', '09', '08', '08', '08', '08', '08', '08', '08', '08', '08', '07', '07', '07', '07', '07', '07', '07', '07', '07', '06', '06', '06', '06', '06', '06', '06', '06', '06', '06', '06', '05', '05', '05', '05', '05', '05', '05', '05', '04', '04', '04', '04', '04', '04', '04', '04', '04', '03', '03', '03', '03', '03', '03', '03', '03', '02', '02', '02', '02', '02', '01', '01', '01', '01', '12', '12', '12', '11', '11', '11', '11', '11', '11', '10', '10', '10', '10', '10', '10', '10', '10', '10', '10', '09', '09', '09', '09', '09', '08', '08', '08', '08', '08', '08', '08', '07', '07', '07', '07', '07', '07', '07', '07', '07', '07', '07', '06', '06', '06', '06', '06', '06', '05', '05', '05', '05', '05', '05', '05', '05', '05', '05', '04', '04', '04', '04', '04', '04', '04', '03', '03', '03', '03', '03', '03', '03', '03', '03', '03', '02', '02', '02', '02', '02', '02', '01', '01', '01', '01', '01', '01', '01', '01', '01', '01', 'absent', '12', '12', '12', '12', '12', '11', '11', '11', '11', '11', '11', '11', '11', '11', '11', '10', '10', '10', '10', '10', '10', '10', '10', '10', '10', '10', '10', '09', '09', '09', '09', '09', '09', '09', '09', '09', '09', '09', '09', '08', '08', '08', '08', '07', '07', '07', '07', '07', '07', '07', '07', '07', '07', '06', '06', '06', '06', '06', '06', '06', '06', '06', '05', '05', '05', '05', '05', '05', '04', '04', '04', '04', '04', '04', '04', '04', '04', '04', '04', '04', '04', '04', '04', '03', '02', '02', '02', '02', '02', '01', '01', '01', '12', '12', '12', '12', '12', '12', '11', '11', '11', '11', '11', '11', '11', '10', '10', '10', '10', '10', '10', '09', '09', '09', '09', '09', '09', '09', '09', '09', '09', '09', '09', '08', '08', '08', '08', '08', '08', '08', '07', '07', '07', '07', '07', '07', '06', '06', '06', '06', '06', '06', '06', '06', '06', '06', '05', '05', '05', '05', '05', '05', '05', '05', '05', '04', '04', '04', '04', '04', '04', '04', '04', '03', '03', '03', '03', '03', '03', '03', '02', '02', '02', '02', '01', '01', '01', '01', '01', '01', '12', '11', '11', '11', '10', '10', '09', '09', '09', '09', '09', '09', '09', '09', '09', '09', '09', '09', '09', '09', '09', '08', '08', '08', '08', '08', '08', '08', '08', '08', '08', '08', '08', '08', '08', '08', '08', '08', '08', '07', '07', '07', '07', '07', '07', '07', '07', '07', '07', '06', '06', '06', '06', '05', '05', '05', '05', '05', '05', '05', '05', '05', '04', '04', '04', '04', '04', '04', '04', '04', '04', '04', '04', '04', '04', '04', '04', '04', '04', '03', '03', '03', '03', '03', '02', '02', '02', '01', '01', '01', '01', '01', '12', '12', '12', '12', '12', '12', '11', '11', '11', '11', '11', '11', '11', '10', '10', '10', '10', '10', '10', '10', '10', '09', '09', '09', '09', '09', '09', '09', '09', '09', '09', '09', '09', '09', '09', '09', '08', '08', '08', '08', '08', '08', '08', '08', '08', '08', '07', '07', '07', '07', '07', '07', '07', '07', '07', '07', '07', '07', '07', '07', '07', '07', '07', '06', '06', '06', '06', '06', '06', '06', '06', '06', '05', '05', '05', '05', '04', '04', '03', '03', '03', '03', '03', '03', '03', '03', '03', '03', '03', '02', '02', '02', '02', '02', '01', '01', 'absent', '12', '12', '12', '12', '12', '12', '12', '11', '11', '11', '11', '11', '11', '11', '10', '10', '10', '10', '09', '09', '09', '09', '09', '09', '09', '09', '08', '08', '08', '08', '08', '08', '08', '07', '07', '07', '07', '07', '07', '07', '06', '06', '06', '06', '05', '05', '04', '04', '04', '03', '03', '03', '03', '03', '03', '03', '02', '02', '02', '01', '01', '01', '01', '01', 'absent', 'absent', '12', '12', '12', '12', '12', '11', '11', '11', '11', '11', '11', '10', '10', '10', '10', '10', '10', '09', '09', '09', '09', '09', '08', '08', '08', '08', '08', '08', '08', '08', '08', '07', '07', '07', '07', '07', '06', '06', '06', '06', '05', '05', '05', '05', '05', '05', '05', '04', '04', '04', '04', '04', '03', '03', '03', '02', '01', '01', '01', '01', '01', '01', 'absent', 'absent', 'absent', '12', '12', '12', '12', '11', '11', '11', '10', '10', '10', '10', '10', '10', '09', '09', '09', '09', '08', '08', '08', '08', '08', '08', '08', '08', '08', '08', '08', '08', '08', '08', '07', '07', '07', '07', '07', '07', '06', '06', '06', '06', '06', '05', '05', '05', '05', '05', '04', '02', '02', '02', '02', '02', '01', '01', '01', '01', '12', '12', '12', '12', '11', '11', '10', '10', '10', '10', '10', '10', '10', '09', '09', '09', '09', '09', '09', '09', '08', '08', '08', '07', '07', '07', '07', '07', '07', '07', '07', '07', '06', '06', '06', '05', '05', '05', '05', '05', '04', '04', '04', '04', '03', '03', '02', '02', '02', '02', '02', '02', '02', '01', '01', '01', '01', '01', '01', 'absent', 'absent', '12', '11', '11', '11', '11', '10', '10', '10', '10', '09', '09', '09', '09', '09', '09', '09', '09', '09', '09', '08', '08', '08', '08', '08', '08', '08', '08', '08', '08', '08', '08', '08', '08', '08', '08', '08', '07', '07', '07', '07', '07', '07', '07', '07', '11', '07', '07', '07', '06', '06', '06', '06', '06', '06', '06', '06', '06', '05', '05', '05', '05', '05', '04', '04', '04', '04', '03', '03', '03', '02', '02', '01', '01', 'absent', 'absent', 'absent', 'absent', '12', '12', '12', '12', '12', '12', '12', '12', '11', '11', '11', '10', '10', '10', '10', '09', '09', '09', '09', '08', '07', '07', '07', '07', '07', '07', '07', '06', '05', '05', '05', '05', '05', '05', '04', '04', '04', '04', '04', '03', '03', '03', '03', '02', '02', '02', '02', '02', '01', '01', '01', '01', '01', '01', 'absent', 'absent', '12', '11', '11', '11', '11', '10', '10', '10', '10', '09', '09', '09', '09', '09', '09', '09', '08', '08', '08', '08', '08', '08', '08', '08', '08', '07', '07', '06', '06', '06', '06', '06', '06', '06', '06', '06', '05', '05', '04', '03', '03', '03', '03', '03', '03', '02', '02', '02', '01', '01', '01', '01', 'absent', 'absent', 'absent', 'absent', '12', '12', '11', '11', '11', '11', '11', '11', '11', '11', '10', '10', '10', '10', '10', '09', '09', '09', '09', '09', '08', '08', '08', '08', '08', '08', '07', '07', '07', '07', '06', '06', '06', '06', '06', '05', '05', '05', '04', '04', '03', '03', '03', '03', '03', '02', '02', '02', '01', '01', '01', '01', '01', '01', '01', 'absent', '12', '11', '11', '11', '11', '11', '10', '10', '09', '09', '08', '08', '08', '08', '07', '07', '07', '07', '07', '07', '07', '06', '06', '06', '06', '06', '05', '05', '04', '04', '04', '04', '03', '02', '02', '01', '01', '01', '12', '11', '11', '11', '10', '10', '10', '10', '10', '10', '10', '09', '09', '09', '08', '08', '08', '08', '07', '07', '06', '06', '05', '05', '05', '05', '04', '04', '04', '04', '04', '04', '03', '03', '02', '02', '01', 'absent', '12', '12', '12', '11', '11', '11', '11', '10', '10', '10', '10', '10', '10', '09', '09', '09', '09', '09', '09', '08', '08', '08', '08', '08', '08', '07', '07', '07', '07', '07', '06', '06', '06', '06', '06', '06', '04', '04', '04', '04', '04', '03', '03', '02', '02', '02', '01', '01', '01', '01', '01', '01', 'absent', 'absent', '12', '11', '11', '10', '10', '10', '10', '10', '10', '10', '10', '09', '09', '09', '08', '08', '08', '08', '07', '07', '07', '07', '07', '07', '07', '06', '06', '06', '06', '06', '05', '05', '05', '04', '04', '04', '04', '04', '04', '04', '03', '03', '03', '03', '02', '02', '02', '02', '02', '01', '01', '01', '01', '01', 'absent', '12', '12', '12', '11', '11', '10', '10', '10', '10', '09', '09', '08', '08', '07', '07', '07', '07', '07', '07', '06', '05', '05', '05', '04', '04', '04', '04', '03', '03', '02', '02', '01', '01', 'absent', 'absent', '12', '12', '12', '12', '12', '12', '12', '11', '11', '11', '10', '10', '10', '10', '10', '09', '09', '09', '08', '08', '08', '08', '07', '07', '07', '05', '05', '04', '04', '03', '03', '03', '02', '02', '02', '02', '02', '01', 'absent', '12', '12', '11', '11', '11', '10', '10', '10', '10', '10', '09', '09', '09', '09', '08', '08', '08', '07', '07', '07', '07', '07', '05', '05', '03', '03', '02', '02', '01', '01', '01', '01', '01', '01', '01', 'absent', 'absent', '12', '11', '11', '11', '10', '10', '10', '10', '09', '09', '09', '09', '09', '09', '09', '09', '09', '08', '08', '07', '07', '07', '07', '07', '06', '06', '06', '05', '03', '03', '03', '03', '02', '02', '02', '02', '01', '01', 'absent', 'absent', '12', '12', '12', '12', '12', '12', '11', '11', '11', '10', '10', '09', '08', '08', '08', '08', '08', '08', '07', '07', '07', '07', '07', '07', '07', '06', '06', '06', '06', '06', '06', '05', '05', '05', '04', '04', '04', '04', '03', '03', '03', '03', '02', '01', '01', '01', '01', 'absent', 'absent', 'absent', '11', '10', '09', '09', '09', '09', '09', '09', '08', '08', '08', '08', '07', '07', '07', '07', '07', '07', '07', '06', '06', '06', '06', '06', '05', '03', '03', '03', '02', '02', '02', '02', '02', '02', '02', '02', '01', 'absent', 'absent', 'absent', '12', '12', '12', '11', '10', '11', '10', '10', '10', '10', '09', '09', '09', '09', '09', '08', '08', '08', '08', '08', '08', '07', '07', '07', '07', '06', '06', '05', '05', '05', '05', '05', '05', '05', '03', '05', '03', '03', '03', '03', '02', '02', '02', '02', '02', '01', '01', 'absent', 'absent', '12', '12', '11', '11', '11', '11', '10', '10', '08', '08', '08', '07', '07', '07', '07', '07', '06', '05', '04', '04', '04', '03', '03', '03', '03', '01', '01', '01', '01', '01', '01', 'absent', 'absent', 'absent', 'absent', '12', '12', '12', '11', '11', '10', '09', '08', '08', '08', '08', '06', '05', '05', '05', '05', '05', '04', '04', '03', '03', '03', '03', '02', 'absent', '12', '12', '11', '11', '10', '09', '09', '09', '08', '08', '07', '07', '06', '06', '06', '04', '04', '04', '03', '02', '02', '01', '01', 'absent', 'absent', '12', '12', '12', '12', '11', '10', '08', '08', '08', '08', '08', '07', '06', '06', '05', '05', '04', '04', '03', '03', '03', '03', '02', '02', '02', '01', '12', '12', '11', '11', '11', '11', '11', '10', '10', '10', '09', '09', '09', '09', '09', '09', '08', '08', '07', '07', '07', '07', '06', '06', '06', '06', '05', '04', '03', '03', '03', '03', '02', '01', '01', '01', '01', '01', 'absent', '12', '12', '12', '11', '11', '11', '11', '10', '10', '10', '09', '08', '08', '08', '08', '07', '07', '07', '07', '07', '07', '07', '07', '07', '06', '06', '06', '06', '06', '05', '05', '04', '04', '04', '03', '03', '03', '03', '03', '03', '02', '02', '02', '02', '02', '02', '01', 'absent', 'absent', '12', '11', '09', '09', '09', '09', '09', '09', '09', '08', '08', '08', '08', '08', '08', '07', '07', '07', '06', '05', '04', '04', '04', '04', '04', '03', '03', '02', '02', '02', '02', '01', '01', '01', '01', '01', 'absent', 'absent', '12', '12', '12', '12', '12', '11', '11', '11', '09', '09', '09', '09', '09', '08', '08', '08', '06', '04', '03', '03', '03', '02', '01', '01', 'absent', 'absent', 'absent', '12', '12', '12', '12', '12', '12', '12', '10', '10', '10', '10', '10', '09', '09', '08', '08', '08', '07', '06', '06', '06', '05', '05', '04', '04', '04', '03', '03', '02', '02', '01', '01', '01', 'absent', 'absent', '12', '12', '12', '11', '11', '10', '10', '10', '09', '09', '09', '08', '07', '07', '06', '06', '04', '04', '04', '04', '04', '04', '03', '01', 'absent', 'absent', 'absent', '12', '12', '12', '12', '11', '10', '10', '09', '09', '09', '09', '09', '09', '08', '07', '06', '06', '06', '06', '06', '04', '04', '04', '03', '03', '02', '01', '01', '01', '01', '01', '01', '01', '01', 'absent', 'absent', 'absent', 'absent', 'absent', 'absent', 'absent', 'absent', '11', '11', '11', '10', '09', '08', '08', '08', '08', '08', '07', '07', '07', '06', '06', '06', '05', '05', '05', '05', '04', '04', '03', '03', '02', '02', '01', '01', 'absent', '12', '12', '12', '12', '12', '12', '11', '11', '11', '10', '10', '10', '09', '09', '08', '08', '08', '08', '08', '07', '07', '07', '07', '07', '06', '06', '06', '05', '05', '04', '04', '04', '04', '04', '03', '03', '03', '02', '02', '02', '02', '02', '02', '01', 'absent', 'absent', 'absent', '12', '12', '12', '12', '12', '11', '11', '11', '11', '11', '10', '10', '10', '09', '09', '09', '09', '09', '09', '08', '08', '08', '08', '08', '08', '08', '08', '08', '08', '07', '07', '07', '06', '06', '05', '05', '04', '03', '03', '03', '03', '03', '03', '02', '01', '01', '01', '01', '12', '12', '12', '12', '12', '11', '11', '10', '10', '09', '09', '09', '09', '09', '09', '09', '08', '08', '08', '08', '08', '08', '08', '08', '08', '08', '07', '07', '07', '07', '07', '07', '07', '06', '06', '06', '06', '05', '05', '05', '05', '05', '04', '04', '03', '03', '02', '01', '01', '01', '01', '01', '01', '01', '01', '01', '01', 'absent', '12', '12', '12', '11', '11', '11', '11', '10', '10', '10', '10', '10', '09', '09', '09', '08', '08', '07', '07', '07', '06', '06', '06', '06', '06', '05', '05', '05', '05', '05', '04', '04', '04', '04', '04', '03', '03', '02', '02', '01', '01', '01', '01', '01', 'absent', 'absent', 'absent', 'absent', 'absent', 'absent', 'absent', '12', '12', '12', '12', '12', '11', '11', '11', '11', '10', '10', '10', '09', '09', '09', '08', '08', '08', '08', '08', '08', '08', '07', '07', '07', '07', '07', '07', '07', '06', '06', '06', '06', '06', '06', '05', '05', '05', '04', '03', '03', '03', '03', '02', '02', '02', '02', '02', '02', '02', '02', '02', '02', '02', '02', '01', '01', '01', '01', '01', '01', '01', '01', '01', '01', '01', '12', '12', '12', '12', '12', '12', '12', '12', '12', '12', '12', '11', '11', '11', '11', '11', '11', '11', '11', '11', '10', '10', '09', '09', '09', '09', '09', '08', '07', '07', '07', '07', '07', '06', '06', '05', '05', '04', '04', '04', '04', '04', '04', '03', '02', '02', '02', '02', '02', '01', '01', '01', '01', '01', '01', '01', '01', '01', '01', 'absent', 'absent', '12', '12', '12', '11', '11', '11', '11', '11', '10', '10', '10', '10', '10', '10', '09', '09', '09', '09', '08', 'absent', '08', '08', '08', '08', '08', '08', '08', '08', '08', '07', '07', '07', '07', '07', '07', '06', '06', '06', '06', '06', '06', '06', '06', '06', '06', '06', '05', '05', '05', '04', '04', '04', '04', '03', '03', '03', '02', '02', '02', '02', '02', '02', '02', '02', '01', '01', '01', '01', '01', '01', '01', '01', '01', '01', '01', '01', '01', '01', '01', '01', '01', '01', '01', 'absent', 'absent', 'absent', '12', '12', '12', '12', '12', '12', '12', '12', '11', '10', '10', '10', '10', '09', '09', '09', '09', '09', '09', '09', '08', '08', '08', '08', '08', '07', '07', '07', '07', '07', '06', '06', '06', '06', '06', '05', '05', '05', '05', '04', '04', '04', '04', '04', '04', '04', '04', '04', '04', '04', '03', '03', '03', '03', '03', '03', '03', '02', '02', '02', '02', '02', '02', '02', '01', '01', '01', '01', '01', '01', '01', '01', '01', '01', 'absent', '01', 'absent', 'absent', 'absent', '12', '12', '12', '12', '12', '11', '11', '11', '11', '11', '11', '11', '10', '10', '10', '10', '10', '10', '10', '10', '09', '09', '09', '09', '09', '08', '08', '08', '08', '08', '08', '08', '08', '08', '08', '08', '08', '07', '07', '07', '07', '06', '06', '06', '06', '06', '06', '06', '05', '05', '05', '05', '05', '04', '04', '04', '04', '04', '04', '04', '04', '04', '04', '04', '04', '04', '03', '03', '02', '02', '02', '02', '02', '02', '02', '02', '01', '01', '01', '01', '01', '01', '01', 'absent', 'absent', 'absent', 'absent', 'absent', 'absent', 'absent', 'absent', 'absent', 'absent', '12', '12', '12', '12', '12', '12', '12', '12', '12', '11', '11', '11', '11', '11', '11', '11', '11', '11', '10', '10', '10', '10', '10', '09', '09', '09', '09', '09', '09', '09', '09', '08', '08', '08', '08', '08', '08', '08', '08', '08', '08', '08', '08', '08', '08', '07', '07', '07', '07', '07', '07', '07', '07', '07', '07', '06', '06', '06', '06', '05', '05', '05', '05', '05', '04', '04', '04', '04', '04', '03', '03', '03', '02', '02', '02', '02', '02', '01', '01', '01', '01', '01', '01', '01', '01', '01', 'absent', 'absent', 'absent', 'absent', 'absent', 'absent', 'absent', '12', '12', '12', '12', '12', '11', '11', '11', '11', '10', '10', '10', '10', '09', '09', '09', '08', '08', '07', '07', '07', '07', '07', '07', '07', '07', '07', '07', '07', '06', '06', '06', '06', '06', '04', '04', '04', '04', '04', '02', '02', '01', '01', '01', '01', 'absent', 'absent', 'absent', 'absent', 'absent', 'absent', 'absent', 'absent', 'absent', '12', '12', '12', '12', '12', '12', '11', '11', '10', '10', '09', '08', '07', '07', '07', '06', '05', '05', '05', '04', '04', '04', '04', '04', '04', '02', '02', '02', '02', '01', 'absent', 'absent', 'absent', 'absent', 'absent', 'absent', 'absent', 'absent', 'absent', 'absent', 'absent', '12', '12', '12', '12', '10', '10', '10', '10', '09', '09', '09', '09', '08', '08', '08', '08', '08', '08', '08', '08', '08', '08', '08', '07', '07', '07', '07', '07', '06', '06', '06', '05', '05', '05', '03', '03', '03', '03', '02', '02', '01', '01', '01', 'absent', 'absent', 'absent', 'absent', 'absent', 'absent', 'absent', 'absent', '12', '12', '11', '11', '10', '09', '09', '09', '09', '09', '08', '08', '08', '08', '08', '08', '08', '07', '07', '07', '07', '05', '05', '04', '04', '04', '03', '03', '03', '02', '02', '02', '02', '02', '02', '01', '01', 'absent', 'absent', 'absent', 'absent', 'absent', 'absent', '12', '12', '12', '12', '11', '10', '10', '10', '10', '09', '09', '09', '08', '08', '08', '07', '07', '07', '07', '07', '07', '07', '07', '06', '06', '06', '05', '05', '04', '04', '02', '01', '01', '01', '01', 'absent', 'absent', 'absent', 'absent', 'absent', 'absent', 'absent', '12', '12', '12', '12', '10', '09', '09', '09', '09', '09', '08', '07', '07', '07', '07', '07', '07', '07', '07', '06', '04', '04', '04', '04', '03', '03', '03', '03', '02', '02', '02', '01', '01', 'absent', 'absent', 'absent', '12', '12', '12', '08', '08', '12', '12', '10', '08', '08', '07', '07', '07', '07', '07', '07', '05', '05', '05', '04', '04', '03', '01', '01', 'absent', 'absent', 'absent', 'absent', 'absent', '12', '12', '12', '12', '11', '11', '11', '11', '10', '10', '09', '09', '09', '08', '08', '08', '08', '07', '07', '06', '06', '05', '05', '03', '03', '03', '02', '02', '02', '01', '01', 'absent', '12', '12', '12', '11', '11', '11', '10', '10', '08', '08', '07', '07', '07', '07', '07', '07', '07', '06', '06', '05', '05', '04', '04', '03', '03', '03', '02', '02', '01', '01', 'absent', 'absent', 'absent', 'absent', 'absent', 'absent', 'absent', 'absent', 'absent', 'absent', 'absent', 'absent', 'absent', '12', '12', '11', '11', '08', '08', '08', '08', '08', '07', '07', '07', '07', '06', '05', '05', '04', '04', '04', '03', '01', '01', '01', '01', 'absent', 'absent', 'absent', 'absent', 'absent', 'absent', 'absent', '12', '12', '12', '12', '12', '12', '11', '09', '09', '09', '09', '09', '09', '08', '08', '08', '07', '06', '05', '04', '03', '03', '03', '02', '02', '01', 'absent', 'absent', 'absent', 'absent', '12', '12', '12', '11', '11', '11', '11', '11', '11', '10', '10', '08', '07', '07', '07', '07', '06', '06', '05', '04', '04', '04', '04', '03', '03', '02', '02', '02', '01', '01', '12', '12', '11', '10', '10', '08', '08', '07', '07', '06', '05', '04', '04', '03', '02', '02', '02', '01', '01', '01', '01', '01', '01', 'absent', 'absent', 'absent', '09', '09', '09', '09', '08', '08', '07', '07', '06', '05', '03', '02', 'absent', 'absent', 'absent', 'absent', '12', '12', '11', '11', '10', '10', '10', '10', '10', '10', '09', '09', '08', '07', '06', '05', '05', '05', '04', '03', '03', '03', '02', '02', '01', '01', '01', '01', 'absent', 'absent', 'absent', '12', '12', '11', '11', '10', '09', '08', '07', '07', '07', '06', '05', '05', '05', '05', '05', '04', '03', '03', '03', '03', '01', 'absent', 'absent', 'absent', 'absent', 'absent', 'absent', '12', '11', '11', '11', '11', '11', '11', '11', '11', '11', '11', '10', '09', '09', '09', '09', '08', '07', '07', '06', '06', '06', '06', '05', '04', '03', '03', '01', '01', '01', 'absent', 'absent', 'absent', 'absent', 'absent', 'absent', 'absent', 'absent', 'absent', 'absent', 'absent', '12', '12', '11', '11', '11', '11', '09', '08', '08', '08', '07', '07', '06', '06', '03', '03', '02', '02', '01', '01', 'absent', 'absent', 'absent', 'absent', 'absent', 'absent', 'absent', '12', '12', '12', '12', '09', '07', '07', '06', '03', '03', '02', '02', '02', '01', '01', '01', '01', '01', 'absent', 'absent', 'absent', 'absent', 'absent', 'absent', '12', '12', '11', '11', '11', '11', '11', '10', '10', '09', '08', '07', '07', '07', '05', '04', '03', '02', '02', '01', 'absent', 'absent', 'absent', 'absent', 'absent', '12', '10', '08', '08', '07', '07', '07', '07', '06', '06', '05', '05', '05', '03', '03', '01', '01', '01', '01', 'absent', 'absent', 'absent', 'absent', 'absent', '11', '11', '11', '10', '10', '10', '10', '09', '09', '09', '09', '08', '08', '08', '07', '07', '06', '06', '06', '05', '05', '03', '03', '02', '02', '02', '02', '02', '01', 'absent', '12', '12', '12', '12', '12', '11', '09', '09', '08', '08', '08', '08', '08', '07', '07', '07', '07', '06', '06', '04', '04', '03', '03', '03', '03', '02', '02', '02', '01', '01', '01', 'absent', '12', '11', '09', '09', '08', '08', '08', '07', '07', '07', '07', '06', '06', '06', '06', '05', '05', '04', '04', '04', '03', '03', '03', '03', '03', '03', '03', '02', '01', '01', '01', '01', '12', '12', '12', '12', '10', '10', '10', '09', '08', '08', '08', '08', '08', '07', '06', '06', '04', '04', '04', '04', '03', '03', '02', '02', '01', '01', '01', '11', '11', '10', '09', '08', '08', '08', '07', '07', '06', '06', '06', '05', '05', '06', '05', '04', '02', '02', '02', '02', '01', '12', '12', '11', '10', '10', '09', '08', '08', '08', '08', '08', '07', '07', '06', '06', '06', '05', '05', '04', '04', '02', '02', '02', '01', '01', '01', 'absent', '11', '09', '09', '09', '09', '08', '08', '08', '08', '08', '08', '08', '08', '07', '07', '06', '06', '06', '05', '04', '03', '03', '03', '02', '01', '01', '01', 'absent', 'absent', '12', '12', '12', '12', '11', '09', '09', '08', '08', '08', '07', '07', '06', '05', '05', '05', '04', '03', '02', '02', '02', '01', '01', '01', 'absent', 'absent', '12', '12', '12', '12', '12', '12', '11', '11', '10', '10', '09', '08', '07', '07', '06', '05', '04', '04', '04', '04', '04', '03', '03', '03', '03', '02', '02', '02', '01', '01', '01', '01', '01', 'absent', 'absent', 'absent', 'absent', 'absent', '12', '11', '11', '11', '11', '09', '08', '07', '07', '06', '05', '04', '04', '04', '04', '04', '03', '02', '02', '02', '01', '01', '01', '01', '01', 'absent', '12', '11', '10', '10', '10', '07', '05', '05', '04', '04', '03', '02', '02', '02', '01', '01', '01', 'absent', 'absent', '12', '11', '10', '10', '10', '09', '08', '07', '07', '07', '07', '05', '04', '04', '03', '01', '01', 'absent', 'absent', 'absent', 'absent', '11', '11', '11', '09', '09', '08', '06', '05', '03', '03', '03', '01', '01', 'absent', '11', '11', '11', '10', '10', '07', '07', '07', '06', '04', '04', '04', '03', '03', '02', '02', '01', '01', '01', '12', '12', '11', '11', '10', '10', '10', '08', '07', '06', '06', '05', '05', '03', '02', '01', '01', '01', 'absent', 'absent', 'absent', 'absent', '12', '12', '09', '10', '09', '09', '09', '07', '06', '05', '05', '04', '03', '03', '03', '02', '02', '01', '01', '01', '01', '12', '11', '11', '11', '10', '10', '09', '08', '08', '07', '01', '11', '08', '11', '11', '07', '07', '06', '06', '03', '01', '02', '01', '01', 'absent', 'absent', 'absent', '12', '12', '11', '09', '08', '05', '04', '03', '01', '01', '01', '01', 'absent', 'absent', '11', '11', '09', '03', 'absent', '12', '11', '09', '09', '09', '07', '07', '06', '05', '05', 'absent', '12', '12', '12', '11', '11', '11', '10', '08', '07', '07', '07', '07', '07', '07', '07', '07', '07', '07', '07', '06', '06', '06', '04', '04', '03', '12', '11', '11', '08', '07', '07', '05', '03', '02', '01', '01', 'absent', '12', '10', '09', '09', '07', '07', '07', '06', '06', '05', '05', '03', '03', '03', '02', '02', '01', 'absent', '12', '12', '11', '11', '09', '09', '08', '08', '08', '07', '07', '05', '05', '03', '01', 'absent', 'absent', 'absent', '11', '08', '07', '07', '05', '03', '02', '02', '02', '01', '01', '01', '01', 'absent', '11', '10', '10', '09', '09', '09', '07', '07', '05', '05', '05', '04', '03', '01', 'absent', 'absent', '12', '12', '11', '11', '06', '06', '05', '03', '03', '03', '02', '01', 'absent', 'absent', '12', '12', '12', '11', '09', '08', '07', '07', '06', '06', '06', '04', '04', '04', '03', '01', '01', 'absent', '12', '12', '09', '09', '08', '07', '07', '06', '06', '06', '05', '05', '01', '12', '10', '10', '10', '10', '10', '10', '09', '09', '08', '08', '08', '07', '07', '07', '04', '03', '03', '02', '02', '02', 'absent', 'absent', '11', '10', '10', '10', '10', '09', '09', '09', '09', '08', '08', '07', '07', '04', '04', '04', '04', '04', '02', '01', '01', '12', '12', '09', 'absent', '08', '08', '08', '07', '07', '07', '07', '05', '04', '03', '03', '02', '01', 'absent', '11', '10', '09', '08', '07', '07', '07', '02', '02', '01', 'absent', 'absent', 'absent', 'absent', '10', '09', '07', '06', '05', '03', '03', '01', 'absent', 'absent', '12', '11', '11', '08', '08', '08', '07', '07', '06', '06', '04', '02', '01', '01', '01', '12', '10', '09', '07', '07', '06', '06', '01', 'absent', '12', '11', '10', '09', '09', '09', '08', '07', '07', '07', '01', 'absent', 'absent', '12', '11', '10', '10', '10', '09', '08', '08', '08', '08', '08', '07', '06', '06', '05', '05', '01', 'absent', 'absent', 'absent', '12', '10', '09', '09', '09', '08', '07', '07', '07', '07', '06', '04', '01', 'absent', 'absent', 'absent', 'absent', 'absent', 'absent', 'absent', 'absent', '12', '10', '10', '09', '09', '07', '06', '03', '03', 'absent', 'absent', '12', '12', '12', '11', '11', '09', '07', '06', '01', 'absent', 'absent', '12', '11', '11', '09', '09', '09', '08', '08', '07', '06', '06', '05', '05', '04', '04', '03', '03', '02', '02', 'absent', '12', '11', '10', '09', '09', '09', '08', '08', '07', '06', '06', '06', '06', '04', '04', '10', '10', '07', '06', '06', '05', '05', '04', '04', '04', '01', '01', 'absent', '12', '11', '11', '09', '06', '06', '05', '04', '03', '03', 'absent', '12', '12', '11', '09', '08', '08', '06', '03', '01', '12', '12', '10', '08', '08', '08', '06', '06', '06', '05', '03', '02', 'absent', 'absent', 'absent', 'absent', 'absent', '11', '11', '11', '10', '07', '07', '07', '01', '01', '12', '12', '12', '10', '08', '08', '07', '07', '07', '06', '06', '02', '01', '02', 'absent', '12', '12', '10', '10', '09', '09', '07', '03', '02', '02', '01', '01', 'absent', '08', '08', '08', '06', '06', '05', '04', '04', '03', '03', '02', '01', '01', '01', 'absent', '11', '11', '08', '07', '07', '07', '04', '04', '03', '12', '12', '08', '08', '04', '01', '01', '12', '12', '10', '10', '09', '07', '02', '02', '01', 'absent', 'absent', 'absent', 'absent', '12', '11', '11', '09', '05', '05', '04', '02', '01', '01', 'absent', 'absent', '11', '10', '09', '08', '08', '06', '06', 'absent', 'absent', '11', '10', '08', '07', '05', '05', '05', '05', '05', '01', '01', 'absent', 'absent', 'absent', 'absent', '12', '11', '09', '08', '07', '03', '03', 'absent', '11', '10', '10', '09', '09', '09', '08', '08', '06', '03', '02', '02', 'absent', '12', '12', '12', '09', '08', '04', '04', '03', '03', '02', '01', '01', '01', 'absent', '10', '09', '06', '05', '02', 'absent', 'absent', 'absent', 'absent', '11', '08', '03', '01', '11', 'absent', '11', '07', '07', '07', '06', '06', '06', '06', '04', '02', '01', '07', '06', '01', 'absent', '11', '11', '10', '08', '04', '02', '01', 'absent', '12', '08', '08', '05', '05', '03', 'absent', 'absent', 'absent', '07', '06', '06', '05', '05', '05', '01', 'absent', '04', '04', '09', '05', '01', '01', 'absent', 'absent', '08', '08', '06', '01', 'absent', '07', '04', '09', '07', '03', 'absent', '10', '09', '09', '08', '08', '07', '05', '04', '04', '01', '01', '01', 'absent', 'absent', '12', '09', '07', '04', '03', '02', '01', 'absent', 'absent', 'absent', 'absent', '12', '12', '12', '08', '08', '07', '07', '07', '06', '05', 'absent', 'absent', '11', '09', '03', '02', '01', '12', '10', '08', '04', '04', '03', '03', '03', '08', '08', '04', '03', '01', '01', '05', '11', '11', '06', '02', '11', '09', '07', '04', '03', '02', 'absent', '11', '09', '07', 'absent', 'absent', 'absent', 'absent', 'absent', '12', '10', '10', '08', '08', '07', '05', '02', '01', 'absent', '06', '03', 'absent', '10', 'absent', '12', '12', '10', '09', '06', '06', '01', '08', '07', '07', '11', '09', '07', '07', '03', '02', 'absent', 'absent', 'absent', '12', '09', '08', '12', '11', '09', '09', '07', 'absent', '07', '07', '05', 'absent', '07', '07', 'absent', 'absent', '03', '12', '09', '07', '04', '02', '11', '04', 'absent', 'absent', '09', '07', '01', 'absent', '08', '07', 'absent', '02', '01', '07', '06', '01', '08', '01', '07', '07', '04', '04', '07', '06', 'absent', '09', 'absent', '06', '06', 'absent', '12', '11', '08', '08', '05', 'absent', 'absent', '12', '04', '07', '05', '06', '06', '05', '02', '09', '10', '07', '03', '09', '12', '06', '02', '01', '04', '09', '02', '05', '03', '04', '12', 'absent', '05', '09', 'absent', '05', '07', '08', '09', '12', '03', '08', 'absent', 'absent', 'absent', '07', 'absent', 'absent', 'absent', '10', '07', 'absent', 'absent', 'absent', '12', '04', 'absent', 'absent', '06', '03', 'absent', 'absent', 'absent', 'absent', 'absent', 'absent', 'absent', 'absent', 'absent', '01', 'absent', 'absent', 'absent', 'absent', 'absent', 'absent', 'absent', 'absent', 'absent', 'absent', 'absent', 'absent', 'absent', 'absent', 'absent', 'absent', 'absent', 'absent', 'absent', 'absent', 'absent', 'absent', 'absent', 'absent', 'absent', 'absent', 'absent', 'absent', 'absent', 'absent', 'absent', 'absent', 'absent', 'absent', 'absent', 'absent', 'absent', 'absent', 'absent', 'absent', 'absent', 'absent', 'absent', 'absent', 'absent', 'absent', 'absent', 'absent', 'absent', 'absent', 'absent', 'absent', 'absent', 'absent', 'absent', 'absent', 'absent', 'absent', 'absent', 'absent', 'absent', 'absent', 'absent', 'absent', 'absent', 'absent', 'absent', 'absent', 'absent', 'absent', 'absent', 'absent', 'absent', 'absent', 'absent', 'absent', 'absent', 'absent', 'absent', 'absent', 'absent', 'absent', 'absent', 'absent', 'absent', 'absent', 'absent', 'absent', 'absent', 'absent', 'absent', 'absent', 'absent', 'absent', 'absent', 'absent', 'absent', 'absent', 'absent', 'absent', 'absent', 'absent', 'absent', 'absent', 'absent', 'absent', 'absent', 'absent', 'absent', 'absent', 'absent', 'absent', 'absent', 'absent', 'absent', 'absent', 'absent', 'absent', 'absent', 'absent', 'absent', 'absent', 'absent', 'absent', 'absent', 'absent', 'absent', 'absent', 'absent', 'absent', 'absent', 'absent', 'absent']\n"
     ]
    }
   ],
   "source": [
    "print(list_months)"
   ]
  },
  {
   "cell_type": "code",
   "execution_count": 41,
   "id": "8527c4da",
   "metadata": {},
   "outputs": [],
   "source": [
    "sh_attacks6[\"Month\"] = list_months\n",
    "#Añadir una nueva columna al data Frame con el mes donde el tiburón decidio atacar."
   ]
  },
  {
   "cell_type": "code",
   "execution_count": 42,
   "id": "2dabae67",
   "metadata": {},
   "outputs": [
    {
     "data": {
      "text/html": [
       "<div>\n",
       "<style scoped>\n",
       "    .dataframe tbody tr th:only-of-type {\n",
       "        vertical-align: middle;\n",
       "    }\n",
       "\n",
       "    .dataframe tbody tr th {\n",
       "        vertical-align: top;\n",
       "    }\n",
       "\n",
       "    .dataframe thead th {\n",
       "        text-align: right;\n",
       "    }\n",
       "</style>\n",
       "<table border=\"1\" class=\"dataframe\">\n",
       "  <thead>\n",
       "    <tr style=\"text-align: right;\">\n",
       "      <th></th>\n",
       "      <th>Case_Number</th>\n",
       "      <th>Year</th>\n",
       "      <th>Type</th>\n",
       "      <th>Country</th>\n",
       "      <th>Area</th>\n",
       "      <th>Activity</th>\n",
       "      <th>Sex_</th>\n",
       "      <th>Age</th>\n",
       "      <th>Injury</th>\n",
       "      <th>Fatal_(Y/N)</th>\n",
       "      <th>Time</th>\n",
       "      <th>Species_</th>\n",
       "      <th>Investigator_or_Source</th>\n",
       "      <th>Month</th>\n",
       "    </tr>\n",
       "  </thead>\n",
       "  <tbody>\n",
       "    <tr>\n",
       "      <th>2632</th>\n",
       "      <td>1990.06.23</td>\n",
       "      <td>1990.0</td>\n",
       "      <td>Unprovoked</td>\n",
       "      <td>BAHAMAS</td>\n",
       "      <td>absent</td>\n",
       "      <td>Spearfishing</td>\n",
       "      <td>M</td>\n",
       "      <td>38</td>\n",
       "      <td>Left forearm bitten</td>\n",
       "      <td>N</td>\n",
       "      <td>14h30</td>\n",
       "      <td>1.2 m to 1.5 m [4' to 5'] shark</td>\n",
       "      <td>Miami Herald, 6/25/1990</td>\n",
       "      <td>06</td>\n",
       "    </tr>\n",
       "    <tr>\n",
       "      <th>2142</th>\n",
       "      <td>1999.01.03</td>\n",
       "      <td>1999.0</td>\n",
       "      <td>Unprovoked</td>\n",
       "      <td>REUNION</td>\n",
       "      <td>Saint-Leu</td>\n",
       "      <td>Spearfishing</td>\n",
       "      <td>absent</td>\n",
       "      <td>absent</td>\n",
       "      <td>FATAL</td>\n",
       "      <td>Y</td>\n",
       "      <td>absent</td>\n",
       "      <td>Bull shark</td>\n",
       "      <td>G. Van Grevelynghe</td>\n",
       "      <td>01</td>\n",
       "    </tr>\n",
       "  </tbody>\n",
       "</table>\n",
       "</div>"
      ],
      "text/plain": [
       "     Case_Number    Year        Type  Country       Area      Activity  \\\n",
       "2632  1990.06.23  1990.0  Unprovoked  BAHAMAS     absent  Spearfishing   \n",
       "2142  1999.01.03  1999.0  Unprovoked  REUNION  Saint-Leu  Spearfishing   \n",
       "\n",
       "        Sex_     Age               Injury Fatal_(Y/N)    Time  \\\n",
       "2632       M      38  Left forearm bitten           N   14h30   \n",
       "2142  absent  absent                FATAL           Y  absent   \n",
       "\n",
       "                             Species_   Investigator_or_Source Month  \n",
       "2632  1.2 m to 1.5 m [4' to 5'] shark  Miami Herald, 6/25/1990    06  \n",
       "2142                       Bull shark       G. Van Grevelynghe    01  "
      ]
     },
     "execution_count": 42,
     "metadata": {},
     "output_type": "execute_result"
    }
   ],
   "source": [
    "sh_attacks6.sample(2)"
   ]
  },
  {
   "cell_type": "code",
   "execution_count": 43,
   "id": "3a145c47",
   "metadata": {},
   "outputs": [
    {
     "data": {
      "text/plain": [
       "array(['Boating', 'Unprovoked', 'Invalid', 'Provoked', 'Questionable',\n",
       "       'Sea Disaster', 'absent', 'Boat', 'Boatomg'], dtype=object)"
      ]
     },
     "execution_count": 43,
     "metadata": {},
     "output_type": "execute_result"
    }
   ],
   "source": [
    "sh_attacks6.Type.unique()"
   ]
  },
  {
   "cell_type": "code",
   "execution_count": 44,
   "id": "b5f52b7b",
   "metadata": {},
   "outputs": [],
   "source": [
    "type_df = sh_attacks6[\"Type\"]\n",
    "#Crear un Data Frame solo con la columna de tipo de accidente."
   ]
  },
  {
   "cell_type": "code",
   "execution_count": 45,
   "id": "ad945aef",
   "metadata": {},
   "outputs": [
    {
     "data": {
      "text/plain": [
       "pandas.core.series.Series"
      ]
     },
     "execution_count": 45,
     "metadata": {},
     "output_type": "execute_result"
    }
   ],
   "source": [
    "type(type_df)\n",
    "# Entiendo que los accidentes del tipo Boating, Boat y Boatomg son todos accidentes de barco.\n",
    "# Por lo tanto, paso a llamar a todos estos accidentes de tipo Boat."
   ]
  },
  {
   "cell_type": "code",
   "execution_count": 46,
   "id": "37369b2c",
   "metadata": {},
   "outputs": [],
   "source": [
    "type_df1 = type_df.replace({'Boating':'Boat'})\n",
    "#Reemplazo boating por boat"
   ]
  },
  {
   "cell_type": "code",
   "execution_count": 47,
   "id": "ccaa331b",
   "metadata": {},
   "outputs": [
    {
     "data": {
      "text/plain": [
       "array(['Boat', 'Unprovoked', 'Invalid', 'Provoked', 'Questionable',\n",
       "       'Sea Disaster', 'absent', 'Boatomg'], dtype=object)"
      ]
     },
     "execution_count": 47,
     "metadata": {},
     "output_type": "execute_result"
    }
   ],
   "source": [
    "type_df1.unique()"
   ]
  },
  {
   "cell_type": "code",
   "execution_count": 48,
   "id": "3f679e4f",
   "metadata": {},
   "outputs": [],
   "source": [
    "type_df2 = type_df1.replace({'Boatomg':'Boat'})\n",
    "# Reemplazo Boatomg por Boat"
   ]
  },
  {
   "cell_type": "code",
   "execution_count": 49,
   "id": "a077e2ee",
   "metadata": {},
   "outputs": [
    {
     "data": {
      "text/plain": [
       "array(['Boat', 'Unprovoked', 'Invalid', 'Provoked', 'Questionable',\n",
       "       'Sea Disaster', 'absent'], dtype=object)"
      ]
     },
     "execution_count": 49,
     "metadata": {},
     "output_type": "execute_result"
    }
   ],
   "source": [
    "type_df2.unique()"
   ]
  },
  {
   "cell_type": "code",
   "execution_count": 50,
   "id": "00f3f9cd",
   "metadata": {},
   "outputs": [
    {
     "data": {
      "text/plain": [
       "0             Boat\n",
       "1       Unprovoked\n",
       "2          Invalid\n",
       "3       Unprovoked\n",
       "4         Provoked\n",
       "           ...    \n",
       "6299    Unprovoked\n",
       "6300    Unprovoked\n",
       "6301    Unprovoked\n",
       "6302        absent\n",
       "6303        absent\n",
       "Name: Type, Length: 6304, dtype: object"
      ]
     },
     "metadata": {},
     "output_type": "display_data"
    }
   ],
   "source": [
    "display(type_df2)"
   ]
  },
  {
   "cell_type": "code",
   "execution_count": 51,
   "id": "0a41afc7",
   "metadata": {},
   "outputs": [],
   "source": [
    "list_types_of_accident = list(type_df2)"
   ]
  },
  {
   "cell_type": "code",
   "execution_count": 52,
   "id": "e1deea6d",
   "metadata": {},
   "outputs": [],
   "source": [
    "sh_attacks6[\"Type_of_accident\"] = list_types_of_accident\n",
    "#Añadir una columna con el tipo de accidente detallado de manera correcta."
   ]
  },
  {
   "cell_type": "code",
   "execution_count": 53,
   "id": "7295e3bc",
   "metadata": {},
   "outputs": [
    {
     "data": {
      "text/plain": [
       "M         5094\n",
       "F          637\n",
       "absent     567\n",
       "M            2\n",
       "N            2\n",
       "lli          1\n",
       ".            1\n",
       "Name: Sex_, dtype: int64"
      ]
     },
     "execution_count": 53,
     "metadata": {},
     "output_type": "execute_result"
    }
   ],
   "source": [
    "sh_attacks6.Sex_.value_counts()"
   ]
  },
  {
   "cell_type": "code",
   "execution_count": 54,
   "id": "877dafea",
   "metadata": {},
   "outputs": [],
   "source": [
    "Sex_df = sh_attacks6[\"Sex_\"]"
   ]
  },
  {
   "cell_type": "code",
   "execution_count": 55,
   "id": "9f6218ee",
   "metadata": {},
   "outputs": [],
   "source": [
    "Sex_df1 = Sex_df.replace({'M ':'M'})"
   ]
  },
  {
   "cell_type": "code",
   "execution_count": 56,
   "id": "26bba42a",
   "metadata": {},
   "outputs": [],
   "source": [
    "Sex_df2 = Sex_df1.replace({'N','lli', '.'}, 'absent')\n",
    "#Reemplazar todas las que no dicen nada por absent"
   ]
  },
  {
   "cell_type": "code",
   "execution_count": 57,
   "id": "3e8c88fc",
   "metadata": {},
   "outputs": [],
   "source": [
    "list_Sex = list(Sex_df2)"
   ]
  },
  {
   "cell_type": "code",
   "execution_count": 58,
   "id": "97f9e381",
   "metadata": {},
   "outputs": [
    {
     "data": {
      "text/plain": [
       "array(['F', 'M', 'absent'], dtype=object)"
      ]
     },
     "execution_count": 58,
     "metadata": {},
     "output_type": "execute_result"
    }
   ],
   "source": [
    "Sex_df2.unique()"
   ]
  },
  {
   "cell_type": "code",
   "execution_count": 59,
   "id": "5c169b2d",
   "metadata": {},
   "outputs": [],
   "source": [
    "sh_attacks6[\"Sex\"] = list_Sex"
   ]
  },
  {
   "cell_type": "code",
   "execution_count": 60,
   "id": "6c5d38df",
   "metadata": {},
   "outputs": [
    {
     "data": {
      "text/html": [
       "<div>\n",
       "<style scoped>\n",
       "    .dataframe tbody tr th:only-of-type {\n",
       "        vertical-align: middle;\n",
       "    }\n",
       "\n",
       "    .dataframe tbody tr th {\n",
       "        vertical-align: top;\n",
       "    }\n",
       "\n",
       "    .dataframe thead th {\n",
       "        text-align: right;\n",
       "    }\n",
       "</style>\n",
       "<table border=\"1\" class=\"dataframe\">\n",
       "  <thead>\n",
       "    <tr style=\"text-align: right;\">\n",
       "      <th></th>\n",
       "      <th>Case_Number</th>\n",
       "      <th>Year</th>\n",
       "      <th>Type</th>\n",
       "      <th>Country</th>\n",
       "      <th>Area</th>\n",
       "      <th>Activity</th>\n",
       "      <th>Sex_</th>\n",
       "      <th>Age</th>\n",
       "      <th>Injury</th>\n",
       "      <th>Fatal_(Y/N)</th>\n",
       "      <th>Time</th>\n",
       "      <th>Species_</th>\n",
       "      <th>Investigator_or_Source</th>\n",
       "      <th>Month</th>\n",
       "      <th>Type_of_accident</th>\n",
       "      <th>Sex</th>\n",
       "    </tr>\n",
       "  </thead>\n",
       "  <tbody>\n",
       "    <tr>\n",
       "      <th>6244</th>\n",
       "      <td>ND.0062</td>\n",
       "      <td>0.0</td>\n",
       "      <td>Unprovoked</td>\n",
       "      <td>BAHAMAS</td>\n",
       "      <td>Andros Islands</td>\n",
       "      <td>absent</td>\n",
       "      <td>M</td>\n",
       "      <td>absent</td>\n",
       "      <td>Lower leg and forearm severed</td>\n",
       "      <td>N</td>\n",
       "      <td>absent</td>\n",
       "      <td>White shark, 7' to 8'</td>\n",
       "      <td>Star-Ledger (Newark, NJ), 8/22/1960</td>\n",
       "      <td>absent</td>\n",
       "      <td>Unprovoked</td>\n",
       "      <td>M</td>\n",
       "    </tr>\n",
       "    <tr>\n",
       "      <th>2183</th>\n",
       "      <td>1998.06.08</td>\n",
       "      <td>1998.0</td>\n",
       "      <td>Unprovoked</td>\n",
       "      <td>USA</td>\n",
       "      <td>Florida</td>\n",
       "      <td>Surfing</td>\n",
       "      <td>M</td>\n",
       "      <td>18</td>\n",
       "      <td>2-inch laceration on dorsum of foot, 1-inch la...</td>\n",
       "      <td>N</td>\n",
       "      <td>18h00</td>\n",
       "      <td>absent</td>\n",
       "      <td>S. Petersohn, GSAF</td>\n",
       "      <td>06</td>\n",
       "      <td>Unprovoked</td>\n",
       "      <td>M</td>\n",
       "    </tr>\n",
       "    <tr>\n",
       "      <th>1422</th>\n",
       "      <td>2006.10.10</td>\n",
       "      <td>2006.0</td>\n",
       "      <td>Unprovoked</td>\n",
       "      <td>USA</td>\n",
       "      <td>Florida</td>\n",
       "      <td>Surfing</td>\n",
       "      <td>M</td>\n",
       "      <td>20</td>\n",
       "      <td>Left ankle bitten</td>\n",
       "      <td>N</td>\n",
       "      <td>11h30</td>\n",
       "      <td>absent</td>\n",
       "      <td>S. Petersohn, GSAF</td>\n",
       "      <td>10</td>\n",
       "      <td>Unprovoked</td>\n",
       "      <td>M</td>\n",
       "    </tr>\n",
       "  </tbody>\n",
       "</table>\n",
       "</div>"
      ],
      "text/plain": [
       "     Case_Number    Year        Type  Country            Area Activity Sex_  \\\n",
       "6244     ND.0062     0.0  Unprovoked  BAHAMAS  Andros Islands   absent    M   \n",
       "2183  1998.06.08  1998.0  Unprovoked      USA         Florida  Surfing    M   \n",
       "1422  2006.10.10  2006.0  Unprovoked      USA         Florida  Surfing    M   \n",
       "\n",
       "         Age                                             Injury Fatal_(Y/N)  \\\n",
       "6244  absent                      Lower leg and forearm severed           N   \n",
       "2183      18  2-inch laceration on dorsum of foot, 1-inch la...           N   \n",
       "1422      20                                  Left ankle bitten           N   \n",
       "\n",
       "        Time               Species_               Investigator_or_Source  \\\n",
       "6244  absent  White shark, 7' to 8'  Star-Ledger (Newark, NJ), 8/22/1960   \n",
       "2183   18h00                 absent                   S. Petersohn, GSAF   \n",
       "1422   11h30                 absent                   S. Petersohn, GSAF   \n",
       "\n",
       "       Month Type_of_accident Sex  \n",
       "6244  absent       Unprovoked   M  \n",
       "2183      06       Unprovoked   M  \n",
       "1422      10       Unprovoked   M  "
      ]
     },
     "execution_count": 60,
     "metadata": {},
     "output_type": "execute_result"
    }
   ],
   "source": [
    "sh_attacks6.sample(3)"
   ]
  },
  {
   "cell_type": "code",
   "execution_count": 61,
   "id": "4bc81408",
   "metadata": {},
   "outputs": [],
   "source": [
    "#COLUMNAS A ELIMINAR DE sh_attacks 6 : Case_Number, Sex_, Type"
   ]
  },
  {
   "cell_type": "code",
   "execution_count": 62,
   "id": "2ddabdd7",
   "metadata": {},
   "outputs": [
    {
     "name": "stdout",
     "output_type": "stream",
     "text": [
      "['Case_Number', 'Year', 'Type', 'Country', 'Area', 'Activity', 'Sex_', 'Age', 'Injury', 'Fatal_(Y/N)', 'Time', 'Species_', 'Investigator_or_Source', 'Month', 'Type_of_accident', 'Sex']\n"
     ]
    }
   ],
   "source": [
    "print(list(sh_attacks6.columns))"
   ]
  },
  {
   "cell_type": "code",
   "execution_count": 63,
   "id": "ec468414",
   "metadata": {},
   "outputs": [
    {
     "data": {
      "text/plain": [
       "array(['N', 'Y', 'absent', 'M', 'UNKNOWN', '2017', ' N', 'N ', 'y'],\n",
       "      dtype=object)"
      ]
     },
     "execution_count": 63,
     "metadata": {},
     "output_type": "execute_result"
    }
   ],
   "source": [
    "sh_attacks6[\"Fatal_(Y/N)\"].unique()"
   ]
  },
  {
   "cell_type": "code",
   "execution_count": 64,
   "id": "207216b5",
   "metadata": {},
   "outputs": [],
   "source": [
    "Fatal_df = sh_attacks6[\"Fatal_(Y/N)\"]"
   ]
  },
  {
   "cell_type": "code",
   "execution_count": 65,
   "id": "0c3b6d95",
   "metadata": {},
   "outputs": [],
   "source": [
    "Fatal_df1 = Fatal_df.replace({' N', 'N '}, 'N')"
   ]
  },
  {
   "cell_type": "code",
   "execution_count": 66,
   "id": "390b40af",
   "metadata": {},
   "outputs": [],
   "source": [
    "Fatal_df2 = Fatal_df1.replace({'M', 'UNKNOWN', '2017'}, 'absent')"
   ]
  },
  {
   "cell_type": "code",
   "execution_count": 67,
   "id": "e4034908",
   "metadata": {},
   "outputs": [],
   "source": [
    "Fatal_df3 = Fatal_df2.replace({'y'}, 'Y')"
   ]
  },
  {
   "cell_type": "code",
   "execution_count": 68,
   "id": "8d4b4627",
   "metadata": {},
   "outputs": [],
   "source": [
    "list_fatal = list(Fatal_df3)"
   ]
  },
  {
   "cell_type": "code",
   "execution_count": 69,
   "id": "c8934d14",
   "metadata": {},
   "outputs": [],
   "source": [
    "sh_attacks6[\"Fatal_attack_(Y/N)\"] = list_fatal"
   ]
  },
  {
   "cell_type": "code",
   "execution_count": 70,
   "id": "a39eff92",
   "metadata": {},
   "outputs": [],
   "source": [
    "#COLUMNAS A ELIMINAR DE sh_attacks 6 : Case_Number, Sex_, Type, Fatal_(Y/N)"
   ]
  },
  {
   "cell_type": "code",
   "execution_count": 71,
   "id": "a04cfb60",
   "metadata": {},
   "outputs": [
    {
     "data": {
      "text/html": [
       "<div>\n",
       "<style scoped>\n",
       "    .dataframe tbody tr th:only-of-type {\n",
       "        vertical-align: middle;\n",
       "    }\n",
       "\n",
       "    .dataframe tbody tr th {\n",
       "        vertical-align: top;\n",
       "    }\n",
       "\n",
       "    .dataframe thead th {\n",
       "        text-align: right;\n",
       "    }\n",
       "</style>\n",
       "<table border=\"1\" class=\"dataframe\">\n",
       "  <thead>\n",
       "    <tr style=\"text-align: right;\">\n",
       "      <th></th>\n",
       "      <th>Case_Number</th>\n",
       "      <th>Year</th>\n",
       "      <th>Type</th>\n",
       "      <th>Country</th>\n",
       "      <th>Area</th>\n",
       "      <th>Activity</th>\n",
       "      <th>Sex_</th>\n",
       "      <th>Age</th>\n",
       "      <th>Injury</th>\n",
       "      <th>Fatal_(Y/N)</th>\n",
       "      <th>Time</th>\n",
       "      <th>Species_</th>\n",
       "      <th>Investigator_or_Source</th>\n",
       "      <th>Month</th>\n",
       "      <th>Type_of_accident</th>\n",
       "      <th>Sex</th>\n",
       "      <th>Fatal_attack_(Y/N)</th>\n",
       "    </tr>\n",
       "  </thead>\n",
       "  <tbody>\n",
       "    <tr>\n",
       "      <th>4698</th>\n",
       "      <td>1942.11.01</td>\n",
       "      <td>1942.0</td>\n",
       "      <td>Unprovoked</td>\n",
       "      <td>SOUTH AFRICA</td>\n",
       "      <td>Western Cape Province</td>\n",
       "      <td>Swimming</td>\n",
       "      <td>M</td>\n",
       "      <td>18</td>\n",
       "      <td>FATAL, body not recovered</td>\n",
       "      <td>Y</td>\n",
       "      <td>12h30</td>\n",
       "      <td>White shark, 4.5 m  to 6 m [14'9\" to 20'] acco...</td>\n",
       "      <td>Natal Daily News, 11/28/1942, M. Levine, GSAF;...</td>\n",
       "      <td>11</td>\n",
       "      <td>Unprovoked</td>\n",
       "      <td>M</td>\n",
       "      <td>Y</td>\n",
       "    </tr>\n",
       "    <tr>\n",
       "      <th>3771</th>\n",
       "      <td>1963.01.06</td>\n",
       "      <td>1963.0</td>\n",
       "      <td>Unprovoked</td>\n",
       "      <td>SOUTH AFRICA</td>\n",
       "      <td>KwaZulu-Natal</td>\n",
       "      <td>Spearfishing</td>\n",
       "      <td>M</td>\n",
       "      <td>24</td>\n",
       "      <td>Lacerations to right  arm</td>\n",
       "      <td>N</td>\n",
       "      <td>16h00</td>\n",
       "      <td>Zambesi shark, 2 m [6'9\"]</td>\n",
       "      <td>D. Davies, p.117-118; C. Passmore, M. Levine, ...</td>\n",
       "      <td>01</td>\n",
       "      <td>Unprovoked</td>\n",
       "      <td>M</td>\n",
       "      <td>N</td>\n",
       "    </tr>\n",
       "  </tbody>\n",
       "</table>\n",
       "</div>"
      ],
      "text/plain": [
       "     Case_Number    Year        Type       Country                   Area  \\\n",
       "4698  1942.11.01  1942.0  Unprovoked  SOUTH AFRICA  Western Cape Province   \n",
       "3771  1963.01.06  1963.0  Unprovoked  SOUTH AFRICA          KwaZulu-Natal   \n",
       "\n",
       "          Activity Sex_ Age                     Injury Fatal_(Y/N)   Time  \\\n",
       "4698     Swimming     M  18  FATAL, body not recovered           Y  12h30   \n",
       "3771  Spearfishing    M  24  Lacerations to right  arm           N  16h00   \n",
       "\n",
       "                                               Species_  \\\n",
       "4698  White shark, 4.5 m  to 6 m [14'9\" to 20'] acco...   \n",
       "3771                         Zambesi shark, 2 m [6'9\"]    \n",
       "\n",
       "                                 Investigator_or_Source Month  \\\n",
       "4698  Natal Daily News, 11/28/1942, M. Levine, GSAF;...    11   \n",
       "3771  D. Davies, p.117-118; C. Passmore, M. Levine, ...    01   \n",
       "\n",
       "     Type_of_accident Sex Fatal_attack_(Y/N)  \n",
       "4698       Unprovoked   M                  Y  \n",
       "3771       Unprovoked   M                  N  "
      ]
     },
     "execution_count": 71,
     "metadata": {},
     "output_type": "execute_result"
    }
   ],
   "source": [
    "sh_attacks6.sample(2)"
   ]
  },
  {
   "cell_type": "code",
   "execution_count": 72,
   "id": "4abc4c9d",
   "metadata": {},
   "outputs": [
    {
     "data": {
      "text/plain": [
       "(6304, 17)"
      ]
     },
     "execution_count": 72,
     "metadata": {},
     "output_type": "execute_result"
    }
   ],
   "source": [
    "sh_attacks6.shape"
   ]
  },
  {
   "cell_type": "code",
   "execution_count": 73,
   "id": "2d448513",
   "metadata": {},
   "outputs": [
    {
     "data": {
      "text/plain": [
       "pandas.core.frame.DataFrame"
      ]
     },
     "execution_count": 73,
     "metadata": {},
     "output_type": "execute_result"
    }
   ],
   "source": [
    "type(sh_attacks6)"
   ]
  },
  {
   "cell_type": "code",
   "execution_count": 74,
   "id": "cf4b8a9a",
   "metadata": {},
   "outputs": [],
   "source": [
    "sh_attacks7 = sh_attacks6.drop(['Case_Number', 'Sex_', 'Type', 'Fatal_(Y/N)'], axis=1)\n",
    "#Al estar varias columnas duplicadas, he quitado todas las \"malas\""
   ]
  },
  {
   "cell_type": "code",
   "execution_count": 75,
   "id": "c6e342c5",
   "metadata": {},
   "outputs": [
    {
     "data": {
      "text/html": [
       "<div>\n",
       "<style scoped>\n",
       "    .dataframe tbody tr th:only-of-type {\n",
       "        vertical-align: middle;\n",
       "    }\n",
       "\n",
       "    .dataframe tbody tr th {\n",
       "        vertical-align: top;\n",
       "    }\n",
       "\n",
       "    .dataframe thead th {\n",
       "        text-align: right;\n",
       "    }\n",
       "</style>\n",
       "<table border=\"1\" class=\"dataframe\">\n",
       "  <thead>\n",
       "    <tr style=\"text-align: right;\">\n",
       "      <th></th>\n",
       "      <th>Year</th>\n",
       "      <th>Country</th>\n",
       "      <th>Area</th>\n",
       "      <th>Activity</th>\n",
       "      <th>Age</th>\n",
       "      <th>Injury</th>\n",
       "      <th>Time</th>\n",
       "      <th>Species_</th>\n",
       "      <th>Investigator_or_Source</th>\n",
       "      <th>Month</th>\n",
       "      <th>Type_of_accident</th>\n",
       "      <th>Sex</th>\n",
       "      <th>Fatal_attack_(Y/N)</th>\n",
       "    </tr>\n",
       "  </thead>\n",
       "  <tbody>\n",
       "    <tr>\n",
       "      <th>0</th>\n",
       "      <td>2018.0</td>\n",
       "      <td>USA</td>\n",
       "      <td>California</td>\n",
       "      <td>Paddling</td>\n",
       "      <td>57</td>\n",
       "      <td>No injury to occupant, outrigger canoe and pad...</td>\n",
       "      <td>18h00</td>\n",
       "      <td>White shark</td>\n",
       "      <td>R. Collier, GSAF</td>\n",
       "      <td>06</td>\n",
       "      <td>Boat</td>\n",
       "      <td>F</td>\n",
       "      <td>N</td>\n",
       "    </tr>\n",
       "    <tr>\n",
       "      <th>1</th>\n",
       "      <td>2018.0</td>\n",
       "      <td>USA</td>\n",
       "      <td>Georgia</td>\n",
       "      <td>Standing</td>\n",
       "      <td>11</td>\n",
       "      <td>Minor injury to left thigh</td>\n",
       "      <td>14h00  -15h00</td>\n",
       "      <td>absent</td>\n",
       "      <td>K.McMurray, TrackingSharks.com</td>\n",
       "      <td>06</td>\n",
       "      <td>Unprovoked</td>\n",
       "      <td>F</td>\n",
       "      <td>N</td>\n",
       "    </tr>\n",
       "    <tr>\n",
       "      <th>2</th>\n",
       "      <td>2018.0</td>\n",
       "      <td>USA</td>\n",
       "      <td>Hawaii</td>\n",
       "      <td>Surfing</td>\n",
       "      <td>48</td>\n",
       "      <td>Injury to left lower leg from surfboard skeg</td>\n",
       "      <td>07h45</td>\n",
       "      <td>absent</td>\n",
       "      <td>K.McMurray, TrackingSharks.com</td>\n",
       "      <td>06</td>\n",
       "      <td>Invalid</td>\n",
       "      <td>M</td>\n",
       "      <td>N</td>\n",
       "    </tr>\n",
       "    <tr>\n",
       "      <th>3</th>\n",
       "      <td>2018.0</td>\n",
       "      <td>AUSTRALIA</td>\n",
       "      <td>New South Wales</td>\n",
       "      <td>Surfing</td>\n",
       "      <td>absent</td>\n",
       "      <td>Minor injury to lower leg</td>\n",
       "      <td>absent</td>\n",
       "      <td>2 m shark</td>\n",
       "      <td>B. Myatt, GSAF</td>\n",
       "      <td>06</td>\n",
       "      <td>Unprovoked</td>\n",
       "      <td>M</td>\n",
       "      <td>N</td>\n",
       "    </tr>\n",
       "    <tr>\n",
       "      <th>4</th>\n",
       "      <td>2018.0</td>\n",
       "      <td>MEXICO</td>\n",
       "      <td>Colima</td>\n",
       "      <td>Free diving</td>\n",
       "      <td>absent</td>\n",
       "      <td>Lacerations to leg &amp; hand shark PROVOKED INCIDENT</td>\n",
       "      <td>absent</td>\n",
       "      <td>Tiger shark, 3m</td>\n",
       "      <td>A .Kipper</td>\n",
       "      <td>06</td>\n",
       "      <td>Provoked</td>\n",
       "      <td>M</td>\n",
       "      <td>N</td>\n",
       "    </tr>\n",
       "    <tr>\n",
       "      <th>...</th>\n",
       "      <td>...</td>\n",
       "      <td>...</td>\n",
       "      <td>...</td>\n",
       "      <td>...</td>\n",
       "      <td>...</td>\n",
       "      <td>...</td>\n",
       "      <td>...</td>\n",
       "      <td>...</td>\n",
       "      <td>...</td>\n",
       "      <td>...</td>\n",
       "      <td>...</td>\n",
       "      <td>...</td>\n",
       "      <td>...</td>\n",
       "    </tr>\n",
       "    <tr>\n",
       "      <th>6299</th>\n",
       "      <td>0.0</td>\n",
       "      <td>USA</td>\n",
       "      <td>North Carolina</td>\n",
       "      <td>Swimming</td>\n",
       "      <td>absent</td>\n",
       "      <td>FATAL</td>\n",
       "      <td>absent</td>\n",
       "      <td>absent</td>\n",
       "      <td>F. Schwartz, p.23; C. Creswell, GSAF</td>\n",
       "      <td>absent</td>\n",
       "      <td>Unprovoked</td>\n",
       "      <td>M</td>\n",
       "      <td>Y</td>\n",
       "    </tr>\n",
       "    <tr>\n",
       "      <th>6300</th>\n",
       "      <td>0.0</td>\n",
       "      <td>PANAMA</td>\n",
       "      <td>absent</td>\n",
       "      <td>absent</td>\n",
       "      <td>absent</td>\n",
       "      <td>FATAL</td>\n",
       "      <td>absent</td>\n",
       "      <td>absent</td>\n",
       "      <td>The Sun, 10/20/1938</td>\n",
       "      <td>absent</td>\n",
       "      <td>Unprovoked</td>\n",
       "      <td>M</td>\n",
       "      <td>Y</td>\n",
       "    </tr>\n",
       "    <tr>\n",
       "      <th>6301</th>\n",
       "      <td>0.0</td>\n",
       "      <td>CEYLON (SRI LANKA)</td>\n",
       "      <td>Eastern Province</td>\n",
       "      <td>Swimming</td>\n",
       "      <td>15</td>\n",
       "      <td>FATAL. \"Shark bit him in half, carrying away t...</td>\n",
       "      <td>absent</td>\n",
       "      <td>absent</td>\n",
       "      <td>S.W. Baker</td>\n",
       "      <td>absent</td>\n",
       "      <td>Unprovoked</td>\n",
       "      <td>M</td>\n",
       "      <td>Y</td>\n",
       "    </tr>\n",
       "    <tr>\n",
       "      <th>6302</th>\n",
       "      <td>absent</td>\n",
       "      <td>absent</td>\n",
       "      <td>absent</td>\n",
       "      <td>absent</td>\n",
       "      <td>absent</td>\n",
       "      <td>absent</td>\n",
       "      <td>absent</td>\n",
       "      <td>absent</td>\n",
       "      <td>absent</td>\n",
       "      <td>absent</td>\n",
       "      <td>absent</td>\n",
       "      <td>absent</td>\n",
       "      <td>absent</td>\n",
       "    </tr>\n",
       "    <tr>\n",
       "      <th>6303</th>\n",
       "      <td>absent</td>\n",
       "      <td>absent</td>\n",
       "      <td>absent</td>\n",
       "      <td>absent</td>\n",
       "      <td>absent</td>\n",
       "      <td>absent</td>\n",
       "      <td>absent</td>\n",
       "      <td>absent</td>\n",
       "      <td>absent</td>\n",
       "      <td>absent</td>\n",
       "      <td>absent</td>\n",
       "      <td>absent</td>\n",
       "      <td>absent</td>\n",
       "    </tr>\n",
       "  </tbody>\n",
       "</table>\n",
       "<p>6304 rows × 13 columns</p>\n",
       "</div>"
      ],
      "text/plain": [
       "        Year             Country              Area     Activity     Age  \\\n",
       "0     2018.0                 USA        California     Paddling      57   \n",
       "1     2018.0                 USA           Georgia     Standing      11   \n",
       "2     2018.0                 USA            Hawaii      Surfing      48   \n",
       "3     2018.0           AUSTRALIA   New South Wales      Surfing  absent   \n",
       "4     2018.0              MEXICO            Colima  Free diving  absent   \n",
       "...      ...                 ...               ...          ...     ...   \n",
       "6299     0.0                 USA    North Carolina     Swimming  absent   \n",
       "6300     0.0              PANAMA            absent       absent  absent   \n",
       "6301     0.0  CEYLON (SRI LANKA)  Eastern Province     Swimming      15   \n",
       "6302  absent              absent            absent       absent  absent   \n",
       "6303  absent              absent            absent       absent  absent   \n",
       "\n",
       "                                                 Injury           Time  \\\n",
       "0     No injury to occupant, outrigger canoe and pad...          18h00   \n",
       "1                            Minor injury to left thigh  14h00  -15h00   \n",
       "2          Injury to left lower leg from surfboard skeg          07h45   \n",
       "3                             Minor injury to lower leg         absent   \n",
       "4     Lacerations to leg & hand shark PROVOKED INCIDENT         absent   \n",
       "...                                                 ...            ...   \n",
       "6299                                              FATAL         absent   \n",
       "6300                                              FATAL         absent   \n",
       "6301  FATAL. \"Shark bit him in half, carrying away t...         absent   \n",
       "6302                                             absent         absent   \n",
       "6303                                             absent         absent   \n",
       "\n",
       "             Species_                Investigator_or_Source   Month  \\\n",
       "0         White shark                      R. Collier, GSAF      06   \n",
       "1              absent        K.McMurray, TrackingSharks.com      06   \n",
       "2              absent        K.McMurray, TrackingSharks.com      06   \n",
       "3           2 m shark                        B. Myatt, GSAF      06   \n",
       "4     Tiger shark, 3m                             A .Kipper      06   \n",
       "...               ...                                   ...     ...   \n",
       "6299           absent  F. Schwartz, p.23; C. Creswell, GSAF  absent   \n",
       "6300           absent                   The Sun, 10/20/1938  absent   \n",
       "6301           absent                            S.W. Baker  absent   \n",
       "6302           absent                                absent  absent   \n",
       "6303           absent                                absent  absent   \n",
       "\n",
       "     Type_of_accident     Sex Fatal_attack_(Y/N)  \n",
       "0                Boat       F                  N  \n",
       "1          Unprovoked       F                  N  \n",
       "2             Invalid       M                  N  \n",
       "3          Unprovoked       M                  N  \n",
       "4            Provoked       M                  N  \n",
       "...               ...     ...                ...  \n",
       "6299       Unprovoked       M                  Y  \n",
       "6300       Unprovoked       M                  Y  \n",
       "6301       Unprovoked       M                  Y  \n",
       "6302           absent  absent             absent  \n",
       "6303           absent  absent             absent  \n",
       "\n",
       "[6304 rows x 13 columns]"
      ]
     },
     "execution_count": 75,
     "metadata": {},
     "output_type": "execute_result"
    }
   ],
   "source": [
    "sh_attacks7"
   ]
  },
  {
   "cell_type": "code",
   "execution_count": 76,
   "id": "fd89c9d8",
   "metadata": {},
   "outputs": [],
   "source": [
    "sh_attacks8 = sh_attacks7.drop_duplicates()\n",
    "#Ya que muchos valores han cambiado, aquí he quitado otra vez todas aquellas celdas duplicadas."
   ]
  },
  {
   "cell_type": "code",
   "execution_count": 79,
   "id": "52ada181",
   "metadata": {},
   "outputs": [],
   "source": [
    "sh_attacks9 = sh_attacks8.reset_index(drop=True)"
   ]
  },
  {
   "cell_type": "code",
   "execution_count": 83,
   "id": "22379596",
   "metadata": {},
   "outputs": [
    {
     "data": {
      "text/html": [
       "<div>\n",
       "<style scoped>\n",
       "    .dataframe tbody tr th:only-of-type {\n",
       "        vertical-align: middle;\n",
       "    }\n",
       "\n",
       "    .dataframe tbody tr th {\n",
       "        vertical-align: top;\n",
       "    }\n",
       "\n",
       "    .dataframe thead th {\n",
       "        text-align: right;\n",
       "    }\n",
       "</style>\n",
       "<table border=\"1\" class=\"dataframe\">\n",
       "  <thead>\n",
       "    <tr style=\"text-align: right;\">\n",
       "      <th></th>\n",
       "      <th>Year</th>\n",
       "      <th>Country</th>\n",
       "      <th>Area</th>\n",
       "      <th>Activity</th>\n",
       "      <th>Age</th>\n",
       "      <th>Injury</th>\n",
       "      <th>Time</th>\n",
       "      <th>Species_</th>\n",
       "      <th>Investigator_or_Source</th>\n",
       "      <th>Month</th>\n",
       "      <th>Type_of_accident</th>\n",
       "      <th>Sex</th>\n",
       "      <th>Fatal_attack_(Y/N)</th>\n",
       "    </tr>\n",
       "  </thead>\n",
       "  <tbody>\n",
       "    <tr>\n",
       "      <th>0</th>\n",
       "      <td>2018.0</td>\n",
       "      <td>USA</td>\n",
       "      <td>California</td>\n",
       "      <td>Paddling</td>\n",
       "      <td>57</td>\n",
       "      <td>No injury to occupant, outrigger canoe and pad...</td>\n",
       "      <td>18h00</td>\n",
       "      <td>White shark</td>\n",
       "      <td>R. Collier, GSAF</td>\n",
       "      <td>06</td>\n",
       "      <td>Boat</td>\n",
       "      <td>F</td>\n",
       "      <td>N</td>\n",
       "    </tr>\n",
       "    <tr>\n",
       "      <th>1</th>\n",
       "      <td>2018.0</td>\n",
       "      <td>USA</td>\n",
       "      <td>Georgia</td>\n",
       "      <td>Standing</td>\n",
       "      <td>11</td>\n",
       "      <td>Minor injury to left thigh</td>\n",
       "      <td>14h00  -15h00</td>\n",
       "      <td>absent</td>\n",
       "      <td>K.McMurray, TrackingSharks.com</td>\n",
       "      <td>06</td>\n",
       "      <td>Unprovoked</td>\n",
       "      <td>F</td>\n",
       "      <td>N</td>\n",
       "    </tr>\n",
       "    <tr>\n",
       "      <th>2</th>\n",
       "      <td>2018.0</td>\n",
       "      <td>USA</td>\n",
       "      <td>Hawaii</td>\n",
       "      <td>Surfing</td>\n",
       "      <td>48</td>\n",
       "      <td>Injury to left lower leg from surfboard skeg</td>\n",
       "      <td>07h45</td>\n",
       "      <td>absent</td>\n",
       "      <td>K.McMurray, TrackingSharks.com</td>\n",
       "      <td>06</td>\n",
       "      <td>Invalid</td>\n",
       "      <td>M</td>\n",
       "      <td>N</td>\n",
       "    </tr>\n",
       "    <tr>\n",
       "      <th>3</th>\n",
       "      <td>2018.0</td>\n",
       "      <td>AUSTRALIA</td>\n",
       "      <td>New South Wales</td>\n",
       "      <td>Surfing</td>\n",
       "      <td>absent</td>\n",
       "      <td>Minor injury to lower leg</td>\n",
       "      <td>absent</td>\n",
       "      <td>2 m shark</td>\n",
       "      <td>B. Myatt, GSAF</td>\n",
       "      <td>06</td>\n",
       "      <td>Unprovoked</td>\n",
       "      <td>M</td>\n",
       "      <td>N</td>\n",
       "    </tr>\n",
       "    <tr>\n",
       "      <th>4</th>\n",
       "      <td>2018.0</td>\n",
       "      <td>MEXICO</td>\n",
       "      <td>Colima</td>\n",
       "      <td>Free diving</td>\n",
       "      <td>absent</td>\n",
       "      <td>Lacerations to leg &amp; hand shark PROVOKED INCIDENT</td>\n",
       "      <td>absent</td>\n",
       "      <td>Tiger shark, 3m</td>\n",
       "      <td>A .Kipper</td>\n",
       "      <td>06</td>\n",
       "      <td>Provoked</td>\n",
       "      <td>M</td>\n",
       "      <td>N</td>\n",
       "    </tr>\n",
       "    <tr>\n",
       "      <th>...</th>\n",
       "      <td>...</td>\n",
       "      <td>...</td>\n",
       "      <td>...</td>\n",
       "      <td>...</td>\n",
       "      <td>...</td>\n",
       "      <td>...</td>\n",
       "      <td>...</td>\n",
       "      <td>...</td>\n",
       "      <td>...</td>\n",
       "      <td>...</td>\n",
       "      <td>...</td>\n",
       "      <td>...</td>\n",
       "      <td>...</td>\n",
       "    </tr>\n",
       "    <tr>\n",
       "      <th>6290</th>\n",
       "      <td>0.0</td>\n",
       "      <td>AUSTRALIA</td>\n",
       "      <td>Western Australia</td>\n",
       "      <td>Diving</td>\n",
       "      <td>absent</td>\n",
       "      <td>FATAL</td>\n",
       "      <td>absent</td>\n",
       "      <td>absent</td>\n",
       "      <td>H. Taunton; N. Bartlett,  p. 234</td>\n",
       "      <td>absent</td>\n",
       "      <td>Unprovoked</td>\n",
       "      <td>M</td>\n",
       "      <td>Y</td>\n",
       "    </tr>\n",
       "    <tr>\n",
       "      <th>6291</th>\n",
       "      <td>0.0</td>\n",
       "      <td>AUSTRALIA</td>\n",
       "      <td>Western Australia</td>\n",
       "      <td>Pearl diving</td>\n",
       "      <td>absent</td>\n",
       "      <td>FATAL</td>\n",
       "      <td>absent</td>\n",
       "      <td>absent</td>\n",
       "      <td>H. Taunton; N. Bartlett,  pp. 233-234</td>\n",
       "      <td>absent</td>\n",
       "      <td>Unprovoked</td>\n",
       "      <td>M</td>\n",
       "      <td>Y</td>\n",
       "    </tr>\n",
       "    <tr>\n",
       "      <th>6292</th>\n",
       "      <td>0.0</td>\n",
       "      <td>USA</td>\n",
       "      <td>North Carolina</td>\n",
       "      <td>Swimming</td>\n",
       "      <td>absent</td>\n",
       "      <td>FATAL</td>\n",
       "      <td>absent</td>\n",
       "      <td>absent</td>\n",
       "      <td>F. Schwartz, p.23; C. Creswell, GSAF</td>\n",
       "      <td>absent</td>\n",
       "      <td>Unprovoked</td>\n",
       "      <td>M</td>\n",
       "      <td>Y</td>\n",
       "    </tr>\n",
       "    <tr>\n",
       "      <th>6293</th>\n",
       "      <td>0.0</td>\n",
       "      <td>PANAMA</td>\n",
       "      <td>absent</td>\n",
       "      <td>absent</td>\n",
       "      <td>absent</td>\n",
       "      <td>FATAL</td>\n",
       "      <td>absent</td>\n",
       "      <td>absent</td>\n",
       "      <td>The Sun, 10/20/1938</td>\n",
       "      <td>absent</td>\n",
       "      <td>Unprovoked</td>\n",
       "      <td>M</td>\n",
       "      <td>Y</td>\n",
       "    </tr>\n",
       "    <tr>\n",
       "      <th>6294</th>\n",
       "      <td>0.0</td>\n",
       "      <td>CEYLON (SRI LANKA)</td>\n",
       "      <td>Eastern Province</td>\n",
       "      <td>Swimming</td>\n",
       "      <td>15</td>\n",
       "      <td>FATAL. \"Shark bit him in half, carrying away t...</td>\n",
       "      <td>absent</td>\n",
       "      <td>absent</td>\n",
       "      <td>S.W. Baker</td>\n",
       "      <td>absent</td>\n",
       "      <td>Unprovoked</td>\n",
       "      <td>M</td>\n",
       "      <td>Y</td>\n",
       "    </tr>\n",
       "  </tbody>\n",
       "</table>\n",
       "<p>6295 rows × 13 columns</p>\n",
       "</div>"
      ],
      "text/plain": [
       "        Year             Country               Area      Activity     Age  \\\n",
       "0     2018.0                 USA         California      Paddling      57   \n",
       "1     2018.0                 USA            Georgia      Standing      11   \n",
       "2     2018.0                 USA             Hawaii       Surfing      48   \n",
       "3     2018.0           AUSTRALIA    New South Wales       Surfing  absent   \n",
       "4     2018.0              MEXICO             Colima   Free diving  absent   \n",
       "...      ...                 ...                ...           ...     ...   \n",
       "6290     0.0           AUSTRALIA  Western Australia        Diving  absent   \n",
       "6291     0.0           AUSTRALIA  Western Australia  Pearl diving  absent   \n",
       "6292     0.0                 USA     North Carolina      Swimming  absent   \n",
       "6293     0.0              PANAMA             absent        absent  absent   \n",
       "6294     0.0  CEYLON (SRI LANKA)   Eastern Province      Swimming      15   \n",
       "\n",
       "                                                 Injury           Time  \\\n",
       "0     No injury to occupant, outrigger canoe and pad...          18h00   \n",
       "1                            Minor injury to left thigh  14h00  -15h00   \n",
       "2          Injury to left lower leg from surfboard skeg          07h45   \n",
       "3                             Minor injury to lower leg         absent   \n",
       "4     Lacerations to leg & hand shark PROVOKED INCIDENT         absent   \n",
       "...                                                 ...            ...   \n",
       "6290                                              FATAL         absent   \n",
       "6291                                              FATAL         absent   \n",
       "6292                                              FATAL         absent   \n",
       "6293                                              FATAL         absent   \n",
       "6294  FATAL. \"Shark bit him in half, carrying away t...         absent   \n",
       "\n",
       "             Species_                 Investigator_or_Source   Month  \\\n",
       "0         White shark                       R. Collier, GSAF      06   \n",
       "1              absent         K.McMurray, TrackingSharks.com      06   \n",
       "2              absent         K.McMurray, TrackingSharks.com      06   \n",
       "3           2 m shark                         B. Myatt, GSAF      06   \n",
       "4     Tiger shark, 3m                              A .Kipper      06   \n",
       "...               ...                                    ...     ...   \n",
       "6290           absent       H. Taunton; N. Bartlett,  p. 234  absent   \n",
       "6291           absent  H. Taunton; N. Bartlett,  pp. 233-234  absent   \n",
       "6292           absent   F. Schwartz, p.23; C. Creswell, GSAF  absent   \n",
       "6293           absent                    The Sun, 10/20/1938  absent   \n",
       "6294           absent                             S.W. Baker  absent   \n",
       "\n",
       "     Type_of_accident Sex Fatal_attack_(Y/N)  \n",
       "0                Boat   F                  N  \n",
       "1          Unprovoked   F                  N  \n",
       "2             Invalid   M                  N  \n",
       "3          Unprovoked   M                  N  \n",
       "4            Provoked   M                  N  \n",
       "...               ...  ..                ...  \n",
       "6290       Unprovoked   M                  Y  \n",
       "6291       Unprovoked   M                  Y  \n",
       "6292       Unprovoked   M                  Y  \n",
       "6293       Unprovoked   M                  Y  \n",
       "6294       Unprovoked   M                  Y  \n",
       "\n",
       "[6295 rows x 13 columns]"
      ]
     },
     "execution_count": 83,
     "metadata": {},
     "output_type": "execute_result"
    }
   ],
   "source": [
    "sh_attacks9"
   ]
  },
  {
   "cell_type": "code",
   "execution_count": 82,
   "id": "dddf1bc4",
   "metadata": {},
   "outputs": [
    {
     "data": {
      "text/plain": [
       "pandas.core.frame.DataFrame"
      ]
     },
     "execution_count": 82,
     "metadata": {},
     "output_type": "execute_result"
    }
   ],
   "source": [
    "type(sh_attacks9)"
   ]
  },
  {
   "cell_type": "code",
   "execution_count": 88,
   "id": "75e7117e",
   "metadata": {},
   "outputs": [
    {
     "data": {
      "text/plain": [
       "array(['57', '11', '48', 'absent', '18', '52', '15', '12', '32', '10',\n",
       "       '21', '34', '30', '60', '33', '29', '54', '41', '37', '56', '19',\n",
       "       '25', '69', '38', '55', '35', '46', '45', '14', '40s', '28', '20',\n",
       "       '24', '26', '49', '22', '7', '31', '17', '40', '13', '42', '3',\n",
       "       '8', '50', '16', '82', '73', '20s', '68', '51', '39', '58', 'Teen',\n",
       "       '47', '61', '65', '36', '66', '43', '60s', '9', '72', '59', '6',\n",
       "       '27', '64', '23', '71', '44', '62', '63', '70', '18 months', '53',\n",
       "       '30s', '50s', 'teen', '77', '74', '28 & 26', '5', '86', '18 or 20',\n",
       "       '12 or 13', '46 & 34', '28, 23 & 30', 'Teens', '36 & 26',\n",
       "       '8 or 10', '84', '\\xa0 ', ' ', '30 or 36', '6½', '21 & ?', '75',\n",
       "       '33 or 37', 'mid-30s', '23 & 20', ' 30', '7      &    31', ' 28',\n",
       "       '20?', \"60's\", '32 & 30', '16 to 18', '87', '67', 'Elderly',\n",
       "       'mid-20s', 'Ca. 33', '74 ', '45 ', '21 or 26', '20 ', '>50',\n",
       "       '18 to 22', 'adult', '9 & 12', '? & 19', '9 months', '25 to 35',\n",
       "       '23 & 26', '1', '(adult)', '33 & 37', '25 or 28',\n",
       "       '37, 67, 35, 27,  ? & 27', '21, 34,24 & 35', '30 & 32', '50 & 30',\n",
       "       '17 & 35', 'X', '\"middle-age\"', '13 or 18', '34 & 19', '33 & 26',\n",
       "       '2 to 3 months', 'MAKE LINE GREEN', ' 43', '81', '\"young\"',\n",
       "       '7 or 8', '78', '17 & 16', 'F', 'Both 11', '9 or 10', 'young',\n",
       "       '36 & 23', '  ', 'A.M.', '?    &   14', '10 or 12', '31 or 33',\n",
       "       '2½', '13 or 14'], dtype=object)"
      ]
     },
     "execution_count": 88,
     "metadata": {},
     "output_type": "execute_result"
    }
   ],
   "source": [
    "sh_attacks9.Age.unique()"
   ]
  },
  {
   "cell_type": "code",
   "execution_count": null,
   "id": "c82f215e",
   "metadata": {},
   "outputs": [],
   "source": []
  }
 ],
 "metadata": {
  "kernelspec": {
   "display_name": "ironhack",
   "language": "python",
   "name": "ironhack"
  },
  "language_info": {
   "codemirror_mode": {
    "name": "ipython",
    "version": 3
   },
   "file_extension": ".py",
   "mimetype": "text/x-python",
   "name": "python",
   "nbconvert_exporter": "python",
   "pygments_lexer": "ipython3",
   "version": "3.8.11"
  }
 },
 "nbformat": 4,
 "nbformat_minor": 5
}
