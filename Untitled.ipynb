{
 "cells": [
  {
   "cell_type": "markdown",
   "id": "1d70b9c3",
   "metadata": {},
   "source": [
    "# IMPORTAR LIBRERIAS"
   ]
  },
  {
   "cell_type": "code",
   "execution_count": 1,
   "id": "d019be4d",
   "metadata": {},
   "outputs": [],
   "source": [
    "import pandas as pd\n",
    "import matplotlib.pyplot as plt\n",
    "import seaborn as sns\n",
    "import numpy as np\n",
    "import src.sharks_functions as sf"
   ]
  },
  {
   "cell_type": "markdown",
   "id": "2edf70e0",
   "metadata": {},
   "source": [
    "# DESCARGAR EL DATA"
   ]
  },
  {
   "cell_type": "code",
   "execution_count": 2,
   "id": "4453d057",
   "metadata": {},
   "outputs": [
    {
     "data": {
      "text/plain": [
       "'Descargar los datos con los cuales vamos a trabajar '"
      ]
     },
     "execution_count": 2,
     "metadata": {},
     "output_type": "execute_result"
    }
   ],
   "source": [
    "sh_attacks = pd.read_csv('attacks.csv',encoding = 'ISO-8859-1')\n",
    "\"\"\"Descargar los datos con los cuales vamos a trabajar \"\"\""
   ]
  },
  {
   "cell_type": "markdown",
   "id": "510f66d3",
   "metadata": {},
   "source": [
    "# MANIPULAR EL DATASET"
   ]
  },
  {
   "cell_type": "code",
   "execution_count": 3,
   "id": "b365d62a",
   "metadata": {},
   "outputs": [
    {
     "data": {
      "text/plain": [
       "'Ver lo que analiza cada columna'"
      ]
     },
     "execution_count": 3,
     "metadata": {},
     "output_type": "execute_result"
    }
   ],
   "source": [
    "sh_attacks.head(1)\n",
    "\"\"\"Ver lo que analiza cada columna\"\"\""
   ]
  },
  {
   "cell_type": "code",
   "execution_count": 4,
   "id": "790c3f40",
   "metadata": {},
   "outputs": [],
   "source": [
    "columnas = list(sh_attacks.columns)"
   ]
  },
  {
   "cell_type": "code",
   "execution_count": 5,
   "id": "40243362",
   "metadata": {},
   "outputs": [
    {
     "name": "stdout",
     "output_type": "stream",
     "text": [
      "['Case Number', 'Date', 'Year', 'Type', 'Country', 'Area', 'Location', 'Activity', 'Name', 'Sex ', 'Age', 'Injury', 'Fatal (Y/N)', 'Time', 'Species ', 'Investigator or Source', 'pdf', 'href formula', 'href', 'Case Number.1', 'Case Number.2', 'original order', 'Unnamed: 22', 'Unnamed: 23']\n"
     ]
    }
   ],
   "source": [
    "print(columnas)"
   ]
  },
  {
   "cell_type": "code",
   "execution_count": 6,
   "id": "5e3370b6",
   "metadata": {},
   "outputs": [],
   "source": [
    "sh_attacks_copia = sh_attacks.copy()"
   ]
  },
  {
   "cell_type": "code",
   "execution_count": 7,
   "id": "d659bdd3",
   "metadata": {},
   "outputs": [
    {
     "data": {
      "text/html": [
       "<div>\n",
       "<style scoped>\n",
       "    .dataframe tbody tr th:only-of-type {\n",
       "        vertical-align: middle;\n",
       "    }\n",
       "\n",
       "    .dataframe tbody tr th {\n",
       "        vertical-align: top;\n",
       "    }\n",
       "\n",
       "    .dataframe thead th {\n",
       "        text-align: right;\n",
       "    }\n",
       "</style>\n",
       "<table border=\"1\" class=\"dataframe\">\n",
       "  <thead>\n",
       "    <tr style=\"text-align: right;\">\n",
       "      <th></th>\n",
       "      <th>Case Number</th>\n",
       "      <th>Date</th>\n",
       "      <th>Year</th>\n",
       "      <th>Type</th>\n",
       "      <th>Country</th>\n",
       "      <th>Area</th>\n",
       "      <th>Location</th>\n",
       "      <th>Activity</th>\n",
       "      <th>Name</th>\n",
       "      <th>Sex</th>\n",
       "      <th>...</th>\n",
       "      <th>Species</th>\n",
       "      <th>Investigator or Source</th>\n",
       "      <th>pdf</th>\n",
       "      <th>href formula</th>\n",
       "      <th>href</th>\n",
       "      <th>Case Number.1</th>\n",
       "      <th>Case Number.2</th>\n",
       "      <th>original order</th>\n",
       "      <th>Unnamed: 22</th>\n",
       "      <th>Unnamed: 23</th>\n",
       "    </tr>\n",
       "  </thead>\n",
       "  <tbody>\n",
       "    <tr>\n",
       "      <th>0</th>\n",
       "      <td>2018.06.25</td>\n",
       "      <td>25-Jun-2018</td>\n",
       "      <td>2018.0</td>\n",
       "      <td>Boating</td>\n",
       "      <td>USA</td>\n",
       "      <td>California</td>\n",
       "      <td>Oceanside, San Diego County</td>\n",
       "      <td>Paddling</td>\n",
       "      <td>Julie Wolfe</td>\n",
       "      <td>F</td>\n",
       "      <td>...</td>\n",
       "      <td>White shark</td>\n",
       "      <td>R. Collier, GSAF</td>\n",
       "      <td>2018.06.25-Wolfe.pdf</td>\n",
       "      <td>http://sharkattackfile.net/spreadsheets/pdf_di...</td>\n",
       "      <td>http://sharkattackfile.net/spreadsheets/pdf_di...</td>\n",
       "      <td>2018.06.25</td>\n",
       "      <td>2018.06.25</td>\n",
       "      <td>6303.0</td>\n",
       "      <td>NaN</td>\n",
       "      <td>NaN</td>\n",
       "    </tr>\n",
       "  </tbody>\n",
       "</table>\n",
       "<p>1 rows × 24 columns</p>\n",
       "</div>"
      ],
      "text/plain": [
       "  Case Number         Date    Year     Type Country        Area  \\\n",
       "0  2018.06.25  25-Jun-2018  2018.0  Boating     USA  California   \n",
       "\n",
       "                      Location  Activity         Name Sex   ...     Species   \\\n",
       "0  Oceanside, San Diego County  Paddling  Julie Wolfe    F  ...  White shark   \n",
       "\n",
       "  Investigator or Source                   pdf  \\\n",
       "0       R. Collier, GSAF  2018.06.25-Wolfe.pdf   \n",
       "\n",
       "                                        href formula  \\\n",
       "0  http://sharkattackfile.net/spreadsheets/pdf_di...   \n",
       "\n",
       "                                                href Case Number.1  \\\n",
       "0  http://sharkattackfile.net/spreadsheets/pdf_di...    2018.06.25   \n",
       "\n",
       "  Case Number.2 original order Unnamed: 22 Unnamed: 23  \n",
       "0    2018.06.25         6303.0         NaN         NaN  \n",
       "\n",
       "[1 rows x 24 columns]"
      ]
     },
     "execution_count": 7,
     "metadata": {},
     "output_type": "execute_result"
    }
   ],
   "source": [
    "sh_attacks_copia.head(1)"
   ]
  },
  {
   "cell_type": "code",
   "execution_count": 8,
   "id": "048b93bd",
   "metadata": {},
   "outputs": [],
   "source": [
    "columnas_nuevas = {columna: columna.replace(\" \", \"_\") for columna in columnas}"
   ]
  },
  {
   "cell_type": "code",
   "execution_count": 9,
   "id": "ce349623",
   "metadata": {},
   "outputs": [],
   "source": [
    "sh_attacks_copia.rename(columns=columnas_nuevas, inplace=True)"
   ]
  },
  {
   "cell_type": "code",
   "execution_count": 10,
   "id": "ac1e0adb",
   "metadata": {
    "scrolled": true
   },
   "outputs": [
    {
     "data": {
      "text/html": [
       "<div>\n",
       "<style scoped>\n",
       "    .dataframe tbody tr th:only-of-type {\n",
       "        vertical-align: middle;\n",
       "    }\n",
       "\n",
       "    .dataframe tbody tr th {\n",
       "        vertical-align: top;\n",
       "    }\n",
       "\n",
       "    .dataframe thead th {\n",
       "        text-align: right;\n",
       "    }\n",
       "</style>\n",
       "<table border=\"1\" class=\"dataframe\">\n",
       "  <thead>\n",
       "    <tr style=\"text-align: right;\">\n",
       "      <th></th>\n",
       "      <th>Case_Number</th>\n",
       "      <th>Date</th>\n",
       "      <th>Year</th>\n",
       "      <th>Type</th>\n",
       "      <th>Country</th>\n",
       "      <th>Area</th>\n",
       "      <th>Location</th>\n",
       "      <th>Activity</th>\n",
       "      <th>Name</th>\n",
       "      <th>Sex_</th>\n",
       "      <th>...</th>\n",
       "      <th>Species_</th>\n",
       "      <th>Investigator_or_Source</th>\n",
       "      <th>pdf</th>\n",
       "      <th>href_formula</th>\n",
       "      <th>href</th>\n",
       "      <th>Case_Number.1</th>\n",
       "      <th>Case_Number.2</th>\n",
       "      <th>original_order</th>\n",
       "      <th>Unnamed:_22</th>\n",
       "      <th>Unnamed:_23</th>\n",
       "    </tr>\n",
       "  </thead>\n",
       "  <tbody>\n",
       "    <tr>\n",
       "      <th>0</th>\n",
       "      <td>2018.06.25</td>\n",
       "      <td>25-Jun-2018</td>\n",
       "      <td>2018.0</td>\n",
       "      <td>Boating</td>\n",
       "      <td>USA</td>\n",
       "      <td>California</td>\n",
       "      <td>Oceanside, San Diego County</td>\n",
       "      <td>Paddling</td>\n",
       "      <td>Julie Wolfe</td>\n",
       "      <td>F</td>\n",
       "      <td>...</td>\n",
       "      <td>White shark</td>\n",
       "      <td>R. Collier, GSAF</td>\n",
       "      <td>2018.06.25-Wolfe.pdf</td>\n",
       "      <td>http://sharkattackfile.net/spreadsheets/pdf_di...</td>\n",
       "      <td>http://sharkattackfile.net/spreadsheets/pdf_di...</td>\n",
       "      <td>2018.06.25</td>\n",
       "      <td>2018.06.25</td>\n",
       "      <td>6303.0</td>\n",
       "      <td>NaN</td>\n",
       "      <td>NaN</td>\n",
       "    </tr>\n",
       "  </tbody>\n",
       "</table>\n",
       "<p>1 rows × 24 columns</p>\n",
       "</div>"
      ],
      "text/plain": [
       "  Case_Number         Date    Year     Type Country        Area  \\\n",
       "0  2018.06.25  25-Jun-2018  2018.0  Boating     USA  California   \n",
       "\n",
       "                      Location  Activity         Name Sex_  ...     Species_  \\\n",
       "0  Oceanside, San Diego County  Paddling  Julie Wolfe    F  ...  White shark   \n",
       "\n",
       "  Investigator_or_Source                   pdf  \\\n",
       "0       R. Collier, GSAF  2018.06.25-Wolfe.pdf   \n",
       "\n",
       "                                        href_formula  \\\n",
       "0  http://sharkattackfile.net/spreadsheets/pdf_di...   \n",
       "\n",
       "                                                href Case_Number.1  \\\n",
       "0  http://sharkattackfile.net/spreadsheets/pdf_di...    2018.06.25   \n",
       "\n",
       "  Case_Number.2 original_order Unnamed:_22 Unnamed:_23  \n",
       "0    2018.06.25         6303.0         NaN         NaN  \n",
       "\n",
       "[1 rows x 24 columns]"
      ]
     },
     "execution_count": 10,
     "metadata": {},
     "output_type": "execute_result"
    }
   ],
   "source": [
    "sh_attacks_copia.head(1)"
   ]
  },
  {
   "cell_type": "code",
   "execution_count": 11,
   "id": "85fc024d",
   "metadata": {},
   "outputs": [],
   "source": [
    "sh_attacks2 = sh_attacks_copia[[\"Date\",\"Year\", \"Type\", \"Country\",\"Area\", \"Activity\", \"Sex_\", \"Age\", \"Injury\", \"Fatal_(Y/N)\", \"Time\", \"Species_\", \"Investigator_or_Source\"]]"
   ]
  },
  {
   "cell_type": "code",
   "execution_count": 12,
   "id": "ffca7d7d",
   "metadata": {},
   "outputs": [
    {
     "data": {
      "text/plain": [
       "(25723, 13)"
      ]
     },
     "execution_count": 12,
     "metadata": {},
     "output_type": "execute_result"
    }
   ],
   "source": [
    "sh_attacks2.shape"
   ]
  },
  {
   "cell_type": "markdown",
   "id": "2a074c10",
   "metadata": {},
   "source": [
    "# SELECCIONAR LOS DATOS CON LOS QUE TRABAJAR"
   ]
  },
  {
   "cell_type": "code",
   "execution_count": 13,
   "id": "5784a1b1",
   "metadata": {},
   "outputs": [],
   "source": [
    "sh_attacks3 = sh_attacks2.dropna(how=\"all\")"
   ]
  },
  {
   "cell_type": "code",
   "execution_count": 14,
   "id": "c75c39de",
   "metadata": {},
   "outputs": [
    {
     "data": {
      "text/plain": [
       "(6302, 13)"
      ]
     },
     "execution_count": 14,
     "metadata": {},
     "output_type": "execute_result"
    }
   ],
   "source": [
    "sh_attacks3.shape"
   ]
  },
  {
   "cell_type": "code",
   "execution_count": 15,
   "id": "f79efb70",
   "metadata": {},
   "outputs": [
    {
     "data": {
      "text/html": [
       "<div>\n",
       "<style scoped>\n",
       "    .dataframe tbody tr th:only-of-type {\n",
       "        vertical-align: middle;\n",
       "    }\n",
       "\n",
       "    .dataframe tbody tr th {\n",
       "        vertical-align: top;\n",
       "    }\n",
       "\n",
       "    .dataframe thead th {\n",
       "        text-align: right;\n",
       "    }\n",
       "</style>\n",
       "<table border=\"1\" class=\"dataframe\">\n",
       "  <thead>\n",
       "    <tr style=\"text-align: right;\">\n",
       "      <th></th>\n",
       "      <th>Date</th>\n",
       "      <th>Year</th>\n",
       "      <th>Type</th>\n",
       "      <th>Country</th>\n",
       "      <th>Area</th>\n",
       "      <th>Activity</th>\n",
       "      <th>Sex_</th>\n",
       "      <th>Age</th>\n",
       "      <th>Injury</th>\n",
       "      <th>Fatal_(Y/N)</th>\n",
       "      <th>Time</th>\n",
       "      <th>Species_</th>\n",
       "      <th>Investigator_or_Source</th>\n",
       "    </tr>\n",
       "  </thead>\n",
       "  <tbody>\n",
       "    <tr>\n",
       "      <th>5883</th>\n",
       "      <td>Reported 18-Jun- 1874</td>\n",
       "      <td>1874.0</td>\n",
       "      <td>Unprovoked</td>\n",
       "      <td>MEXICO</td>\n",
       "      <td>Veracruz</td>\n",
       "      <td>Bathing</td>\n",
       "      <td>M</td>\n",
       "      <td>NaN</td>\n",
       "      <td>FATAL</td>\n",
       "      <td>Y</td>\n",
       "      <td>NaN</td>\n",
       "      <td>NaN</td>\n",
       "      <td>The Times-Picayune, 6/18/1874</td>\n",
       "    </tr>\n",
       "    <tr>\n",
       "      <th>1027</th>\n",
       "      <td>18-May-2010</td>\n",
       "      <td>2010.0</td>\n",
       "      <td>Unprovoked</td>\n",
       "      <td>VIETNAM</td>\n",
       "      <td>Binh Dinh Province</td>\n",
       "      <td>Swimming</td>\n",
       "      <td>F</td>\n",
       "      <td>60</td>\n",
       "      <td>Severe lacerations to left foot</td>\n",
       "      <td>N</td>\n",
       "      <td>18h00</td>\n",
       "      <td>20 to 30kg shark</td>\n",
       "      <td>Thanh Nien, 5/21/2010</td>\n",
       "    </tr>\n",
       "  </tbody>\n",
       "</table>\n",
       "</div>"
      ],
      "text/plain": [
       "                       Date    Year        Type  Country                Area  \\\n",
       "5883  Reported 18-Jun- 1874  1874.0  Unprovoked   MEXICO           Veracruz    \n",
       "1027            18-May-2010  2010.0  Unprovoked  VIETNAM  Binh Dinh Province   \n",
       "\n",
       "      Activity Sex_  Age                           Injury Fatal_(Y/N)   Time  \\\n",
       "5883   Bathing    M  NaN                            FATAL           Y    NaN   \n",
       "1027  Swimming    F   60  Severe lacerations to left foot           N  18h00   \n",
       "\n",
       "              Species_         Investigator_or_Source  \n",
       "5883               NaN  The Times-Picayune, 6/18/1874  \n",
       "1027  20 to 30kg shark          Thanh Nien, 5/21/2010  "
      ]
     },
     "execution_count": 15,
     "metadata": {},
     "output_type": "execute_result"
    }
   ],
   "source": [
    "sh_attacks3.sample(2)"
   ]
  },
  {
   "cell_type": "code",
   "execution_count": 16,
   "id": "d2af862f",
   "metadata": {},
   "outputs": [
    {
     "data": {
      "text/plain": [
       "array(['Boating', 'Unprovoked', 'Invalid', 'Provoked', 'Questionable',\n",
       "       'Sea Disaster', nan, 'Boat', 'Boatomg'], dtype=object)"
      ]
     },
     "execution_count": 16,
     "metadata": {},
     "output_type": "execute_result"
    }
   ],
   "source": [
    "sh_attacks3.Type.unique()"
   ]
  },
  {
   "cell_type": "code",
   "execution_count": 17,
   "id": "5f7458f5",
   "metadata": {},
   "outputs": [
    {
     "data": {
      "text/plain": [
       "array(['Paddling', 'Standing', 'Surfing', ...,\n",
       "       'Crew swimming alongside their anchored ship',\n",
       "       '4 men were bathing', 'Wreck of  large double sailing canoe'],\n",
       "      dtype=object)"
      ]
     },
     "execution_count": 17,
     "metadata": {},
     "output_type": "execute_result"
    }
   ],
   "source": [
    "sh_attacks3.Activity.unique()"
   ]
  },
  {
   "cell_type": "code",
   "execution_count": 18,
   "id": "4524ba80",
   "metadata": {},
   "outputs": [
    {
     "name": "stdout",
     "output_type": "stream",
     "text": [
      "<class 'pandas.core.frame.DataFrame'>\n",
      "Int64Index: 6302 entries, 0 to 6301\n",
      "Data columns (total 13 columns):\n",
      " #   Column                  Non-Null Count  Dtype  \n",
      "---  ------                  --------------  -----  \n",
      " 0   Date                    6302 non-null   object \n",
      " 1   Year                    6300 non-null   float64\n",
      " 2   Type                    6298 non-null   object \n",
      " 3   Country                 6252 non-null   object \n",
      " 4   Area                    5847 non-null   object \n",
      " 5   Activity                5758 non-null   object \n",
      " 6   Sex_                    5737 non-null   object \n",
      " 7   Age                     3471 non-null   object \n",
      " 8   Injury                  6274 non-null   object \n",
      " 9   Fatal_(Y/N)             5763 non-null   object \n",
      " 10  Time                    2948 non-null   object \n",
      " 11  Species_                3464 non-null   object \n",
      " 12  Investigator_or_Source  6285 non-null   object \n",
      "dtypes: float64(1), object(12)\n",
      "memory usage: 689.3+ KB\n"
     ]
    }
   ],
   "source": [
    "sh_attacks3.info()"
   ]
  },
  {
   "cell_type": "code",
   "execution_count": 19,
   "id": "84d1105c",
   "metadata": {
    "scrolled": true
   },
   "outputs": [
    {
     "data": {
      "text/plain": [
       "Date                         0\n",
       "Year                         2\n",
       "Type                         4\n",
       "Country                     50\n",
       "Area                       455\n",
       "Activity                   544\n",
       "Sex_                       565\n",
       "Age                       2831\n",
       "Injury                      28\n",
       "Fatal_(Y/N)                539\n",
       "Time                      3354\n",
       "Species_                  2838\n",
       "Investigator_or_Source      17\n",
       "dtype: int64"
      ]
     },
     "execution_count": 19,
     "metadata": {},
     "output_type": "execute_result"
    }
   ],
   "source": [
    "sh_attacks3.isna().sum()"
   ]
  },
  {
   "cell_type": "code",
   "execution_count": 20,
   "id": "8fa059d7",
   "metadata": {},
   "outputs": [],
   "source": [
    "sh_attacks4 = sh_attacks3.fillna(\"absent\")"
   ]
  },
  {
   "cell_type": "code",
   "execution_count": 21,
   "id": "4fe672f0",
   "metadata": {
    "scrolled": true
   },
   "outputs": [
    {
     "data": {
      "text/plain": [
       "Date                      0\n",
       "Year                      0\n",
       "Type                      0\n",
       "Country                   0\n",
       "Area                      0\n",
       "Activity                  0\n",
       "Sex_                      0\n",
       "Age                       0\n",
       "Injury                    0\n",
       "Fatal_(Y/N)               0\n",
       "Time                      0\n",
       "Species_                  0\n",
       "Investigator_or_Source    0\n",
       "dtype: int64"
      ]
     },
     "execution_count": 21,
     "metadata": {},
     "output_type": "execute_result"
    }
   ],
   "source": [
    "sh_attacks4.isna().sum()"
   ]
  },
  {
   "cell_type": "code",
   "execution_count": 22,
   "id": "96f626a7",
   "metadata": {},
   "outputs": [
    {
     "data": {
      "text/html": [
       "<div>\n",
       "<style scoped>\n",
       "    .dataframe tbody tr th:only-of-type {\n",
       "        vertical-align: middle;\n",
       "    }\n",
       "\n",
       "    .dataframe tbody tr th {\n",
       "        vertical-align: top;\n",
       "    }\n",
       "\n",
       "    .dataframe thead th {\n",
       "        text-align: right;\n",
       "    }\n",
       "</style>\n",
       "<table border=\"1\" class=\"dataframe\">\n",
       "  <thead>\n",
       "    <tr style=\"text-align: right;\">\n",
       "      <th></th>\n",
       "      <th>Date</th>\n",
       "      <th>Year</th>\n",
       "      <th>Type</th>\n",
       "      <th>Country</th>\n",
       "      <th>Area</th>\n",
       "      <th>Activity</th>\n",
       "      <th>Sex_</th>\n",
       "      <th>Age</th>\n",
       "      <th>Injury</th>\n",
       "      <th>Fatal_(Y/N)</th>\n",
       "      <th>Time</th>\n",
       "      <th>Species_</th>\n",
       "      <th>Investigator_or_Source</th>\n",
       "    </tr>\n",
       "  </thead>\n",
       "  <tbody>\n",
       "    <tr>\n",
       "      <th>3495</th>\n",
       "      <td>17-Dec-1967</td>\n",
       "      <td>1967.0</td>\n",
       "      <td>Unprovoked</td>\n",
       "      <td>AUSTRALIA</td>\n",
       "      <td>Victoria</td>\n",
       "      <td>Swimming</td>\n",
       "      <td>M</td>\n",
       "      <td>59</td>\n",
       "      <td>FATAL, presumed taken by a shark, body not rec...</td>\n",
       "      <td>Y</td>\n",
       "      <td>A.M.</td>\n",
       "      <td>absent</td>\n",
       "      <td>H. Edwards, p.137-138</td>\n",
       "    </tr>\n",
       "    <tr>\n",
       "      <th>3945</th>\n",
       "      <td>01-Dec-1960</td>\n",
       "      <td>1960.0</td>\n",
       "      <td>Unprovoked</td>\n",
       "      <td>AUSTRALIA</td>\n",
       "      <td>Queensland</td>\n",
       "      <td>Fishing</td>\n",
       "      <td>M</td>\n",
       "      <td>absent</td>\n",
       "      <td>Bitten &amp; survived</td>\n",
       "      <td>N</td>\n",
       "      <td>absent</td>\n",
       "      <td>Bull shark, 1m</td>\n",
       "      <td>Sunday Mail, 3/27/1994, p.107</td>\n",
       "    </tr>\n",
       "    <tr>\n",
       "      <th>3408</th>\n",
       "      <td>1970s</td>\n",
       "      <td>1970.0</td>\n",
       "      <td>Unprovoked</td>\n",
       "      <td>SRI LANKA</td>\n",
       "      <td>Western Province</td>\n",
       "      <td>Spearfishing / freediving</td>\n",
       "      <td>M</td>\n",
       "      <td>absent</td>\n",
       "      <td>Swim fins badly torn by the shark's teeth</td>\n",
       "      <td>N</td>\n",
       "      <td>absent</td>\n",
       "      <td>absent</td>\n",
       "      <td>R. I. DeSilva.GSAF</td>\n",
       "    </tr>\n",
       "  </tbody>\n",
       "</table>\n",
       "</div>"
      ],
      "text/plain": [
       "             Date    Year        Type    Country              Area  \\\n",
       "3495  17-Dec-1967  1967.0  Unprovoked  AUSTRALIA          Victoria   \n",
       "3945  01-Dec-1960  1960.0  Unprovoked  AUSTRALIA        Queensland   \n",
       "3408        1970s  1970.0  Unprovoked  SRI LANKA  Western Province   \n",
       "\n",
       "                       Activity Sex_     Age  \\\n",
       "3495                   Swimming    M      59   \n",
       "3945                    Fishing    M  absent   \n",
       "3408  Spearfishing / freediving    M  absent   \n",
       "\n",
       "                                                 Injury Fatal_(Y/N)    Time  \\\n",
       "3495  FATAL, presumed taken by a shark, body not rec...           Y    A.M.   \n",
       "3945                                  Bitten & survived           N  absent   \n",
       "3408          Swim fins badly torn by the shark's teeth           N  absent   \n",
       "\n",
       "             Species_         Investigator_or_Source  \n",
       "3495           absent          H. Edwards, p.137-138  \n",
       "3945  Bull shark, 1m   Sunday Mail, 3/27/1994, p.107  \n",
       "3408           absent             R. I. DeSilva.GSAF  "
      ]
     },
     "execution_count": 22,
     "metadata": {},
     "output_type": "execute_result"
    }
   ],
   "source": [
    "sh_attacks4.sample(3)"
   ]
  },
  {
   "cell_type": "code",
   "execution_count": 23,
   "id": "4d4059f6",
   "metadata": {},
   "outputs": [],
   "source": [
    "sh_attacks5 = sh_attacks4.drop_duplicates()"
   ]
  },
  {
   "cell_type": "code",
   "execution_count": 24,
   "id": "d4bd1926",
   "metadata": {},
   "outputs": [
    {
     "data": {
      "text/plain": [
       "(6296, 13)"
      ]
     },
     "execution_count": 24,
     "metadata": {},
     "output_type": "execute_result"
    }
   ],
   "source": [
    "sh_attacks5.shape"
   ]
  },
  {
   "cell_type": "code",
   "execution_count": 25,
   "id": "678d00f4",
   "metadata": {},
   "outputs": [],
   "source": [
    "sh_attacks6 = sh_attacks5.reset_index(drop=True)"
   ]
  },
  {
   "cell_type": "code",
   "execution_count": 26,
   "id": "26f6814c",
   "metadata": {},
   "outputs": [
    {
     "data": {
      "text/html": [
       "<div>\n",
       "<style scoped>\n",
       "    .dataframe tbody tr th:only-of-type {\n",
       "        vertical-align: middle;\n",
       "    }\n",
       "\n",
       "    .dataframe tbody tr th {\n",
       "        vertical-align: top;\n",
       "    }\n",
       "\n",
       "    .dataframe thead th {\n",
       "        text-align: right;\n",
       "    }\n",
       "</style>\n",
       "<table border=\"1\" class=\"dataframe\">\n",
       "  <thead>\n",
       "    <tr style=\"text-align: right;\">\n",
       "      <th></th>\n",
       "      <th>Date</th>\n",
       "      <th>Year</th>\n",
       "      <th>Type</th>\n",
       "      <th>Country</th>\n",
       "      <th>Area</th>\n",
       "      <th>Activity</th>\n",
       "      <th>Sex_</th>\n",
       "      <th>Age</th>\n",
       "      <th>Injury</th>\n",
       "      <th>Fatal_(Y/N)</th>\n",
       "      <th>Time</th>\n",
       "      <th>Species_</th>\n",
       "      <th>Investigator_or_Source</th>\n",
       "    </tr>\n",
       "  </thead>\n",
       "  <tbody>\n",
       "    <tr>\n",
       "      <th>6295</th>\n",
       "      <td>1845-1853</td>\n",
       "      <td>0.0</td>\n",
       "      <td>Unprovoked</td>\n",
       "      <td>CEYLON (SRI LANKA)</td>\n",
       "      <td>Eastern Province</td>\n",
       "      <td>Swimming</td>\n",
       "      <td>M</td>\n",
       "      <td>15</td>\n",
       "      <td>FATAL. \"Shark bit him in half, carrying away t...</td>\n",
       "      <td>Y</td>\n",
       "      <td>absent</td>\n",
       "      <td>absent</td>\n",
       "      <td>S.W. Baker</td>\n",
       "    </tr>\n",
       "  </tbody>\n",
       "</table>\n",
       "</div>"
      ],
      "text/plain": [
       "           Date Year        Type             Country              Area  \\\n",
       "6295  1845-1853  0.0  Unprovoked  CEYLON (SRI LANKA)  Eastern Province   \n",
       "\n",
       "      Activity Sex_ Age                                             Injury  \\\n",
       "6295  Swimming    M  15  FATAL. \"Shark bit him in half, carrying away t...   \n",
       "\n",
       "     Fatal_(Y/N)    Time Species_ Investigator_or_Source  \n",
       "6295           Y  absent   absent             S.W. Baker  "
      ]
     },
     "execution_count": 26,
     "metadata": {},
     "output_type": "execute_result"
    }
   ],
   "source": [
    "sh_attacks6.tail(1)"
   ]
  },
  {
   "cell_type": "code",
   "execution_count": 27,
   "id": "8e3f0ec4",
   "metadata": {},
   "outputs": [],
   "source": [
    "list_columnas = list(sh_attacks6.columns)"
   ]
  },
  {
   "cell_type": "code",
   "execution_count": 28,
   "id": "8a6dfb8f",
   "metadata": {},
   "outputs": [
    {
     "name": "stdout",
     "output_type": "stream",
     "text": [
      "['Date', 'Year', 'Type', 'Country', 'Area', 'Activity', 'Sex_', 'Age', 'Injury', 'Fatal_(Y/N)', 'Time', 'Species_', 'Investigator_or_Source']\n"
     ]
    }
   ],
   "source": [
    "print(list_columnas)"
   ]
  },
  {
   "cell_type": "code",
   "execution_count": 29,
   "id": "1342f9d0",
   "metadata": {},
   "outputs": [],
   "source": [
    "Split_Date_df = sh_attacks6[\"Date\"].str.split(\"-| \", expand = True)"
   ]
  },
  {
   "cell_type": "code",
   "execution_count": 30,
   "id": "d3dead96",
   "metadata": {},
   "outputs": [
    {
     "data": {
      "text/html": [
       "<div>\n",
       "<style scoped>\n",
       "    .dataframe tbody tr th:only-of-type {\n",
       "        vertical-align: middle;\n",
       "    }\n",
       "\n",
       "    .dataframe tbody tr th {\n",
       "        vertical-align: top;\n",
       "    }\n",
       "\n",
       "    .dataframe thead th {\n",
       "        text-align: right;\n",
       "    }\n",
       "</style>\n",
       "<table border=\"1\" class=\"dataframe\">\n",
       "  <thead>\n",
       "    <tr style=\"text-align: right;\">\n",
       "      <th></th>\n",
       "      <th>0</th>\n",
       "      <th>1</th>\n",
       "      <th>2</th>\n",
       "      <th>3</th>\n",
       "      <th>4</th>\n",
       "      <th>5</th>\n",
       "      <th>6</th>\n",
       "      <th>7</th>\n",
       "      <th>8</th>\n",
       "      <th>9</th>\n",
       "      <th>10</th>\n",
       "      <th>11</th>\n",
       "      <th>12</th>\n",
       "    </tr>\n",
       "  </thead>\n",
       "  <tbody>\n",
       "    <tr>\n",
       "      <th>0</th>\n",
       "      <td>25</td>\n",
       "      <td>Jun</td>\n",
       "      <td>2018</td>\n",
       "      <td>None</td>\n",
       "      <td>None</td>\n",
       "      <td>None</td>\n",
       "      <td>None</td>\n",
       "      <td>None</td>\n",
       "      <td>None</td>\n",
       "      <td>None</td>\n",
       "      <td>None</td>\n",
       "      <td>None</td>\n",
       "      <td>None</td>\n",
       "    </tr>\n",
       "    <tr>\n",
       "      <th>1</th>\n",
       "      <td>18</td>\n",
       "      <td>Jun</td>\n",
       "      <td>2018</td>\n",
       "      <td>None</td>\n",
       "      <td>None</td>\n",
       "      <td>None</td>\n",
       "      <td>None</td>\n",
       "      <td>None</td>\n",
       "      <td>None</td>\n",
       "      <td>None</td>\n",
       "      <td>None</td>\n",
       "      <td>None</td>\n",
       "      <td>None</td>\n",
       "    </tr>\n",
       "    <tr>\n",
       "      <th>2</th>\n",
       "      <td>09</td>\n",
       "      <td>Jun</td>\n",
       "      <td>2018</td>\n",
       "      <td>None</td>\n",
       "      <td>None</td>\n",
       "      <td>None</td>\n",
       "      <td>None</td>\n",
       "      <td>None</td>\n",
       "      <td>None</td>\n",
       "      <td>None</td>\n",
       "      <td>None</td>\n",
       "      <td>None</td>\n",
       "      <td>None</td>\n",
       "    </tr>\n",
       "    <tr>\n",
       "      <th>3</th>\n",
       "      <td>08</td>\n",
       "      <td>Jun</td>\n",
       "      <td>2018</td>\n",
       "      <td>None</td>\n",
       "      <td>None</td>\n",
       "      <td>None</td>\n",
       "      <td>None</td>\n",
       "      <td>None</td>\n",
       "      <td>None</td>\n",
       "      <td>None</td>\n",
       "      <td>None</td>\n",
       "      <td>None</td>\n",
       "      <td>None</td>\n",
       "    </tr>\n",
       "    <tr>\n",
       "      <th>4</th>\n",
       "      <td>04</td>\n",
       "      <td>Jun</td>\n",
       "      <td>2018</td>\n",
       "      <td>None</td>\n",
       "      <td>None</td>\n",
       "      <td>None</td>\n",
       "      <td>None</td>\n",
       "      <td>None</td>\n",
       "      <td>None</td>\n",
       "      <td>None</td>\n",
       "      <td>None</td>\n",
       "      <td>None</td>\n",
       "      <td>None</td>\n",
       "    </tr>\n",
       "    <tr>\n",
       "      <th>...</th>\n",
       "      <td>...</td>\n",
       "      <td>...</td>\n",
       "      <td>...</td>\n",
       "      <td>...</td>\n",
       "      <td>...</td>\n",
       "      <td>...</td>\n",
       "      <td>...</td>\n",
       "      <td>...</td>\n",
       "      <td>...</td>\n",
       "      <td>...</td>\n",
       "      <td>...</td>\n",
       "      <td>...</td>\n",
       "      <td>...</td>\n",
       "    </tr>\n",
       "    <tr>\n",
       "      <th>6291</th>\n",
       "      <td>Before</td>\n",
       "      <td>1903</td>\n",
       "      <td>None</td>\n",
       "      <td>None</td>\n",
       "      <td>None</td>\n",
       "      <td>None</td>\n",
       "      <td>None</td>\n",
       "      <td>None</td>\n",
       "      <td>None</td>\n",
       "      <td>None</td>\n",
       "      <td>None</td>\n",
       "      <td>None</td>\n",
       "      <td>None</td>\n",
       "    </tr>\n",
       "    <tr>\n",
       "      <th>6292</th>\n",
       "      <td>Before</td>\n",
       "      <td>1903</td>\n",
       "      <td>None</td>\n",
       "      <td>None</td>\n",
       "      <td>None</td>\n",
       "      <td>None</td>\n",
       "      <td>None</td>\n",
       "      <td>None</td>\n",
       "      <td>None</td>\n",
       "      <td>None</td>\n",
       "      <td>None</td>\n",
       "      <td>None</td>\n",
       "      <td>None</td>\n",
       "    </tr>\n",
       "    <tr>\n",
       "      <th>6293</th>\n",
       "      <td>1900</td>\n",
       "      <td>1905</td>\n",
       "      <td>None</td>\n",
       "      <td>None</td>\n",
       "      <td>None</td>\n",
       "      <td>None</td>\n",
       "      <td>None</td>\n",
       "      <td>None</td>\n",
       "      <td>None</td>\n",
       "      <td>None</td>\n",
       "      <td>None</td>\n",
       "      <td>None</td>\n",
       "      <td>None</td>\n",
       "    </tr>\n",
       "    <tr>\n",
       "      <th>6294</th>\n",
       "      <td>1883</td>\n",
       "      <td>1889</td>\n",
       "      <td>None</td>\n",
       "      <td>None</td>\n",
       "      <td>None</td>\n",
       "      <td>None</td>\n",
       "      <td>None</td>\n",
       "      <td>None</td>\n",
       "      <td>None</td>\n",
       "      <td>None</td>\n",
       "      <td>None</td>\n",
       "      <td>None</td>\n",
       "      <td>None</td>\n",
       "    </tr>\n",
       "    <tr>\n",
       "      <th>6295</th>\n",
       "      <td>1845</td>\n",
       "      <td>1853</td>\n",
       "      <td>None</td>\n",
       "      <td>None</td>\n",
       "      <td>None</td>\n",
       "      <td>None</td>\n",
       "      <td>None</td>\n",
       "      <td>None</td>\n",
       "      <td>None</td>\n",
       "      <td>None</td>\n",
       "      <td>None</td>\n",
       "      <td>None</td>\n",
       "      <td>None</td>\n",
       "    </tr>\n",
       "  </tbody>\n",
       "</table>\n",
       "<p>6296 rows × 13 columns</p>\n",
       "</div>"
      ],
      "text/plain": [
       "          0     1     2     3     4     5     6     7     8     9     10  \\\n",
       "0         25   Jun  2018  None  None  None  None  None  None  None  None   \n",
       "1         18   Jun  2018  None  None  None  None  None  None  None  None   \n",
       "2         09   Jun  2018  None  None  None  None  None  None  None  None   \n",
       "3         08   Jun  2018  None  None  None  None  None  None  None  None   \n",
       "4         04   Jun  2018  None  None  None  None  None  None  None  None   \n",
       "...      ...   ...   ...   ...   ...   ...   ...   ...   ...   ...   ...   \n",
       "6291  Before  1903  None  None  None  None  None  None  None  None  None   \n",
       "6292  Before  1903  None  None  None  None  None  None  None  None  None   \n",
       "6293    1900  1905  None  None  None  None  None  None  None  None  None   \n",
       "6294    1883  1889  None  None  None  None  None  None  None  None  None   \n",
       "6295    1845  1853  None  None  None  None  None  None  None  None  None   \n",
       "\n",
       "        11    12  \n",
       "0     None  None  \n",
       "1     None  None  \n",
       "2     None  None  \n",
       "3     None  None  \n",
       "4     None  None  \n",
       "...    ...   ...  \n",
       "6291  None  None  \n",
       "6292  None  None  \n",
       "6293  None  None  \n",
       "6294  None  None  \n",
       "6295  None  None  \n",
       "\n",
       "[6296 rows x 13 columns]"
      ]
     },
     "metadata": {},
     "output_type": "display_data"
    }
   ],
   "source": [
    "display(Split_Date_df)"
   ]
  },
  {
   "cell_type": "code",
   "execution_count": 42,
   "id": "9f7d06e3",
   "metadata": {},
   "outputs": [],
   "source": [
    "col_names = [\"x1\", \"x2\", \"x3\", \"x4\", \"x5\", \"x6\", \"x7\", \"x8\", \"x9\", \"x10\", \"x11\", \"x12\", \"x13\"]"
   ]
  },
  {
   "cell_type": "code",
   "execution_count": 43,
   "id": "1410d5a0",
   "metadata": {},
   "outputs": [
    {
     "ename": "TypeError",
     "evalue": "'DataFrame' object is not callable",
     "output_type": "error",
     "traceback": [
      "\u001b[0;31m---------------------------------------------------------------------------\u001b[0m",
      "\u001b[0;31mTypeError\u001b[0m                                 Traceback (most recent call last)",
      "\u001b[0;32m/var/folders/f9/ww50zmn51ylc9hycc8vysr9c0000gn/T/ipykernel_51993/2185205508.py\u001b[0m in \u001b[0;36m<module>\u001b[0;34m\u001b[0m\n\u001b[0;32m----> 1\u001b[0;31m \u001b[0mSplit_Date_df2\u001b[0m \u001b[0;34m=\u001b[0m \u001b[0mSplit_Date_df\u001b[0m\u001b[0;34m(\u001b[0m\u001b[0mnames\u001b[0m \u001b[0;34m=\u001b[0m \u001b[0mcol_names\u001b[0m\u001b[0;34m,\u001b[0m \u001b[0mheader\u001b[0m \u001b[0;34m=\u001b[0m \u001b[0;32mNone\u001b[0m\u001b[0;34m)\u001b[0m\u001b[0;34m\u001b[0m\u001b[0;34m\u001b[0m\u001b[0m\n\u001b[0m",
      "\u001b[0;31mTypeError\u001b[0m: 'DataFrame' object is not callable"
     ]
    }
   ],
   "source": [
    "Split_Date_df2 = Split_Date_df(names = col_names, header = None)"
   ]
  },
  {
   "cell_type": "code",
   "execution_count": null,
   "id": "3858f22a",
   "metadata": {},
   "outputs": [],
   "source": [
    "Split_Date_df = pd.DataFrame(Split_Date_series)"
   ]
  },
  {
   "cell_type": "code",
   "execution_count": null,
   "id": "692b0875",
   "metadata": {},
   "outputs": [],
   "source": [
    "Split_Date_df.shape"
   ]
  },
  {
   "cell_type": "code",
   "execution_count": null,
   "id": "a18f22f0",
   "metadata": {},
   "outputs": [],
   "source": [
    "Split_Date_df.Date.len()"
   ]
  },
  {
   "cell_type": "code",
   "execution_count": null,
   "id": "11feeb2b",
   "metadata": {},
   "outputs": [],
   "source": [
    "New_dates = Split_Date_df[\"Date\"].str.split(\",\")\n",
    "data = New_dates.to_list()\n",
    "Sep_date = [\"Day\", \"Month\", \"Year\"]\n",
    "Sep_dates = pd.DataFrame(data, columns = Sep_date)"
   ]
  },
  {
   "cell_type": "code",
   "execution_count": null,
   "id": "0ea369ec",
   "metadata": {},
   "outputs": [],
   "source": [
    "if len(elemento) == 3:\n",
    "        Meses.append(elemento[1])\n",
    "    elif len(elemento) != 3:\n",
    "        print(\"No month\")\n",
    "            "
   ]
  },
  {
   "cell_type": "code",
   "execution_count": null,
   "id": "91838e2c",
   "metadata": {},
   "outputs": [],
   "source": []
  },
  {
   "cell_type": "code",
   "execution_count": null,
   "id": "ceb5116c",
   "metadata": {},
   "outputs": [],
   "source": []
  }
 ],
 "metadata": {
  "kernelspec": {
   "display_name": "ironhack",
   "language": "python",
   "name": "ironhack"
  },
  "language_info": {
   "codemirror_mode": {
    "name": "ipython",
    "version": 3
   },
   "file_extension": ".py",
   "mimetype": "text/x-python",
   "name": "python",
   "nbconvert_exporter": "python",
   "pygments_lexer": "ipython3",
   "version": "3.8.11"
  }
 },
 "nbformat": 4,
 "nbformat_minor": 5
}
