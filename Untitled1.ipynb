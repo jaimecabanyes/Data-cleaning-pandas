{
 "cells": [
  {
   "cell_type": "code",
   "execution_count": 1,
   "id": "2ea69a43",
   "metadata": {},
   "outputs": [],
   "source": [
    "import pandas as pd\n",
    "import matplotlib.pyplot as plt\n",
    "import seaborn as sns\n",
    "import numpy as np\n",
    "import regex as re"
   ]
  },
  {
   "cell_type": "code",
   "execution_count": 2,
   "id": "b9632813",
   "metadata": {},
   "outputs": [],
   "source": [
    "sns.set_context(\"poster\")\n",
    "sns.set(rc={\"figure.figsize\": (14.,6.)})\n",
    "sns.set_style(\"whitegrid\")"
   ]
  },
  {
   "cell_type": "code",
   "execution_count": 3,
   "id": "9b712516",
   "metadata": {},
   "outputs": [],
   "source": [
    "sh_attacks_final = pd.read_csv(\"sharcks_final.csv\")"
   ]
  },
  {
   "cell_type": "code",
   "execution_count": 4,
   "id": "11aa1763",
   "metadata": {},
   "outputs": [
    {
     "data": {
      "text/html": [
       "<div>\n",
       "<style scoped>\n",
       "    .dataframe tbody tr th:only-of-type {\n",
       "        vertical-align: middle;\n",
       "    }\n",
       "\n",
       "    .dataframe tbody tr th {\n",
       "        vertical-align: top;\n",
       "    }\n",
       "\n",
       "    .dataframe thead th {\n",
       "        text-align: right;\n",
       "    }\n",
       "</style>\n",
       "<table border=\"1\" class=\"dataframe\">\n",
       "  <thead>\n",
       "    <tr style=\"text-align: right;\">\n",
       "      <th></th>\n",
       "      <th>Unnamed: 0</th>\n",
       "      <th>Year</th>\n",
       "      <th>Country</th>\n",
       "      <th>Area</th>\n",
       "      <th>Activity</th>\n",
       "      <th>Age</th>\n",
       "      <th>Injury</th>\n",
       "      <th>Time</th>\n",
       "      <th>Species_</th>\n",
       "      <th>Investigator_or_Source</th>\n",
       "      <th>Month</th>\n",
       "      <th>Type_of_accident</th>\n",
       "      <th>Sex</th>\n",
       "      <th>Fatal_attack_(Y/N)</th>\n",
       "    </tr>\n",
       "  </thead>\n",
       "  <tbody>\n",
       "    <tr>\n",
       "      <th>1349</th>\n",
       "      <td>1349</td>\n",
       "      <td>2007.0</td>\n",
       "      <td>USA</td>\n",
       "      <td>Florida</td>\n",
       "      <td>Walking out of the water after surfing</td>\n",
       "      <td>19</td>\n",
       "      <td>Minor injury, lacerations to left ankle &amp; foot</td>\n",
       "      <td>18h00</td>\n",
       "      <td>absent</td>\n",
       "      <td>S. Petersohn, GSAF</td>\n",
       "      <td>08</td>\n",
       "      <td>Unprovoked</td>\n",
       "      <td>M</td>\n",
       "      <td>N</td>\n",
       "    </tr>\n",
       "    <tr>\n",
       "      <th>5334</th>\n",
       "      <td>5334</td>\n",
       "      <td>1914.0</td>\n",
       "      <td>NEW CALEDONIA</td>\n",
       "      <td>South Province</td>\n",
       "      <td>Swimming ashore from swamped 13-ft boat</td>\n",
       "      <td>absent</td>\n",
       "      <td>FATAL x 2</td>\n",
       "      <td>absent</td>\n",
       "      <td>absent</td>\n",
       "      <td>The Mercury, 6/23/1914</td>\n",
       "      <td>05</td>\n",
       "      <td>Sea Disaster</td>\n",
       "      <td>M</td>\n",
       "      <td>Y</td>\n",
       "    </tr>\n",
       "    <tr>\n",
       "      <th>2550</th>\n",
       "      <td>2550</td>\n",
       "      <td>1992.0</td>\n",
       "      <td>JAPAN</td>\n",
       "      <td>Ehime Prefecture</td>\n",
       "      <td>Preparing to fish for jack-mackerel</td>\n",
       "      <td>absent</td>\n",
       "      <td>No inujury to occupant. Shark bit boat repeate...</td>\n",
       "      <td>12h30</td>\n",
       "      <td>White shark, identification by K. Nakaya</td>\n",
       "      <td>K. Nakaya; Orlando Sentinel, 6/18/1992, p. A3</td>\n",
       "      <td>06</td>\n",
       "      <td>Boat</td>\n",
       "      <td>absent</td>\n",
       "      <td>N</td>\n",
       "    </tr>\n",
       "  </tbody>\n",
       "</table>\n",
       "</div>"
      ],
      "text/plain": [
       "      Unnamed: 0    Year        Country              Area  \\\n",
       "1349        1349  2007.0            USA           Florida   \n",
       "5334        5334  1914.0  NEW CALEDONIA    South Province   \n",
       "2550        2550  1992.0          JAPAN  Ehime Prefecture   \n",
       "\n",
       "                                     Activity     Age  \\\n",
       "1349   Walking out of the water after surfing      19   \n",
       "5334  Swimming ashore from swamped 13-ft boat  absent   \n",
       "2550      Preparing to fish for jack-mackerel  absent   \n",
       "\n",
       "                                                 Injury    Time  \\\n",
       "1349    Minor injury, lacerations to left ankle & foot    18h00   \n",
       "5334                                          FATAL x 2  absent   \n",
       "2550  No inujury to occupant. Shark bit boat repeate...   12h30   \n",
       "\n",
       "                                      Species_  \\\n",
       "1349                                    absent   \n",
       "5334                                    absent   \n",
       "2550  White shark, identification by K. Nakaya   \n",
       "\n",
       "                             Investigator_or_Source Month Type_of_accident  \\\n",
       "1349                             S. Petersohn, GSAF    08       Unprovoked   \n",
       "5334                         The Mercury, 6/23/1914    05     Sea Disaster   \n",
       "2550  K. Nakaya; Orlando Sentinel, 6/18/1992, p. A3    06             Boat   \n",
       "\n",
       "         Sex Fatal_attack_(Y/N)  \n",
       "1349       M                  N  \n",
       "5334       M                  Y  \n",
       "2550  absent                  N  "
      ]
     },
     "execution_count": 4,
     "metadata": {},
     "output_type": "execute_result"
    }
   ],
   "source": [
    "sh_attacks_final.sample(3)"
   ]
  },
  {
   "cell_type": "code",
   "execution_count": 5,
   "id": "1ba413df",
   "metadata": {
    "scrolled": true
   },
   "outputs": [
    {
     "data": {
      "text/html": [
       "<div>\n",
       "<style scoped>\n",
       "    .dataframe tbody tr th:only-of-type {\n",
       "        vertical-align: middle;\n",
       "    }\n",
       "\n",
       "    .dataframe tbody tr th {\n",
       "        vertical-align: top;\n",
       "    }\n",
       "\n",
       "    .dataframe thead th {\n",
       "        text-align: right;\n",
       "    }\n",
       "</style>\n",
       "<table border=\"1\" class=\"dataframe\">\n",
       "  <thead>\n",
       "    <tr style=\"text-align: right;\">\n",
       "      <th></th>\n",
       "      <th>Unnamed: 0</th>\n",
       "      <th>Year</th>\n",
       "      <th>Country</th>\n",
       "      <th>Area</th>\n",
       "      <th>Activity</th>\n",
       "      <th>Age</th>\n",
       "      <th>Injury</th>\n",
       "      <th>Time</th>\n",
       "      <th>Species_</th>\n",
       "      <th>Investigator_or_Source</th>\n",
       "      <th>Month</th>\n",
       "      <th>Type_of_accident</th>\n",
       "      <th>Sex</th>\n",
       "      <th>Fatal_attack_(Y/N)</th>\n",
       "    </tr>\n",
       "  </thead>\n",
       "  <tbody>\n",
       "    <tr>\n",
       "      <th>0</th>\n",
       "      <td>0</td>\n",
       "      <td>2018.0</td>\n",
       "      <td>USA</td>\n",
       "      <td>California</td>\n",
       "      <td>Paddling</td>\n",
       "      <td>57</td>\n",
       "      <td>No injury to occupant, outrigger canoe and pad...</td>\n",
       "      <td>18h00</td>\n",
       "      <td>White shark</td>\n",
       "      <td>R. Collier, GSAF</td>\n",
       "      <td>06</td>\n",
       "      <td>Boat</td>\n",
       "      <td>F</td>\n",
       "      <td>N</td>\n",
       "    </tr>\n",
       "  </tbody>\n",
       "</table>\n",
       "</div>"
      ],
      "text/plain": [
       "   Unnamed: 0    Year Country        Area  Activity Age  \\\n",
       "0           0  2018.0     USA  California  Paddling  57   \n",
       "\n",
       "                                              Injury   Time     Species_  \\\n",
       "0  No injury to occupant, outrigger canoe and pad...  18h00  White shark   \n",
       "\n",
       "  Investigator_or_Source Month Type_of_accident Sex Fatal_attack_(Y/N)  \n",
       "0       R. Collier, GSAF    06             Boat   F                  N  "
      ]
     },
     "execution_count": 5,
     "metadata": {},
     "output_type": "execute_result"
    }
   ],
   "source": [
    "Y_N_df = sh_attacks_final[sh_attacks_final[\"Fatal_attack_(Y/N)\"] != \"absent\"]\n",
    "Y_N_df[\"Fatal_attack_(Y/N)\"].unique()\n",
    "#Crear un datframe nuevo que solo diga si el ataque ha sido fatal si o no.\n",
    "Y_N_df.head(1)"
   ]
  },
  {
   "cell_type": "code",
   "execution_count": 6,
   "id": "5dc98205",
   "metadata": {},
   "outputs": [
    {
     "data": {
      "text/plain": [
       "array(['N', 'Y'], dtype=object)"
      ]
     },
     "execution_count": 6,
     "metadata": {},
     "output_type": "execute_result"
    }
   ],
   "source": [
    "Y_N_df[\"Fatal_attack_(Y/N)\"].unique()"
   ]
  },
  {
   "cell_type": "code",
   "execution_count": 7,
   "id": "acba5b37",
   "metadata": {},
   "outputs": [
    {
     "data": {
      "text/plain": [
       "array(['06', '05', '04', '03', '02', '01', '12', '11', '10', '09', '08',\n",
       "       '07', 'absent'], dtype=object)"
      ]
     },
     "execution_count": 7,
     "metadata": {},
     "output_type": "execute_result"
    }
   ],
   "source": [
    "sh_attacks_final.Month.unique()"
   ]
  },
  {
   "cell_type": "code",
   "execution_count": 8,
   "id": "600f67df",
   "metadata": {},
   "outputs": [],
   "source": [
    "por_estación = sh_attacks_final[\"Month\"]\n",
    "# Hacer un data frame solo de la columna de meses"
   ]
  },
  {
   "cell_type": "code",
   "execution_count": 9,
   "id": "150f22b7",
   "metadata": {},
   "outputs": [],
   "source": [
    "por_estación1 = por_estación.replace({'02', '01', '12'}, \"Dec-Feb\")\n",
    "#Reemplazar los meses 02, 01, 12 por la variable Dec-Feb"
   ]
  },
  {
   "cell_type": "code",
   "execution_count": 10,
   "id": "a1797f57",
   "metadata": {},
   "outputs": [],
   "source": [
    "por_estación2 = por_estación1.replace({'05', '04', '03'}, \"Mar-May\")\n",
    "#Reemplazar los meses 05, 04, 03 por la variable  Mar-May"
   ]
  },
  {
   "cell_type": "code",
   "execution_count": 11,
   "id": "eebb8bcb",
   "metadata": {},
   "outputs": [],
   "source": [
    "por_estación3 = por_estación2.replace({'08','07','06' }, \"June-Aug\")\n",
    "#Reemplazar los meses 05, 04, 03 por la variable Mar-May"
   ]
  },
  {
   "cell_type": "code",
   "execution_count": 12,
   "id": "062ccc3d",
   "metadata": {},
   "outputs": [],
   "source": [
    "por_estación4 = por_estación3.replace({'11', '10', '09' }, \"Sep-Nov\")\n",
    "#Reemplazar los meses 11, 10, 09 por la variable Sep-Nov"
   ]
  },
  {
   "cell_type": "code",
   "execution_count": 13,
   "id": "b898b96e",
   "metadata": {},
   "outputs": [],
   "source": [
    "lista_temporadas = list(por_estación4)\n",
    "#Hacer ese data frame una lista"
   ]
  },
  {
   "cell_type": "code",
   "execution_count": 14,
   "id": "7d82cc8c",
   "metadata": {},
   "outputs": [],
   "source": [
    "sh_attacks_final[\"Temporadas\"] = lista_temporadas\n",
    "# Añadir esa lista a mi data frame original y tener el ataque dividido por temporadas."
   ]
  },
  {
   "cell_type": "code",
   "execution_count": 15,
   "id": "685d06a0",
   "metadata": {
    "scrolled": true
   },
   "outputs": [
    {
     "data": {
      "text/html": [
       "<div>\n",
       "<style scoped>\n",
       "    .dataframe tbody tr th:only-of-type {\n",
       "        vertical-align: middle;\n",
       "    }\n",
       "\n",
       "    .dataframe tbody tr th {\n",
       "        vertical-align: top;\n",
       "    }\n",
       "\n",
       "    .dataframe thead th {\n",
       "        text-align: right;\n",
       "    }\n",
       "</style>\n",
       "<table border=\"1\" class=\"dataframe\">\n",
       "  <thead>\n",
       "    <tr style=\"text-align: right;\">\n",
       "      <th></th>\n",
       "      <th>Unnamed: 0</th>\n",
       "      <th>Year</th>\n",
       "      <th>Country</th>\n",
       "      <th>Area</th>\n",
       "      <th>Activity</th>\n",
       "      <th>Age</th>\n",
       "      <th>Injury</th>\n",
       "      <th>Time</th>\n",
       "      <th>Species_</th>\n",
       "      <th>Investigator_or_Source</th>\n",
       "      <th>Month</th>\n",
       "      <th>Type_of_accident</th>\n",
       "      <th>Sex</th>\n",
       "      <th>Fatal_attack_(Y/N)</th>\n",
       "      <th>Temporadas</th>\n",
       "    </tr>\n",
       "  </thead>\n",
       "  <tbody>\n",
       "    <tr>\n",
       "      <th>2232</th>\n",
       "      <td>2232</td>\n",
       "      <td>1997.0</td>\n",
       "      <td>USA</td>\n",
       "      <td>Florida</td>\n",
       "      <td>Floating on raft</td>\n",
       "      <td>12</td>\n",
       "      <td>Small lacerations on right lower leg</td>\n",
       "      <td>14h16</td>\n",
       "      <td>absent</td>\n",
       "      <td>S. Petersohn, GSAF</td>\n",
       "      <td>08</td>\n",
       "      <td>Unprovoked</td>\n",
       "      <td>F</td>\n",
       "      <td>N</td>\n",
       "      <td>June-Aug</td>\n",
       "    </tr>\n",
       "  </tbody>\n",
       "</table>\n",
       "</div>"
      ],
      "text/plain": [
       "      Unnamed: 0    Year Country     Area          Activity Age  \\\n",
       "2232        2232  1997.0     USA  Florida  Floating on raft  12   \n",
       "\n",
       "                                    Injury   Time Species_  \\\n",
       "2232  Small lacerations on right lower leg  14h16   absent   \n",
       "\n",
       "     Investigator_or_Source Month Type_of_accident Sex Fatal_attack_(Y/N)  \\\n",
       "2232     S. Petersohn, GSAF    08       Unprovoked   F                  N   \n",
       "\n",
       "     Temporadas  \n",
       "2232   June-Aug  "
      ]
     },
     "execution_count": 15,
     "metadata": {},
     "output_type": "execute_result"
    }
   ],
   "source": [
    "sh_attacks_final.sample(1)"
   ]
  },
  {
   "cell_type": "code",
   "execution_count": 16,
   "id": "2abe582e",
   "metadata": {},
   "outputs": [
    {
     "data": {
      "text/plain": [
       "array(['June-Aug', 'Mar-May', 'Dec-Feb', 'Sep-Nov'], dtype=object)"
      ]
     },
     "execution_count": 16,
     "metadata": {},
     "output_type": "execute_result"
    }
   ],
   "source": [
    "Tempo_df = sh_attacks_final[sh_attacks_final[\"Temporadas\"] != \"absent\"]\n",
    "Tempo_df[\"Temporadas\"].unique()\n",
    "#Crear un datframe nuevo que elimine los absents del dataframe original.\n"
   ]
  },
  {
   "cell_type": "code",
   "execution_count": 17,
   "id": "d89f93c1",
   "metadata": {},
   "outputs": [],
   "source": [
    "# Tempo_df = Dataframe sin los valores de absent (5766x15)\n",
    "#Y_N_df = Dataframe sin los absents en la columna de Fatal attack Yes o No (5684x14)"
   ]
  },
  {
   "cell_type": "code",
   "execution_count": 18,
   "id": "712e6050",
   "metadata": {},
   "outputs": [
    {
     "data": {
      "text/plain": [
       "(5766, 15)"
      ]
     },
     "execution_count": 18,
     "metadata": {},
     "output_type": "execute_result"
    }
   ],
   "source": [
    "Tempo_df.shape"
   ]
  },
  {
   "cell_type": "code",
   "execution_count": 19,
   "id": "913a7809",
   "metadata": {
    "scrolled": true
   },
   "outputs": [
    {
     "data": {
      "text/plain": [
       "(5684, 14)"
      ]
     },
     "execution_count": 19,
     "metadata": {},
     "output_type": "execute_result"
    }
   ],
   "source": [
    "Y_N_df.shape"
   ]
  },
  {
   "cell_type": "code",
   "execution_count": 20,
   "id": "2d36a042",
   "metadata": {},
   "outputs": [
    {
     "data": {
      "text/plain": [
       "array(['Paddling', 'Standing', 'Surfing', ...,\n",
       "       'Crew swimming alongside their anchored ship',\n",
       "       '4 men were bathing', 'Wreck of  large double sailing canoe'],\n",
       "      dtype=object)"
      ]
     },
     "execution_count": 20,
     "metadata": {},
     "output_type": "execute_result"
    }
   ],
   "source": [
    "sh_attacks_final.Activity.unique()"
   ]
  },
  {
   "cell_type": "code",
   "execution_count": 21,
   "id": "fc7d0136",
   "metadata": {},
   "outputs": [
    {
     "data": {
      "text/plain": [
       "array(['57', '11', '48', 'absent', '18', '52', '15', '12', '32', '10',\n",
       "       '21', '34', '30', '60', '33', '29', '54', '41', '37', '56', '19',\n",
       "       '25', '69', '38', '55', '35', '46', '45', '14', '40s', '28', '20',\n",
       "       '24', '26', '49', '22', '7', '31', '17', '40', '13', '42', '3',\n",
       "       '8', '50', '16', '82', '73', '20s', '68', '51', '39', '58', 'Teen',\n",
       "       '47', '61', '65', '36', '66', '43', '60s', '9', '72', '59', '6',\n",
       "       '27', '64', '23', '71', '44', '62', '63', '70', '18 months', '53',\n",
       "       '30s', '50s', 'teen', '77', '74', '28 & 26', '5', '86', '18 or 20',\n",
       "       '12 or 13', '46 & 34', '28, 23 & 30', 'Teens', '36 & 26',\n",
       "       '8 or 10', '84', '\\xa0 ', ' ', '30 or 36', '6½', '21 & ?', '75',\n",
       "       '33 or 37', 'mid-30s', '23 & 20', ' 30', '7      &    31', ' 28',\n",
       "       '20?', \"60's\", '32 & 30', '16 to 18', '87', '67', 'Elderly',\n",
       "       'mid-20s', 'Ca. 33', '74 ', '45 ', '21 or 26', '20 ', '>50',\n",
       "       '18 to 22', 'adult', '9 & 12', '? & 19', '9 months', '25 to 35',\n",
       "       '23 & 26', '1', '(adult)', '33 & 37', '25 or 28',\n",
       "       '37, 67, 35, 27,  ? & 27', '21, 34,24 & 35', '30 & 32', '50 & 30',\n",
       "       '17 & 35', 'X', '\"middle-age\"', '13 or 18', '34 & 19', '33 & 26',\n",
       "       '2 to 3 months', 'MAKE LINE GREEN', ' 43', '81', '\"young\"',\n",
       "       '7 or 8', '78', '17 & 16', 'F', 'Both 11', '9 or 10', 'young',\n",
       "       '36 & 23', '  ', 'A.M.', '?    &   14', '10 or 12', '31 or 33',\n",
       "       '2½', '13 or 14'], dtype=object)"
      ]
     },
     "execution_count": 21,
     "metadata": {},
     "output_type": "execute_result"
    }
   ],
   "source": [
    "sh_attacks_final.Age.unique()"
   ]
  },
  {
   "cell_type": "code",
   "execution_count": 22,
   "id": "0e5a8731",
   "metadata": {},
   "outputs": [],
   "source": [
    "def edad_exacta(x):\n",
    "    if len(x) > 2:\n",
    "        return \"absent\"\n",
    "    else:\n",
    "        return x"
   ]
  },
  {
   "cell_type": "code",
   "execution_count": 23,
   "id": "59caf505",
   "metadata": {},
   "outputs": [],
   "source": [
    "sh_attacks_final.Age = sh_attacks_final.Age.apply(edad_exacta)"
   ]
  },
  {
   "cell_type": "code",
   "execution_count": 24,
   "id": "df25bdb2",
   "metadata": {},
   "outputs": [],
   "source": [
    "Age_df = sh_attacks_final[\"Age\"]"
   ]
  },
  {
   "cell_type": "code",
   "execution_count": 25,
   "id": "1c949664",
   "metadata": {},
   "outputs": [],
   "source": [
    "Age_df1 = Age_df.replace({'F', '  ', '2½','X', '\\xa0 ',' ', '6½'},\"absent\")"
   ]
  },
  {
   "cell_type": "code",
   "execution_count": 26,
   "id": "3f3f6126",
   "metadata": {},
   "outputs": [
    {
     "data": {
      "text/plain": [
       "array(['57', '11', '48', 'absent', '18', '52', '15', '12', '32', '10',\n",
       "       '21', '34', '30', '60', '33', '29', '54', '41', '37', '56', '19',\n",
       "       '25', '69', '38', '55', '35', '46', '45', '14', '28', '20', '24',\n",
       "       '26', '49', '22', '7', '31', '17', '40', '13', '42', '3', '8',\n",
       "       '50', '16', '82', '73', '68', '51', '39', '58', '47', '61', '65',\n",
       "       '36', '66', '43', '9', '72', '59', '6', '27', '64', '23', '71',\n",
       "       '44', '62', '63', '70', '53', '77', '74', '5', '86', '84', '75',\n",
       "       '87', '67', '1', '81', '78'], dtype=object)"
      ]
     },
     "execution_count": 26,
     "metadata": {},
     "output_type": "execute_result"
    }
   ],
   "source": [
    "Age_df1.unique()"
   ]
  },
  {
   "cell_type": "code",
   "execution_count": 27,
   "id": "6c0269c5",
   "metadata": {},
   "outputs": [],
   "source": [
    "sh_attacks_final[\"Ages\"] = list(Age_df1)"
   ]
  },
  {
   "cell_type": "code",
   "execution_count": 28,
   "id": "16911141",
   "metadata": {},
   "outputs": [
    {
     "data": {
      "text/html": [
       "<div>\n",
       "<style scoped>\n",
       "    .dataframe tbody tr th:only-of-type {\n",
       "        vertical-align: middle;\n",
       "    }\n",
       "\n",
       "    .dataframe tbody tr th {\n",
       "        vertical-align: top;\n",
       "    }\n",
       "\n",
       "    .dataframe thead th {\n",
       "        text-align: right;\n",
       "    }\n",
       "</style>\n",
       "<table border=\"1\" class=\"dataframe\">\n",
       "  <thead>\n",
       "    <tr style=\"text-align: right;\">\n",
       "      <th></th>\n",
       "      <th>Unnamed: 0</th>\n",
       "      <th>Year</th>\n",
       "      <th>Country</th>\n",
       "      <th>Area</th>\n",
       "      <th>Activity</th>\n",
       "      <th>Age</th>\n",
       "      <th>Injury</th>\n",
       "      <th>Time</th>\n",
       "      <th>Species_</th>\n",
       "      <th>Investigator_or_Source</th>\n",
       "      <th>Month</th>\n",
       "      <th>Type_of_accident</th>\n",
       "      <th>Sex</th>\n",
       "      <th>Fatal_attack_(Y/N)</th>\n",
       "      <th>Temporadas</th>\n",
       "      <th>Ages</th>\n",
       "    </tr>\n",
       "  </thead>\n",
       "  <tbody>\n",
       "    <tr>\n",
       "      <th>1003</th>\n",
       "      <td>1003</td>\n",
       "      <td>2010.0</td>\n",
       "      <td>USA</td>\n",
       "      <td>Florida</td>\n",
       "      <td>Swimming</td>\n",
       "      <td>absent</td>\n",
       "      <td>Minor abrasions to legs when she was lifted on...</td>\n",
       "      <td>19h15</td>\n",
       "      <td>Shark involvement not confirmed</td>\n",
       "      <td>Daytona Beach News-Journal, 8/7/2010</td>\n",
       "      <td>08</td>\n",
       "      <td>Invalid</td>\n",
       "      <td>F</td>\n",
       "      <td>absent</td>\n",
       "      <td>June-Aug</td>\n",
       "      <td>absent</td>\n",
       "    </tr>\n",
       "    <tr>\n",
       "      <th>966</th>\n",
       "      <td>966</td>\n",
       "      <td>2010.0</td>\n",
       "      <td>SAMOA</td>\n",
       "      <td>absent</td>\n",
       "      <td>Fishing</td>\n",
       "      <td>47</td>\n",
       "      <td>Serious wounds to chest</td>\n",
       "      <td>Morning</td>\n",
       "      <td>absent</td>\n",
       "      <td>Samoa Observer, 11/27/2010</td>\n",
       "      <td>11</td>\n",
       "      <td>Unprovoked</td>\n",
       "      <td>M</td>\n",
       "      <td>N</td>\n",
       "      <td>Sep-Nov</td>\n",
       "      <td>47</td>\n",
       "    </tr>\n",
       "  </tbody>\n",
       "</table>\n",
       "</div>"
      ],
      "text/plain": [
       "      Unnamed: 0    Year Country     Area  Activity     Age  \\\n",
       "1003        1003  2010.0     USA  Florida  Swimming  absent   \n",
       "966          966  2010.0   SAMOA   absent   Fishing      47   \n",
       "\n",
       "                                                 Injury     Time  \\\n",
       "1003  Minor abrasions to legs when she was lifted on...    19h15   \n",
       "966                             Serious wounds to chest  Morning   \n",
       "\n",
       "                             Species_                Investigator_or_Source  \\\n",
       "1003  Shark involvement not confirmed  Daytona Beach News-Journal, 8/7/2010   \n",
       "966                            absent            Samoa Observer, 11/27/2010   \n",
       "\n",
       "     Month Type_of_accident Sex Fatal_attack_(Y/N) Temporadas    Ages  \n",
       "1003    08          Invalid   F             absent   June-Aug  absent  \n",
       "966     11       Unprovoked   M                  N    Sep-Nov      47  "
      ]
     },
     "execution_count": 28,
     "metadata": {},
     "output_type": "execute_result"
    }
   ],
   "source": [
    "sh_attacks_final.sample(2)"
   ]
  },
  {
   "cell_type": "code",
   "execution_count": 29,
   "id": "ebb5ec6b",
   "metadata": {},
   "outputs": [
    {
     "data": {
      "text/plain": [
       "array(['57', '11', '48', '18', '52', '15', '12', '32', '10', '21', '34',\n",
       "       '30', '60', '33', '29', '54', '41', '37', '56', '19', '25', '69',\n",
       "       '38', '55', '35', '46', '45', '14', '28', '20', '24', '26', '49',\n",
       "       '22', '7', '31', '17', '40', '13', '42', '3', '8', '50', '16',\n",
       "       '82', '73', '68', '51', '39', '58', '47', '61', '65', '36', '66',\n",
       "       '43', '9', '72', '59', '6', '27', '64', '23', '71', '44', '62',\n",
       "       '63', '70', '53', '77', '74', '5', '86', '84', '75', '87', '67',\n",
       "       '1', '81', '78'], dtype=object)"
      ]
     },
     "execution_count": 29,
     "metadata": {},
     "output_type": "execute_result"
    }
   ],
   "source": [
    "Agedf = sh_attacks_final[sh_attacks_final[\"Ages\"] != \"absent\"]\n",
    "Agedf[\"Ages\"].unique()"
   ]
  },
  {
   "cell_type": "markdown",
   "id": "f5d63113",
   "metadata": {},
   "source": [
    "## HIPÓTESIS 1\n",
    "#### EL mayor número de ataques son a hombres y no son fatales"
   ]
  },
  {
   "cell_type": "code",
   "execution_count": 30,
   "id": "6da4ba34",
   "metadata": {},
   "outputs": [
    {
     "data": {
      "text/plain": [
       "N    4299\n",
       "Y    1385\n",
       "Name: Fatal_attack_(Y/N), dtype: int64"
      ]
     },
     "execution_count": 30,
     "metadata": {},
     "output_type": "execute_result"
    }
   ],
   "source": [
    "Y_N_df['Fatal_attack_(Y/N)'].value_counts()"
   ]
  },
  {
   "cell_type": "code",
   "execution_count": 31,
   "id": "a7ad0b30",
   "metadata": {
    "scrolled": false
   },
   "outputs": [
    {
     "data": {
      "text/plain": [
       "Text(0, 0.5, 'Number of attacks')"
      ]
     },
     "execution_count": 31,
     "metadata": {},
     "output_type": "execute_result"
    },
    {
     "data": {
      "image/png": "[encoded data removed]",
      "text/plain": [
       "<Figure size 1008x432 with 1 Axes>"
      ]
     },
     "metadata": {},
     "output_type": "display_data"
    }
   ],
   "source": [
    "sns.histplot(data=Y_N_df, x=\"Fatal_attack_(Y/N)\", hue=\"Sex\", multiple=\"stack\", kde=False);\n",
    "#Aplicar al dataframe nuevo con los absents eliminados\n",
    "plt.title('Total attacks')\n",
    "plt.xlabel('Fatal attacks \"Yes or No\"')\n",
    "plt.ylabel('Number of attacks')\n"
   ]
  },
  {
   "cell_type": "markdown",
   "id": "933a94b2",
   "metadata": {},
   "source": [
    "## HIPÓTESIS 2\n",
    "#### El mayor número de casos se producen en la temporada de verano (June-Aug) en los barcos"
   ]
  },
  {
   "cell_type": "code",
   "execution_count": 32,
   "id": "7e94fd61",
   "metadata": {},
   "outputs": [
    {
     "data": {
      "text/plain": [
       "June-Aug    1763\n",
       "Sep-Nov     1399\n",
       "Dec-Feb     1345\n",
       "Mar-May     1259\n",
       "Name: Temporadas, dtype: int64"
      ]
     },
     "execution_count": 32,
     "metadata": {},
     "output_type": "execute_result"
    }
   ],
   "source": [
    "Tempo_df[\"Temporadas\"].value_counts()"
   ]
  },
  {
   "cell_type": "code",
   "execution_count": 33,
   "id": "f9c254f6",
   "metadata": {},
   "outputs": [
    {
     "data": {
      "text/plain": [
       "<AxesSubplot:ylabel='Temporadas'>"
      ]
     },
     "execution_count": 33,
     "metadata": {},
     "output_type": "execute_result"
    },
    {
     "data": {
      "image/png": "[encoded data removed]",
      "text/plain": [
       "<Figure size 1008x432 with 1 Axes>"
      ]
     },
     "metadata": {},
     "output_type": "display_data"
    }
   ],
   "source": [
    "datos = Tempo_df[\"Temporadas\"].value_counts()\n",
    "datos.plot.pie(autopct=\"%.1f%%\")"
   ]
  },
  {
   "cell_type": "code",
   "execution_count": 34,
   "id": "dbb8718e",
   "metadata": {},
   "outputs": [
    {
     "data": {
      "image/png": "[encoded data removed]",
      "text/plain": [
       "<Figure size 1008x432 with 1 Axes>"
      ]
     },
     "metadata": {},
     "output_type": "display_data"
    }
   ],
   "source": [
    "x = sns.histplot(palette=\"colorblind\", data=Tempo_df, x=\"Temporadas\", hue=\"Type_of_accident\", multiple=\"stack\", kde=False);\n",
    "#Aplicar al dataframe nuevo con los absents eliminados\n",
    "plt.title('Total attacks')\n",
    "plt.xlabel('Season')\n",
    "plt.ylabel('Number of attacks');\n"
   ]
  },
  {
   "cell_type": "markdown",
   "id": "faeec185",
   "metadata": {},
   "source": [
    "## HIPÓTESIS 3"
   ]
  },
  {
   "cell_type": "markdown",
   "id": "d5fc1c3c",
   "metadata": {},
   "source": [
    "#### El mayor número de ataques ocurre a las personas con 25 años"
   ]
  },
  {
   "cell_type": "code",
   "execution_count": 35,
   "id": "e671db18",
   "metadata": {},
   "outputs": [
    {
     "data": {
      "text/html": [
       "<div>\n",
       "<style scoped>\n",
       "    .dataframe tbody tr th:only-of-type {\n",
       "        vertical-align: middle;\n",
       "    }\n",
       "\n",
       "    .dataframe tbody tr th {\n",
       "        vertical-align: top;\n",
       "    }\n",
       "\n",
       "    .dataframe thead th {\n",
       "        text-align: right;\n",
       "    }\n",
       "</style>\n",
       "<table border=\"1\" class=\"dataframe\">\n",
       "  <thead>\n",
       "    <tr style=\"text-align: right;\">\n",
       "      <th></th>\n",
       "      <th>Unnamed: 0</th>\n",
       "      <th>Year</th>\n",
       "      <th>Country</th>\n",
       "      <th>Area</th>\n",
       "      <th>Activity</th>\n",
       "      <th>Age</th>\n",
       "      <th>Injury</th>\n",
       "      <th>Time</th>\n",
       "      <th>Species_</th>\n",
       "      <th>Investigator_or_Source</th>\n",
       "      <th>Month</th>\n",
       "      <th>Type_of_accident</th>\n",
       "      <th>Sex</th>\n",
       "      <th>Fatal_attack_(Y/N)</th>\n",
       "      <th>Temporadas</th>\n",
       "      <th>Ages</th>\n",
       "    </tr>\n",
       "  </thead>\n",
       "  <tbody>\n",
       "    <tr>\n",
       "      <th>0</th>\n",
       "      <td>0</td>\n",
       "      <td>2018.0</td>\n",
       "      <td>USA</td>\n",
       "      <td>California</td>\n",
       "      <td>Paddling</td>\n",
       "      <td>57</td>\n",
       "      <td>No injury to occupant, outrigger canoe and pad...</td>\n",
       "      <td>18h00</td>\n",
       "      <td>White shark</td>\n",
       "      <td>R. Collier, GSAF</td>\n",
       "      <td>06</td>\n",
       "      <td>Boat</td>\n",
       "      <td>F</td>\n",
       "      <td>N</td>\n",
       "      <td>June-Aug</td>\n",
       "      <td>57</td>\n",
       "    </tr>\n",
       "    <tr>\n",
       "      <th>1</th>\n",
       "      <td>1</td>\n",
       "      <td>2018.0</td>\n",
       "      <td>USA</td>\n",
       "      <td>Georgia</td>\n",
       "      <td>Standing</td>\n",
       "      <td>11</td>\n",
       "      <td>Minor injury to left thigh</td>\n",
       "      <td>14h00  -15h00</td>\n",
       "      <td>absent</td>\n",
       "      <td>K.McMurray, TrackingSharks.com</td>\n",
       "      <td>06</td>\n",
       "      <td>Unprovoked</td>\n",
       "      <td>F</td>\n",
       "      <td>N</td>\n",
       "      <td>June-Aug</td>\n",
       "      <td>11</td>\n",
       "    </tr>\n",
       "    <tr>\n",
       "      <th>2</th>\n",
       "      <td>2</td>\n",
       "      <td>2018.0</td>\n",
       "      <td>USA</td>\n",
       "      <td>Hawaii</td>\n",
       "      <td>Surfing</td>\n",
       "      <td>48</td>\n",
       "      <td>Injury to left lower leg from surfboard skeg</td>\n",
       "      <td>07h45</td>\n",
       "      <td>absent</td>\n",
       "      <td>K.McMurray, TrackingSharks.com</td>\n",
       "      <td>06</td>\n",
       "      <td>Invalid</td>\n",
       "      <td>M</td>\n",
       "      <td>N</td>\n",
       "      <td>June-Aug</td>\n",
       "      <td>48</td>\n",
       "    </tr>\n",
       "    <tr>\n",
       "      <th>6</th>\n",
       "      <td>6</td>\n",
       "      <td>2018.0</td>\n",
       "      <td>BRAZIL</td>\n",
       "      <td>Pernambuco</td>\n",
       "      <td>Swimming</td>\n",
       "      <td>18</td>\n",
       "      <td>FATAL</td>\n",
       "      <td>Late afternoon</td>\n",
       "      <td>Tiger shark</td>\n",
       "      <td>Diario de Pernambuco, 6/4/2018</td>\n",
       "      <td>06</td>\n",
       "      <td>Unprovoked</td>\n",
       "      <td>M</td>\n",
       "      <td>Y</td>\n",
       "      <td>June-Aug</td>\n",
       "      <td>18</td>\n",
       "    </tr>\n",
       "    <tr>\n",
       "      <th>7</th>\n",
       "      <td>7</td>\n",
       "      <td>2018.0</td>\n",
       "      <td>USA</td>\n",
       "      <td>Florida</td>\n",
       "      <td>Fishing</td>\n",
       "      <td>52</td>\n",
       "      <td>Minor injury to foot. PROVOKED INCIDENT</td>\n",
       "      <td>absent</td>\n",
       "      <td>Lemon shark, 3'</td>\n",
       "      <td>K. McMurray, TrackingSharks.com</td>\n",
       "      <td>05</td>\n",
       "      <td>Unprovoked</td>\n",
       "      <td>M</td>\n",
       "      <td>N</td>\n",
       "      <td>Mar-May</td>\n",
       "      <td>52</td>\n",
       "    </tr>\n",
       "    <tr>\n",
       "      <th>...</th>\n",
       "      <td>...</td>\n",
       "      <td>...</td>\n",
       "      <td>...</td>\n",
       "      <td>...</td>\n",
       "      <td>...</td>\n",
       "      <td>...</td>\n",
       "      <td>...</td>\n",
       "      <td>...</td>\n",
       "      <td>...</td>\n",
       "      <td>...</td>\n",
       "      <td>...</td>\n",
       "      <td>...</td>\n",
       "      <td>...</td>\n",
       "      <td>...</td>\n",
       "      <td>...</td>\n",
       "      <td>...</td>\n",
       "    </tr>\n",
       "    <tr>\n",
       "      <th>6235</th>\n",
       "      <td>6235</td>\n",
       "      <td>0.0</td>\n",
       "      <td>IRAQ</td>\n",
       "      <td>Basrah</td>\n",
       "      <td>Swimming naked near a date palm where many dat...</td>\n",
       "      <td>6</td>\n",
       "      <td>Arm severed</td>\n",
       "      <td>Afternoon</td>\n",
       "      <td>Bull shark</td>\n",
       "      <td>B.W. Coad &amp; L.A.J. Al-Hassan</td>\n",
       "      <td>absent</td>\n",
       "      <td>Unprovoked</td>\n",
       "      <td>M</td>\n",
       "      <td>N</td>\n",
       "      <td>absent</td>\n",
       "      <td>6</td>\n",
       "    </tr>\n",
       "    <tr>\n",
       "      <th>6236</th>\n",
       "      <td>6236</td>\n",
       "      <td>0.0</td>\n",
       "      <td>IRAQ</td>\n",
       "      <td>Basrah</td>\n",
       "      <td>Swimming in section of river used for washing ...</td>\n",
       "      <td>16</td>\n",
       "      <td>Right leg lacerated &amp; surgically amputated</td>\n",
       "      <td>Afternoon</td>\n",
       "      <td>Bull shark</td>\n",
       "      <td>B.W. Coad &amp; L.A.J. Al-Hassan</td>\n",
       "      <td>absent</td>\n",
       "      <td>Unprovoked</td>\n",
       "      <td>M</td>\n",
       "      <td>N</td>\n",
       "      <td>absent</td>\n",
       "      <td>16</td>\n",
       "    </tr>\n",
       "    <tr>\n",
       "      <th>6247</th>\n",
       "      <td>6247</td>\n",
       "      <td>0.0</td>\n",
       "      <td>CUBA</td>\n",
       "      <td>Havana Province</td>\n",
       "      <td>Shark fishing, knocked overboard</td>\n",
       "      <td>50</td>\n",
       "      <td>FATAL, hip bitten  PROVOKED INCIDENT</td>\n",
       "      <td>absent</td>\n",
       "      <td>absent</td>\n",
       "      <td>F. Poli, pp.75, 81-83</td>\n",
       "      <td>absent</td>\n",
       "      <td>Provoked</td>\n",
       "      <td>M</td>\n",
       "      <td>Y</td>\n",
       "      <td>absent</td>\n",
       "      <td>50</td>\n",
       "    </tr>\n",
       "    <tr>\n",
       "      <th>6269</th>\n",
       "      <td>6269</td>\n",
       "      <td>0.0</td>\n",
       "      <td>BELIZE</td>\n",
       "      <td>absent</td>\n",
       "      <td>Standing</td>\n",
       "      <td>16</td>\n",
       "      <td>FATAL</td>\n",
       "      <td>absent</td>\n",
       "      <td>12' tiger shark</td>\n",
       "      <td>Mitchell-Hedges</td>\n",
       "      <td>absent</td>\n",
       "      <td>Unprovoked</td>\n",
       "      <td>M</td>\n",
       "      <td>Y</td>\n",
       "      <td>absent</td>\n",
       "      <td>16</td>\n",
       "    </tr>\n",
       "    <tr>\n",
       "      <th>6294</th>\n",
       "      <td>6294</td>\n",
       "      <td>0.0</td>\n",
       "      <td>CEYLON (SRI LANKA)</td>\n",
       "      <td>Eastern Province</td>\n",
       "      <td>Swimming</td>\n",
       "      <td>15</td>\n",
       "      <td>FATAL. \"Shark bit him in half, carrying away t...</td>\n",
       "      <td>absent</td>\n",
       "      <td>absent</td>\n",
       "      <td>S.W. Baker</td>\n",
       "      <td>absent</td>\n",
       "      <td>Unprovoked</td>\n",
       "      <td>M</td>\n",
       "      <td>Y</td>\n",
       "      <td>absent</td>\n",
       "      <td>15</td>\n",
       "    </tr>\n",
       "  </tbody>\n",
       "</table>\n",
       "<p>3363 rows × 16 columns</p>\n",
       "</div>"
      ],
      "text/plain": [
       "      Unnamed: 0    Year             Country              Area  \\\n",
       "0              0  2018.0                 USA        California   \n",
       "1              1  2018.0                 USA           Georgia   \n",
       "2              2  2018.0                 USA            Hawaii   \n",
       "6              6  2018.0              BRAZIL        Pernambuco   \n",
       "7              7  2018.0                 USA           Florida   \n",
       "...          ...     ...                 ...               ...   \n",
       "6235        6235     0.0                IRAQ            Basrah   \n",
       "6236        6236     0.0                IRAQ            Basrah   \n",
       "6247        6247     0.0                CUBA   Havana Province   \n",
       "6269        6269     0.0              BELIZE            absent   \n",
       "6294        6294     0.0  CEYLON (SRI LANKA)  Eastern Province   \n",
       "\n",
       "                                               Activity Age  \\\n",
       "0                                              Paddling  57   \n",
       "1                                              Standing  11   \n",
       "2                                               Surfing  48   \n",
       "6                                              Swimming  18   \n",
       "7                                               Fishing  52   \n",
       "...                                                 ...  ..   \n",
       "6235  Swimming naked near a date palm where many dat...   6   \n",
       "6236  Swimming in section of river used for washing ...  16   \n",
       "6247                   Shark fishing, knocked overboard  50   \n",
       "6269                                           Standing  16   \n",
       "6294                                           Swimming  15   \n",
       "\n",
       "                                                 Injury            Time  \\\n",
       "0     No injury to occupant, outrigger canoe and pad...           18h00   \n",
       "1                            Minor injury to left thigh   14h00  -15h00   \n",
       "2          Injury to left lower leg from surfboard skeg           07h45   \n",
       "6                                                 FATAL  Late afternoon   \n",
       "7               Minor injury to foot. PROVOKED INCIDENT          absent   \n",
       "...                                                 ...             ...   \n",
       "6235                                        Arm severed       Afternoon   \n",
       "6236         Right leg lacerated & surgically amputated       Afternoon   \n",
       "6247               FATAL, hip bitten  PROVOKED INCIDENT          absent   \n",
       "6269                                              FATAL          absent   \n",
       "6294  FATAL. \"Shark bit him in half, carrying away t...          absent   \n",
       "\n",
       "             Species_           Investigator_or_Source   Month  \\\n",
       "0         White shark                 R. Collier, GSAF      06   \n",
       "1              absent   K.McMurray, TrackingSharks.com      06   \n",
       "2              absent   K.McMurray, TrackingSharks.com      06   \n",
       "6         Tiger shark   Diario de Pernambuco, 6/4/2018      06   \n",
       "7     Lemon shark, 3'  K. McMurray, TrackingSharks.com      05   \n",
       "...               ...                              ...     ...   \n",
       "6235       Bull shark     B.W. Coad & L.A.J. Al-Hassan  absent   \n",
       "6236       Bull shark     B.W. Coad & L.A.J. Al-Hassan  absent   \n",
       "6247           absent            F. Poli, pp.75, 81-83  absent   \n",
       "6269  12' tiger shark                  Mitchell-Hedges  absent   \n",
       "6294           absent                       S.W. Baker  absent   \n",
       "\n",
       "     Type_of_accident Sex Fatal_attack_(Y/N) Temporadas Ages  \n",
       "0                Boat   F                  N   June-Aug   57  \n",
       "1          Unprovoked   F                  N   June-Aug   11  \n",
       "2             Invalid   M                  N   June-Aug   48  \n",
       "6          Unprovoked   M                  Y   June-Aug   18  \n",
       "7          Unprovoked   M                  N    Mar-May   52  \n",
       "...               ...  ..                ...        ...  ...  \n",
       "6235       Unprovoked   M                  N     absent    6  \n",
       "6236       Unprovoked   M                  N     absent   16  \n",
       "6247         Provoked   M                  Y     absent   50  \n",
       "6269       Unprovoked   M                  Y     absent   16  \n",
       "6294       Unprovoked   M                  Y     absent   15  \n",
       "\n",
       "[3363 rows x 16 columns]"
      ]
     },
     "execution_count": 35,
     "metadata": {},
     "output_type": "execute_result"
    }
   ],
   "source": [
    "Agedf"
   ]
  },
  {
   "cell_type": "code",
   "execution_count": 36,
   "id": "41176ee4",
   "metadata": {},
   "outputs": [
    {
     "ename": "TypeError",
     "evalue": "no numeric data to plot",
     "output_type": "error",
     "traceback": [
      "\u001b[0;31m---------------------------------------------------------------------------\u001b[0m",
      "\u001b[0;31mTypeError\u001b[0m                                 Traceback (most recent call last)",
      "\u001b[0;32m/var/folders/f9/ww50zmn51ylc9hycc8vysr9c0000gn/T/ipykernel_55976/6210177.py\u001b[0m in \u001b[0;36m<module>\u001b[0;34m\u001b[0m\n\u001b[0;32m----> 1\u001b[0;31m \u001b[0mAgedf\u001b[0m\u001b[0;34m.\u001b[0m\u001b[0mAges\u001b[0m\u001b[0;34m.\u001b[0m\u001b[0mplot\u001b[0m\u001b[0;34m.\u001b[0m\u001b[0mhist\u001b[0m\u001b[0;34m(\u001b[0m\u001b[0;34m)\u001b[0m\u001b[0;34m\u001b[0m\u001b[0;34m\u001b[0m\u001b[0m\n\u001b[0m",
      "\u001b[0;32m/opt/homebrew/Caskroom/miniconda/base/envs/ironhack/lib/python3.8/site-packages/pandas/plotting/_core.py\u001b[0m in \u001b[0;36mhist\u001b[0;34m(self, by, bins, **kwargs)\u001b[0m\n\u001b[1;32m   1311\u001b[0m             \u001b[0;34m>>\u001b[0m\u001b[0;34m>\u001b[0m \u001b[0max\u001b[0m \u001b[0;34m=\u001b[0m \u001b[0mdf\u001b[0m\u001b[0;34m.\u001b[0m\u001b[0mplot\u001b[0m\u001b[0;34m.\u001b[0m\u001b[0mhist\u001b[0m\u001b[0;34m(\u001b[0m\u001b[0mbins\u001b[0m\u001b[0;34m=\u001b[0m\u001b[0;36m12\u001b[0m\u001b[0;34m,\u001b[0m \u001b[0malpha\u001b[0m\u001b[0;34m=\u001b[0m\u001b[0;36m0.5\u001b[0m\u001b[0;34m)\u001b[0m\u001b[0;34m\u001b[0m\u001b[0;34m\u001b[0m\u001b[0m\n\u001b[1;32m   1312\u001b[0m         \"\"\"\n\u001b[0;32m-> 1313\u001b[0;31m         \u001b[0;32mreturn\u001b[0m \u001b[0mself\u001b[0m\u001b[0;34m(\u001b[0m\u001b[0mkind\u001b[0m\u001b[0;34m=\u001b[0m\u001b[0;34m\"hist\"\u001b[0m\u001b[0;34m,\u001b[0m \u001b[0mby\u001b[0m\u001b[0;34m=\u001b[0m\u001b[0mby\u001b[0m\u001b[0;34m,\u001b[0m \u001b[0mbins\u001b[0m\u001b[0;34m=\u001b[0m\u001b[0mbins\u001b[0m\u001b[0;34m,\u001b[0m \u001b[0;34m**\u001b[0m\u001b[0mkwargs\u001b[0m\u001b[0;34m)\u001b[0m\u001b[0;34m\u001b[0m\u001b[0;34m\u001b[0m\u001b[0m\n\u001b[0m\u001b[1;32m   1314\u001b[0m \u001b[0;34m\u001b[0m\u001b[0m\n\u001b[1;32m   1315\u001b[0m     \u001b[0;32mdef\u001b[0m \u001b[0mkde\u001b[0m\u001b[0;34m(\u001b[0m\u001b[0mself\u001b[0m\u001b[0;34m,\u001b[0m \u001b[0mbw_method\u001b[0m\u001b[0;34m=\u001b[0m\u001b[0;32mNone\u001b[0m\u001b[0;34m,\u001b[0m \u001b[0mind\u001b[0m\u001b[0;34m=\u001b[0m\u001b[0;32mNone\u001b[0m\u001b[0;34m,\u001b[0m \u001b[0;34m**\u001b[0m\u001b[0mkwargs\u001b[0m\u001b[0;34m)\u001b[0m\u001b[0;34m:\u001b[0m\u001b[0;34m\u001b[0m\u001b[0;34m\u001b[0m\u001b[0m\n",
      "\u001b[0;32m/opt/homebrew/Caskroom/miniconda/base/envs/ironhack/lib/python3.8/site-packages/pandas/plotting/_core.py\u001b[0m in \u001b[0;36m__call__\u001b[0;34m(self, *args, **kwargs)\u001b[0m\n\u001b[1;32m    970\u001b[0m                     \u001b[0mdata\u001b[0m\u001b[0;34m.\u001b[0m\u001b[0mcolumns\u001b[0m \u001b[0;34m=\u001b[0m \u001b[0mlabel_name\u001b[0m\u001b[0;34m\u001b[0m\u001b[0;34m\u001b[0m\u001b[0m\n\u001b[1;32m    971\u001b[0m \u001b[0;34m\u001b[0m\u001b[0m\n\u001b[0;32m--> 972\u001b[0;31m         \u001b[0;32mreturn\u001b[0m \u001b[0mplot_backend\u001b[0m\u001b[0;34m.\u001b[0m\u001b[0mplot\u001b[0m\u001b[0;34m(\u001b[0m\u001b[0mdata\u001b[0m\u001b[0;34m,\u001b[0m \u001b[0mkind\u001b[0m\u001b[0;34m=\u001b[0m\u001b[0mkind\u001b[0m\u001b[0;34m,\u001b[0m \u001b[0;34m**\u001b[0m\u001b[0mkwargs\u001b[0m\u001b[0;34m)\u001b[0m\u001b[0;34m\u001b[0m\u001b[0;34m\u001b[0m\u001b[0m\n\u001b[0m\u001b[1;32m    973\u001b[0m \u001b[0;34m\u001b[0m\u001b[0m\n\u001b[1;32m    974\u001b[0m     \u001b[0m__call__\u001b[0m\u001b[0;34m.\u001b[0m\u001b[0m__doc__\u001b[0m \u001b[0;34m=\u001b[0m \u001b[0m__doc__\u001b[0m\u001b[0;34m\u001b[0m\u001b[0;34m\u001b[0m\u001b[0m\n",
      "\u001b[0;32m/opt/homebrew/Caskroom/miniconda/base/envs/ironhack/lib/python3.8/site-packages/pandas/plotting/_matplotlib/__init__.py\u001b[0m in \u001b[0;36mplot\u001b[0;34m(data, kind, **kwargs)\u001b[0m\n\u001b[1;32m     69\u001b[0m             \u001b[0mkwargs\u001b[0m\u001b[0;34m[\u001b[0m\u001b[0;34m\"ax\"\u001b[0m\u001b[0;34m]\u001b[0m \u001b[0;34m=\u001b[0m \u001b[0mgetattr\u001b[0m\u001b[0;34m(\u001b[0m\u001b[0max\u001b[0m\u001b[0;34m,\u001b[0m \u001b[0;34m\"left_ax\"\u001b[0m\u001b[0;34m,\u001b[0m \u001b[0max\u001b[0m\u001b[0;34m)\u001b[0m\u001b[0;34m\u001b[0m\u001b[0;34m\u001b[0m\u001b[0m\n\u001b[1;32m     70\u001b[0m     \u001b[0mplot_obj\u001b[0m \u001b[0;34m=\u001b[0m \u001b[0mPLOT_CLASSES\u001b[0m\u001b[0;34m[\u001b[0m\u001b[0mkind\u001b[0m\u001b[0;34m]\u001b[0m\u001b[0;34m(\u001b[0m\u001b[0mdata\u001b[0m\u001b[0;34m,\u001b[0m \u001b[0;34m**\u001b[0m\u001b[0mkwargs\u001b[0m\u001b[0;34m)\u001b[0m\u001b[0;34m\u001b[0m\u001b[0;34m\u001b[0m\u001b[0m\n\u001b[0;32m---> 71\u001b[0;31m     \u001b[0mplot_obj\u001b[0m\u001b[0;34m.\u001b[0m\u001b[0mgenerate\u001b[0m\u001b[0;34m(\u001b[0m\u001b[0;34m)\u001b[0m\u001b[0;34m\u001b[0m\u001b[0;34m\u001b[0m\u001b[0m\n\u001b[0m\u001b[1;32m     72\u001b[0m     \u001b[0mplot_obj\u001b[0m\u001b[0;34m.\u001b[0m\u001b[0mdraw\u001b[0m\u001b[0;34m(\u001b[0m\u001b[0;34m)\u001b[0m\u001b[0;34m\u001b[0m\u001b[0;34m\u001b[0m\u001b[0m\n\u001b[1;32m     73\u001b[0m     \u001b[0;32mreturn\u001b[0m \u001b[0mplot_obj\u001b[0m\u001b[0;34m.\u001b[0m\u001b[0mresult\u001b[0m\u001b[0;34m\u001b[0m\u001b[0;34m\u001b[0m\u001b[0m\n",
      "\u001b[0;32m/opt/homebrew/Caskroom/miniconda/base/envs/ironhack/lib/python3.8/site-packages/pandas/plotting/_matplotlib/core.py\u001b[0m in \u001b[0;36mgenerate\u001b[0;34m(self)\u001b[0m\n\u001b[1;32m    284\u001b[0m     \u001b[0;32mdef\u001b[0m \u001b[0mgenerate\u001b[0m\u001b[0;34m(\u001b[0m\u001b[0mself\u001b[0m\u001b[0;34m)\u001b[0m\u001b[0;34m:\u001b[0m\u001b[0;34m\u001b[0m\u001b[0;34m\u001b[0m\u001b[0m\n\u001b[1;32m    285\u001b[0m         \u001b[0mself\u001b[0m\u001b[0;34m.\u001b[0m\u001b[0m_args_adjust\u001b[0m\u001b[0;34m(\u001b[0m\u001b[0;34m)\u001b[0m\u001b[0;34m\u001b[0m\u001b[0;34m\u001b[0m\u001b[0m\n\u001b[0;32m--> 286\u001b[0;31m         \u001b[0mself\u001b[0m\u001b[0;34m.\u001b[0m\u001b[0m_compute_plot_data\u001b[0m\u001b[0;34m(\u001b[0m\u001b[0;34m)\u001b[0m\u001b[0;34m\u001b[0m\u001b[0;34m\u001b[0m\u001b[0m\n\u001b[0m\u001b[1;32m    287\u001b[0m         \u001b[0mself\u001b[0m\u001b[0;34m.\u001b[0m\u001b[0m_setup_subplots\u001b[0m\u001b[0;34m(\u001b[0m\u001b[0;34m)\u001b[0m\u001b[0;34m\u001b[0m\u001b[0;34m\u001b[0m\u001b[0m\n\u001b[1;32m    288\u001b[0m         \u001b[0mself\u001b[0m\u001b[0;34m.\u001b[0m\u001b[0m_make_plot\u001b[0m\u001b[0;34m(\u001b[0m\u001b[0;34m)\u001b[0m\u001b[0;34m\u001b[0m\u001b[0;34m\u001b[0m\u001b[0m\n",
      "\u001b[0;32m/opt/homebrew/Caskroom/miniconda/base/envs/ironhack/lib/python3.8/site-packages/pandas/plotting/_matplotlib/core.py\u001b[0m in \u001b[0;36m_compute_plot_data\u001b[0;34m(self)\u001b[0m\n\u001b[1;32m    451\u001b[0m         \u001b[0;31m# no non-numeric frames or series allowed\u001b[0m\u001b[0;34m\u001b[0m\u001b[0;34m\u001b[0m\u001b[0;34m\u001b[0m\u001b[0m\n\u001b[1;32m    452\u001b[0m         \u001b[0;32mif\u001b[0m \u001b[0mis_empty\u001b[0m\u001b[0;34m:\u001b[0m\u001b[0;34m\u001b[0m\u001b[0;34m\u001b[0m\u001b[0m\n\u001b[0;32m--> 453\u001b[0;31m             \u001b[0;32mraise\u001b[0m \u001b[0mTypeError\u001b[0m\u001b[0;34m(\u001b[0m\u001b[0;34m\"no numeric data to plot\"\u001b[0m\u001b[0;34m)\u001b[0m\u001b[0;34m\u001b[0m\u001b[0;34m\u001b[0m\u001b[0m\n\u001b[0m\u001b[1;32m    454\u001b[0m \u001b[0;34m\u001b[0m\u001b[0m\n\u001b[1;32m    455\u001b[0m         \u001b[0mself\u001b[0m\u001b[0;34m.\u001b[0m\u001b[0mdata\u001b[0m \u001b[0;34m=\u001b[0m \u001b[0mnumeric_data\u001b[0m\u001b[0;34m.\u001b[0m\u001b[0mapply\u001b[0m\u001b[0;34m(\u001b[0m\u001b[0mself\u001b[0m\u001b[0;34m.\u001b[0m\u001b[0m_convert_to_ndarray\u001b[0m\u001b[0;34m)\u001b[0m\u001b[0;34m\u001b[0m\u001b[0;34m\u001b[0m\u001b[0m\n",
      "\u001b[0;31mTypeError\u001b[0m: no numeric data to plot"
     ]
    }
   ],
   "source": [
    "Agedf.Ages.plot.hist()"
   ]
  },
  {
   "cell_type": "code",
   "execution_count": null,
   "id": "c133a43f",
   "metadata": {},
   "outputs": [],
   "source": [
    "Agedf"
   ]
  },
  {
   "cell_type": "code",
   "execution_count": null,
   "id": "fe232659",
   "metadata": {},
   "outputs": [],
   "source": []
  }
 ],
 "metadata": {
  "kernelspec": {
   "display_name": "ironhack",
   "language": "python",
   "name": "ironhack"
  },
  "language_info": {
   "codemirror_mode": {
    "name": "ipython",
    "version": 3
   },
   "file_extension": ".py",
   "mimetype": "text/x-python",
   "name": "python",
   "nbconvert_exporter": "python",
   "pygments_lexer": "ipython3",
   "version": "3.8.11"
  }
 },
 "nbformat": 4,
 "nbformat_minor": 5
}
